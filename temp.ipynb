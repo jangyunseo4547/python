{
 "cells": [
  {
   "cell_type": "markdown",
   "id": "6b21b38f-cf73-4906-b497-8e458801677d",
   "metadata": {},
   "source": [
    "# 01. 변수\n",
    "\n",
    "var_name = value\n",
    "\n",
    "- 변수 이름은 어떤 이름이든 가능하나 영어, 숫자, _ 이용해서 선언\n",
    "- 키워드는 불가능"
   ]
  },
  {
   "cell_type": "code",
   "execution_count": 3,
   "id": "0375ee3b-5254-4a70-b52d-769aadd078be",
   "metadata": {},
   "outputs": [],
   "source": [
    "a = 100"
   ]
  },
  {
   "cell_type": "code",
   "execution_count": 5,
   "id": "df63a50b-8b24-47dd-a865-e8a0cfb3242f",
   "metadata": {},
   "outputs": [
    {
     "data": {
      "text/plain": [
       "100"
      ]
     },
     "execution_count": 5,
     "metadata": {},
     "output_type": "execute_result"
    }
   ],
   "source": [
    "a"
   ]
  },
  {
   "cell_type": "code",
   "execution_count": 8,
   "id": "3f38921e-911d-4cc4-bee5-7dd4e7547942",
   "metadata": {},
   "outputs": [
    {
     "data": {
      "text/plain": [
       "['False',\n",
       " 'None',\n",
       " 'True',\n",
       " 'and',\n",
       " 'as',\n",
       " 'assert',\n",
       " 'async',\n",
       " 'await',\n",
       " 'break',\n",
       " 'class',\n",
       " 'continue',\n",
       " 'def',\n",
       " 'del',\n",
       " 'elif',\n",
       " 'else',\n",
       " 'except',\n",
       " 'finally',\n",
       " 'for',\n",
       " 'from',\n",
       " 'global',\n",
       " 'if',\n",
       " 'import',\n",
       " 'in',\n",
       " 'is',\n",
       " 'lambda',\n",
       " 'nonlocal',\n",
       " 'not',\n",
       " 'or',\n",
       " 'pass',\n",
       " 'raise',\n",
       " 'return',\n",
       " 'try',\n",
       " 'while',\n",
       " 'with',\n",
       " 'yield']"
      ]
     },
     "execution_count": 8,
     "metadata": {},
     "output_type": "execute_result"
    }
   ],
   "source": [
    "import keyword\n",
    "keyword.kwlist"
   ]
  },
  {
   "cell_type": "markdown",
   "id": "d46a52a2-dc4f-4a90-a952-3f7988c28c9f",
   "metadata": {},
   "source": [
    "## 1.1 number (int, float, complex)"
   ]
  },
  {
   "cell_type": "code",
   "execution_count": 13,
   "id": "3c20a9a4-1c74-4282-bdaf-adc5c4e1e52d",
   "metadata": {},
   "outputs": [
    {
     "data": {
      "text/plain": [
       "int"
      ]
     },
     "execution_count": 13,
     "metadata": {},
     "output_type": "execute_result"
    }
   ],
   "source": [
    "type(a)"
   ]
  },
  {
   "cell_type": "code",
   "execution_count": 15,
   "id": "2561abc1-41d5-4e16-a220-b653dec34a10",
   "metadata": {},
   "outputs": [],
   "source": [
    "a = 10000"
   ]
  },
  {
   "cell_type": "code",
   "execution_count": 18,
   "id": "840f9e32-0993-48e0-be3f-24c08b4ef711",
   "metadata": {},
   "outputs": [],
   "source": [
    "b = 1.1"
   ]
  },
  {
   "cell_type": "code",
   "execution_count": 19,
   "id": "da043399-0ba5-488e-bb1a-8235dfb3432f",
   "metadata": {},
   "outputs": [
    {
     "data": {
      "text/plain": [
       "1.1"
      ]
     },
     "execution_count": 19,
     "metadata": {},
     "output_type": "execute_result"
    }
   ],
   "source": [
    "b"
   ]
  },
  {
   "cell_type": "code",
   "execution_count": 21,
   "id": "dfdeb6af-f079-4c9a-9494-b0dbf420bceb",
   "metadata": {},
   "outputs": [
    {
     "data": {
      "text/plain": [
       "10000"
      ]
     },
     "execution_count": 21,
     "metadata": {},
     "output_type": "execute_result"
    }
   ],
   "source": [
    "a"
   ]
  },
  {
   "cell_type": "code",
   "execution_count": 23,
   "id": "4085c54e-1cf2-4b77-aeb2-77bed437ca77",
   "metadata": {},
   "outputs": [
    {
     "data": {
      "text/plain": [
       "float"
      ]
     },
     "execution_count": 23,
     "metadata": {},
     "output_type": "execute_result"
    }
   ],
   "source": [
    "type(b)"
   ]
  },
  {
   "cell_type": "code",
   "execution_count": 24,
   "id": "93556e68-099e-4f29-9796-d27f892e0d67",
   "metadata": {},
   "outputs": [],
   "source": [
    "c = 1 + 1j"
   ]
  },
  {
   "cell_type": "code",
   "execution_count": 25,
   "id": "f55f9574-5375-420f-a114-768812b52239",
   "metadata": {},
   "outputs": [
    {
     "data": {
      "text/plain": [
       "(1+1j)"
      ]
     },
     "execution_count": 25,
     "metadata": {},
     "output_type": "execute_result"
    }
   ],
   "source": [
    "c"
   ]
  },
  {
   "cell_type": "code",
   "execution_count": 26,
   "id": "73c69137-3964-42b3-9d45-6ae0f1d997bb",
   "metadata": {},
   "outputs": [
    {
     "data": {
      "text/plain": [
       "complex"
      ]
     },
     "execution_count": 26,
     "metadata": {},
     "output_type": "execute_result"
    }
   ],
   "source": [
    "type(c)"
   ]
  },
  {
   "cell_type": "markdown",
   "id": "149ad653-6179-4fd2-b809-1c54bfd8e97a",
   "metadata": {},
   "source": [
    "## 1.2 boolean (True or False)"
   ]
  },
  {
   "cell_type": "code",
   "execution_count": 28,
   "id": "996e4175-2342-44e8-b3e2-d19c44e709d7",
   "metadata": {},
   "outputs": [],
   "source": [
    "a = True"
   ]
  },
  {
   "cell_type": "code",
   "execution_count": 30,
   "id": "a4e290c1-87e4-477e-9a88-a5d850f3a095",
   "metadata": {},
   "outputs": [
    {
     "data": {
      "text/plain": [
       "True"
      ]
     },
     "execution_count": 30,
     "metadata": {},
     "output_type": "execute_result"
    }
   ],
   "source": [
    "a"
   ]
  },
  {
   "cell_type": "code",
   "execution_count": 32,
   "id": "13dcbd8e-971e-4655-a836-9395dcc2a81d",
   "metadata": {},
   "outputs": [
    {
     "data": {
      "text/plain": [
       "bool"
      ]
     },
     "execution_count": 32,
     "metadata": {},
     "output_type": "execute_result"
    }
   ],
   "source": [
    "type(a)"
   ]
  },
  {
   "cell_type": "code",
   "execution_count": 34,
   "id": "4d56f0e0-0e5b-4627-ab12-5ceda974620e",
   "metadata": {},
   "outputs": [],
   "source": [
    "b = False"
   ]
  },
  {
   "cell_type": "code",
   "execution_count": 36,
   "id": "83cb8baa-707d-49f4-9325-070a383c1be9",
   "metadata": {},
   "outputs": [
    {
     "data": {
      "text/plain": [
       "bool"
      ]
     },
     "execution_count": 36,
     "metadata": {},
     "output_type": "execute_result"
    }
   ],
   "source": [
    "type(b)"
   ]
  },
  {
   "cell_type": "markdown",
   "id": "1982206a-fd1a-4840-b430-129c873d797c",
   "metadata": {},
   "source": [
    "## 1.3 string\n",
    "\n",
    "- '`` , `\"`를 이용하여 표현\n",
    "- 하나의 따옴표로 통일해서 사용"
   ]
  },
  {
   "cell_type": "code",
   "execution_count": 38,
   "id": "a0745da2-5d8c-4f50-b4a6-2a702e766923",
   "metadata": {},
   "outputs": [],
   "source": [
    "a = 'hello'"
   ]
  },
  {
   "cell_type": "code",
   "execution_count": 40,
   "id": "a9cc5723-ba0f-4ad7-909f-63f2474956e8",
   "metadata": {},
   "outputs": [],
   "source": [
    "b = 'hi'"
   ]
  },
  {
   "cell_type": "code",
   "execution_count": 41,
   "id": "bd11af1c-f81f-4ca6-b2e2-ef276d5506d2",
   "metadata": {},
   "outputs": [
    {
     "data": {
      "text/plain": [
       "'hello'"
      ]
     },
     "execution_count": 41,
     "metadata": {},
     "output_type": "execute_result"
    }
   ],
   "source": [
    "a"
   ]
  },
  {
   "cell_type": "code",
   "execution_count": 42,
   "id": "01833f90-f0ac-48d7-a08a-94b4bd225a51",
   "metadata": {},
   "outputs": [
    {
     "data": {
      "text/plain": [
       "'hi'"
      ]
     },
     "execution_count": 42,
     "metadata": {},
     "output_type": "execute_result"
    }
   ],
   "source": [
    "b"
   ]
  },
  {
   "cell_type": "markdown",
   "id": "2b0ecd36-4ad7-441e-a583-3a4b9276824a",
   "metadata": {
    "jp-MarkdownHeadingCollapsed": true
   },
   "source": [
    "- 홑따옴표와 겹따옴표를 혼용하여 쓰는 경우"
   ]
  },
  {
   "cell_type": "code",
   "execution_count": 44,
   "id": "072fe44a-4a8e-40be-a42f-ffd0a53e294f",
   "metadata": {},
   "outputs": [
    {
     "name": "stdout",
     "output_type": "stream",
     "text": [
      "hello my name is \"changhee\"\n"
     ]
    }
   ],
   "source": [
    "print ('hello my name is \"changhee\"')"
   ]
  },
  {
   "cell_type": "markdown",
   "id": "58380c19-a6d6-42cb-93ab-f82be315b772",
   "metadata": {},
   "source": [
    "- 줄 바꿔쓰기 : \\n"
   ]
  },
  {
   "cell_type": "code",
   "execution_count": 49,
   "id": "35846068-d01e-4005-a0bf-cc7a8d77c07e",
   "metadata": {},
   "outputs": [
    {
     "name": "stdout",
     "output_type": "stream",
     "text": [
      "hello \n",
      " my name is 'changhee'\n"
     ]
    }
   ],
   "source": [
    "print ('hello \\n my name is \\'changhee\\'')"
   ]
  },
  {
   "cell_type": "markdown",
   "id": "57fe9a45-3a9a-48a4-bacf-067f95f45ad8",
   "metadata": {},
   "source": [
    "- 셀의 마지막 값을 자동으로 output으로 출력\n",
    "\n",
    "- print = 내가 원하는 값을 출력"
   ]
  },
  {
   "cell_type": "markdown",
   "id": "f27080e1-6406-42d9-afe1-d97983056b05",
   "metadata": {},
   "source": [
    "# string interpilation\n",
    "\n",
    "- %s formatting\n",
    "- str.format()\n",
    "- f-string ex) (f'str{}')"
   ]
  },
  {
   "cell_type": "code",
   "execution_count": 52,
   "id": "45288e02-f156-453e-93da-a2f9e34fc1d4",
   "metadata": {},
   "outputs": [],
   "source": [
    "age = 23"
   ]
  },
  {
   "cell_type": "code",
   "execution_count": 54,
   "id": "6fc1a25d-fe89-49cf-b5cf-5fd1ec698da7",
   "metadata": {},
   "outputs": [
    {
     "name": "stdout",
     "output_type": "stream",
     "text": [
      "장윤서는 23살입니다.\n"
     ]
    }
   ],
   "source": [
    "print('장윤서는 %s살입니다.' % age)"
   ]
  },
  {
   "cell_type": "code",
   "execution_count": 56,
   "id": "8d0de63f-c627-4565-a300-3bdd8a09ad1b",
   "metadata": {},
   "outputs": [
    {
     "name": "stdout",
     "output_type": "stream",
     "text": [
      "장윤서는 23살입니다.\n"
     ]
    }
   ],
   "source": [
    "print('장윤서는 {}살입니다.'.format(age))"
   ]
  },
  {
   "cell_type": "code",
   "execution_count": 72,
   "id": "a3abdad0-7fcf-4cc9-8f97-db7572fcd83c",
   "metadata": {},
   "outputs": [
    {
     "name": "stdout",
     "output_type": "stream",
     "text": [
      "장윤서는 23살입니다.\n"
     ]
    }
   ],
   "source": [
    "print(f'장윤서는 {age}살입니다.')"
   ]
  },
  {
   "cell_type": "markdown",
   "id": "4c21a40e-e56a-49b3-8399-7bdb23a95e87",
   "metadata": {},
   "source": [
    "## 02. 연산자"
   ]
  },
  {
   "cell_type": "markdown",
   "id": "eb814653-c8ec-4cb9-a2b2-e496f4e38436",
   "metadata": {},
   "source": [
    "### 2.1 산술연산자"
   ]
  },
  {
   "cell_type": "code",
   "execution_count": 62,
   "id": "6dbfde4c-b76d-4d79-a782-7c37d1085b2c",
   "metadata": {},
   "outputs": [],
   "source": [
    "a = 2\n",
    "b = 5"
   ]
  },
  {
   "cell_type": "code",
   "execution_count": 68,
   "id": "04caa3c8-8841-4004-bf47-4451bd1b1128",
   "metadata": {},
   "outputs": [
    {
     "name": "stdout",
     "output_type": "stream",
     "text": [
      "7\n",
      "-3\n",
      "10\n",
      "0.4\n"
     ]
    }
   ],
   "source": [
    "print(a + b)\n",
    "print(a - b)\n",
    "print(a * b)\n",
    "print(a / b)"
   ]
  },
  {
   "cell_type": "code",
   "execution_count": 70,
   "id": "a0f0ac75-8e29-4848-a01e-f0ad7f7f2973",
   "metadata": {},
   "outputs": [
    {
     "name": "stdout",
     "output_type": "stream",
     "text": [
      "32\n",
      "0\n",
      "2\n"
     ]
    }
   ],
   "source": [
    "print(a ** b)\n",
    "print(a // b)\n",
    "print(a % b)"
   ]
  },
  {
   "cell_type": "code",
   "execution_count": 81,
   "id": "4527ba7a-35b3-4848-aa4c-fa01205ec729",
   "metadata": {},
   "outputs": [],
   "source": [
    "#divmod는 한번에 몫과 나머지를 계산\n",
    "result = divmod(a,b)"
   ]
  },
  {
   "cell_type": "code",
   "execution_count": 82,
   "id": "6cdcb101-2f92-4584-9ce7-50b277bbc294",
   "metadata": {},
   "outputs": [
    {
     "name": "stdout",
     "output_type": "stream",
     "text": [
      "(0, 2)\n"
     ]
    }
   ],
   "source": [
    "#result에 써주면 result 안의 내용을 한번더 쓸 수 있음. \n",
    "print(result)"
   ]
  },
  {
   "cell_type": "code",
   "execution_count": null,
   "id": "2f629add-a815-4c48-88ed-951c12ad0696",
   "metadata": {},
   "outputs": [],
   "source": []
  },
  {
   "cell_type": "markdown",
   "id": "e76dd42f-3abd-481d-b65d-8ebc9a972cf2",
   "metadata": {},
   "source": [
    "## 2.2 비교 연산자"
   ]
  },
  {
   "cell_type": "code",
   "execution_count": 84,
   "id": "83d1d78c-d5a2-4474-a68f-14260c302ccb",
   "metadata": {},
   "outputs": [],
   "source": [
    "a = 5\n",
    "b = 10"
   ]
  },
  {
   "cell_type": "code",
   "execution_count": 96,
   "id": "309779ce-36ef-418d-8ce0-b3ef43fc550f",
   "metadata": {},
   "outputs": [
    {
     "name": "stdout",
     "output_type": "stream",
     "text": [
      "False\n",
      "True\n",
      "True\n",
      "False\n"
     ]
    }
   ],
   "source": [
    "print (a > b)\n",
    "print (a < b)\n",
    "print (a <= b)\n",
    "print (a >= b)"
   ]
  },
  {
   "cell_type": "code",
   "execution_count": 95,
   "id": "ba219d85-adbe-4b18-80f6-836aa75c85ad",
   "metadata": {},
   "outputs": [
    {
     "name": "stdout",
     "output_type": "stream",
     "text": [
      "False\n",
      "True\n"
     ]
    }
   ],
   "source": [
    "#같거나 다를 떄 \n",
    "print (a == b)\n",
    "print (a != b)"
   ]
  },
  {
   "cell_type": "code",
   "execution_count": 97,
   "id": "61fdae47-4f38-4a9e-9489-6ba7e5dc7cd9",
   "metadata": {},
   "outputs": [
    {
     "name": "stdout",
     "output_type": "stream",
     "text": [
      "True\n",
      "True\n"
     ]
    }
   ],
   "source": [
    "print('hi' != 'hello')\n",
    "print('hi' == 'hi')"
   ]
  },
  {
   "cell_type": "markdown",
   "id": "563d0ac8-eeb7-4da3-8468-0fa8b3fd6c18",
   "metadata": {},
   "source": [
    "## 2.3 논리연산자"
   ]
  },
  {
   "cell_type": "code",
   "execution_count": null,
   "id": "929c139e-3f64-44df-b526-c1edf3aa187d",
   "metadata": {},
   "outputs": [],
   "source": [
    "- and : 모두 True일때 True"
   ]
  }
 ],
 "metadata": {
  "kernelspec": {
   "display_name": "Python 3 (ipykernel)",
   "language": "python",
   "name": "python3"
  },
  "language_info": {
   "codemirror_mode": {
    "name": "ipython",
    "version": 3
   },
   "file_extension": ".py",
   "mimetype": "text/x-python",
   "name": "python",
   "nbconvert_exporter": "python",
   "pygments_lexer": "ipython3",
   "version": "3.13.2"
  }
 },
 "nbformat": 4,
 "nbformat_minor": 5
}
