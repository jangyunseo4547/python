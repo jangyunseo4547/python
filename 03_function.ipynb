{
 "cells": [
  {
   "cell_type": "markdown",
   "id": "377a41bd-7c4c-4440-a0af-a36696767481",
   "metadata": {},
   "source": [
    "## 함수(function)\n",
    "\n",
    "- input -> function -> output\n",
    "- **중복 배제 (Don't repeat yourself; DRY)**: 소프트웨어 개발 원리의 하나로, 모든 형태의 정보 중복을 지양하는 원리이다. 특히 다층 구조 시스템에서 유용"
   ]
  },
  {
   "cell_type": "code",
   "execution_count": 10,
   "id": "5652969c-19e6-42e3-b103-0945a8ab3abe",
   "metadata": {},
   "outputs": [
    {
     "name": "stdout",
     "output_type": "stream",
     "text": [
      "사각형의 면적은 1000이고 둘레는 140입니다.\n"
     ]
    }
   ],
   "source": [
    "# 사각형의 가로의 세로의 길이를 이용해서 면적, 둘레를 구하는 코드\n",
    "\n",
    "height2 = 50\n",
    "width2 = 20\n",
    "\n",
    "area2 = height2 * width2\n",
    "perimeter2 = (height + width) * 2\n",
    "\n",
    "print(f'사각형의 면적은 {area2}이고 둘레는 {perimeter2}입니다.')"
   ]
  },
  {
   "cell_type": "markdown",
   "id": "bcc8d7fd-25ae-4b6f-9e94-51dee5b24f40",
   "metadata": {},
   "source": [
    "## 함수의 선언과 호출\n",
    "- `매개변수(parameter)`는 **함수 안에서의 정의 및 사용에 나열되어 있는 변수**\n",
    "\n",
    "- `전달 인자(argument)`는 함수를 호출할 때 전달되는 **실제 값**을 의미\n",
    "\n",
    "- 선언 : \n",
    "```python\n",
    "def func_name(parameter1, parameter2, ...):\n",
    "    code1\n",
    "    cede2\n",
    "    ...\n",
    "    return value\n",
    "```\n",
    "\n",
    "- 호출 :\n",
    "    - `func_name(parameter1, parameter2, ...)`"
   ]
  },
  {
   "cell_type": "code",
   "execution_count": 16,
   "id": "bed73da6-7ea9-480b-a414-68300e4c636c",
   "metadata": {},
   "outputs": [],
   "source": [
    "def rectangle(height, width):\n",
    "    area = height * width\n",
    "    perimeter = (height + width) * 2\n",
    "\n",
    "    print(f'사각형의 면적은 {area}이고 둘레는 {perimeter}입니다.')"
   ]
  },
  {
   "cell_type": "code",
   "execution_count": 19,
   "id": "a8a751ba-4521-4a58-bb45-049e08fc442b",
   "metadata": {},
   "outputs": [
    {
     "name": "stdout",
     "output_type": "stream",
     "text": [
      "사각형의 면적은 1500이고 둘레는 160입니다.\n",
      "사각형의 면적은 2000이고 둘레는 240입니다.\n"
     ]
    }
   ],
   "source": [
    "# 함수의 이점 : 지속적으로 재사용 가능\n",
    "rectangle(50,30)\n",
    "rectangle(20,100)"
   ]
  },
  {
   "cell_type": "code",
   "execution_count": 24,
   "id": "d0bba8a8-5510-4822-b42c-88b032b5c755",
   "metadata": {},
   "outputs": [
    {
     "name": "stdout",
     "output_type": "stream",
     "text": [
      "asdf\n"
     ]
    },
    {
     "data": {
      "text/plain": [
       "'hi'"
      ]
     },
     "execution_count": 24,
     "metadata": {},
     "output_type": "execute_result"
    }
   ],
   "source": [
    "# print 또한 프린트해주는 함수\n",
    "# word() : 함수의 형태\n",
    "print('asdf')\n",
    "str('hi')"
   ]
  },
  {
   "cell_type": "code",
   "execution_count": 30,
   "id": "051f55c0-8343-4b61-9e5e-c8b8b2d7d67f",
   "metadata": {},
   "outputs": [
    {
     "data": {
      "text/plain": [
       "['ArithmeticError',\n",
       " 'AssertionError',\n",
       " 'AttributeError',\n",
       " 'BaseException',\n",
       " 'BaseExceptionGroup',\n",
       " 'BlockingIOError',\n",
       " 'BrokenPipeError',\n",
       " 'BufferError',\n",
       " 'BytesWarning',\n",
       " 'ChildProcessError',\n",
       " 'ConnectionAbortedError',\n",
       " 'ConnectionError',\n",
       " 'ConnectionRefusedError',\n",
       " 'ConnectionResetError',\n",
       " 'DeprecationWarning',\n",
       " 'EOFError',\n",
       " 'Ellipsis',\n",
       " 'EncodingWarning',\n",
       " 'EnvironmentError',\n",
       " 'Exception',\n",
       " 'ExceptionGroup',\n",
       " 'False',\n",
       " 'FileExistsError',\n",
       " 'FileNotFoundError',\n",
       " 'FloatingPointError',\n",
       " 'FutureWarning',\n",
       " 'GeneratorExit',\n",
       " 'IOError',\n",
       " 'ImportError',\n",
       " 'ImportWarning',\n",
       " 'IndentationError',\n",
       " 'IndexError',\n",
       " 'InterruptedError',\n",
       " 'IsADirectoryError',\n",
       " 'KeyError',\n",
       " 'KeyboardInterrupt',\n",
       " 'LookupError',\n",
       " 'MemoryError',\n",
       " 'ModuleNotFoundError',\n",
       " 'NameError',\n",
       " 'None',\n",
       " 'NotADirectoryError',\n",
       " 'NotImplemented',\n",
       " 'NotImplementedError',\n",
       " 'OSError',\n",
       " 'OverflowError',\n",
       " 'PendingDeprecationWarning',\n",
       " 'PermissionError',\n",
       " 'ProcessLookupError',\n",
       " 'PythonFinalizationError',\n",
       " 'RecursionError',\n",
       " 'ReferenceError',\n",
       " 'ResourceWarning',\n",
       " 'RuntimeError',\n",
       " 'RuntimeWarning',\n",
       " 'StopAsyncIteration',\n",
       " 'StopIteration',\n",
       " 'SyntaxError',\n",
       " 'SyntaxWarning',\n",
       " 'SystemError',\n",
       " 'SystemExit',\n",
       " 'TabError',\n",
       " 'TimeoutError',\n",
       " 'True',\n",
       " 'TypeError',\n",
       " 'UnboundLocalError',\n",
       " 'UnicodeDecodeError',\n",
       " 'UnicodeEncodeError',\n",
       " 'UnicodeError',\n",
       " 'UnicodeTranslateError',\n",
       " 'UnicodeWarning',\n",
       " 'UserWarning',\n",
       " 'ValueError',\n",
       " 'Warning',\n",
       " 'WindowsError',\n",
       " 'ZeroDivisionError',\n",
       " '_IncompleteInputError',\n",
       " '__IPYTHON__',\n",
       " '__build_class__',\n",
       " '__debug__',\n",
       " '__doc__',\n",
       " '__import__',\n",
       " '__loader__',\n",
       " '__name__',\n",
       " '__package__',\n",
       " '__spec__',\n",
       " 'abs',\n",
       " 'aiter',\n",
       " 'all',\n",
       " 'anext',\n",
       " 'any',\n",
       " 'ascii',\n",
       " 'bin',\n",
       " 'bool',\n",
       " 'breakpoint',\n",
       " 'bytearray',\n",
       " 'bytes',\n",
       " 'callable',\n",
       " 'chr',\n",
       " 'classmethod',\n",
       " 'compile',\n",
       " 'complex',\n",
       " 'copyright',\n",
       " 'credits',\n",
       " 'delattr',\n",
       " 'dict',\n",
       " 'dir',\n",
       " 'display',\n",
       " 'divmod',\n",
       " 'enumerate',\n",
       " 'eval',\n",
       " 'exec',\n",
       " 'execfile',\n",
       " 'filter',\n",
       " 'float',\n",
       " 'format',\n",
       " 'frozenset',\n",
       " 'get_ipython',\n",
       " 'getattr',\n",
       " 'globals',\n",
       " 'hasattr',\n",
       " 'hash',\n",
       " 'help',\n",
       " 'hex',\n",
       " 'id',\n",
       " 'input',\n",
       " 'int',\n",
       " 'isinstance',\n",
       " 'issubclass',\n",
       " 'iter',\n",
       " 'len',\n",
       " 'license',\n",
       " 'list',\n",
       " 'locals',\n",
       " 'map',\n",
       " 'max',\n",
       " 'memoryview',\n",
       " 'min',\n",
       " 'next',\n",
       " 'object',\n",
       " 'oct',\n",
       " 'open',\n",
       " 'ord',\n",
       " 'pow',\n",
       " 'print',\n",
       " 'property',\n",
       " 'range',\n",
       " 'repr',\n",
       " 'reversed',\n",
       " 'round',\n",
       " 'runfile',\n",
       " 'set',\n",
       " 'setattr',\n",
       " 'slice',\n",
       " 'sorted',\n",
       " 'staticmethod',\n",
       " 'str',\n",
       " 'sum',\n",
       " 'super',\n",
       " 'tuple',\n",
       " 'type',\n",
       " 'vars',\n",
       " 'zip']"
      ]
     },
     "execution_count": 30,
     "metadata": {},
     "output_type": "execute_result"
    }
   ],
   "source": [
    "#함수 목록 호출 (builtin 함수)\n",
    "\n",
    "dir(__builtin__)"
   ]
  },
  {
   "cell_type": "code",
   "execution_count": 32,
   "id": "5d84371f-01d1-4121-8589-29dd14753bd0",
   "metadata": {},
   "outputs": [
    {
     "data": {
      "text/plain": [
       "100"
      ]
     },
     "execution_count": 32,
     "metadata": {},
     "output_type": "execute_result"
    }
   ],
   "source": [
    "max(100,2)"
   ]
  },
  {
   "cell_type": "code",
   "execution_count": 40,
   "id": "52972012-5e98-4948-96eb-d3ab9425adb0",
   "metadata": {},
   "outputs": [],
   "source": [
    "def my_max(num1, num2):\n",
    "    if num1 > num2:\n",
    "        print(f'가장 큰 값은 {num1}입니다.')\n",
    "    elif num1 < num2:\n",
    "        print(f'가장 큰 값은 {num2}입니다.')\n",
    "    else:\n",
    "        print('두 숫자가 같습니다.')"
   ]
  },
  {
   "cell_type": "code",
   "execution_count": 45,
   "id": "84400987-830d-4687-afda-9705fa8f39f3",
   "metadata": {},
   "outputs": [
    {
     "name": "stdout",
     "output_type": "stream",
     "text": [
      "두 숫자가 같습니다.\n"
     ]
    }
   ],
   "source": [
    "my_max(10,10)"
   ]
  },
  {
   "cell_type": "markdown",
   "id": "5d4d95e9-f52d-40e2-8676-734d98fa92fc",
   "metadata": {},
   "source": [
    "## 함수의 retrun \n",
    "\n",
    "- 함수가 retrun을 만나면 해당값을 반환하고 함수를 종료\n",
    "    - for문의 break와 유사 (아래의 코드가 많더라도 retrun을 만나면 종료됨.)\n",
    "- 만약 retrun이 없는 경우 none을 자동으로 반환\n",
    "- retrun은 오직 하나의 객체만 반환한다. "
   ]
  },
  {
   "cell_type": "code",
   "execution_count": 51,
   "id": "f4be46c7-a957-4fd8-9872-6761c03c6ba6",
   "metadata": {},
   "outputs": [
    {
     "name": "stdout",
     "output_type": "stream",
     "text": [
      "가장 큰 값은 2입니다.\n"
     ]
    }
   ],
   "source": [
    "my_max(1,2)"
   ]
  },
  {
   "cell_type": "code",
   "execution_count": 57,
   "id": "8c2ff686-1194-46fa-a1b2-887ac9192e6c",
   "metadata": {},
   "outputs": [
    {
     "name": "stdout",
     "output_type": "stream",
     "text": [
      "가장 큰 값은 2입니다.\n",
      "None\n"
     ]
    },
    {
     "ename": "TypeError",
     "evalue": "unsupported operand type(s) for *: 'NoneType' and 'int'",
     "output_type": "error",
     "traceback": [
      "\u001b[1;31m---------------------------------------------------------------------------\u001b[0m",
      "\u001b[1;31mTypeError\u001b[0m                                 Traceback (most recent call last)",
      "Cell \u001b[1;32mIn[57], line 4\u001b[0m\n\u001b[0;32m      2\u001b[0m result \u001b[38;5;241m=\u001b[39m my_max(\u001b[38;5;241m1\u001b[39m,\u001b[38;5;241m2\u001b[39m)\n\u001b[0;32m      3\u001b[0m \u001b[38;5;28mprint\u001b[39m(result)\n\u001b[1;32m----> 4\u001b[0m \u001b[43mresult\u001b[49m\u001b[43m \u001b[49m\u001b[38;5;241;43m*\u001b[39;49m\u001b[43m \u001b[49m\u001b[38;5;241;43m2\u001b[39;49m\n",
      "\u001b[1;31mTypeError\u001b[0m: unsupported operand type(s) for *: 'NoneType' and 'int'"
     ]
    }
   ],
   "source": [
    "# 이때 출력되는 none은 값이 없음.\n",
    "result = my_max(1,2)\n",
    "print(result)\n",
    "result * 2"
   ]
  },
  {
   "cell_type": "code",
   "execution_count": null,
   "id": "f75d5676-fc38-49fd-8586-60aa65f5a1cf",
   "metadata": {},
   "outputs": [],
   "source": []
  }
 ],
 "metadata": {
  "kernelspec": {
   "display_name": "Python 3 (ipykernel)",
   "language": "python",
   "name": "python3"
  },
  "language_info": {
   "codemirror_mode": {
    "name": "ipython",
    "version": 3
   },
   "file_extension": ".py",
   "mimetype": "text/x-python",
   "name": "python",
   "nbconvert_exporter": "python",
   "pygments_lexer": "ipython3",
   "version": "3.13.2"
  }
 },
 "nbformat": 4,
 "nbformat_minor": 5
}
