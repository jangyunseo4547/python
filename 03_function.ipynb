{
 "cells": [
  {
   "cell_type": "markdown",
   "id": "377a41bd-7c4c-4440-a0af-a36696767481",
   "metadata": {},
   "source": [
    "## 함수(function)\n",
    "\n",
    "- input -> function -> output\n",
    "- **중복 배제 (Don't repeat yourself; DRY)**: 소프트웨어 개발 원리의 하나로, 모든 형태의 정보 중복을 지양하는 원리이다. 특히 다층 구조 시스템에서 유용"
   ]
  },
  {
   "cell_type": "code",
   "execution_count": 10,
   "id": "5652969c-19e6-42e3-b103-0945a8ab3abe",
   "metadata": {},
   "outputs": [
    {
     "name": "stdout",
     "output_type": "stream",
     "text": [
      "사각형의 면적은 1000이고 둘레는 140입니다.\n"
     ]
    }
   ],
   "source": [
    "# 사각형의 가로의 세로의 길이를 이용해서 면적, 둘레를 구하는 코드\n",
    "\n",
    "height2 = 50\n",
    "width2 = 20\n",
    "\n",
    "area2 = height2 * width2\n",
    "perimeter2 = (height + width) * 2\n",
    "\n",
    "print(f'사각형의 면적은 {area2}이고 둘레는 {perimeter2}입니다.')"
   ]
  },
  {
   "cell_type": "markdown",
   "id": "bcc8d7fd-25ae-4b6f-9e94-51dee5b24f40",
   "metadata": {},
   "source": [
    "## 함수의 선언과 호출\n",
    "- `매개변수(parameter)`는 **함수 안에서의 정의 및 사용에 나열되어 있는 변수**\n",
    "\n",
    "- `전달 인자(argument)`는 함수를 호출할 때 전달되는 **실제 값**을 의미\n",
    "\n",
    "- 선언 : \n",
    "```python\n",
    "def func_name(parameter1, parameter2, ...):\n",
    "    code1\n",
    "    cede2\n",
    "    ...\n",
    "    return value\n",
    "```\n",
    "\n",
    "- 호출 :\n",
    "    - `func_name(parameter1, parameter2, ...)`"
   ]
  },
  {
   "cell_type": "code",
   "execution_count": 16,
   "id": "bed73da6-7ea9-480b-a414-68300e4c636c",
   "metadata": {},
   "outputs": [],
   "source": [
    "def rectangle(height, width):\n",
    "    area = height * width\n",
    "    perimeter = (height + width) * 2\n",
    "\n",
    "    print(f'사각형의 면적은 {area}이고 둘레는 {perimeter}입니다.')"
   ]
  },
  {
   "cell_type": "code",
   "execution_count": 19,
   "id": "a8a751ba-4521-4a58-bb45-049e08fc442b",
   "metadata": {},
   "outputs": [
    {
     "name": "stdout",
     "output_type": "stream",
     "text": [
      "사각형의 면적은 1500이고 둘레는 160입니다.\n",
      "사각형의 면적은 2000이고 둘레는 240입니다.\n"
     ]
    }
   ],
   "source": [
    "# 함수의 이점 : 지속적으로 재사용 가능\n",
    "rectangle(50,30)\n",
    "rectangle(20,100)"
   ]
  },
  {
   "cell_type": "code",
   "execution_count": 24,
   "id": "d0bba8a8-5510-4822-b42c-88b032b5c755",
   "metadata": {},
   "outputs": [
    {
     "name": "stdout",
     "output_type": "stream",
     "text": [
      "asdf\n"
     ]
    },
    {
     "data": {
      "text/plain": [
       "'hi'"
      ]
     },
     "execution_count": 24,
     "metadata": {},
     "output_type": "execute_result"
    }
   ],
   "source": [
    "# print 또한 프린트해주는 함수\n",
    "# word() : 함수의 형태\n",
    "print('asdf')\n",
    "str('hi')"
   ]
  },
  {
   "cell_type": "code",
   "execution_count": 30,
   "id": "051f55c0-8343-4b61-9e5e-c8b8b2d7d67f",
   "metadata": {},
   "outputs": [
    {
     "data": {
      "text/plain": [
       "['ArithmeticError',\n",
       " 'AssertionError',\n",
       " 'AttributeError',\n",
       " 'BaseException',\n",
       " 'BaseExceptionGroup',\n",
       " 'BlockingIOError',\n",
       " 'BrokenPipeError',\n",
       " 'BufferError',\n",
       " 'BytesWarning',\n",
       " 'ChildProcessError',\n",
       " 'ConnectionAbortedError',\n",
       " 'ConnectionError',\n",
       " 'ConnectionRefusedError',\n",
       " 'ConnectionResetError',\n",
       " 'DeprecationWarning',\n",
       " 'EOFError',\n",
       " 'Ellipsis',\n",
       " 'EncodingWarning',\n",
       " 'EnvironmentError',\n",
       " 'Exception',\n",
       " 'ExceptionGroup',\n",
       " 'False',\n",
       " 'FileExistsError',\n",
       " 'FileNotFoundError',\n",
       " 'FloatingPointError',\n",
       " 'FutureWarning',\n",
       " 'GeneratorExit',\n",
       " 'IOError',\n",
       " 'ImportError',\n",
       " 'ImportWarning',\n",
       " 'IndentationError',\n",
       " 'IndexError',\n",
       " 'InterruptedError',\n",
       " 'IsADirectoryError',\n",
       " 'KeyError',\n",
       " 'KeyboardInterrupt',\n",
       " 'LookupError',\n",
       " 'MemoryError',\n",
       " 'ModuleNotFoundError',\n",
       " 'NameError',\n",
       " 'None',\n",
       " 'NotADirectoryError',\n",
       " 'NotImplemented',\n",
       " 'NotImplementedError',\n",
       " 'OSError',\n",
       " 'OverflowError',\n",
       " 'PendingDeprecationWarning',\n",
       " 'PermissionError',\n",
       " 'ProcessLookupError',\n",
       " 'PythonFinalizationError',\n",
       " 'RecursionError',\n",
       " 'ReferenceError',\n",
       " 'ResourceWarning',\n",
       " 'RuntimeError',\n",
       " 'RuntimeWarning',\n",
       " 'StopAsyncIteration',\n",
       " 'StopIteration',\n",
       " 'SyntaxError',\n",
       " 'SyntaxWarning',\n",
       " 'SystemError',\n",
       " 'SystemExit',\n",
       " 'TabError',\n",
       " 'TimeoutError',\n",
       " 'True',\n",
       " 'TypeError',\n",
       " 'UnboundLocalError',\n",
       " 'UnicodeDecodeError',\n",
       " 'UnicodeEncodeError',\n",
       " 'UnicodeError',\n",
       " 'UnicodeTranslateError',\n",
       " 'UnicodeWarning',\n",
       " 'UserWarning',\n",
       " 'ValueError',\n",
       " 'Warning',\n",
       " 'WindowsError',\n",
       " 'ZeroDivisionError',\n",
       " '_IncompleteInputError',\n",
       " '__IPYTHON__',\n",
       " '__build_class__',\n",
       " '__debug__',\n",
       " '__doc__',\n",
       " '__import__',\n",
       " '__loader__',\n",
       " '__name__',\n",
       " '__package__',\n",
       " '__spec__',\n",
       " 'abs',\n",
       " 'aiter',\n",
       " 'all',\n",
       " 'anext',\n",
       " 'any',\n",
       " 'ascii',\n",
       " 'bin',\n",
       " 'bool',\n",
       " 'breakpoint',\n",
       " 'bytearray',\n",
       " 'bytes',\n",
       " 'callable',\n",
       " 'chr',\n",
       " 'classmethod',\n",
       " 'compile',\n",
       " 'complex',\n",
       " 'copyright',\n",
       " 'credits',\n",
       " 'delattr',\n",
       " 'dict',\n",
       " 'dir',\n",
       " 'display',\n",
       " 'divmod',\n",
       " 'enumerate',\n",
       " 'eval',\n",
       " 'exec',\n",
       " 'execfile',\n",
       " 'filter',\n",
       " 'float',\n",
       " 'format',\n",
       " 'frozenset',\n",
       " 'get_ipython',\n",
       " 'getattr',\n",
       " 'globals',\n",
       " 'hasattr',\n",
       " 'hash',\n",
       " 'help',\n",
       " 'hex',\n",
       " 'id',\n",
       " 'input',\n",
       " 'int',\n",
       " 'isinstance',\n",
       " 'issubclass',\n",
       " 'iter',\n",
       " 'len',\n",
       " 'license',\n",
       " 'list',\n",
       " 'locals',\n",
       " 'map',\n",
       " 'max',\n",
       " 'memoryview',\n",
       " 'min',\n",
       " 'next',\n",
       " 'object',\n",
       " 'oct',\n",
       " 'open',\n",
       " 'ord',\n",
       " 'pow',\n",
       " 'print',\n",
       " 'property',\n",
       " 'range',\n",
       " 'repr',\n",
       " 'reversed',\n",
       " 'round',\n",
       " 'runfile',\n",
       " 'set',\n",
       " 'setattr',\n",
       " 'slice',\n",
       " 'sorted',\n",
       " 'staticmethod',\n",
       " 'str',\n",
       " 'sum',\n",
       " 'super',\n",
       " 'tuple',\n",
       " 'type',\n",
       " 'vars',\n",
       " 'zip']"
      ]
     },
     "execution_count": 30,
     "metadata": {},
     "output_type": "execute_result"
    }
   ],
   "source": [
    "#함수 목록 호출 (builtin 함수)\n",
    "\n",
    "dir(__builtin__)"
   ]
  },
  {
   "cell_type": "code",
   "execution_count": 32,
   "id": "5d84371f-01d1-4121-8589-29dd14753bd0",
   "metadata": {},
   "outputs": [
    {
     "data": {
      "text/plain": [
       "100"
      ]
     },
     "execution_count": 32,
     "metadata": {},
     "output_type": "execute_result"
    }
   ],
   "source": [
    "max(100,2)"
   ]
  },
  {
   "cell_type": "code",
   "execution_count": 40,
   "id": "52972012-5e98-4948-96eb-d3ab9425adb0",
   "metadata": {},
   "outputs": [],
   "source": [
    "def my_max(num1, num2):\n",
    "    if num1 > num2:\n",
    "        print(f'가장 큰 값은 {num1}입니다.')\n",
    "    elif num1 < num2:\n",
    "        print(f'가장 큰 값은 {num2}입니다.')\n",
    "    else:\n",
    "        print('두 숫자가 같습니다.')"
   ]
  },
  {
   "cell_type": "code",
   "execution_count": 45,
   "id": "84400987-830d-4687-afda-9705fa8f39f3",
   "metadata": {},
   "outputs": [
    {
     "name": "stdout",
     "output_type": "stream",
     "text": [
      "두 숫자가 같습니다.\n"
     ]
    }
   ],
   "source": [
    "my_max(10,10)"
   ]
  },
  {
   "cell_type": "markdown",
   "id": "5d4d95e9-f52d-40e2-8676-734d98fa92fc",
   "metadata": {},
   "source": [
    "## 함수의 return \n",
    "\n",
    "- 함수가 return을 만나면 해당값을 반환하고 함수를 종료\n",
    "    - for문의 break와 유사 (아래의 코드가 많더라도 return을 만나면 종료됨.)\n",
    "- 만약 return이 없는 경우 none을 자동으로 반환\n",
    "- return은 오직 하나의 객체만 반환한다. "
   ]
  },
  {
   "cell_type": "code",
   "execution_count": 123,
   "id": "f4be46c7-a957-4fd8-9872-6761c03c6ba6",
   "metadata": {},
   "outputs": [
    {
     "name": "stdout",
     "output_type": "stream",
     "text": [
      "가장 큰 값은 8입니다.\n"
     ]
    }
   ],
   "source": [
    "my_max(1,8)"
   ]
  },
  {
   "cell_type": "code",
   "execution_count": 57,
   "id": "8c2ff686-1194-46fa-a1b2-887ac9192e6c",
   "metadata": {},
   "outputs": [
    {
     "name": "stdout",
     "output_type": "stream",
     "text": [
      "가장 큰 값은 2입니다.\n",
      "None\n"
     ]
    },
    {
     "ename": "TypeError",
     "evalue": "unsupported operand type(s) for *: 'NoneType' and 'int'",
     "output_type": "error",
     "traceback": [
      "\u001b[1;31m---------------------------------------------------------------------------\u001b[0m",
      "\u001b[1;31mTypeError\u001b[0m                                 Traceback (most recent call last)",
      "Cell \u001b[1;32mIn[57], line 4\u001b[0m\n\u001b[0;32m      2\u001b[0m result \u001b[38;5;241m=\u001b[39m my_max(\u001b[38;5;241m1\u001b[39m,\u001b[38;5;241m2\u001b[39m)\n\u001b[0;32m      3\u001b[0m \u001b[38;5;28mprint\u001b[39m(result)\n\u001b[1;32m----> 4\u001b[0m \u001b[43mresult\u001b[49m\u001b[43m \u001b[49m\u001b[38;5;241;43m*\u001b[39;49m\u001b[43m \u001b[49m\u001b[38;5;241;43m2\u001b[39;49m\n",
      "\u001b[1;31mTypeError\u001b[0m: unsupported operand type(s) for *: 'NoneType' and 'int'"
     ]
    }
   ],
   "source": [
    "# 이때 출력되는 none은 값이 없음.\n",
    "result = my_max(1,2)\n",
    "print(result)\n",
    "result * 2"
   ]
  },
  {
   "cell_type": "code",
   "execution_count": 86,
   "id": "f75d5676-fc38-49fd-8586-60aa65f5a1cf",
   "metadata": {},
   "outputs": [],
   "source": [
    "def my_max2(num1, num2):\n",
    "    if num1 > num2:\n",
    "        return num1\n",
    "    else:\n",
    "        return num2"
   ]
  },
  {
   "cell_type": "code",
   "execution_count": 61,
   "id": "9983c161-b60b-4087-91a4-0c94c4e8fb9a",
   "metadata": {},
   "outputs": [
    {
     "name": "stdout",
     "output_type": "stream",
     "text": [
      "가장 큰 값은 2입니다.\n"
     ]
    }
   ],
   "source": [
    "my_max(1,2)"
   ]
  },
  {
   "cell_type": "code",
   "execution_count": 64,
   "id": "0005d008-e666-45f8-b3d7-9e98a847174c",
   "metadata": {},
   "outputs": [
    {
     "name": "stdout",
     "output_type": "stream",
     "text": [
      "2\n"
     ]
    }
   ],
   "source": [
    "result = my_max2(1,2)\n",
    "print(result)"
   ]
  },
  {
   "cell_type": "code",
   "execution_count": 82,
   "id": "d8c2f655-8caf-4fba-9c3d-58f6c2963af1",
   "metadata": {},
   "outputs": [
    {
     "name": "stdout",
     "output_type": "stream",
     "text": [
      "0\n",
      "1\n",
      "2\n",
      "3\n"
     ]
    },
    {
     "data": {
      "text/plain": [
       "3"
      ]
     },
     "execution_count": 82,
     "metadata": {},
     "output_type": "execute_result"
    }
   ],
   "source": [
    "def my_for(x):\n",
    "    for i in range(x):\n",
    "        print(i)\n",
    "        if i == 3:\n",
    "            return i\n",
    "\n",
    "my_for(4)"
   ]
  },
  {
   "cell_type": "code",
   "execution_count": 83,
   "id": "a2509033-efe6-490c-97d6-d2ed6ca02c7a",
   "metadata": {},
   "outputs": [
    {
     "data": {
      "text/plain": [
       "(20, 10)"
      ]
     },
     "execution_count": 83,
     "metadata": {},
     "output_type": "execute_result"
    }
   ],
   "source": [
    "# return은 오직 하나의 객체만 반환한다.\n",
    "def my_def(x):\n",
    "    return x * 2, x\n",
    "\n",
    "my_def(10)"
   ]
  },
  {
   "cell_type": "code",
   "execution_count": 88,
   "id": "d40d1004-a957-41d7-9d73-a050ab507272",
   "metadata": {},
   "outputs": [
    {
     "name": "stdout",
     "output_type": "stream",
     "text": [
      "[2, 3, 4]\n"
     ]
    }
   ],
   "source": [
    "def my_list_max(lst1, lst2):  # 리스트 두 개를 매개변수로 받음\n",
    "    return lst2\n",
    "\n",
    "result = my_list_max([1, 2, 3], [2, 3, 4])  \n",
    "print(result)"
   ]
  },
  {
   "cell_type": "code",
   "execution_count": 116,
   "id": "7cba5d05-2ba6-4cbf-8c50-68eed76862a3",
   "metadata": {},
   "outputs": [
    {
     "name": "stdout",
     "output_type": "stream",
     "text": [
      "[1, 2, 3]\n"
     ]
    }
   ],
   "source": [
    "def my_list_max(lst1, lst2): #리스트에 대한 매게변수 지정해야 함.\n",
    "    return lst1 #return은 하나의 객체만 반환.\n",
    "\n",
    "result = my_list_max([1,2,3], [2,3,4])\n",
    "print(result)"
   ]
  },
  {
   "cell_type": "code",
   "execution_count": 100,
   "id": "cf0f8b80-d98d-430b-b54e-350beadb4499",
   "metadata": {},
   "outputs": [],
   "source": [
    "# 01 list1과 list2의 합을 비교한 경우\n",
    "def my_list_max(list1, list2): #리스트에 대한 매게변수 지정해야 함.\n",
    "\n",
    "    sum_of_list1 = list1[0] + list1[1] + list1[2]\n",
    "    sum_of_list2 = list2[0] + list2[1] + list2[2]\n",
    "\n",
    "    if sum_of_list1 > sum_of_list2:\n",
    "        return list1 #return은 하나의 객체만 반환.\n",
    "\n",
    "    else:\n",
    "        return list2"
   ]
  },
  {
   "cell_type": "code",
   "execution_count": 99,
   "id": "0c236965-8d30-4d82-a05f-d8791cd4b038",
   "metadata": {},
   "outputs": [
    {
     "data": {
      "text/plain": [
       "[2, 3, 4]"
      ]
     },
     "execution_count": 99,
     "metadata": {},
     "output_type": "execute_result"
    }
   ],
   "source": [
    "my_list_max([1,2,3], [2,3,4])"
   ]
  },
  {
   "cell_type": "code",
   "execution_count": 121,
   "id": "eecd0828-4820-42ee-a023-200d689a5709",
   "metadata": {},
   "outputs": [],
   "source": [
    "# 02 for문 활용하기.\n",
    "def my_list_max(list1, list2):\n",
    "    sum_of_list1 = 0 #변수 설정 매우 중요\n",
    "    sum_of_list2 = 0\n",
    "\n",
    "    #list1 = [1,2,3] 각각의 숫자가 아이템에 들어가서 sum\n",
    "    for item in list1:\n",
    "        sum_of_list1 = sum_of_list1 + item #모든 숫자들의 총합을 sum_of_list1에 저장\n",
    "\n",
    "    for item in list2:\n",
    "        sum_of_list2 += item\n",
    "\n",
    "    if sum_of_list1 > sum_of_list2:\n",
    "        return list1\n",
    "    else:\n",
    "        return list2"
   ]
  },
  {
   "cell_type": "code",
   "execution_count": 122,
   "id": "4a8a38d0-9371-4b36-aa40-1e401e3e282c",
   "metadata": {},
   "outputs": [
    {
     "data": {
      "text/plain": [
       "[2, 3, 4]"
      ]
     },
     "execution_count": 122,
     "metadata": {},
     "output_type": "execute_result"
    }
   ],
   "source": [
    "my_list_max([1,2,3],[2,3,4])"
   ]
  },
  {
   "cell_type": "code",
   "execution_count": 114,
   "id": "aa53c5f9-28b1-4d03-90fd-1c0175608c3b",
   "metadata": {},
   "outputs": [],
   "source": [
    "# 03 sum이라는 함수 활용\n",
    "def my_list_max(list1,list2):\n",
    "    sum_of_list1 = sum(list1)\n",
    "    sum_of_list2 = sum(list2)\n",
    "\n",
    "    if sum_of_list1 > sum_of_list2:\n",
    "        return list1\n",
    "    else:\n",
    "        return list2"
   ]
  },
  {
   "cell_type": "code",
   "execution_count": 113,
   "id": "29058b4b-4e0a-4634-bbbb-077a3e1d5886",
   "metadata": {},
   "outputs": [
    {
     "data": {
      "text/plain": [
       "[2, 3, 4]"
      ]
     },
     "execution_count": 113,
     "metadata": {},
     "output_type": "execute_result"
    }
   ],
   "source": [
    "my_list_max([1,2,3],[2,3,4])"
   ]
  },
  {
   "cell_type": "markdown",
   "id": "bf0e2198-b978-47c9-b28c-a94d62dbb2dc",
   "metadata": {},
   "source": [
    "## 함수의 인수\n",
    "\n",
    "- 기본적으로 함수는 위치를 기준으로 인수를 판단합니다.\n"
   ]
  },
  {
   "cell_type": "code",
   "execution_count": 131,
   "id": "4bf067b0-0ffa-4e1d-8c8d-6becb0827ac8",
   "metadata": {},
   "outputs": [],
   "source": [
    "def cylinder(r,h):\n",
    "    return 3.14 * r ** 2 * h"
   ]
  },
  {
   "cell_type": "code",
   "execution_count": 132,
   "id": "b13034f6-62ad-4d69-add7-11b2877aad9a",
   "metadata": {},
   "outputs": [
    {
     "data": {
      "text/plain": [
       "282.6"
      ]
     },
     "execution_count": 132,
     "metadata": {},
     "output_type": "execute_result"
    }
   ],
   "source": [
    "cylinder(3,10)"
   ]
  },
  {
   "cell_type": "code",
   "execution_count": 133,
   "id": "f667de4d-d08c-476c-afaf-5cebc37b3270",
   "metadata": {},
   "outputs": [
    {
     "data": {
      "text/plain": [
       "942.0"
      ]
     },
     "execution_count": 133,
     "metadata": {},
     "output_type": "execute_result"
    }
   ],
   "source": [
    "cylinder(10,3)"
   ]
  },
  {
   "cell_type": "markdown",
   "id": "349e8da9-b218-42f8-9f6e-1a3a4ed99a91",
   "metadata": {},
   "source": [
    "### 기본값\n",
    "```python\n",
    "def func_name(p1=v1):\n",
    "    code1\n",
    "    return value"
   ]
  },
  {
   "cell_type": "code",
   "execution_count": 146,
   "id": "c7df2bcc-a6df-4e7e-8887-f8b018ef000b",
   "metadata": {},
   "outputs": [],
   "source": [
    "def greeting(name='익명'):\n",
    "    return f'{name}님 반갑습니다.'"
   ]
  },
  {
   "cell_type": "code",
   "execution_count": 137,
   "id": "7d641039-53aa-4b97-9354-5c5534f6bd35",
   "metadata": {},
   "outputs": [
    {
     "data": {
      "text/plain": [
       "'오창희님 반갑습니다.'"
      ]
     },
     "execution_count": 137,
     "metadata": {},
     "output_type": "execute_result"
    }
   ],
   "source": [
    "greeting('오창희')"
   ]
  },
  {
   "cell_type": "code",
   "execution_count": 153,
   "id": "02fda803-a0e6-48db-8ae3-e5e6b67d421a",
   "metadata": {},
   "outputs": [
    {
     "data": {
      "text/plain": [
       "'장윤서님 반갑습니다.'"
      ]
     },
     "execution_count": 153,
     "metadata": {},
     "output_type": "execute_result"
    }
   ],
   "source": [
    "# 인자가 빠졌을때 오류발생\n",
    "greeting('장윤서')"
   ]
  },
  {
   "cell_type": "code",
   "execution_count": 164,
   "id": "6960124b-cee4-474a-9cf9-4820470f50e9",
   "metadata": {},
   "outputs": [
    {
     "name": "stdout",
     "output_type": "stream",
     "text": [
      "안녕하세요! 반갑습니다.\n",
      "저는 장윤서입니다.\n"
     ]
    }
   ],
   "source": [
    "# sep = '' 띄어쓰기에 넣어주고 싶을때\n",
    "# end = '\\n' 줄바꾸기\n",
    "print('안녕하세요', '반갑습니다.',sep ='! ', end ='\\n')\n",
    "print('저는 장윤서입니다.')"
   ]
  },
  {
   "cell_type": "code",
   "execution_count": 174,
   "id": "52180db5-2279-4627-a897-e9690816f023",
   "metadata": {},
   "outputs": [],
   "source": [
    "#필수인자가 먼저 나와야 해서 익명을 앞에 넣으면 오류가 생김.\n",
    "# 위치인자보다 뒤에 위치해야 동작가능하다.\n",
    "def greeting(age, name ='익명'):\n",
    "    return f'{name}님의 나이는 {age}살입니다.'"
   ]
  },
  {
   "cell_type": "code",
   "execution_count": 178,
   "id": "08c2071b-0136-4eba-919e-e6844d421172",
   "metadata": {},
   "outputs": [
    {
     "data": {
      "text/plain": [
       "'장윤서님의 나이는 23살입니다.'"
      ]
     },
     "execution_count": 178,
     "metadata": {},
     "output_type": "execute_result"
    }
   ],
   "source": [
    "greeting(23, '장윤서')"
   ]
  }
 ],
 "metadata": {
  "kernelspec": {
   "display_name": "Python 3 (ipykernel)",
   "language": "python",
   "name": "python3"
  },
  "language_info": {
   "codemirror_mode": {
    "name": "ipython",
    "version": 3
   },
   "file_extension": ".py",
   "mimetype": "text/x-python",
   "name": "python",
   "nbconvert_exporter": "python",
   "pygments_lexer": "ipython3",
   "version": "3.13.2"
  }
 },
 "nbformat": 4,
 "nbformat_minor": 5
}
