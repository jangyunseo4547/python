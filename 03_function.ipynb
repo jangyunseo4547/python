{
 "cells": [
  {
   "cell_type": "markdown",
   "id": "377a41bd-7c4c-4440-a0af-a36696767481",
   "metadata": {},
   "source": [
    "## 함수(function)\n",
    "\n",
    "- input -> function -> output\n",
    "- **중복 배제 (Don't repeat yourself; DRY)**: 소프트웨어 개발 원리의 하나로, 모든 형태의 정보 중복을 지양하는 원리이다. 특히 다층 구조 시스템에서 유용"
   ]
  },
  {
   "cell_type": "code",
   "execution_count": 10,
   "id": "5652969c-19e6-42e3-b103-0945a8ab3abe",
   "metadata": {},
   "outputs": [
    {
     "name": "stdout",
     "output_type": "stream",
     "text": [
      "사각형의 면적은 1000이고 둘레는 140입니다.\n"
     ]
    }
   ],
   "source": [
    "# 사각형의 가로의 세로의 길이를 이용해서 면적, 둘레를 구하는 코드\n",
    "\n",
    "height2 = 50\n",
    "width2 = 20\n",
    "\n",
    "area2 = height2 * width2\n",
    "perimeter2 = (height + width) * 2\n",
    "\n",
    "print(f'사각형의 면적은 {area2}이고 둘레는 {perimeter2}입니다.')"
   ]
  },
  {
   "cell_type": "markdown",
   "id": "bcc8d7fd-25ae-4b6f-9e94-51dee5b24f40",
   "metadata": {},
   "source": [
    "## 함수의 선언과 호출\n",
    "- `매개변수(parameter)`는 **함수 안에서의 정의 및 사용에 나열되어 있는 변수**\n",
    "\n",
    "- `전달 인자(argument)`는 함수를 호출할 때 전달되는 **실제 값**을 의미\n",
    "\n",
    "- 선언 : \n",
    "```python\n",
    "def func_name(parameter1, parameter2, ...):\n",
    "    code1\n",
    "    cede2\n",
    "    ...\n",
    "    return value\n",
    "```\n",
    "\n",
    "- 호출 :\n",
    "    - `func_name(parameter1, parameter2, ...)`"
   ]
  },
  {
   "cell_type": "code",
   "execution_count": null,
   "id": "82b6c691-520e-4f54-bf14-13a835f74e91",
   "metadata": {},
   "outputs": [],
   "source": [
    "def rectangle(height, width):\n",
    "    area = height * width\n",
    "    perimeter = (height + width) * 2\n",
    "\n",
    "    print(f'사각형의 면적은 {area}이고 둘레는 {perimeter}입니다.')"
   ]
  },
  {
   "cell_type": "code",
   "execution_count": 19,
   "id": "a8a751ba-4521-4a58-bb45-049e08fc442b",
   "metadata": {},
   "outputs": [
    {
     "name": "stdout",
     "output_type": "stream",
     "text": [
      "사각형의 면적은 1500이고 둘레는 160입니다.\n",
      "사각형의 면적은 2000이고 둘레는 240입니다.\n"
     ]
    }
   ],
   "source": [
    "# 함수의 이점 : 지속적으로 재사용 가능\n",
    "rectangle(50,30)\n",
    "rectangle(20,100)"
   ]
  },
  {
   "cell_type": "code",
   "execution_count": 24,
   "id": "d0bba8a8-5510-4822-b42c-88b032b5c755",
   "metadata": {},
   "outputs": [
    {
     "name": "stdout",
     "output_type": "stream",
     "text": [
      "asdf\n"
     ]
    },
    {
     "data": {
      "text/plain": [
       "'hi'"
      ]
     },
     "execution_count": 24,
     "metadata": {},
     "output_type": "execute_result"
    }
   ],
   "source": [
    "# print 또한 프린트해주는 함수\n",
    "# word() : 함수의 형태\n",
    "print('asdf')\n",
    "str('hi')"
   ]
  },
  {
   "cell_type": "code",
   "execution_count": 30,
   "id": "051f55c0-8343-4b61-9e5e-c8b8b2d7d67f",
   "metadata": {},
   "outputs": [
    {
     "data": {
      "text/plain": [
       "['ArithmeticError',\n",
       " 'AssertionError',\n",
       " 'AttributeError',\n",
       " 'BaseException',\n",
       " 'BaseExceptionGroup',\n",
       " 'BlockingIOError',\n",
       " 'BrokenPipeError',\n",
       " 'BufferError',\n",
       " 'BytesWarning',\n",
       " 'ChildProcessError',\n",
       " 'ConnectionAbortedError',\n",
       " 'ConnectionError',\n",
       " 'ConnectionRefusedError',\n",
       " 'ConnectionResetError',\n",
       " 'DeprecationWarning',\n",
       " 'EOFError',\n",
       " 'Ellipsis',\n",
       " 'EncodingWarning',\n",
       " 'EnvironmentError',\n",
       " 'Exception',\n",
       " 'ExceptionGroup',\n",
       " 'False',\n",
       " 'FileExistsError',\n",
       " 'FileNotFoundError',\n",
       " 'FloatingPointError',\n",
       " 'FutureWarning',\n",
       " 'GeneratorExit',\n",
       " 'IOError',\n",
       " 'ImportError',\n",
       " 'ImportWarning',\n",
       " 'IndentationError',\n",
       " 'IndexError',\n",
       " 'InterruptedError',\n",
       " 'IsADirectoryError',\n",
       " 'KeyError',\n",
       " 'KeyboardInterrupt',\n",
       " 'LookupError',\n",
       " 'MemoryError',\n",
       " 'ModuleNotFoundError',\n",
       " 'NameError',\n",
       " 'None',\n",
       " 'NotADirectoryError',\n",
       " 'NotImplemented',\n",
       " 'NotImplementedError',\n",
       " 'OSError',\n",
       " 'OverflowError',\n",
       " 'PendingDeprecationWarning',\n",
       " 'PermissionError',\n",
       " 'ProcessLookupError',\n",
       " 'PythonFinalizationError',\n",
       " 'RecursionError',\n",
       " 'ReferenceError',\n",
       " 'ResourceWarning',\n",
       " 'RuntimeError',\n",
       " 'RuntimeWarning',\n",
       " 'StopAsyncIteration',\n",
       " 'StopIteration',\n",
       " 'SyntaxError',\n",
       " 'SyntaxWarning',\n",
       " 'SystemError',\n",
       " 'SystemExit',\n",
       " 'TabError',\n",
       " 'TimeoutError',\n",
       " 'True',\n",
       " 'TypeError',\n",
       " 'UnboundLocalError',\n",
       " 'UnicodeDecodeError',\n",
       " 'UnicodeEncodeError',\n",
       " 'UnicodeError',\n",
       " 'UnicodeTranslateError',\n",
       " 'UnicodeWarning',\n",
       " 'UserWarning',\n",
       " 'ValueError',\n",
       " 'Warning',\n",
       " 'WindowsError',\n",
       " 'ZeroDivisionError',\n",
       " '_IncompleteInputError',\n",
       " '__IPYTHON__',\n",
       " '__build_class__',\n",
       " '__debug__',\n",
       " '__doc__',\n",
       " '__import__',\n",
       " '__loader__',\n",
       " '__name__',\n",
       " '__package__',\n",
       " '__spec__',\n",
       " 'abs',\n",
       " 'aiter',\n",
       " 'all',\n",
       " 'anext',\n",
       " 'any',\n",
       " 'ascii',\n",
       " 'bin',\n",
       " 'bool',\n",
       " 'breakpoint',\n",
       " 'bytearray',\n",
       " 'bytes',\n",
       " 'callable',\n",
       " 'chr',\n",
       " 'classmethod',\n",
       " 'compile',\n",
       " 'complex',\n",
       " 'copyright',\n",
       " 'credits',\n",
       " 'delattr',\n",
       " 'dict',\n",
       " 'dir',\n",
       " 'display',\n",
       " 'divmod',\n",
       " 'enumerate',\n",
       " 'eval',\n",
       " 'exec',\n",
       " 'execfile',\n",
       " 'filter',\n",
       " 'float',\n",
       " 'format',\n",
       " 'frozenset',\n",
       " 'get_ipython',\n",
       " 'getattr',\n",
       " 'globals',\n",
       " 'hasattr',\n",
       " 'hash',\n",
       " 'help',\n",
       " 'hex',\n",
       " 'id',\n",
       " 'input',\n",
       " 'int',\n",
       " 'isinstance',\n",
       " 'issubclass',\n",
       " 'iter',\n",
       " 'len',\n",
       " 'license',\n",
       " 'list',\n",
       " 'locals',\n",
       " 'map',\n",
       " 'max',\n",
       " 'memoryview',\n",
       " 'min',\n",
       " 'next',\n",
       " 'object',\n",
       " 'oct',\n",
       " 'open',\n",
       " 'ord',\n",
       " 'pow',\n",
       " 'print',\n",
       " 'property',\n",
       " 'range',\n",
       " 'repr',\n",
       " 'reversed',\n",
       " 'round',\n",
       " 'runfile',\n",
       " 'set',\n",
       " 'setattr',\n",
       " 'slice',\n",
       " 'sorted',\n",
       " 'staticmethod',\n",
       " 'str',\n",
       " 'sum',\n",
       " 'super',\n",
       " 'tuple',\n",
       " 'type',\n",
       " 'vars',\n",
       " 'zip']"
      ]
     },
     "execution_count": 30,
     "metadata": {},
     "output_type": "execute_result"
    }
   ],
   "source": [
    "#함수 목록 호출 (builtin 함수)\n",
    "\n",
    "dir(__builtin__)"
   ]
  },
  {
   "cell_type": "code",
   "execution_count": 2,
   "id": "825812a6-2ce4-40b2-9ab5-ab31f5123278",
   "metadata": {},
   "outputs": [
    {
     "data": {
      "text/plain": [
       "89"
      ]
     },
     "execution_count": 2,
     "metadata": {},
     "output_type": "execute_result"
    }
   ],
   "source": [
    "# 최대값 불러오는 함수\n",
    "\n",
    "max(10,89)"
   ]
  },
  {
   "cell_type": "code",
   "execution_count": 40,
   "id": "52972012-5e98-4948-96eb-d3ab9425adb0",
   "metadata": {},
   "outputs": [],
   "source": [
    "def my_max(num1, num2):\n",
    "    if num1 > num2:\n",
    "        print(f'가장 큰 값은 {num1}입니다.')\n",
    "    elif num1 < num2:\n",
    "        print(f'가장 큰 값은 {num2}입니다.')\n",
    "    else:\n",
    "        print('두 숫자가 같습니다.')"
   ]
  },
  {
   "cell_type": "code",
   "execution_count": 45,
   "id": "84400987-830d-4687-afda-9705fa8f39f3",
   "metadata": {},
   "outputs": [
    {
     "name": "stdout",
     "output_type": "stream",
     "text": [
      "두 숫자가 같습니다.\n"
     ]
    }
   ],
   "source": [
    "my_max(10,10)"
   ]
  },
  {
   "cell_type": "markdown",
   "id": "5d4d95e9-f52d-40e2-8676-734d98fa92fc",
   "metadata": {},
   "source": [
    "## 함수의 return \n",
    "\n",
    "- 함수가 return을 만나면 해당값을 반환하고 함수를 종료\n",
    "    - for문의 break와 유사 (아래의 코드가 많더라도 return을 만나면 종료됨.)\n",
    "- 만약 return이 없는 경우 none을 자동으로 반환\n",
    "- return은 오직 하나의 객체만 반환한다. "
   ]
  },
  {
   "cell_type": "code",
   "execution_count": 123,
   "id": "f4be46c7-a957-4fd8-9872-6761c03c6ba6",
   "metadata": {},
   "outputs": [
    {
     "name": "stdout",
     "output_type": "stream",
     "text": [
      "가장 큰 값은 8입니다.\n"
     ]
    }
   ],
   "source": [
    "my_max(1,8)"
   ]
  },
  {
   "cell_type": "code",
   "execution_count": 57,
   "id": "8c2ff686-1194-46fa-a1b2-887ac9192e6c",
   "metadata": {},
   "outputs": [
    {
     "name": "stdout",
     "output_type": "stream",
     "text": [
      "가장 큰 값은 2입니다.\n",
      "None\n"
     ]
    },
    {
     "ename": "TypeError",
     "evalue": "unsupported operand type(s) for *: 'NoneType' and 'int'",
     "output_type": "error",
     "traceback": [
      "\u001b[1;31m---------------------------------------------------------------------------\u001b[0m",
      "\u001b[1;31mTypeError\u001b[0m                                 Traceback (most recent call last)",
      "Cell \u001b[1;32mIn[57], line 4\u001b[0m\n\u001b[0;32m      2\u001b[0m result \u001b[38;5;241m=\u001b[39m my_max(\u001b[38;5;241m1\u001b[39m,\u001b[38;5;241m2\u001b[39m)\n\u001b[0;32m      3\u001b[0m \u001b[38;5;28mprint\u001b[39m(result)\n\u001b[1;32m----> 4\u001b[0m \u001b[43mresult\u001b[49m\u001b[43m \u001b[49m\u001b[38;5;241;43m*\u001b[39;49m\u001b[43m \u001b[49m\u001b[38;5;241;43m2\u001b[39;49m\n",
      "\u001b[1;31mTypeError\u001b[0m: unsupported operand type(s) for *: 'NoneType' and 'int'"
     ]
    }
   ],
   "source": [
    "# 이때 출력되는 none은 값이 없음.\n",
    "result = my_max(1,2)\n",
    "print(result)\n",
    "result * 2"
   ]
  },
  {
   "cell_type": "code",
   "execution_count": 86,
   "id": "f75d5676-fc38-49fd-8586-60aa65f5a1cf",
   "metadata": {},
   "outputs": [],
   "source": [
    "def my_max2(num1, num2):\n",
    "    if num1 > num2:\n",
    "        return num1\n",
    "    else:\n",
    "        return num2"
   ]
  },
  {
   "cell_type": "code",
   "execution_count": 61,
   "id": "9983c161-b60b-4087-91a4-0c94c4e8fb9a",
   "metadata": {},
   "outputs": [
    {
     "name": "stdout",
     "output_type": "stream",
     "text": [
      "가장 큰 값은 2입니다.\n"
     ]
    }
   ],
   "source": [
    "my_max(1,2)"
   ]
  },
  {
   "cell_type": "code",
   "execution_count": 64,
   "id": "0005d008-e666-45f8-b3d7-9e98a847174c",
   "metadata": {},
   "outputs": [
    {
     "name": "stdout",
     "output_type": "stream",
     "text": [
      "2\n"
     ]
    }
   ],
   "source": [
    "result = my_max2(1,2)\n",
    "print(result)"
   ]
  },
  {
   "cell_type": "code",
   "execution_count": 82,
   "id": "d8c2f655-8caf-4fba-9c3d-58f6c2963af1",
   "metadata": {},
   "outputs": [
    {
     "name": "stdout",
     "output_type": "stream",
     "text": [
      "0\n",
      "1\n",
      "2\n",
      "3\n"
     ]
    },
    {
     "data": {
      "text/plain": [
       "3"
      ]
     },
     "execution_count": 82,
     "metadata": {},
     "output_type": "execute_result"
    }
   ],
   "source": [
    "def my_for(x):\n",
    "    for i in range(x):\n",
    "        print(i)\n",
    "        if i == 3:\n",
    "            return i\n",
    "\n",
    "my_for(4)"
   ]
  },
  {
   "cell_type": "code",
   "execution_count": 83,
   "id": "a2509033-efe6-490c-97d6-d2ed6ca02c7a",
   "metadata": {},
   "outputs": [
    {
     "data": {
      "text/plain": [
       "(20, 10)"
      ]
     },
     "execution_count": 83,
     "metadata": {},
     "output_type": "execute_result"
    }
   ],
   "source": [
    "# return은 오직 하나의 객체만 반환한다.\n",
    "def my_def(x):\n",
    "    return x * 2, x\n",
    "\n",
    "my_def(10)"
   ]
  },
  {
   "cell_type": "code",
   "execution_count": 88,
   "id": "d40d1004-a957-41d7-9d73-a050ab507272",
   "metadata": {},
   "outputs": [
    {
     "name": "stdout",
     "output_type": "stream",
     "text": [
      "[2, 3, 4]\n"
     ]
    }
   ],
   "source": [
    "def my_list_max(lst1, lst2):  # 리스트 두 개를 매개변수로 받음\n",
    "    return lst2\n",
    "\n",
    "result = my_list_max([1, 2, 3], [2, 3, 4])  \n",
    "print(result)"
   ]
  },
  {
   "cell_type": "code",
   "execution_count": 116,
   "id": "7cba5d05-2ba6-4cbf-8c50-68eed76862a3",
   "metadata": {},
   "outputs": [
    {
     "name": "stdout",
     "output_type": "stream",
     "text": [
      "[1, 2, 3]\n"
     ]
    }
   ],
   "source": [
    "def my_list_max(lst1, lst2): #리스트에 대한 매게변수 지정해야 함.\n",
    "    return lst1 #return은 하나의 객체만 반환.\n",
    "\n",
    "result = my_list_max([1,2,3], [2,3,4])\n",
    "print(result)"
   ]
  },
  {
   "cell_type": "code",
   "execution_count": 100,
   "id": "cf0f8b80-d98d-430b-b54e-350beadb4499",
   "metadata": {},
   "outputs": [],
   "source": [
    "# 01 list1과 list2의 합을 비교한 경우\n",
    "def my_list_max(list1, list2): #리스트에 대한 매게변수 지정해야 함.\n",
    "\n",
    "    sum_of_list1 = list1[0] + list1[1] + list1[2]\n",
    "    sum_of_list2 = list2[0] + list2[1] + list2[2]\n",
    "\n",
    "    if sum_of_list1 > sum_of_list2:\n",
    "        return list1 #return은 하나의 객체만 반환.\n",
    "\n",
    "    else:\n",
    "        return list2"
   ]
  },
  {
   "cell_type": "code",
   "execution_count": 99,
   "id": "0c236965-8d30-4d82-a05f-d8791cd4b038",
   "metadata": {},
   "outputs": [
    {
     "data": {
      "text/plain": [
       "[2, 3, 4]"
      ]
     },
     "execution_count": 99,
     "metadata": {},
     "output_type": "execute_result"
    }
   ],
   "source": [
    "my_list_max([1,2,3], [2,3,4])"
   ]
  },
  {
   "cell_type": "code",
   "execution_count": 121,
   "id": "eecd0828-4820-42ee-a023-200d689a5709",
   "metadata": {},
   "outputs": [],
   "source": [
    "# 02 for문 활용하기.\n",
    "def my_list_max(list1, list2):\n",
    "    sum_of_list1 = 0 #변수 설정 매우 중요\n",
    "    sum_of_list2 = 0\n",
    "\n",
    "    #list1 = [1,2,3] 각각의 숫자가 아이템에 들어가서 sum\n",
    "    for item in list1:\n",
    "        sum_of_list1 = sum_of_list1 + item #모든 숫자들의 총합을 sum_of_list1에 저장\n",
    "\n",
    "    for item in list2:\n",
    "        sum_of_list2 += item\n",
    "\n",
    "    if sum_of_list1 > sum_of_list2:\n",
    "        return list1\n",
    "    else:\n",
    "        return list2"
   ]
  },
  {
   "cell_type": "code",
   "execution_count": 122,
   "id": "4a8a38d0-9371-4b36-aa40-1e401e3e282c",
   "metadata": {},
   "outputs": [
    {
     "data": {
      "text/plain": [
       "[2, 3, 4]"
      ]
     },
     "execution_count": 122,
     "metadata": {},
     "output_type": "execute_result"
    }
   ],
   "source": [
    "my_list_max([1,2,3],[2,3,4])"
   ]
  },
  {
   "cell_type": "code",
   "execution_count": 114,
   "id": "aa53c5f9-28b1-4d03-90fd-1c0175608c3b",
   "metadata": {},
   "outputs": [],
   "source": [
    "# 03 sum이라는 함수 활용\n",
    "def my_list_max(list1,list2):\n",
    "    sum_of_list1 = sum(list1)\n",
    "    sum_of_list2 = sum(list2)\n",
    "\n",
    "    if sum_of_list1 > sum_of_list2:\n",
    "        return list1\n",
    "    else:\n",
    "        return list2"
   ]
  },
  {
   "cell_type": "code",
   "execution_count": 113,
   "id": "29058b4b-4e0a-4634-bbbb-077a3e1d5886",
   "metadata": {},
   "outputs": [
    {
     "data": {
      "text/plain": [
       "[2, 3, 4]"
      ]
     },
     "execution_count": 113,
     "metadata": {},
     "output_type": "execute_result"
    }
   ],
   "source": [
    "my_list_max([1,2,3],[2,3,4])"
   ]
  },
  {
   "cell_type": "markdown",
   "id": "bf0e2198-b978-47c9-b28c-a94d62dbb2dc",
   "metadata": {},
   "source": [
    "## 함수의 인수\n",
    "\n",
    "- 기본적으로 함수는 위치를 기준으로 인수를 판단합니다.\n"
   ]
  },
  {
   "cell_type": "code",
   "execution_count": 131,
   "id": "4bf067b0-0ffa-4e1d-8c8d-6becb0827ac8",
   "metadata": {},
   "outputs": [],
   "source": [
    "def cylinder(r,h):\n",
    "    return 3.14 * r ** 2 * h"
   ]
  },
  {
   "cell_type": "code",
   "execution_count": 132,
   "id": "b13034f6-62ad-4d69-add7-11b2877aad9a",
   "metadata": {},
   "outputs": [
    {
     "data": {
      "text/plain": [
       "282.6"
      ]
     },
     "execution_count": 132,
     "metadata": {},
     "output_type": "execute_result"
    }
   ],
   "source": [
    "cylinder(3,10)"
   ]
  },
  {
   "cell_type": "code",
   "execution_count": 133,
   "id": "f667de4d-d08c-476c-afaf-5cebc37b3270",
   "metadata": {},
   "outputs": [
    {
     "data": {
      "text/plain": [
       "942.0"
      ]
     },
     "execution_count": 133,
     "metadata": {},
     "output_type": "execute_result"
    }
   ],
   "source": [
    "cylinder(10,3)"
   ]
  },
  {
   "cell_type": "markdown",
   "id": "349e8da9-b218-42f8-9f6e-1a3a4ed99a91",
   "metadata": {},
   "source": [
    "### 기본값\n",
    "```python\n",
    "def func_name(p1=v1):\n",
    "    code1\n",
    "    return value"
   ]
  },
  {
   "cell_type": "code",
   "execution_count": 146,
   "id": "c7df2bcc-a6df-4e7e-8887-f8b018ef000b",
   "metadata": {},
   "outputs": [],
   "source": [
    "def greeting(name='익명'):\n",
    "    return f'{name}님 반갑습니다.'"
   ]
  },
  {
   "cell_type": "code",
   "execution_count": 137,
   "id": "7d641039-53aa-4b97-9354-5c5534f6bd35",
   "metadata": {},
   "outputs": [
    {
     "data": {
      "text/plain": [
       "'오창희님 반갑습니다.'"
      ]
     },
     "execution_count": 137,
     "metadata": {},
     "output_type": "execute_result"
    }
   ],
   "source": [
    "greeting('오창희')"
   ]
  },
  {
   "cell_type": "code",
   "execution_count": 153,
   "id": "02fda803-a0e6-48db-8ae3-e5e6b67d421a",
   "metadata": {},
   "outputs": [
    {
     "data": {
      "text/plain": [
       "'장윤서님 반갑습니다.'"
      ]
     },
     "execution_count": 153,
     "metadata": {},
     "output_type": "execute_result"
    }
   ],
   "source": [
    "# 인자가 빠졌을때 오류발생\n",
    "greeting('장윤서')"
   ]
  },
  {
   "cell_type": "code",
   "execution_count": 164,
   "id": "6960124b-cee4-474a-9cf9-4820470f50e9",
   "metadata": {},
   "outputs": [
    {
     "name": "stdout",
     "output_type": "stream",
     "text": [
      "안녕하세요! 반갑습니다.\n",
      "저는 장윤서입니다.\n"
     ]
    }
   ],
   "source": [
    "# sep = '' 띄어쓰기에 넣어주고 싶을때\n",
    "# end = '\\n' 줄바꾸기\n",
    "print('안녕하세요', '반갑습니다.',sep ='! ', end ='\\n')\n",
    "print('저는 장윤서입니다.')"
   ]
  },
  {
   "cell_type": "code",
   "execution_count": 182,
   "id": "52180db5-2279-4627-a897-e9690816f023",
   "metadata": {},
   "outputs": [],
   "source": [
    "#필수인자가 먼저 나와야 해서 익명을 앞에 넣으면 오류가 생김.\n",
    "# 위치인자보다 뒤에 위치해야 동작가능하다.\n",
    "def greeting(age, name ='익명'):\n",
    "    return f'{name}님의 나이는 {age}살입니다.'"
   ]
  },
  {
   "cell_type": "code",
   "execution_count": 180,
   "id": "08c2071b-0136-4eba-919e-e6844d421172",
   "metadata": {},
   "outputs": [
    {
     "data": {
      "text/plain": [
       "'장윤서님의 나이는 23살입니다.'"
      ]
     },
     "execution_count": 180,
     "metadata": {},
     "output_type": "execute_result"
    }
   ],
   "source": [
    "greeting(23, '장윤서')"
   ]
  },
  {
   "cell_type": "markdown",
   "id": "de20008b-2649-4393-bf20-98a06b3c55de",
   "metadata": {},
   "source": [
    "## 키워드 인수\n",
    "- 함수를 호출(실행)할때 내가 원하는 위치에 직접적으로 값을 전달"
   ]
  },
  {
   "cell_type": "code",
   "execution_count": 184,
   "id": "71fd54d0-8194-4eb2-be6f-60c289a4d157",
   "metadata": {},
   "outputs": [],
   "source": [
    "def greeting(age, name ='익명'):\n",
    "    return f'{name}님의 나이는 {age}살입니다.'"
   ]
  },
  {
   "cell_type": "code",
   "execution_count": 186,
   "id": "949754ca-0197-4944-9b04-8abed7e361d2",
   "metadata": {},
   "outputs": [
    {
     "data": {
      "text/plain": [
       "'길동님의 나이는 10살입니다.'"
      ]
     },
     "execution_count": 186,
     "metadata": {},
     "output_type": "execute_result"
    }
   ],
   "source": [
    "greeting(10,'길동')\n",
    "greeting(10)\n",
    "greeting(name='길동', age=10)"
   ]
  },
  {
   "cell_type": "markdown",
   "id": "1e10c319-7f3b-4817-a586-5923332517d1",
   "metadata": {},
   "source": [
    "### 가변인자 리스트\n",
    "```python\n",
    "def func_name(*parms):\n",
    "    code\n",
    "    ...\n",
    "    return value\n",
    "\n",
    "# 함수인자에 몇개가 들어갈지 모를때 가변인자 사용\n",
    "# 몇개가 들어오는지 몰라도 리스트로 만들어줌"
   ]
  },
  {
   "cell_type": "code",
   "execution_count": 188,
   "id": "7d560b84-60a5-4def-9b14-4b7870ed4114",
   "metadata": {},
   "outputs": [
    {
     "name": "stdout",
     "output_type": "stream",
     "text": [
      "1 2 asdf\n"
     ]
    }
   ],
   "source": [
    "print('1','2','asdf')"
   ]
  },
  {
   "cell_type": "code",
   "execution_count": 190,
   "id": "02fd97bb-e50e-46e6-9472-bc3f7746b461",
   "metadata": {},
   "outputs": [],
   "source": [
    "def my_print(*words):\n",
    "    print(words)"
   ]
  },
  {
   "cell_type": "code",
   "execution_count": 194,
   "id": "a3192a6f-3fc8-42a6-854d-f3c47bb2a409",
   "metadata": {},
   "outputs": [
    {
     "name": "stdout",
     "output_type": "stream",
     "text": [
      "('my', 'name', 'is', 1, 2, 3, 4)\n"
     ]
    }
   ],
   "source": [
    "my_print('my','name','is',1,2,3,4)"
   ]
  },
  {
   "cell_type": "code",
   "execution_count": 198,
   "id": "fa757644-7c82-4dd8-acd8-3c416485c4d9",
   "metadata": {},
   "outputs": [
    {
     "data": {
      "text/plain": [
       "7"
      ]
     },
     "execution_count": 198,
     "metadata": {},
     "output_type": "execute_result"
    }
   ],
   "source": [
    "max(1,2,3,4,5,6,7)"
   ]
  },
  {
   "cell_type": "code",
   "execution_count": 211,
   "id": "9767e619-a298-49dd-b872-196a7e53e8bc",
   "metadata": {},
   "outputs": [
    {
     "name": "stdout",
     "output_type": "stream",
     "text": [
      "7\n"
     ]
    }
   ],
   "source": [
    "# 내가 한 예제\n",
    "def my_max(*args):\n",
    "    if not args:  # 만약 값이 없으면 예외 처리\n",
    "        return \n",
    "    return max(args)  # 전달된 값 중 최댓값 반환\n",
    "\n",
    "# 최댓값 출력\n",
    "print(my_max(1, 2, 3, 4, 5, 6, 7))  # 출력: 최댓값: 7    "
   ]
  },
  {
   "cell_type": "code",
   "execution_count": 220,
   "id": "ed618eb1-9623-437c-9fb3-344a3171f293",
   "metadata": {},
   "outputs": [],
   "source": [
    "# 선생님\n",
    "def my_max(*numbers):\n",
    "    #numbers = (1,2,3,4,5,6,7)\n",
    "    #max_num = 0\n",
    "\n",
    "    for number in numbers:\n",
    "        if max_num < number:\n",
    "            max_num = number\n",
    "\n",
    "    return max_num    "
   ]
  },
  {
   "cell_type": "code",
   "execution_count": 213,
   "id": "61a36663-09a9-4918-b1a3-7c4fbe495ae1",
   "metadata": {},
   "outputs": [
    {
     "data": {
      "text/plain": [
       "165"
      ]
     },
     "execution_count": 213,
     "metadata": {},
     "output_type": "execute_result"
    }
   ],
   "source": [
    "my_max(156,75,49,78,165)"
   ]
  },
  {
   "cell_type": "code",
   "execution_count": 218,
   "id": "c4b4d809-4010-48c1-b671-72786c8706b1",
   "metadata": {},
   "outputs": [
    {
     "data": {
      "text/plain": [
       "0"
      ]
     },
     "execution_count": 218,
     "metadata": {},
     "output_type": "execute_result"
    }
   ],
   "source": [
    "#max_num(기준점)이 비교하고자 하는 변수보다 이미 커버림.\n",
    "my_max(-1,-2,-3,-4)"
   ]
  },
  {
   "cell_type": "markdown",
   "id": "e2e7a8df-a3bd-42b6-bed1-443c0753ec3f",
   "metadata": {},
   "source": [
    "### 정의되지 않은 키워드 인자 처리하기\n",
    "```python\n",
    "def func_name(**kwargs):\n",
    "    return value\n",
    "\n",
    "```"
   ]
  },
  {
   "cell_type": "code",
   "execution_count": 2,
   "id": "01332750-1a5c-4f63-a467-d750a09b81d6",
   "metadata": {},
   "outputs": [
    {
     "name": "stdout",
     "output_type": "stream",
     "text": [
      "{'name': 'hong', 'age': 10}\n"
     ]
    }
   ],
   "source": [
    "info = {\n",
    "    'name' : 'hong',\n",
    "    'age' : 10,\n",
    "}\n",
    "print(info)"
   ]
  },
  {
   "cell_type": "code",
   "execution_count": 8,
   "id": "152c1359-b9c0-4b6a-8c77-fbb62e48201a",
   "metadata": {},
   "outputs": [
    {
     "name": "stdout",
     "output_type": "stream",
     "text": [
      "{'name': 'kim', 'age': 20}\n"
     ]
    }
   ],
   "source": [
    "#dict 함수 호출하는 방식\n",
    "# dict(**kwargs)\n",
    "\n",
    "info = dict(name='kim', age=20)\n",
    "print(info)"
   ]
  },
  {
   "cell_type": "code",
   "execution_count": 14,
   "id": "272cfaa3-d727-466d-b156-179df3ee0c9a",
   "metadata": {},
   "outputs": [
    {
     "name": "stdout",
     "output_type": "stream",
     "text": [
      "{'asdf': '가나다', 'age': 123, 'test': 'asdf'}\n"
     ]
    }
   ],
   "source": [
    "# 키워드형태의 데이터를 dictionary로 만들어줌. \n",
    "def my_dict(**kwargs):\n",
    "    print(kwargs)\n",
    "\n",
    "my_dict(asdf='가나다', age=123, test='asdf')"
   ]
  },
  {
   "cell_type": "code",
   "execution_count": 19,
   "id": "7b967ba1-ca01-41ad-8e4f-168572195bac",
   "metadata": {},
   "outputs": [],
   "source": [
    "def my_func(parms1, parms2='temp', *numbers, **kwargs):\n",
    "    return 0"
   ]
  },
  {
   "cell_type": "code",
   "execution_count": 35,
   "id": "0da36721-903a-4375-8234-5b2508a2405f",
   "metadata": {},
   "outputs": [
    {
     "ename": "TypeError",
     "evalue": "my_func() missing 1 required positional argument: 'parms1'",
     "output_type": "error",
     "traceback": [
      "\u001b[1;31m---------------------------------------------------------------------------\u001b[0m",
      "\u001b[1;31mTypeError\u001b[0m                                 Traceback (most recent call last)",
      "Cell \u001b[1;32mIn[35], line 2\u001b[0m\n\u001b[0;32m      1\u001b[0m \u001b[38;5;66;03m# parms1, parms2에 인자를 넣지 않아서 오류\u001b[39;00m\n\u001b[1;32m----> 2\u001b[0m \u001b[43mmy_func\u001b[49m\u001b[43m(\u001b[49m\u001b[43m)\u001b[49m\n",
      "\u001b[1;31mTypeError\u001b[0m: my_func() missing 1 required positional argument: 'parms1'"
     ]
    }
   ],
   "source": [
    "# parms1, parms2에 인자를 넣지 않아서 오류\n",
    "my_func()"
   ]
  },
  {
   "cell_type": "code",
   "execution_count": 21,
   "id": "953f9a6b-ad4d-4489-9121-12e1da75f647",
   "metadata": {},
   "outputs": [
    {
     "data": {
      "text/plain": [
       "0"
      ]
     },
     "execution_count": 21,
     "metadata": {},
     "output_type": "execute_result"
    }
   ],
   "source": [
    "my_func(123)"
   ]
  },
  {
   "cell_type": "code",
   "execution_count": 25,
   "id": "75be4675-3d32-4f24-979c-98b093b9e7b6",
   "metadata": {},
   "outputs": [
    {
     "data": {
      "text/plain": [
       "0"
      ]
     },
     "execution_count": 25,
     "metadata": {},
     "output_type": "execute_result"
    }
   ],
   "source": [
    "# parms1 = 123 / parms2 = 456\n",
    "my_func(123,456)"
   ]
  },
  {
   "cell_type": "code",
   "execution_count": 29,
   "id": "1822a0d4-cfef-4662-bd46-bc0a0d7d9419",
   "metadata": {},
   "outputs": [
    {
     "data": {
      "text/plain": [
       "0"
      ]
     },
     "execution_count": 29,
     "metadata": {},
     "output_type": "execute_result"
    }
   ],
   "source": [
    "# parms1 = 123 / parms2 = 456 / numbers = (234,567,678)\n",
    "my_func(123,456,234,567,678)"
   ]
  },
  {
   "cell_type": "code",
   "execution_count": 33,
   "id": "ae61de21-0f5f-4c8c-9948-9bc4629de226",
   "metadata": {},
   "outputs": [
    {
     "data": {
      "text/plain": [
       "0"
      ]
     },
     "execution_count": 33,
     "metadata": {},
     "output_type": "execute_result"
    }
   ],
   "source": [
    "# kwargs = {a:1, b:2, c:3}\n",
    "my_func(123,456,234,567,678, a=1, b=2, c=3)"
   ]
  },
  {
   "cell_type": "code",
   "execution_count": 47,
   "id": "240b369c-b8cf-4f39-8361-f94ce9a18482",
   "metadata": {},
   "outputs": [
    {
     "ename": "SyntaxError",
     "evalue": "invalid syntax (3854461456.py, line 2)",
     "output_type": "error",
     "traceback": [
      "\u001b[1;36m  Cell \u001b[1;32mIn[47], line 2\u001b[1;36m\u001b[0m\n\u001b[1;33m    - 함수를 만드는 또다른 방법\u001b[0m\n\u001b[1;37m          ^\u001b[0m\n\u001b[1;31mSyntaxError\u001b[0m\u001b[1;31m:\u001b[0m invalid syntax\n"
     ]
    }
   ],
   "source": [
    "### lamda 표현식\n",
    "- 함수를 만드는 또다른 방법\n",
    "- 임시적으로 쓰는 일회용 함수 (저장하지 않고 휘발됨)\n",
    "\n",
    "```python\n",
    "lambda parameter:"
   ]
  },
  {
   "cell_type": "code",
   "execution_count": 40,
   "id": "2550cc87-134a-41d6-b02b-8e829525bb7c",
   "metadata": {},
   "outputs": [],
   "source": [
    "def my_sum(num1, num2):\n",
    "    return num1 + num2"
   ]
  },
  {
   "cell_type": "code",
   "execution_count": 42,
   "id": "b2480e36-6534-4861-be68-0e2b13515a95",
   "metadata": {},
   "outputs": [
    {
     "data": {
      "text/plain": [
       "3"
      ]
     },
     "execution_count": 42,
     "metadata": {},
     "output_type": "execute_result"
    }
   ],
   "source": [
    "my_sum(1,2)"
   ]
  },
  {
   "cell_type": "code",
   "execution_count": 54,
   "id": "e9dcd2fd-3706-4b50-bcbb-60c1f1c8041b",
   "metadata": {},
   "outputs": [
    {
     "data": {
      "text/plain": [
       "3"
      ]
     },
     "execution_count": 54,
     "metadata": {},
     "output_type": "execute_result"
    }
   ],
   "source": [
    "# lambda 정의\n",
    "(lambda num1, num2: num1 + num2)(1,2)"
   ]
  },
  {
   "cell_type": "markdown",
   "id": "69bf464f-02d2-47d7-bfe9-a4d510d566a6",
   "metadata": {},
   "source": [
    "### 타입힌트"
   ]
  },
  {
   "cell_type": "code",
   "execution_count": 60,
   "id": "7524a249-fcd4-4e54-b866-623503572724",
   "metadata": {},
   "outputs": [
    {
     "data": {
      "text/plain": [
       "3"
      ]
     },
     "execution_count": 60,
     "metadata": {},
     "output_type": "execute_result"
    }
   ],
   "source": [
    "def something(a: int, b: int) -> int:\n",
    "    return a + b\n",
    "\n",
    "my_sum(1,2)"
   ]
  },
  {
   "cell_type": "code",
   "execution_count": 62,
   "id": "03ec85e5-67a8-4d79-bece-c3cc2307756e",
   "metadata": {},
   "outputs": [
    {
     "data": {
      "text/plain": [
       "'asdfqwer'"
      ]
     },
     "execution_count": 62,
     "metadata": {},
     "output_type": "execute_result"
    }
   ],
   "source": [
    "# 타입힌트대로 안해도 실행은 됨. (참고하는 용도임)\n",
    "something('asdf','qwer')"
   ]
  },
  {
   "cell_type": "markdown",
   "id": "cd4606fa-7a96-4846-8531-40b4bb399e8e",
   "metadata": {},
   "source": [
    "### 이름 공간 (namespace), 스코프 (scope)\n",
    "- python에서 사용하는 이름들은 이름공간에 저장되어있습니다.\n",
    "\n",
    "(LEGB 룰에 따라 접근)\n",
    "\n",
    "1. local : 정의된 함수 내부\n",
    "2. Enclosed : 상위 함수\n",
    "3. Global : 함수 밖\n",
    "4. Built-in : python이 기본적으로 가지고 있는 함수\n"
   ]
  },
  {
   "cell_type": "code",
   "execution_count": 73,
   "id": "0d5c2c99-ed11-4bf2-a510-835fa756ca13",
   "metadata": {},
   "outputs": [
    {
     "ename": "TypeError",
     "evalue": "'str' object is not callable",
     "output_type": "error",
     "traceback": [
      "\u001b[1;31m---------------------------------------------------------------------------\u001b[0m",
      "\u001b[1;31mTypeError\u001b[0m                                 Traceback (most recent call last)",
      "Cell \u001b[1;32mIn[73], line 2\u001b[0m\n\u001b[0;32m      1\u001b[0m \u001b[38;5;66;03m#built-in함수로 인식 (문자형으로 인식)\u001b[39;00m\n\u001b[1;32m----> 2\u001b[0m result \u001b[38;5;241m=\u001b[39m \u001b[38;5;28;43mstr\u001b[39;49m\u001b[43m(\u001b[49m\u001b[38;5;241;43m123\u001b[39;49m\u001b[43m)\u001b[49m\n\u001b[0;32m      3\u001b[0m \u001b[38;5;28mprint\u001b[39m(result)\n",
      "\u001b[1;31mTypeError\u001b[0m: 'str' object is not callable"
     ]
    }
   ],
   "source": [
    "#built-in함수로 인식 (문자형으로 인식)\n",
    "result = str(123)\n",
    "print(result)"
   ]
  },
  {
   "cell_type": "code",
   "execution_count": 71,
   "id": "dd321bdd-7aa3-4c7b-a169-6b6c6936195b",
   "metadata": {},
   "outputs": [],
   "source": [
    "str = 'hello'"
   ]
  },
  {
   "cell_type": "code",
   "execution_count": 72,
   "id": "69e93d6b-4ce7-4ed2-96c5-10e26bb26f94",
   "metadata": {},
   "outputs": [
    {
     "ename": "TypeError",
     "evalue": "'str' object is not callable",
     "output_type": "error",
     "traceback": [
      "\u001b[1;31m---------------------------------------------------------------------------\u001b[0m",
      "\u001b[1;31mTypeError\u001b[0m                                 Traceback (most recent call last)",
      "Cell \u001b[1;32mIn[72], line 1\u001b[0m\n\u001b[1;32m----> 1\u001b[0m result \u001b[38;5;241m=\u001b[39m \u001b[38;5;28;43mstr\u001b[39;49m\u001b[43m(\u001b[49m\u001b[38;5;241;43m123\u001b[39;49m\u001b[43m)\u001b[49m\n\u001b[0;32m      2\u001b[0m \u001b[38;5;28mprint\u001b[39m(result)\n",
      "\u001b[1;31mTypeError\u001b[0m: 'str' object is not callable"
     ]
    }
   ],
   "source": [
    "# \n",
    "result = str(123)\n",
    "print(result)"
   ]
  },
  {
   "cell_type": "code",
   "execution_count": 77,
   "id": "3f307920-bae0-4e79-b327-3bdc23521094",
   "metadata": {},
   "outputs": [
    {
     "data": {
      "text/plain": [
       "'asdf'"
      ]
     },
     "execution_count": 77,
     "metadata": {},
     "output_type": "execute_result"
    }
   ],
   "source": [
    "a = 1\n",
    "\n",
    "def local_scope(a):\n",
    "    return a\n",
    "\n",
    "a = '가나다라'\n",
    "local_scope('asdf')"
   ]
  },
  {
   "cell_type": "code",
   "execution_count": 84,
   "id": "f55983e0-8f54-465d-8cf2-e95c070a3b30",
   "metadata": {},
   "outputs": [
    {
     "name": "stdout",
     "output_type": "stream",
     "text": [
      "[1, 2, 3, 4, 5]\n",
      "[1, 2, 3, 4, 5]\n",
      "[1, 2, 3, 4, 5]\n",
      "[1, 2, 3, 4, 5]\n",
      "[1, 2, 3, 4, 5]\n"
     ]
    }
   ],
   "source": [
    "my_list = [1,2,3,4,5]\n",
    "for i in my_list:\n",
    "    print(my_list)"
   ]
  },
  {
   "cell_type": "code",
   "execution_count": 89,
   "id": "20bec022-afea-4b12-ae10-a4c3907c1c14",
   "metadata": {},
   "outputs": [
    {
     "data": {
      "text/plain": [
       "1"
      ]
     },
     "execution_count": 89,
     "metadata": {},
     "output_type": "execute_result"
    }
   ],
   "source": [
    "a = 0\n",
    "\n",
    "def global_scope():\n",
    "    global a\n",
    "    a = a + 1 \n",
    "    return a\n",
    "\n",
    "global_scope()"
   ]
  },
  {
   "cell_type": "markdown",
   "id": "0c7770cf-53a1-4811-a949-36b31a86bead",
   "metadata": {},
   "source": [
    "### 재귀\n",
    "\n",
    "- 함수 내부에서 자기 자신을 호출하는 함수\n",
    "\n",
    "```\n",
    "n! = 1 * 2 * 3 * ... * n\n",
    "\n",
    "1! = 1\n",
    "2! = 1 * 2 = 1! * 2\n",
    "3! = 1 * 2 * 3 = 2! * 3\n",
    "n! = (n-1)! * n\n",
    "```"
   ]
  },
  {
   "cell_type": "code",
   "execution_count": 92,
   "id": "e32a811a-8bae-4421-a067-4a55f8229c26",
   "metadata": {},
   "outputs": [],
   "source": [
    "def fact(n):\n",
    "    if n ==1:\n",
    "        return 1\n",
    "    else:\n",
    "        return fact(n-1) * n"
   ]
  },
  {
   "cell_type": "code",
   "execution_count": 94,
   "id": "3da26d0a-3c2a-4745-94a6-317e4e3e75db",
   "metadata": {},
   "outputs": [
    {
     "data": {
      "text/plain": [
       "3628800"
      ]
     },
     "execution_count": 94,
     "metadata": {},
     "output_type": "execute_result"
    }
   ],
   "source": [
    "fact(10)"
   ]
  },
  {
   "cell_type": "code",
   "execution_count": 97,
   "id": "b1f765bc-a8b2-40e4-934d-54841fa73fa7",
   "metadata": {},
   "outputs": [
    {
     "data": {
      "text/plain": [
       "5040"
      ]
     },
     "execution_count": 97,
     "metadata": {},
     "output_type": "execute_result"
    }
   ],
   "source": [
    "fact(7)"
   ]
  },
  {
   "cell_type": "code",
   "execution_count": null,
   "id": "c64b1636-9501-41d6-a972-3e623f73eefc",
   "metadata": {},
   "outputs": [],
   "source": []
  }
 ],
 "metadata": {
  "kernelspec": {
   "display_name": "Python 3 (ipykernel)",
   "language": "python",
   "name": "python3"
  },
  "language_info": {
   "codemirror_mode": {
    "name": "ipython",
    "version": 3
   },
   "file_extension": ".py",
   "mimetype": "text/x-python",
   "name": "python",
   "nbconvert_exporter": "python",
   "pygments_lexer": "ipython3",
   "version": "3.13.2"
  }
 },
 "nbformat": 4,
 "nbformat_minor": 5
}
