{
 "cells": [
  {
   "cell_type": "markdown",
   "id": "88badb25-9033-4bad-b260-e351e7fc6ba8",
   "metadata": {},
   "source": [
    "# 01.intro\n",
    "\n",
    "## shortcut\n",
    "\n",
    "- ctrl + enter : 현재 셀 실행\n",
    "- shift + enter : 현재 셀 실행 & 아래로 이동\n",
    "- alt + enter : 현재 셀 실행 & 아래에 새로운 셀 추가"
   ]
  },
  {
   "cell_type": "markdown",
   "id": "d9ce8acc-c83f-4bcb-89b7-e8351f65819d",
   "metadata": {},
   "source": [
    "### 주의사항\n",
    "\n",
    "1. Apple / apple\n",
    "2. git add . / git add.\n",
    "3. message / massage\n"
   ]
  },
  {
   "cell_type": "markdown",
   "id": "ce0430a8-7444-4ac8-a887-c9d5df629733",
   "metadata": {},
   "source": [
    "# 01. 변수\n",
    "```\n",
    "var_name = value\n",
    "```\n",
    "\n",
    "- 변수이름은 어떤 이름이든 사용가능\n",
    "- 다만 영어, 숫자, _를 이용해서 선언\n",
    "- 키워드는 불가능"
   ]
  },
  {
   "cell_type": "code",
   "execution_count": 9,
   "id": "6981ba15-90ac-483a-b77f-f106d4c3fce9",
   "metadata": {},
   "outputs": [],
   "source": [
    "a = 100"
   ]
  },
  {
   "cell_type": "code",
   "execution_count": 11,
   "id": "ad72f070-4145-4e2d-bc32-f4cea88fbac2",
   "metadata": {},
   "outputs": [
    {
     "data": {
      "text/plain": [
       "100"
      ]
     },
     "execution_count": 11,
     "metadata": {},
     "output_type": "execute_result"
    }
   ],
   "source": [
    "a"
   ]
  },
  {
   "cell_type": "code",
   "execution_count": 15,
   "id": "03375efe-1183-4ef2-9617-3a26bfc9b13b",
   "metadata": {},
   "outputs": [
    {
     "data": {
      "text/plain": [
       "['False',\n",
       " 'None',\n",
       " 'True',\n",
       " 'and',\n",
       " 'as',\n",
       " 'assert',\n",
       " 'async',\n",
       " 'await',\n",
       " 'break',\n",
       " 'class',\n",
       " 'continue',\n",
       " 'def',\n",
       " 'del',\n",
       " 'elif',\n",
       " 'else',\n",
       " 'except',\n",
       " 'finally',\n",
       " 'for',\n",
       " 'from',\n",
       " 'global',\n",
       " 'if',\n",
       " 'import',\n",
       " 'in',\n",
       " 'is',\n",
       " 'lambda',\n",
       " 'nonlocal',\n",
       " 'not',\n",
       " 'or',\n",
       " 'pass',\n",
       " 'raise',\n",
       " 'return',\n",
       " 'try',\n",
       " 'while',\n",
       " 'with',\n",
       " 'yield']"
      ]
     },
     "execution_count": 15,
     "metadata": {},
     "output_type": "execute_result"
    }
   ],
   "source": [
    "import keyword \n",
    "keyword.kwlist"
   ]
  },
  {
   "cell_type": "code",
   "execution_count": 18,
   "id": "9bf36e63-7d89-47ae-a773-f088d2d5d202",
   "metadata": {},
   "outputs": [],
   "source": [
    "seoul_dust_rate = 150"
   ]
  },
  {
   "cell_type": "markdown",
   "id": "9af2883b-356c-437a-9ea6-047ba8c5ea92",
   "metadata": {},
   "source": [
    "## 1.1 number (int, float, complex)"
   ]
  },
  {
   "cell_type": "code",
   "execution_count": 22,
   "id": "9171acb0-ab84-4f82-b88b-c75289ba1101",
   "metadata": {},
   "outputs": [
    {
     "data": {
      "text/plain": [
       "int"
      ]
     },
     "execution_count": 22,
     "metadata": {},
     "output_type": "execute_result"
    }
   ],
   "source": [
    "type(a)"
   ]
  },
  {
   "cell_type": "code",
   "execution_count": 24,
   "id": "d576cfba-8f2b-432c-888c-7406c53055b0",
   "metadata": {},
   "outputs": [],
   "source": [
    "a = 10000"
   ]
  },
  {
   "cell_type": "code",
   "execution_count": 25,
   "id": "08ec342a-d263-4a38-a84d-50eefb7399c6",
   "metadata": {},
   "outputs": [],
   "source": [
    "b = 1.1"
   ]
  },
  {
   "cell_type": "code",
   "execution_count": 27,
   "id": "4f2cb985-e030-4fd5-8652-ef5a8053d4df",
   "metadata": {},
   "outputs": [
    {
     "data": {
      "text/plain": [
       "1.1"
      ]
     },
     "execution_count": 27,
     "metadata": {},
     "output_type": "execute_result"
    }
   ],
   "source": [
    "b"
   ]
  },
  {
   "cell_type": "code",
   "execution_count": 29,
   "id": "325eacdb-b115-45f5-9ce7-c115aa22d758",
   "metadata": {},
   "outputs": [
    {
     "data": {
      "text/plain": [
       "10000"
      ]
     },
     "execution_count": 29,
     "metadata": {},
     "output_type": "execute_result"
    }
   ],
   "source": [
    "a"
   ]
  },
  {
   "cell_type": "code",
   "execution_count": 31,
   "id": "f710faa2-fa53-4e59-95c7-ec67209dd196",
   "metadata": {},
   "outputs": [
    {
     "data": {
      "text/plain": [
       "float"
      ]
     },
     "execution_count": 31,
     "metadata": {},
     "output_type": "execute_result"
    }
   ],
   "source": [
    "type(b)"
   ]
  },
  {
   "cell_type": "code",
   "execution_count": 33,
   "id": "812c0324-7715-4e5d-9344-47fabd9d82be",
   "metadata": {},
   "outputs": [],
   "source": [
    "c = 1 + 1j"
   ]
  },
  {
   "cell_type": "code",
   "execution_count": 34,
   "id": "faab4708-b2bc-4f12-9d78-4deb39b87143",
   "metadata": {},
   "outputs": [
    {
     "data": {
      "text/plain": [
       "(1+1j)"
      ]
     },
     "execution_count": 34,
     "metadata": {},
     "output_type": "execute_result"
    }
   ],
   "source": [
    "c"
   ]
  },
  {
   "cell_type": "code",
   "execution_count": 36,
   "id": "f20f8214-4fcb-4e5b-8350-bd8b659a7d16",
   "metadata": {},
   "outputs": [
    {
     "data": {
      "text/plain": [
       "complex"
      ]
     },
     "execution_count": 36,
     "metadata": {},
     "output_type": "execute_result"
    }
   ],
   "source": [
    "type(c)"
   ]
  },
  {
   "cell_type": "markdown",
   "id": "cd9ac710-f420-4060-8193-e847bc82954c",
   "metadata": {},
   "source": [
    "## 1.2 boolean (True or False를 뜻하는 데이터)"
   ]
  },
  {
   "cell_type": "code",
   "execution_count": 39,
   "id": "42a3f501-ba80-4e0f-9f9a-60a4239eba1e",
   "metadata": {},
   "outputs": [],
   "source": [
    "a = True"
   ]
  },
  {
   "cell_type": "code",
   "execution_count": 41,
   "id": "8642c503-fc5f-46c5-82db-28bbdf7af17b",
   "metadata": {},
   "outputs": [
    {
     "data": {
      "text/plain": [
       "True"
      ]
     },
     "execution_count": 41,
     "metadata": {},
     "output_type": "execute_result"
    }
   ],
   "source": [
    "a"
   ]
  },
  {
   "cell_type": "code",
   "execution_count": 43,
   "id": "4a859643-d785-4ff6-a8b1-e94eee19c9f1",
   "metadata": {},
   "outputs": [
    {
     "data": {
      "text/plain": [
       "bool"
      ]
     },
     "execution_count": 43,
     "metadata": {},
     "output_type": "execute_result"
    }
   ],
   "source": [
    "type(a)"
   ]
  },
  {
   "cell_type": "code",
   "execution_count": 45,
   "id": "5c689e05-a8ca-4eb4-a85d-1de39ef46824",
   "metadata": {},
   "outputs": [],
   "source": [
    "b = False"
   ]
  },
  {
   "cell_type": "code",
   "execution_count": 47,
   "id": "8e073010-19c3-445e-976a-70a91dd0487a",
   "metadata": {},
   "outputs": [
    {
     "data": {
      "text/plain": [
       "False"
      ]
     },
     "execution_count": 47,
     "metadata": {},
     "output_type": "execute_result"
    }
   ],
   "source": [
    "b"
   ]
  },
  {
   "cell_type": "code",
   "execution_count": 49,
   "id": "8047b76b-5092-4aa2-9c31-c0d9d32452fa",
   "metadata": {},
   "outputs": [
    {
     "data": {
      "text/plain": [
       "bool"
      ]
     },
     "execution_count": 49,
     "metadata": {},
     "output_type": "execute_result"
    }
   ],
   "source": [
    "type(b)"
   ]
  },
  {
   "cell_type": "markdown",
   "id": "09bcc892-c403-470e-b5ed-ee45b5cdbec5",
   "metadata": {},
   "source": [
    "## 1.3 string"
   ]
  },
  {
   "cell_type": "markdown",
   "id": "bc032325-1724-4d3a-9c22-55cf22c6cd15",
   "metadata": {},
   "source": [
    "- `'`,`\"`를 이용하여 표현\n",
    "- 하나의 따옴표만 사용 (일관성 유지)"
   ]
  },
  {
   "cell_type": "code",
   "execution_count": 56,
   "id": "1f8fb9e6-ecf6-4500-9eb1-f08915423ebe",
   "metadata": {},
   "outputs": [],
   "source": [
    "a = 'hello'"
   ]
  },
  {
   "cell_type": "code",
   "execution_count": 57,
   "id": "8629425f-6463-4928-82b8-b41c4d53d12a",
   "metadata": {},
   "outputs": [],
   "source": [
    "b = \"hi\""
   ]
  },
  {
   "cell_type": "code",
   "execution_count": 58,
   "id": "e6b4aa0f-6142-4e13-915e-570b6aed8d42",
   "metadata": {},
   "outputs": [
    {
     "data": {
      "text/plain": [
       "'hello'"
      ]
     },
     "execution_count": 58,
     "metadata": {},
     "output_type": "execute_result"
    }
   ],
   "source": [
    "a"
   ]
  },
  {
   "cell_type": "code",
   "execution_count": 59,
   "id": "db1ef01c-6ea8-4fe2-8926-09304353f6e7",
   "metadata": {},
   "outputs": [
    {
     "data": {
      "text/plain": [
       "'hi'"
      ]
     },
     "execution_count": 59,
     "metadata": {},
     "output_type": "execute_result"
    }
   ],
   "source": [
    "b"
   ]
  },
  {
   "cell_type": "markdown",
   "id": "0123259c-ac9f-4df5-b13e-c5f11f0f7c86",
   "metadata": {},
   "source": [
    "- 혼용하여 써야 하는 경우 (`'`, `\"`)"
   ]
  },
  {
   "cell_type": "code",
   "execution_count": 62,
   "id": "7efa4924-91ca-44ea-9bf8-f47d5c3619b7",
   "metadata": {},
   "outputs": [
    {
     "name": "stdout",
     "output_type": "stream",
     "text": [
      "hello my name is \"changhee\"\n"
     ]
    }
   ],
   "source": [
    "print('hello my name is \"changhee\"')"
   ]
  },
  {
   "cell_type": "code",
   "execution_count": 64,
   "id": "cd866441-b661-4bfc-b0ab-f2cfdd5931ec",
   "metadata": {},
   "outputs": [
    {
     "name": "stdout",
     "output_type": "stream",
     "text": [
      "hello\n",
      " my name is 'changhee'\n"
     ]
    }
   ],
   "source": [
    "print('hello\\n my name is \\'changhee\\'')"
   ]
  },
  {
   "cell_type": "markdown",
   "id": "7425a5c0-263d-4bf2-846d-e80b730127de",
   "metadata": {},
   "source": [
    "- 줄 바꿔쓰기 \\n"
   ]
  },
  {
   "cell_type": "code",
   "execution_count": 68,
   "id": "936dc14a-44f6-4a8c-bb68-05770556dace",
   "metadata": {},
   "outputs": [],
   "source": [
    "a = '''\n",
    "hello\n",
    "world\n",
    "hi\n",
    "'''"
   ]
  },
  {
   "cell_type": "code",
   "execution_count": 69,
   "id": "2f3a81b4-b43b-4a78-b47c-073f47218a9e",
   "metadata": {},
   "outputs": [
    {
     "data": {
      "text/plain": [
       "'\\nhello\\nworld\\nhi\\n'"
      ]
     },
     "execution_count": 69,
     "metadata": {},
     "output_type": "execute_result"
    }
   ],
   "source": [
    "a"
   ]
  },
  {
   "cell_type": "code",
   "execution_count": 71,
   "id": "faffd4f2-457d-413e-9261-4c2b6e966df7",
   "metadata": {},
   "outputs": [],
   "source": [
    "a = 10\n",
    "b = '홍길동은 10살입니다.'"
   ]
  },
  {
   "cell_type": "code",
   "execution_count": 73,
   "id": "d82dfa9e-af93-482d-94c7-a00f953cff99",
   "metadata": {},
   "outputs": [
    {
     "name": "stdout",
     "output_type": "stream",
     "text": [
      "홍길동은 10살입니다.\n"
     ]
    }
   ],
   "source": [
    "print(b)"
   ]
  },
  {
   "cell_type": "markdown",
   "id": "3b1f28b7-9012-45be-8ddf-24b2b7222949",
   "metadata": {},
   "source": [
    "# string interpolation\n",
    "\n",
    "- %-formatting\n",
    "- str.format()\n",
    "- f-string (f'{age}')"
   ]
  },
  {
   "cell_type": "code",
   "execution_count": 76,
   "id": "e9e29394-29ef-4cb7-bb11-0dd270aa6c9d",
   "metadata": {},
   "outputs": [],
   "source": [
    "age = 10"
   ]
  },
  {
   "cell_type": "code",
   "execution_count": 79,
   "id": "268a8e0a-faa6-44bf-8da9-189ef50431d1",
   "metadata": {},
   "outputs": [
    {
     "name": "stdout",
     "output_type": "stream",
     "text": [
      "홍길동은 10살입니다.\n"
     ]
    }
   ],
   "source": [
    "print('홍길동은 %s살입니다.' % age)"
   ]
  },
  {
   "cell_type": "code",
   "execution_count": 80,
   "id": "343dfae9-82d5-4d19-92f7-b73da6f5e7cd",
   "metadata": {},
   "outputs": [
    {
     "name": "stdout",
     "output_type": "stream",
     "text": [
      "홍길동은 10살입니다.\n"
     ]
    }
   ],
   "source": [
    "print('홍길동은 {}살입니다.'.format(age))"
   ]
  },
  {
   "cell_type": "code",
   "execution_count": 81,
   "id": "0df30a62-0352-4776-9642-20e4c4221b97",
   "metadata": {},
   "outputs": [
    {
     "name": "stdout",
     "output_type": "stream",
     "text": [
      "홍길동은 10살입니다\n"
     ]
    }
   ],
   "source": [
    "print(f'홍길동은 {age}살입니다')"
   ]
  },
  {
   "cell_type": "code",
   "execution_count": 85,
   "id": "72d4e3e2-04c5-4a6c-81bd-f1a4e94f4e72",
   "metadata": {},
   "outputs": [],
   "source": [
    "age = 23"
   ]
  },
  {
   "cell_type": "code",
   "execution_count": 87,
   "id": "54d2ed3c-6f3b-4af1-936a-dd77212f44e4",
   "metadata": {},
   "outputs": [
    {
     "name": "stdout",
     "output_type": "stream",
     "text": [
      "저는 23살 입니다.\n"
     ]
    }
   ],
   "source": [
    "print(f'저는 {age}살 입니다.')"
   ]
  },
  {
   "cell_type": "markdown",
   "id": "3f055a9b-3f37-4e2b-aea9-a44a394d6be1",
   "metadata": {},
   "source": [
    "# 02. 연산자"
   ]
  },
  {
   "cell_type": "markdown",
   "id": "618c08b8-38ff-4f6f-87c3-783cb44b235a",
   "metadata": {},
   "source": [
    "## 2-1 산술연산자"
   ]
  },
  {
   "cell_type": "code",
   "execution_count": 90,
   "id": "c9f25237-c0b3-4f88-adc8-117c74f6681c",
   "metadata": {},
   "outputs": [],
   "source": [
    "a = 2\n",
    "b = 5"
   ]
  },
  {
   "cell_type": "code",
   "execution_count": 93,
   "id": "ee7719a3-01b6-48f8-b180-3b783b126506",
   "metadata": {},
   "outputs": [
    {
     "name": "stdout",
     "output_type": "stream",
     "text": [
      "7\n",
      "-3\n",
      "10\n",
      "0.4\n"
     ]
    }
   ],
   "source": [
    "print(a + b)\n",
    "print(a - b)\n",
    "print(a * b)\n",
    "print(a / b)"
   ]
  },
  {
   "cell_type": "code",
   "execution_count": 96,
   "id": "32f35929-bccb-4a97-9010-200d6be3c107",
   "metadata": {},
   "outputs": [
    {
     "name": "stdout",
     "output_type": "stream",
     "text": [
      "32\n",
      "0\n",
      "2\n"
     ]
    }
   ],
   "source": [
    "print (a ** b)\n",
    "print (a // b)\n",
    "print (a % b)"
   ]
  },
  {
   "cell_type": "code",
   "execution_count": 101,
   "id": "cb8b7a95-be65-4d20-9010-4d9c269c3049",
   "metadata": {},
   "outputs": [],
   "source": [
    "result = divmod(a,b) #divmod = 몫과 나머지를 한번에 계산함."
   ]
  },
  {
   "cell_type": "code",
   "execution_count": 102,
   "id": "38541962-46ad-4565-af90-af911e5c3a0d",
   "metadata": {},
   "outputs": [],
   "source": [
    "#a를 b로 나눈 몫을 만들고, 나머지를 result에 저장함"
   ]
  },
  {
   "cell_type": "code",
   "execution_count": 103,
   "id": "05a72bf9-a1ba-44f8-a2fd-5663a1f0e773",
   "metadata": {},
   "outputs": [
    {
     "name": "stdout",
     "output_type": "stream",
     "text": [
      "(0, 2)\n"
     ]
    }
   ],
   "source": [
    "print(result)"
   ]
  },
  {
   "cell_type": "markdown",
   "id": "cae7d649-f145-4622-9fa2-3e64be8bc2f3",
   "metadata": {},
   "source": [
    "# 2.2 비교연산자"
   ]
  },
  {
   "cell_type": "code",
   "execution_count": 104,
   "id": "f9a112fb-2d59-46ba-aecf-359254de39e8",
   "metadata": {},
   "outputs": [],
   "source": [
    "a = 5\n",
    "b = 10"
   ]
  },
  {
   "cell_type": "code",
   "execution_count": 108,
   "id": "b3a18e97-528d-43a2-8f44-b02cf247d4c7",
   "metadata": {},
   "outputs": [
    {
     "name": "stdout",
     "output_type": "stream",
     "text": [
      "False\n",
      "True\n",
      "False\n",
      "True\n"
     ]
    }
   ],
   "source": [
    "print (a > b)\n",
    "print (a < b)\n",
    "print (a >= b)\n",
    "print (a <= b)"
   ]
  },
  {
   "cell_type": "code",
   "execution_count": 111,
   "id": "8aea9abc-07e6-4b70-af1c-5d6e663c13d8",
   "metadata": {},
   "outputs": [
    {
     "name": "stdout",
     "output_type": "stream",
     "text": [
      "False\n",
      "True\n"
     ]
    }
   ],
   "source": [
    "print(a == b)\n",
    "print(a != b)"
   ]
  },
  {
   "cell_type": "code",
   "execution_count": 114,
   "id": "614cee18-e83d-48b9-bfe6-fa1e0376408d",
   "metadata": {},
   "outputs": [
    {
     "name": "stdout",
     "output_type": "stream",
     "text": [
      "True\n",
      "False\n"
     ]
    }
   ],
   "source": [
    "#대소문자 구분 필요\n",
    "print('hi' == 'hi')\n",
    "print('hi' == 'Hi')"
   ]
  },
  {
   "cell_type": "markdown",
   "id": "532ae4ea-04b3-48e8-9fe5-35d5eaaed919",
   "metadata": {},
   "source": [
    "# 2.3 논리연산자\n",
    "- and : 특정 조건 두개(양쪽) 모두 True일떄, True를 반환\n",
    "- or : 양쪽 모두 False일때, False를 반환\n",
    "- not : 상태를 부정"
   ]
  },
  {
   "cell_type": "code",
   "execution_count": 151,
   "id": "852e27e7-bfdb-4e05-9ab3-cd3c5184458e",
   "metadata": {},
   "outputs": [
    {
     "name": "stdout",
     "output_type": "stream",
     "text": [
      "True\n",
      "False\n",
      "False\n",
      "False\n"
     ]
    }
   ],
   "source": [
    "print(True and True)\n",
    "print(False and False)\n",
    "print(False and True)\n",
    "print(True and False)"
   ]
  },
  {
   "cell_type": "code",
   "execution_count": 120,
   "id": "35704b68-729b-453a-b48f-51e3f84d58e7",
   "metadata": {},
   "outputs": [
    {
     "name": "stdout",
     "output_type": "stream",
     "text": [
      "True\n",
      "True\n",
      "True\n",
      "False\n"
     ]
    }
   ],
   "source": [
    "print(True or True)\n",
    "print(True or False)\n",
    "print(False or True)\n",
    "print(False or False)"
   ]
  },
  {
   "cell_type": "code",
   "execution_count": 122,
   "id": "817e4ca0-bb32-48f0-90c0-208481622a84",
   "metadata": {},
   "outputs": [
    {
     "name": "stdout",
     "output_type": "stream",
     "text": [
      "False\n"
     ]
    }
   ],
   "source": [
    "a = True\n",
    "print(not a)"
   ]
  },
  {
   "cell_type": "code",
   "execution_count": 134,
   "id": "51ccf9b1-713d-429f-a4a4-62dbceeba0da",
   "metadata": {},
   "outputs": [
    {
     "name": "stdout",
     "output_type": "stream",
     "text": [
      "5\n",
      "0\n",
      "0\n",
      "0\n"
     ]
    }
   ],
   "source": [
    "# 단축평가 \n",
    "# and 시작이 T면 뒤에 프린트 / 시작이 F면 앞에 프린트\n",
    "print(3 and 5)\n",
    "print(3 and 0)\n",
    "print(0 and 5)\n",
    "print(0 and 0)"
   ]
  },
  {
   "cell_type": "code",
   "execution_count": 135,
   "id": "3511582a-ad8c-41f6-92c7-796f2abb6d90",
   "metadata": {},
   "outputs": [
    {
     "name": "stdout",
     "output_type": "stream",
     "text": [
      "3\n",
      "3\n",
      "5\n",
      "0\n"
     ]
    }
   ],
   "source": [
    "# or 시작이 T면 앞에 프린트 / 시작이 F면 뒤에 프린트\n",
    "print(3 or 5)\n",
    "print(3 or 0)\n",
    "print(0 or 5)\n",
    "print(0 or 0)"
   ]
  },
  {
   "cell_type": "markdown",
   "id": "dc533fe1-c15d-43c1-9884-6556719c59fd",
   "metadata": {},
   "source": [
    "## 2.4 복합 연산자"
   ]
  },
  {
   "cell_type": "code",
   "execution_count": 137,
   "id": "e18dc94a-1450-4971-90b9-66332f827d17",
   "metadata": {},
   "outputs": [],
   "source": [
    "a = 2\n",
    "b = 3"
   ]
  },
  {
   "cell_type": "code",
   "execution_count": 146,
   "id": "63cc3fd2-3d43-4080-8bb5-892193f3c33b",
   "metadata": {},
   "outputs": [],
   "source": [
    "a = a + b\n",
    "a = a - b\n",
    "a = a * b \n",
    "a = a / b"
   ]
  },
  {
   "cell_type": "code",
   "execution_count": 149,
   "id": "09de8235-4246-4628-b81b-1345c54a7e05",
   "metadata": {},
   "outputs": [
    {
     "data": {
      "text/plain": [
       "8.0"
      ]
     },
     "execution_count": 149,
     "metadata": {},
     "output_type": "execute_result"
    }
   ],
   "source": [
    "a += b\n",
    "a -= b\n",
    "a *= b\n",
    "a /= b\n",
    "a // b\n",
    "a %= b\n",
    "a ** b"
   ]
  },
  {
   "cell_type": "code",
   "execution_count": 153,
   "id": "95efe566-9d42-4e3b-9252-9e1e55053167",
   "metadata": {},
   "outputs": [
    {
     "data": {
      "text/plain": [
       "2.0"
      ]
     },
     "execution_count": 153,
     "metadata": {},
     "output_type": "execute_result"
    }
   ],
   "source": [
    "a"
   ]
  },
  {
   "cell_type": "markdown",
   "id": "e31d0288-8118-4c2f-88a6-d94f6b4bde6a",
   "metadata": {},
   "source": [
    "## 2.5 기타연산자"
   ]
  },
  {
   "cell_type": "code",
   "execution_count": 156,
   "id": "0d227285-0cbf-41ea-b4d4-e5e2e19f4e65",
   "metadata": {},
   "outputs": [],
   "source": [
    "a = 'hi'\n",
    "b = 'hello'"
   ]
  },
  {
   "cell_type": "code",
   "execution_count": 162,
   "id": "345ef3ee-80fb-4a1f-9f9c-0cad315b1d6a",
   "metadata": {},
   "outputs": [
    {
     "name": "stdout",
     "output_type": "stream",
     "text": [
      "hihello\n"
     ]
    },
    {
     "ename": "TypeError",
     "evalue": "unsupported operand type(s) for +: 'int' and 'str'",
     "output_type": "error",
     "traceback": [
      "\u001b[1;31m---------------------------------------------------------------------------\u001b[0m",
      "\u001b[1;31mTypeError\u001b[0m                                 Traceback (most recent call last)",
      "Cell \u001b[1;32mIn[162], line 3\u001b[0m\n\u001b[0;32m      1\u001b[0m \u001b[38;5;66;03m# concatenation \u001b[39;00m\n\u001b[0;32m      2\u001b[0m \u001b[38;5;28mprint\u001b[39m(a \u001b[38;5;241m+\u001b[39m b)\n\u001b[1;32m----> 3\u001b[0m \u001b[38;5;28mprint\u001b[39m(\u001b[38;5;241;43m1\u001b[39;49m\u001b[43m \u001b[49m\u001b[38;5;241;43m+\u001b[39;49m\u001b[43m \u001b[49m\u001b[43mb\u001b[49m)\n",
      "\u001b[1;31mTypeError\u001b[0m: unsupported operand type(s) for +: 'int' and 'str'"
     ]
    }
   ],
   "source": [
    "# concatenation \n",
    "print(a + b)\n",
    "print(1 + b)"
   ]
  },
  {
   "cell_type": "code",
   "execution_count": 163,
   "id": "4797388d-2b38-4ae7-9758-4ce0bfd19ebe",
   "metadata": {},
   "outputs": [],
   "source": [
    "a = [1,2,3]\n",
    "b = [2,3,4]"
   ]
  },
  {
   "cell_type": "code",
   "execution_count": 164,
   "id": "9186d766-0955-45e4-8abb-1e52e749632b",
   "metadata": {},
   "outputs": [
    {
     "name": "stdout",
     "output_type": "stream",
     "text": [
      "[1, 2, 3, 2, 3, 4]\n"
     ]
    }
   ],
   "source": [
    "print(a + b)"
   ]
  },
  {
   "cell_type": "code",
   "execution_count": 166,
   "id": "7bcc5920-95c2-4fcc-86e6-d6c06106d082",
   "metadata": {},
   "outputs": [
    {
     "name": "stdout",
     "output_type": "stream",
     "text": [
      "True\n"
     ]
    }
   ],
   "source": [
    "print(1 in a)"
   ]
  },
  {
   "cell_type": "code",
   "execution_count": 168,
   "id": "210d5d46-132f-4ea8-a55a-d47c9c6c743e",
   "metadata": {},
   "outputs": [
    {
     "name": "stdout",
     "output_type": "stream",
     "text": [
      "False\n"
     ]
    }
   ],
   "source": [
    "print(7 in a)"
   ]
  },
  {
   "cell_type": "code",
   "execution_count": 173,
   "id": "c3cb4b80-28f8-41a2-b404-21678fdabbe7",
   "metadata": {},
   "outputs": [],
   "source": [
    "a = 100\n",
    "b = 100"
   ]
  },
  {
   "cell_type": "code",
   "execution_count": 179,
   "id": "324fae43-f0ac-47b4-951c-803d575c52d9",
   "metadata": {},
   "outputs": [
    {
     "name": "stdout",
     "output_type": "stream",
     "text": [
      "True\n",
      "True\n"
     ]
    }
   ],
   "source": [
    "# == is는 비슷하지만 다름. / 256까지는 == , is와 같다고 봄. but, 그 이후는 다르다고 판단. \n",
    "# == 값만 비교 / is 동일 여부 비교 (더 큰 범위)\n",
    "print(a == b)\n",
    "print(a is b)"
   ]
  },
  {
   "cell_type": "markdown",
   "id": "ec715655-c321-408b-a2fb-470676382ca8",
   "metadata": {},
   "source": [
    "### 연산자 우선순위\n",
    "\n",
    "0. ()를 통해서 그룹\n",
    "1. **\n",
    "2. 산술연산자(*,/)\n",
    "3. 산술연산자(+,-)\n",
    "4. 비교연산자,in,is\n",
    "5. not\n",
    "6. and\n",
    "7. or"
   ]
  },
  {
   "cell_type": "code",
   "execution_count": 185,
   "id": "8227ab65-928a-4002-981a-b3e2c97558de",
   "metadata": {},
   "outputs": [
    {
     "name": "stdout",
     "output_type": "stream",
     "text": [
      "-81\n",
      "81\n"
     ]
    }
   ],
   "source": [
    "print(-3 ** 4)\n",
    "print((-3) ** 4)"
   ]
  },
  {
   "cell_type": "markdown",
   "id": "0be9d435-5029-47c6-b51d-afb994dab477",
   "metadata": {},
   "source": [
    "# 형 변환"
   ]
  },
  {
   "cell_type": "markdown",
   "id": "1a47ba8e-50ba-4e6b-bc28-b2b204f057ca",
   "metadata": {},
   "source": [
    "## 3.1 암시적 형변환"
   ]
  },
  {
   "cell_type": "code",
   "execution_count": 192,
   "id": "5326540e-d5a4-4a13-8b11-b6a2951863e3",
   "metadata": {},
   "outputs": [],
   "source": [
    "a = True\n",
    "b = False\n",
    "c = 1"
   ]
  },
  {
   "cell_type": "code",
   "execution_count": 190,
   "id": "965a6ed2-4f08-4a4a-8010-0a37683079aa",
   "metadata": {},
   "outputs": [
    {
     "name": "stdout",
     "output_type": "stream",
     "text": [
      "1\n",
      "2\n"
     ]
    }
   ],
   "source": [
    "print(a + b)\n",
    "print(a + c)"
   ]
  },
  {
   "cell_type": "code",
   "execution_count": 194,
   "id": "d8379d02-5f5f-4769-83a6-d5981e6e44ca",
   "metadata": {},
   "outputs": [
    {
     "name": "stdout",
     "output_type": "stream",
     "text": [
      "hello\n"
     ]
    }
   ],
   "source": [
    "if 1:\n",
    "    print('hello')"
   ]
  },
  {
   "cell_type": "markdown",
   "id": "84e73796-5af3-403c-9663-ca2dd41d9849",
   "metadata": {},
   "source": [
    "## 3.2 명시적 형변환\n",
    "- int() #정수\n",
    "- float() #소수\n",
    "- str() #문자형\n",
    "- bool() #True or False"
   ]
  },
  {
   "cell_type": "code",
   "execution_count": 203,
   "id": "cba6998b-29a2-47f7-8a33-d5910507af77",
   "metadata": {},
   "outputs": [],
   "source": [
    "a = 1\n",
    "b = '반'"
   ]
  },
  {
   "cell_type": "code",
   "execution_count": 202,
   "id": "0c7ffef6-4e74-44b4-81ba-6145a2a24812",
   "metadata": {},
   "outputs": [
    {
     "name": "stdout",
     "output_type": "stream",
     "text": [
      "1반\n"
     ]
    }
   ],
   "source": [
    "print(a + b)"
   ]
  },
  {
   "cell_type": "code",
   "execution_count": 204,
   "id": "0afeae04-6d58-4734-9224-c1f47bf8e89e",
   "metadata": {},
   "outputs": [
    {
     "name": "stdout",
     "output_type": "stream",
     "text": [
      "1반\n"
     ]
    }
   ],
   "source": [
    "print(str(1) + b)"
   ]
  },
  {
   "cell_type": "code",
   "execution_count": 206,
   "id": "3d353418-8c52-4bf0-a317-3c05527e0301",
   "metadata": {},
   "outputs": [
    {
     "name": "stdout",
     "output_type": "stream",
     "text": [
      "3\n"
     ]
    }
   ],
   "source": [
    "a = '3'\n",
    "print(a)"
   ]
  },
  {
   "cell_type": "code",
   "execution_count": 211,
   "id": "adc2a923-decb-49ba-8363-9a5256147fd3",
   "metadata": {},
   "outputs": [
    {
     "name": "stdout",
     "output_type": "stream",
     "text": [
      "<class 'str'>\n",
      "3\n",
      "3\n",
      "<class 'int'>\n"
     ]
    }
   ],
   "source": [
    "print(type(a))\n",
    "print(int(a))\n",
    "\n",
    "b = int(a)\n",
    "print(b)\n",
    "print(type(b))"
   ]
  },
  {
   "cell_type": "code",
   "execution_count": 215,
   "id": "c192754f-3047-42ea-913e-98ba0f7773db",
   "metadata": {},
   "outputs": [
    {
     "ename": "ValueError",
     "evalue": "invalid literal for int() with base 10: 'apple'",
     "output_type": "error",
     "traceback": [
      "\u001b[1;31m---------------------------------------------------------------------------\u001b[0m",
      "\u001b[1;31mValueError\u001b[0m                                Traceback (most recent call last)",
      "Cell \u001b[1;32mIn[215], line 3\u001b[0m\n\u001b[0;32m      1\u001b[0m \u001b[38;5;66;03m#apple은 int형태로 바꿀 수 없기에 오류\u001b[39;00m\n\u001b[0;32m      2\u001b[0m c \u001b[38;5;241m=\u001b[39m \u001b[38;5;124m'\u001b[39m\u001b[38;5;124mapple\u001b[39m\u001b[38;5;124m'\u001b[39m\n\u001b[1;32m----> 3\u001b[0m d \u001b[38;5;241m=\u001b[39m \u001b[38;5;28;43mint\u001b[39;49m\u001b[43m(\u001b[49m\u001b[43mc\u001b[49m\u001b[43m)\u001b[49m\n",
      "\u001b[1;31mValueError\u001b[0m: invalid literal for int() with base 10: 'apple'"
     ]
    }
   ],
   "source": [
    "#apple은 int형태로 바꿀 수 없기에 오류\n",
    "c = 'apple'\n",
    "d = int(c)"
   ]
  },
  {
   "cell_type": "code",
   "execution_count": 218,
   "id": "2f30c5d2-e489-456f-afe6-b79190014317",
   "metadata": {},
   "outputs": [
    {
     "name": "stdout",
     "output_type": "stream",
     "text": [
      "True\n",
      "False\n",
      "True\n"
     ]
    }
   ],
   "source": [
    "#0만 False, 나머지 True\n",
    "a = 1\n",
    "b = 0\n",
    "c = 123\n",
    "print(bool(a))\n",
    "print(bool(b))\n",
    "print(bool(c))"
   ]
  },
  {
   "cell_type": "code",
   "execution_count": 221,
   "id": "025132ac-ea5b-4998-9ffc-d8bfe665f611",
   "metadata": {},
   "outputs": [
    {
     "name": "stdout",
     "output_type": "stream",
     "text": [
      "False\n",
      "True\n"
     ]
    }
   ],
   "source": [
    "#데이터가 리스트에 하나라도 들어있다면 True로 인지 / 리스트가 비워져있으면 False로 프린트\n",
    "print(bool([]))\n",
    "print(bool([1,2,3]))"
   ]
  },
  {
   "cell_type": "code",
   "execution_count": 224,
   "id": "40218f85-8f05-4374-b19c-1e5c9ec7df23",
   "metadata": {},
   "outputs": [],
   "source": [
    "# 주피터는 실행하는 순서 중요! \n",
    "# 값이 다르게 나올경우 다시 시작 kenel -> clear output 선택"
   ]
  }
 ],
 "metadata": {
  "kernelspec": {
   "display_name": "Python 3 (ipykernel)",
   "language": "python",
   "name": "python3"
  },
  "language_info": {
   "codemirror_mode": {
    "name": "ipython",
    "version": 3
   },
   "file_extension": ".py",
   "mimetype": "text/x-python",
   "name": "python",
   "nbconvert_exporter": "python",
   "pygments_lexer": "ipython3",
   "version": "3.13.2"
  }
 },
 "nbformat": 4,
 "nbformat_minor": 5
}
