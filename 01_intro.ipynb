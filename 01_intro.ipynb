{
 "cells": [
  {
   "cell_type": "markdown",
   "id": "88badb25-9033-4bad-b260-e351e7fc6ba8",
   "metadata": {},
   "source": [
    "# 01.intro\n",
    "\n",
    "## shortcut\n",
    "\n",
    "- ctrl + enter : 현재 셀 실행\n",
    "- shift + enter : 현재 셀 실행 & 아래로 이동\n",
    "- alt + enter : 현재 셀 실행 & 아래에 새로운 셀 추가"
   ]
  },
  {
   "cell_type": "markdown",
   "id": "d9ce8acc-c83f-4bcb-89b7-e8351f65819d",
   "metadata": {},
   "source": [
    "### 주의사항\n",
    "\n",
    "1. Apple / apple\n",
    "2. git add . / git add.\n",
    "3. message / massage\n"
   ]
  },
  {
   "cell_type": "markdown",
   "id": "ce0430a8-7444-4ac8-a887-c9d5df629733",
   "metadata": {},
   "source": [
    "# 01. 변수\n",
    "```\n",
    "var_name = value\n",
    "```\n",
    "\n",
    "- 변수이름은 어떤 이름이든 사용가능\n",
    "- 다만 영어, 숫자, _를 이용해서 선언\n",
    "- 키워드는 불가능"
   ]
  },
  {
   "cell_type": "code",
   "execution_count": 9,
   "id": "6981ba15-90ac-483a-b77f-f106d4c3fce9",
   "metadata": {},
   "outputs": [],
   "source": [
    "a = 100"
   ]
  },
  {
   "cell_type": "code",
   "execution_count": 11,
   "id": "ad72f070-4145-4e2d-bc32-f4cea88fbac2",
   "metadata": {},
   "outputs": [
    {
     "data": {
      "text/plain": [
       "100"
      ]
     },
     "execution_count": 11,
     "metadata": {},
     "output_type": "execute_result"
    }
   ],
   "source": [
    "a"
   ]
  },
  {
   "cell_type": "code",
   "execution_count": 15,
   "id": "03375efe-1183-4ef2-9617-3a26bfc9b13b",
   "metadata": {},
   "outputs": [
    {
     "data": {
      "text/plain": [
       "['False',\n",
       " 'None',\n",
       " 'True',\n",
       " 'and',\n",
       " 'as',\n",
       " 'assert',\n",
       " 'async',\n",
       " 'await',\n",
       " 'break',\n",
       " 'class',\n",
       " 'continue',\n",
       " 'def',\n",
       " 'del',\n",
       " 'elif',\n",
       " 'else',\n",
       " 'except',\n",
       " 'finally',\n",
       " 'for',\n",
       " 'from',\n",
       " 'global',\n",
       " 'if',\n",
       " 'import',\n",
       " 'in',\n",
       " 'is',\n",
       " 'lambda',\n",
       " 'nonlocal',\n",
       " 'not',\n",
       " 'or',\n",
       " 'pass',\n",
       " 'raise',\n",
       " 'return',\n",
       " 'try',\n",
       " 'while',\n",
       " 'with',\n",
       " 'yield']"
      ]
     },
     "execution_count": 15,
     "metadata": {},
     "output_type": "execute_result"
    }
   ],
   "source": [
    "import keyword \n",
    "keyword.kwlist"
   ]
  },
  {
   "cell_type": "code",
   "execution_count": 18,
   "id": "9bf36e63-7d89-47ae-a773-f088d2d5d202",
   "metadata": {},
   "outputs": [],
   "source": [
    "seoul_dust_rate = 150"
   ]
  },
  {
   "cell_type": "markdown",
   "id": "9af2883b-356c-437a-9ea6-047ba8c5ea92",
   "metadata": {},
   "source": [
    "## 1.1 number (int, float, complex)"
   ]
  },
  {
   "cell_type": "code",
   "execution_count": 22,
   "id": "9171acb0-ab84-4f82-b88b-c75289ba1101",
   "metadata": {},
   "outputs": [
    {
     "data": {
      "text/plain": [
       "int"
      ]
     },
     "execution_count": 22,
     "metadata": {},
     "output_type": "execute_result"
    }
   ],
   "source": [
    "type(a)"
   ]
  },
  {
   "cell_type": "code",
   "execution_count": 24,
   "id": "d576cfba-8f2b-432c-888c-7406c53055b0",
   "metadata": {},
   "outputs": [],
   "source": [
    "a = 10000"
   ]
  },
  {
   "cell_type": "code",
   "execution_count": 25,
   "id": "08ec342a-d263-4a38-a84d-50eefb7399c6",
   "metadata": {},
   "outputs": [],
   "source": [
    "b = 1.1"
   ]
  },
  {
   "cell_type": "code",
   "execution_count": 27,
   "id": "4f2cb985-e030-4fd5-8652-ef5a8053d4df",
   "metadata": {},
   "outputs": [
    {
     "data": {
      "text/plain": [
       "1.1"
      ]
     },
     "execution_count": 27,
     "metadata": {},
     "output_type": "execute_result"
    }
   ],
   "source": [
    "b"
   ]
  },
  {
   "cell_type": "code",
   "execution_count": 29,
   "id": "325eacdb-b115-45f5-9ce7-c115aa22d758",
   "metadata": {},
   "outputs": [
    {
     "data": {
      "text/plain": [
       "10000"
      ]
     },
     "execution_count": 29,
     "metadata": {},
     "output_type": "execute_result"
    }
   ],
   "source": [
    "a"
   ]
  },
  {
   "cell_type": "code",
   "execution_count": 31,
   "id": "f710faa2-fa53-4e59-95c7-ec67209dd196",
   "metadata": {},
   "outputs": [
    {
     "data": {
      "text/plain": [
       "float"
      ]
     },
     "execution_count": 31,
     "metadata": {},
     "output_type": "execute_result"
    }
   ],
   "source": [
    "type(b)"
   ]
  },
  {
   "cell_type": "code",
   "execution_count": 33,
   "id": "812c0324-7715-4e5d-9344-47fabd9d82be",
   "metadata": {},
   "outputs": [],
   "source": [
    "c = 1 + 1j"
   ]
  },
  {
   "cell_type": "code",
   "execution_count": 34,
   "id": "faab4708-b2bc-4f12-9d78-4deb39b87143",
   "metadata": {},
   "outputs": [
    {
     "data": {
      "text/plain": [
       "(1+1j)"
      ]
     },
     "execution_count": 34,
     "metadata": {},
     "output_type": "execute_result"
    }
   ],
   "source": [
    "c"
   ]
  },
  {
   "cell_type": "code",
   "execution_count": 36,
   "id": "f20f8214-4fcb-4e5b-8350-bd8b659a7d16",
   "metadata": {},
   "outputs": [
    {
     "data": {
      "text/plain": [
       "complex"
      ]
     },
     "execution_count": 36,
     "metadata": {},
     "output_type": "execute_result"
    }
   ],
   "source": [
    "type(c)"
   ]
  },
  {
   "cell_type": "markdown",
   "id": "cd9ac710-f420-4060-8193-e847bc82954c",
   "metadata": {},
   "source": [
    "## 1.2 boolean (True or False를 뜻하는 데이터)"
   ]
  },
  {
   "cell_type": "code",
   "execution_count": 39,
   "id": "42a3f501-ba80-4e0f-9f9a-60a4239eba1e",
   "metadata": {},
   "outputs": [],
   "source": [
    "a = True"
   ]
  },
  {
   "cell_type": "code",
   "execution_count": 41,
   "id": "8642c503-fc5f-46c5-82db-28bbdf7af17b",
   "metadata": {},
   "outputs": [
    {
     "data": {
      "text/plain": [
       "True"
      ]
     },
     "execution_count": 41,
     "metadata": {},
     "output_type": "execute_result"
    }
   ],
   "source": [
    "a"
   ]
  },
  {
   "cell_type": "code",
   "execution_count": 43,
   "id": "4a859643-d785-4ff6-a8b1-e94eee19c9f1",
   "metadata": {},
   "outputs": [
    {
     "data": {
      "text/plain": [
       "bool"
      ]
     },
     "execution_count": 43,
     "metadata": {},
     "output_type": "execute_result"
    }
   ],
   "source": [
    "type(a)"
   ]
  },
  {
   "cell_type": "code",
   "execution_count": 45,
   "id": "5c689e05-a8ca-4eb4-a85d-1de39ef46824",
   "metadata": {},
   "outputs": [],
   "source": [
    "b = False"
   ]
  },
  {
   "cell_type": "code",
   "execution_count": 47,
   "id": "8e073010-19c3-445e-976a-70a91dd0487a",
   "metadata": {},
   "outputs": [
    {
     "data": {
      "text/plain": [
       "False"
      ]
     },
     "execution_count": 47,
     "metadata": {},
     "output_type": "execute_result"
    }
   ],
   "source": [
    "b"
   ]
  },
  {
   "cell_type": "code",
   "execution_count": 49,
   "id": "8047b76b-5092-4aa2-9c31-c0d9d32452fa",
   "metadata": {},
   "outputs": [
    {
     "data": {
      "text/plain": [
       "bool"
      ]
     },
     "execution_count": 49,
     "metadata": {},
     "output_type": "execute_result"
    }
   ],
   "source": [
    "type(b)"
   ]
  },
  {
   "cell_type": "markdown",
   "id": "09bcc892-c403-470e-b5ed-ee45b5cdbec5",
   "metadata": {},
   "source": [
    "## 1.3 string"
   ]
  },
  {
   "cell_type": "markdown",
   "id": "bc032325-1724-4d3a-9c22-55cf22c6cd15",
   "metadata": {},
   "source": [
    "- `'`,`\"`를 이용하여 표현\n",
    "- 하나의 따옴표만 사용 (일관성 유지)"
   ]
  },
  {
   "cell_type": "code",
   "execution_count": 56,
   "id": "1f8fb9e6-ecf6-4500-9eb1-f08915423ebe",
   "metadata": {},
   "outputs": [],
   "source": [
    "a = 'hello'"
   ]
  },
  {
   "cell_type": "code",
   "execution_count": 57,
   "id": "8629425f-6463-4928-82b8-b41c4d53d12a",
   "metadata": {},
   "outputs": [],
   "source": [
    "b = \"hi\""
   ]
  },
  {
   "cell_type": "code",
   "execution_count": 58,
   "id": "e6b4aa0f-6142-4e13-915e-570b6aed8d42",
   "metadata": {},
   "outputs": [
    {
     "data": {
      "text/plain": [
       "'hello'"
      ]
     },
     "execution_count": 58,
     "metadata": {},
     "output_type": "execute_result"
    }
   ],
   "source": [
    "a"
   ]
  },
  {
   "cell_type": "code",
   "execution_count": 59,
   "id": "db1ef01c-6ea8-4fe2-8926-09304353f6e7",
   "metadata": {},
   "outputs": [
    {
     "data": {
      "text/plain": [
       "'hi'"
      ]
     },
     "execution_count": 59,
     "metadata": {},
     "output_type": "execute_result"
    }
   ],
   "source": [
    "b"
   ]
  },
  {
   "cell_type": "markdown",
   "id": "0123259c-ac9f-4df5-b13e-c5f11f0f7c86",
   "metadata": {},
   "source": [
    "- 혼용하여 써야 하는 경우 (`'`, `\"`)"
   ]
  },
  {
   "cell_type": "code",
   "execution_count": 62,
   "id": "7efa4924-91ca-44ea-9bf8-f47d5c3619b7",
   "metadata": {},
   "outputs": [
    {
     "name": "stdout",
     "output_type": "stream",
     "text": [
      "hello my name is \"changhee\"\n"
     ]
    }
   ],
   "source": [
    "print('hello my name is \"changhee\"')"
   ]
  },
  {
   "cell_type": "code",
   "execution_count": 64,
   "id": "cd866441-b661-4bfc-b0ab-f2cfdd5931ec",
   "metadata": {},
   "outputs": [
    {
     "name": "stdout",
     "output_type": "stream",
     "text": [
      "hello\n",
      " my name is 'changhee'\n"
     ]
    }
   ],
   "source": [
    "print('hello\\n my name is \\'changhee\\'')"
   ]
  },
  {
   "cell_type": "markdown",
   "id": "7425a5c0-263d-4bf2-846d-e80b730127de",
   "metadata": {},
   "source": [
    "- 줄 바꿔쓰기 \\n"
   ]
  },
  {
   "cell_type": "code",
   "execution_count": 68,
   "id": "936dc14a-44f6-4a8c-bb68-05770556dace",
   "metadata": {},
   "outputs": [],
   "source": [
    "a = '''\n",
    "hello\n",
    "world\n",
    "hi\n",
    "'''"
   ]
  },
  {
   "cell_type": "code",
   "execution_count": 69,
   "id": "2f3a81b4-b43b-4a78-b47c-073f47218a9e",
   "metadata": {},
   "outputs": [
    {
     "data": {
      "text/plain": [
       "'\\nhello\\nworld\\nhi\\n'"
      ]
     },
     "execution_count": 69,
     "metadata": {},
     "output_type": "execute_result"
    }
   ],
   "source": [
    "a"
   ]
  },
  {
   "cell_type": "code",
   "execution_count": 71,
   "id": "faffd4f2-457d-413e-9261-4c2b6e966df7",
   "metadata": {},
   "outputs": [],
   "source": [
    "a = 10\n",
    "b = '홍길동은 10살입니다.'"
   ]
  },
  {
   "cell_type": "code",
   "execution_count": 73,
   "id": "d82dfa9e-af93-482d-94c7-a00f953cff99",
   "metadata": {},
   "outputs": [
    {
     "name": "stdout",
     "output_type": "stream",
     "text": [
      "홍길동은 10살입니다.\n"
     ]
    }
   ],
   "source": [
    "print(b)"
   ]
  },
  {
   "cell_type": "markdown",
   "id": "3b1f28b7-9012-45be-8ddf-24b2b7222949",
   "metadata": {},
   "source": [
    "# string interpolation\n",
    "\n",
    "- %s formatting\n",
    "- str.format()\n",
    "- f-string (f'{age}')"
   ]
  },
  {
   "cell_type": "code",
   "execution_count": 76,
   "id": "e9e29394-29ef-4cb7-bb11-0dd270aa6c9d",
   "metadata": {},
   "outputs": [],
   "source": [
    "age = 10"
   ]
  },
  {
   "cell_type": "code",
   "execution_count": 79,
   "id": "268a8e0a-faa6-44bf-8da9-189ef50431d1",
   "metadata": {},
   "outputs": [
    {
     "name": "stdout",
     "output_type": "stream",
     "text": [
      "홍길동은 10살입니다.\n"
     ]
    }
   ],
   "source": [
    "print('홍길동은 %s살입니다.' % age)"
   ]
  },
  {
   "cell_type": "code",
   "execution_count": 80,
   "id": "343dfae9-82d5-4d19-92f7-b73da6f5e7cd",
   "metadata": {},
   "outputs": [
    {
     "name": "stdout",
     "output_type": "stream",
     "text": [
      "홍길동은 10살입니다.\n"
     ]
    }
   ],
   "source": [
    "print('홍길동은 {}살입니다.'.format(age))"
   ]
  },
  {
   "cell_type": "code",
   "execution_count": 81,
   "id": "0df30a62-0352-4776-9642-20e4c4221b97",
   "metadata": {},
   "outputs": [
    {
     "name": "stdout",
     "output_type": "stream",
     "text": [
      "홍길동은 10살입니다\n"
     ]
    }
   ],
   "source": [
    "print(f'홍길동은 {age}살입니다')"
   ]
  },
  {
   "cell_type": "code",
   "execution_count": 85,
   "id": "72d4e3e2-04c5-4a6c-81bd-f1a4e94f4e72",
   "metadata": {},
   "outputs": [],
   "source": [
    "age = 23"
   ]
  },
  {
   "cell_type": "code",
   "execution_count": 87,
   "id": "54d2ed3c-6f3b-4af1-936a-dd77212f44e4",
   "metadata": {},
   "outputs": [
    {
     "name": "stdout",
     "output_type": "stream",
     "text": [
      "저는 23살 입니다.\n"
     ]
    }
   ],
   "source": [
    "print(f'저는 {age}살 입니다.')"
   ]
  },
  {
   "cell_type": "markdown",
   "id": "3f055a9b-3f37-4e2b-aea9-a44a394d6be1",
   "metadata": {},
   "source": [
    "# 02. 연산자"
   ]
  },
  {
   "cell_type": "markdown",
   "id": "618c08b8-38ff-4f6f-87c3-783cb44b235a",
   "metadata": {},
   "source": [
    "## 2-1 산술연산자"
   ]
  },
  {
   "cell_type": "code",
   "execution_count": 90,
   "id": "c9f25237-c0b3-4f88-adc8-117c74f6681c",
   "metadata": {},
   "outputs": [],
   "source": [
    "a = 2\n",
    "b = 5"
   ]
  },
  {
   "cell_type": "code",
   "execution_count": 93,
   "id": "ee7719a3-01b6-48f8-b180-3b783b126506",
   "metadata": {},
   "outputs": [
    {
     "name": "stdout",
     "output_type": "stream",
     "text": [
      "7\n",
      "-3\n",
      "10\n",
      "0.4\n"
     ]
    }
   ],
   "source": [
    "print(a + b)\n",
    "print(a - b)\n",
    "print(a * b)\n",
    "print(a / b)"
   ]
  },
  {
   "cell_type": "code",
   "execution_count": 96,
   "id": "32f35929-bccb-4a97-9010-200d6be3c107",
   "metadata": {},
   "outputs": [
    {
     "name": "stdout",
     "output_type": "stream",
     "text": [
      "32\n",
      "0\n",
      "2\n"
     ]
    }
   ],
   "source": [
    "print (a ** b)\n",
    "print (a // b)\n",
    "print (a % b)"
   ]
  },
  {
   "cell_type": "code",
   "execution_count": 101,
   "id": "cb8b7a95-be65-4d20-9010-4d9c269c3049",
   "metadata": {},
   "outputs": [],
   "source": [
    "result = divmod(a,b) #divmod = 몫과 나머지를 한번에 계산함."
   ]
  },
  {
   "cell_type": "code",
   "execution_count": 102,
   "id": "38541962-46ad-4565-af90-af911e5c3a0d",
   "metadata": {},
   "outputs": [],
   "source": [
    "#a를 b로 나눈 몫을 만들고, 나머지를 result에 저장함"
   ]
  },
  {
   "cell_type": "code",
   "execution_count": 103,
   "id": "05a72bf9-a1ba-44f8-a2fd-5663a1f0e773",
   "metadata": {},
   "outputs": [
    {
     "name": "stdout",
     "output_type": "stream",
     "text": [
      "(0, 2)\n"
     ]
    }
   ],
   "source": [
    "print(result)"
   ]
  },
  {
   "cell_type": "markdown",
   "id": "cae7d649-f145-4622-9fa2-3e64be8bc2f3",
   "metadata": {},
   "source": [
    "# 2.2 비교연산자"
   ]
  },
  {
   "cell_type": "code",
   "execution_count": 104,
   "id": "f9a112fb-2d59-46ba-aecf-359254de39e8",
   "metadata": {},
   "outputs": [],
   "source": [
    "a = 5\n",
    "b = 10"
   ]
  },
  {
   "cell_type": "code",
   "execution_count": 108,
   "id": "b3a18e97-528d-43a2-8f44-b02cf247d4c7",
   "metadata": {},
   "outputs": [
    {
     "name": "stdout",
     "output_type": "stream",
     "text": [
      "False\n",
      "True\n",
      "False\n",
      "True\n"
     ]
    }
   ],
   "source": [
    "print (a > b)\n",
    "print (a < b)\n",
    "print (a >= b)\n",
    "print (a <= b)"
   ]
  },
  {
   "cell_type": "code",
   "execution_count": 111,
   "id": "8aea9abc-07e6-4b70-af1c-5d6e663c13d8",
   "metadata": {},
   "outputs": [
    {
     "name": "stdout",
     "output_type": "stream",
     "text": [
      "False\n",
      "True\n"
     ]
    }
   ],
   "source": [
    "print(a == b)\n",
    "print(a != b)"
   ]
  },
  {
   "cell_type": "code",
   "execution_count": 114,
   "id": "614cee18-e83d-48b9-bfe6-fa1e0376408d",
   "metadata": {},
   "outputs": [
    {
     "name": "stdout",
     "output_type": "stream",
     "text": [
      "True\n",
      "False\n"
     ]
    }
   ],
   "source": [
    "#대소문자 구분 필요\n",
    "print('hi' == 'hi')\n",
    "print('hi' == 'Hi')"
   ]
  },
  {
   "cell_type": "markdown",
   "id": "532ae4ea-04b3-48e8-9fe5-35d5eaaed919",
   "metadata": {},
   "source": [
    "# 2.3 논리연산자\n",
    "- and : 특정 조건 두개(양쪽) 모두 True일떄, True를 반환\n",
    "- or : 양쪽 모두 False일때, False를 반환\n",
    "- not : 상태를 부정"
   ]
  },
  {
   "cell_type": "code",
   "execution_count": 151,
   "id": "852e27e7-bfdb-4e05-9ab3-cd3c5184458e",
   "metadata": {},
   "outputs": [
    {
     "name": "stdout",
     "output_type": "stream",
     "text": [
      "True\n",
      "False\n",
      "False\n",
      "False\n"
     ]
    }
   ],
   "source": [
    "print(True and True)\n",
    "print(False and False)\n",
    "print(False and True)\n",
    "print(True and False)"
   ]
  },
  {
   "cell_type": "code",
   "execution_count": 120,
   "id": "35704b68-729b-453a-b48f-51e3f84d58e7",
   "metadata": {},
   "outputs": [
    {
     "name": "stdout",
     "output_type": "stream",
     "text": [
      "True\n",
      "True\n",
      "True\n",
      "False\n"
     ]
    }
   ],
   "source": [
    "print(True or True)\n",
    "print(True or False)\n",
    "print(False or True)\n",
    "print(False or False)"
   ]
  },
  {
   "cell_type": "code",
   "execution_count": 122,
   "id": "817e4ca0-bb32-48f0-90c0-208481622a84",
   "metadata": {},
   "outputs": [
    {
     "name": "stdout",
     "output_type": "stream",
     "text": [
      "False\n"
     ]
    }
   ],
   "source": [
    "a = True\n",
    "print(not a)"
   ]
  },
  {
   "cell_type": "code",
   "execution_count": 134,
   "id": "51ccf9b1-713d-429f-a4a4-62dbceeba0da",
   "metadata": {},
   "outputs": [
    {
     "name": "stdout",
     "output_type": "stream",
     "text": [
      "5\n",
      "0\n",
      "0\n",
      "0\n"
     ]
    }
   ],
   "source": [
    "# 단축평가 \n",
    "# and 시작이 T면 뒤에 프린트 / 시작이 F면 앞에 프린트\n",
    "print(3 and 5)\n",
    "print(3 and 0)\n",
    "print(0 and 5)\n",
    "print(0 and 0)"
   ]
  },
  {
   "cell_type": "code",
   "execution_count": 135,
   "id": "3511582a-ad8c-41f6-92c7-796f2abb6d90",
   "metadata": {},
   "outputs": [
    {
     "name": "stdout",
     "output_type": "stream",
     "text": [
      "3\n",
      "3\n",
      "5\n",
      "0\n"
     ]
    }
   ],
   "source": [
    "# or 시작이 T면 앞에 프린트 / 시작이 F면 뒤에 프린트\n",
    "print(3 or 5)\n",
    "print(3 or 0)\n",
    "print(0 or 5)\n",
    "print(0 or 0)"
   ]
  },
  {
   "cell_type": "markdown",
   "id": "dc533fe1-c15d-43c1-9884-6556719c59fd",
   "metadata": {},
   "source": [
    "## 2.4 복합 연산자"
   ]
  },
  {
   "cell_type": "code",
   "execution_count": 137,
   "id": "e18dc94a-1450-4971-90b9-66332f827d17",
   "metadata": {},
   "outputs": [],
   "source": [
    "a = 2\n",
    "b = 3"
   ]
  },
  {
   "cell_type": "code",
   "execution_count": 146,
   "id": "63cc3fd2-3d43-4080-8bb5-892193f3c33b",
   "metadata": {},
   "outputs": [],
   "source": [
    "a = a + b\n",
    "a = a - b\n",
    "a = a * b \n",
    "a = a / b"
   ]
  },
  {
   "cell_type": "code",
   "execution_count": 149,
   "id": "09de8235-4246-4628-b81b-1345c54a7e05",
   "metadata": {},
   "outputs": [
    {
     "data": {
      "text/plain": [
       "8.0"
      ]
     },
     "execution_count": 149,
     "metadata": {},
     "output_type": "execute_result"
    }
   ],
   "source": [
    "a += b\n",
    "a -= b\n",
    "a *= b\n",
    "a /= b\n",
    "a // b\n",
    "a %= b\n",
    "a ** b"
   ]
  },
  {
   "cell_type": "code",
   "execution_count": 153,
   "id": "95efe566-9d42-4e3b-9252-9e1e55053167",
   "metadata": {},
   "outputs": [
    {
     "data": {
      "text/plain": [
       "2.0"
      ]
     },
     "execution_count": 153,
     "metadata": {},
     "output_type": "execute_result"
    }
   ],
   "source": [
    "a"
   ]
  },
  {
   "cell_type": "markdown",
   "id": "e31d0288-8118-4c2f-88a6-d94f6b4bde6a",
   "metadata": {},
   "source": [
    "## 2.5 기타연산자"
   ]
  },
  {
   "cell_type": "code",
   "execution_count": 156,
   "id": "0d227285-0cbf-41ea-b4d4-e5e2e19f4e65",
   "metadata": {},
   "outputs": [],
   "source": [
    "a = 'hi'\n",
    "b = 'hello'"
   ]
  },
  {
   "cell_type": "code",
   "execution_count": 162,
   "id": "345ef3ee-80fb-4a1f-9f9c-0cad315b1d6a",
   "metadata": {},
   "outputs": [
    {
     "name": "stdout",
     "output_type": "stream",
     "text": [
      "hihello\n"
     ]
    },
    {
     "ename": "TypeError",
     "evalue": "unsupported operand type(s) for +: 'int' and 'str'",
     "output_type": "error",
     "traceback": [
      "\u001b[1;31m---------------------------------------------------------------------------\u001b[0m",
      "\u001b[1;31mTypeError\u001b[0m                                 Traceback (most recent call last)",
      "Cell \u001b[1;32mIn[162], line 3\u001b[0m\n\u001b[0;32m      1\u001b[0m \u001b[38;5;66;03m# concatenation \u001b[39;00m\n\u001b[0;32m      2\u001b[0m \u001b[38;5;28mprint\u001b[39m(a \u001b[38;5;241m+\u001b[39m b)\n\u001b[1;32m----> 3\u001b[0m \u001b[38;5;28mprint\u001b[39m(\u001b[38;5;241;43m1\u001b[39;49m\u001b[43m \u001b[49m\u001b[38;5;241;43m+\u001b[39;49m\u001b[43m \u001b[49m\u001b[43mb\u001b[49m)\n",
      "\u001b[1;31mTypeError\u001b[0m: unsupported operand type(s) for +: 'int' and 'str'"
     ]
    }
   ],
   "source": [
    "# concatenation \n",
    "print(a + b)\n",
    "print(1 + b)"
   ]
  },
  {
   "cell_type": "code",
   "execution_count": 163,
   "id": "4797388d-2b38-4ae7-9758-4ce0bfd19ebe",
   "metadata": {},
   "outputs": [],
   "source": [
    "a = [1,2,3]\n",
    "b = [2,3,4]"
   ]
  },
  {
   "cell_type": "code",
   "execution_count": 164,
   "id": "9186d766-0955-45e4-8abb-1e52e749632b",
   "metadata": {},
   "outputs": [
    {
     "name": "stdout",
     "output_type": "stream",
     "text": [
      "[1, 2, 3, 2, 3, 4]\n"
     ]
    }
   ],
   "source": [
    "print(a + b)"
   ]
  },
  {
   "cell_type": "code",
   "execution_count": 166,
   "id": "7bcc5920-95c2-4fcc-86e6-d6c06106d082",
   "metadata": {},
   "outputs": [
    {
     "name": "stdout",
     "output_type": "stream",
     "text": [
      "True\n"
     ]
    }
   ],
   "source": [
    "print(1 in a)"
   ]
  },
  {
   "cell_type": "code",
   "execution_count": 168,
   "id": "210d5d46-132f-4ea8-a55a-d47c9c6c743e",
   "metadata": {},
   "outputs": [
    {
     "name": "stdout",
     "output_type": "stream",
     "text": [
      "False\n"
     ]
    }
   ],
   "source": [
    "print(7 in a)"
   ]
  },
  {
   "cell_type": "code",
   "execution_count": 173,
   "id": "c3cb4b80-28f8-41a2-b404-21678fdabbe7",
   "metadata": {},
   "outputs": [],
   "source": [
    "a = 100\n",
    "b = 100"
   ]
  },
  {
   "cell_type": "code",
   "execution_count": 179,
   "id": "324fae43-f0ac-47b4-951c-803d575c52d9",
   "metadata": {},
   "outputs": [
    {
     "name": "stdout",
     "output_type": "stream",
     "text": [
      "True\n",
      "True\n"
     ]
    }
   ],
   "source": [
    "# == is는 비슷하지만 다름. / 256까지는 == , is와 같다고 봄. but, 그 이후는 다르다고 판단. \n",
    "# == 값만 비교 / is 동일 여부 비교 (더 큰 범위)\n",
    "print(a == b)\n",
    "print(a is b)"
   ]
  },
  {
   "cell_type": "markdown",
   "id": "ec715655-c321-408b-a2fb-470676382ca8",
   "metadata": {},
   "source": [
    "### 연산자 우선순위\n",
    "\n",
    "0. ()를 통해서 그룹\n",
    "1. **\n",
    "2. 산술연산자(*,/)\n",
    "3. 산술연산자(+,-)\n",
    "4. 비교연산자,in,is\n",
    "5. not\n",
    "6. and\n",
    "7. or"
   ]
  },
  {
   "cell_type": "code",
   "execution_count": 185,
   "id": "8227ab65-928a-4002-981a-b3e2c97558de",
   "metadata": {},
   "outputs": [
    {
     "name": "stdout",
     "output_type": "stream",
     "text": [
      "-81\n",
      "81\n"
     ]
    }
   ],
   "source": [
    "print(-3 ** 4)\n",
    "print((-3) ** 4)"
   ]
  },
  {
   "cell_type": "markdown",
   "id": "0be9d435-5029-47c6-b51d-afb994dab477",
   "metadata": {},
   "source": [
    "# 형 변환"
   ]
  },
  {
   "cell_type": "markdown",
   "id": "1a47ba8e-50ba-4e6b-bc28-b2b204f057ca",
   "metadata": {},
   "source": [
    "## 3.1 암시적 형변환"
   ]
  },
  {
   "cell_type": "code",
   "execution_count": 192,
   "id": "5326540e-d5a4-4a13-8b11-b6a2951863e3",
   "metadata": {},
   "outputs": [],
   "source": [
    "a = True\n",
    "b = False\n",
    "c = 1"
   ]
  },
  {
   "cell_type": "code",
   "execution_count": 190,
   "id": "965a6ed2-4f08-4a4a-8010-0a37683079aa",
   "metadata": {},
   "outputs": [
    {
     "name": "stdout",
     "output_type": "stream",
     "text": [
      "1\n",
      "2\n"
     ]
    }
   ],
   "source": [
    "print(a + b)\n",
    "print(a + c)"
   ]
  },
  {
   "cell_type": "code",
   "execution_count": 194,
   "id": "d8379d02-5f5f-4769-83a6-d5981e6e44ca",
   "metadata": {},
   "outputs": [
    {
     "name": "stdout",
     "output_type": "stream",
     "text": [
      "hello\n"
     ]
    }
   ],
   "source": [
    "if 1:\n",
    "    print('hello')"
   ]
  },
  {
   "cell_type": "markdown",
   "id": "84e73796-5af3-403c-9663-ca2dd41d9849",
   "metadata": {},
   "source": [
    "## 3.2 명시적 형변환\n",
    "- int() #정수\n",
    "- float() #소수\n",
    "- str() #문자형\n",
    "- bool() #True or False"
   ]
  },
  {
   "cell_type": "code",
   "execution_count": 203,
   "id": "cba6998b-29a2-47f7-8a33-d5910507af77",
   "metadata": {},
   "outputs": [],
   "source": [
    "a = 1\n",
    "b = '반'"
   ]
  },
  {
   "cell_type": "code",
   "execution_count": 202,
   "id": "0c7ffef6-4e74-44b4-81ba-6145a2a24812",
   "metadata": {},
   "outputs": [
    {
     "name": "stdout",
     "output_type": "stream",
     "text": [
      "1반\n"
     ]
    }
   ],
   "source": [
    "print(a + b)"
   ]
  },
  {
   "cell_type": "code",
   "execution_count": 204,
   "id": "0afeae04-6d58-4734-9224-c1f47bf8e89e",
   "metadata": {},
   "outputs": [
    {
     "name": "stdout",
     "output_type": "stream",
     "text": [
      "1반\n"
     ]
    }
   ],
   "source": [
    "print(str(1) + b)"
   ]
  },
  {
   "cell_type": "code",
   "execution_count": 206,
   "id": "3d353418-8c52-4bf0-a317-3c05527e0301",
   "metadata": {},
   "outputs": [
    {
     "name": "stdout",
     "output_type": "stream",
     "text": [
      "3\n"
     ]
    }
   ],
   "source": [
    "a = '3'\n",
    "print(a)"
   ]
  },
  {
   "cell_type": "code",
   "execution_count": 211,
   "id": "adc2a923-decb-49ba-8363-9a5256147fd3",
   "metadata": {},
   "outputs": [
    {
     "name": "stdout",
     "output_type": "stream",
     "text": [
      "<class 'str'>\n",
      "3\n",
      "3\n",
      "<class 'int'>\n"
     ]
    }
   ],
   "source": [
    "print(type(a))\n",
    "print(int(a))\n",
    "\n",
    "b = int(a)\n",
    "print(b)\n",
    "print(type(b))"
   ]
  },
  {
   "cell_type": "code",
   "execution_count": 215,
   "id": "c192754f-3047-42ea-913e-98ba0f7773db",
   "metadata": {},
   "outputs": [
    {
     "ename": "ValueError",
     "evalue": "invalid literal for int() with base 10: 'apple'",
     "output_type": "error",
     "traceback": [
      "\u001b[1;31m---------------------------------------------------------------------------\u001b[0m",
      "\u001b[1;31mValueError\u001b[0m                                Traceback (most recent call last)",
      "Cell \u001b[1;32mIn[215], line 3\u001b[0m\n\u001b[0;32m      1\u001b[0m \u001b[38;5;66;03m#apple은 int형태로 바꿀 수 없기에 오류\u001b[39;00m\n\u001b[0;32m      2\u001b[0m c \u001b[38;5;241m=\u001b[39m \u001b[38;5;124m'\u001b[39m\u001b[38;5;124mapple\u001b[39m\u001b[38;5;124m'\u001b[39m\n\u001b[1;32m----> 3\u001b[0m d \u001b[38;5;241m=\u001b[39m \u001b[38;5;28;43mint\u001b[39;49m\u001b[43m(\u001b[49m\u001b[43mc\u001b[49m\u001b[43m)\u001b[49m\n",
      "\u001b[1;31mValueError\u001b[0m: invalid literal for int() with base 10: 'apple'"
     ]
    }
   ],
   "source": [
    "#apple은 int형태로 바꿀 수 없기에 오류\n",
    "c = 'apple'\n",
    "d = int(c)"
   ]
  },
  {
   "cell_type": "code",
   "execution_count": 218,
   "id": "2f30c5d2-e489-456f-afe6-b79190014317",
   "metadata": {},
   "outputs": [
    {
     "name": "stdout",
     "output_type": "stream",
     "text": [
      "True\n",
      "False\n",
      "True\n"
     ]
    }
   ],
   "source": [
    "#0만 False, 나머지 True\n",
    "a = 1\n",
    "b = 0\n",
    "c = 123\n",
    "print(bool(a))\n",
    "print(bool(b))\n",
    "print(bool(c))"
   ]
  },
  {
   "cell_type": "code",
   "execution_count": 221,
   "id": "025132ac-ea5b-4998-9ffc-d8bfe665f611",
   "metadata": {},
   "outputs": [
    {
     "name": "stdout",
     "output_type": "stream",
     "text": [
      "False\n",
      "True\n"
     ]
    }
   ],
   "source": [
    "#데이터가 리스트에 하나라도 들어있다면 True로 인지 / 리스트가 비워져있으면 False로 프린트\n",
    "print(bool([]))\n",
    "print(bool([1,2,3]))"
   ]
  },
  {
   "cell_type": "code",
   "execution_count": 1,
   "id": "40218f85-8f05-4374-b19c-1e5c9ec7df23",
   "metadata": {},
   "outputs": [],
   "source": [
    "# 주피터는 실행하는 순서 중요! \n",
    "# 값이 다르게 나올경우 다시 시작 kenel -> clear output 선택"
   ]
  },
  {
   "cell_type": "markdown",
   "id": "903be9ae-de3b-4ced-b688-6e2b4fb99f1a",
   "metadata": {},
   "source": [
    "# 4. 시퀀스 자료형\n",
    "- 시퀀스는 데이터의 **순서대로** 나열된 자료구조 (순서대로 나열되었다는 것 != 정렬된것)\n",
    "- 시퀀스는 모두 []대괄호로 인덱스 접근함!\n",
    "- 1. list \n",
    "- 2. tuple\n",
    "  3. range\n",
    "  4. string"
   ]
  },
  {
   "cell_type": "markdown",
   "id": "c9b89881-f7b4-4a07-b2b1-c190f2f8e426",
   "metadata": {},
   "source": [
    "## 4.1 list (리스트, 배열)\n",
    "- 선언 : `var_name = [value1, vulue2, vulue3, ...]` # value : 모두 들어갈 수 있음.\n",
    "- 접근 : `var_name[index] #index는 0부터는 시작"
   ]
  },
  {
   "cell_type": "code",
   "execution_count": 4,
   "id": "180a2af5-db64-4680-8710-34fd1170d762",
   "metadata": {},
   "outputs": [
    {
     "name": "stdout",
     "output_type": "stream",
     "text": [
      "[]\n",
      "<class 'list'>\n"
     ]
    }
   ],
   "source": [
    "l = []\n",
    "print(l)\n",
    "print(type(l))"
   ]
  },
  {
   "cell_type": "code",
   "execution_count": 17,
   "id": "18173dbb-057d-4b34-a10a-81ad50805377",
   "metadata": {},
   "outputs": [
    {
     "name": "stdout",
     "output_type": "stream",
     "text": [
      "['서울', '부산', '대전']\n",
      "서울\n",
      "['서울', '부산', '대구']\n"
     ]
    }
   ],
   "source": [
    "location = ['서울', '부산', '대전']\n",
    "print(location)\n",
    "print(location[0]) \n",
    "#내가 가진 범위안에서만 불러올 수 있음.\n",
    "\n",
    "location[2] = '대구'\n",
    "print(location)"
   ]
  },
  {
   "cell_type": "markdown",
   "id": "42cb19be-40d8-49a0-9c33-283526286b0e",
   "metadata": {},
   "source": [
    "## 4.2 tuple (튜플)\n",
    "- 선언 : var_name = (value1, value2, value3, ...)\n",
    "- 접근 : var_name[index]\n",
    "- 수정불가능하다(immutable)"
   ]
  },
  {
   "cell_type": "code",
   "execution_count": 18,
   "id": "a2841263-7128-4767-ab74-f33f6383827b",
   "metadata": {},
   "outputs": [
    {
     "name": "stdout",
     "output_type": "stream",
     "text": [
      "('서울', '대전', '대구')\n",
      "서울\n"
     ]
    }
   ],
   "source": [
    "location = ('서울', '대전', '대구')\n",
    "print(location)\n",
    "print(location[0])"
   ]
  },
  {
   "cell_type": "code",
   "execution_count": 22,
   "id": "42b9afbf-e47c-45cc-a593-0e603ac53cde",
   "metadata": {},
   "outputs": [
    {
     "ename": "TypeError",
     "evalue": "'tuple' object does not support item assignment",
     "output_type": "error",
     "traceback": [
      "\u001b[1;31m---------------------------------------------------------------------------\u001b[0m",
      "\u001b[1;31mTypeError\u001b[0m                                 Traceback (most recent call last)",
      "Cell \u001b[1;32mIn[22], line 2\u001b[0m\n\u001b[0;32m      1\u001b[0m \u001b[38;5;66;03m#tuple은 수정 불가능 (한번 만들면 고정값을 가져 바꿀 수 없음.)\u001b[39;00m\n\u001b[1;32m----> 2\u001b[0m \u001b[43mlocation\u001b[49m\u001b[43m[\u001b[49m\u001b[38;5;241;43m2\u001b[39;49m\u001b[43m]\u001b[49m \u001b[38;5;241m=\u001b[39m \u001b[38;5;124m'\u001b[39m\u001b[38;5;124m부산\u001b[39m\u001b[38;5;124m'\u001b[39m\n",
      "\u001b[1;31mTypeError\u001b[0m: 'tuple' object does not support item assignment"
     ]
    }
   ],
   "source": [
    "#tuple은 수정 불가능 (한번 만들면 고정값을 가져 바꿀 수 없음.)\n",
    "location[2] = '부산'"
   ]
  },
  {
   "cell_type": "code",
   "execution_count": 27,
   "id": "4ef81bc7-c6ad-4b3e-b51e-3061985cd8ff",
   "metadata": {},
   "outputs": [
    {
     "name": "stdout",
     "output_type": "stream",
     "text": [
      "(2, 1)\n",
      "<class 'NoneType'>\n"
     ]
    }
   ],
   "source": [
    "result = print(divmod(5,2))\n",
    "print(type(result))"
   ]
  },
  {
   "cell_type": "code",
   "execution_count": 29,
   "id": "4e3da18a-3f9e-40c3-b97c-7ddd9b0980eb",
   "metadata": {},
   "outputs": [
    {
     "name": "stdout",
     "output_type": "stream",
     "text": [
      "2 1\n"
     ]
    }
   ],
   "source": [
    "x = 1\n",
    "y = 2 \n",
    "\n",
    "(x,y) = (y,x)\n",
    "print(x,y)"
   ]
  },
  {
   "cell_type": "markdown",
   "id": "f1723d6d-c0a8-4f02-a4d5-018bd9c300bd",
   "metadata": {},
   "source": [
    "## 4.3 Range \n",
    "- range(n) : 0부터 n-1까지의 범위 (0<=range<n)\n",
    "- range(n,m) : n부터 n-1까지의 범위\n",
    "- range(n,m,s) : n부터 m-1까지 s만큼 증가하는 범위"
   ]
  },
  {
   "cell_type": "code",
   "execution_count": 33,
   "id": "ae2e8134-d5eb-46ab-9513-53aa7e335076",
   "metadata": {},
   "outputs": [
    {
     "name": "stdout",
     "output_type": "stream",
     "text": [
      "range(0, 45)\n",
      "[0, 1, 2, 3, 4, 5, 6, 7, 8, 9, 10, 11, 12, 13, 14, 15, 16, 17, 18, 19, 20, 21, 22, 23, 24, 25, 26, 27, 28, 29, 30, 31, 32, 33, 34, 35, 36, 37, 38, 39, 40, 41, 42, 43, 44]\n"
     ]
    }
   ],
   "source": [
    "lotto = range(45)\n",
    "print(lotto)\n",
    "\n",
    "# list는 range의 모든 값을 보여줌 (0부터 ~ 44까지)\n",
    "print(list(lotto))\n"
   ]
  },
  {
   "cell_type": "code",
   "execution_count": 35,
   "id": "dbc586e7-986e-4539-8d1b-90f990053558",
   "metadata": {},
   "outputs": [
    {
     "name": "stdout",
     "output_type": "stream",
     "text": [
      "range(1, 46)\n",
      "[1, 2, 3, 4, 5, 6, 7, 8, 9, 10, 11, 12, 13, 14, 15, 16, 17, 18, 19, 20, 21, 22, 23, 24, 25, 26, 27, 28, 29, 30, 31, 32, 33, 34, 35, 36, 37, 38, 39, 40, 41, 42, 43, 44, 45]\n"
     ]
    }
   ],
   "source": [
    "lotto = range(1,46)\n",
    "print(lotto)\n",
    "\n",
    "print(list(lotto))"
   ]
  },
  {
   "cell_type": "code",
   "execution_count": 39,
   "id": "705b0256-00a9-4648-b1be-7998df0e015c",
   "metadata": {},
   "outputs": [
    {
     "name": "stdout",
     "output_type": "stream",
     "text": [
      "[2, 4, 6, 8, 10, 12, 14, 16, 18, 20]\n"
     ]
    }
   ],
   "source": [
    "even = range(2,21,2)\n",
    "print(list(even))"
   ]
  },
  {
   "cell_type": "code",
   "execution_count": 42,
   "id": "b38adc70-9c85-4f93-ba00-ec6032a3349f",
   "metadata": {},
   "outputs": [
    {
     "name": "stdout",
     "output_type": "stream",
     "text": [
      "[0, -2, -4, -6, -8, -10, -12, -14, -16, -18, -20]\n"
     ]
    }
   ],
   "source": [
    "numbers = range(0, -21, -2)\n",
    "print(list(numbers))"
   ]
  },
  {
   "cell_type": "markdown",
   "id": "b50eb282-c06b-42a7-9c3a-b4e2d6182fde",
   "metadata": {},
   "source": [
    "## 4.4 string\n",
    "- 기본 데이터 구조 참고\n",
    "- string은 단일 "
   ]
  },
  {
   "cell_type": "code",
   "execution_count": 44,
   "id": "2de8fe0e-1545-4f55-9545-d91497f44264",
   "metadata": {},
   "outputs": [
    {
     "name": "stdout",
     "output_type": "stream",
     "text": [
      "a\n"
     ]
    }
   ],
   "source": [
    "s = 'hi my name is chang'\n",
    "print(s[7])"
   ]
  },
  {
   "cell_type": "markdown",
   "id": "29256365-9e68-40ce-ac83-a310ae245cd3",
   "metadata": {},
   "source": [
    "## 4.5 시퀀스에서 활용가능한 연산 / 함수 "
   ]
  },
  {
   "cell_type": "code",
   "execution_count": 52,
   "id": "3683d9ed-1095-4c15-93d3-f6ebb0e8f0dc",
   "metadata": {},
   "outputs": [],
   "source": [
    "my_list = ['a','b','c','d','e']\n",
    "my_tuple = (6,7,8,9,10)\n",
    "my_range = range(5)\n",
    "my_string = '가나다라마'"
   ]
  },
  {
   "cell_type": "code",
   "execution_count": 53,
   "id": "776ddee3-a1e9-4907-b7d8-349f0063f281",
   "metadata": {},
   "outputs": [
    {
     "name": "stdout",
     "output_type": "stream",
     "text": [
      "a\n",
      "6\n",
      "0\n",
      "가\n"
     ]
    }
   ],
   "source": [
    "# indexing\n",
    "print(my_list[0])\n",
    "print(my_tuple[0])\n",
    "print(my_range[0])\n",
    "print(my_string[0])"
   ]
  },
  {
   "cell_type": "code",
   "execution_count": 59,
   "id": "8d8c3967-a079-47c8-9b4e-ba3eeb914e10",
   "metadata": {},
   "outputs": [
    {
     "name": "stdout",
     "output_type": "stream",
     "text": [
      "['a', 'b', 'c', 'd', 'e']\n",
      "(6, 7, 8, 9, 10)\n",
      "range(0, 5)\n",
      "가나다라마\n"
     ]
    }
   ],
   "source": [
    "#slicing : 0부터 n-1까지 출력\n",
    "#var_name[index1:index2]\n",
    "print(my_list[0:5])\n",
    "print(my_tuple[0:5])\n",
    "print(my_range[0:5])\n",
    "print(my_string[0:5])\n",
    "\n"
   ]
  },
  {
   "cell_type": "code",
   "execution_count": 66,
   "id": "978dfedd-64b2-44c3-86a1-19959a9e1c02",
   "metadata": {},
   "outputs": [
    {
     "name": "stdout",
     "output_type": "stream",
     "text": [
      "['d', 'e']\n",
      "['a', 'b', 'c']\n"
     ]
    }
   ],
   "source": [
    "# 인덱스 생략 ( ~ 끝까지)\n",
    "print(my_list[3:])\n",
    "print(my_list[:3])"
   ]
  },
  {
   "cell_type": "code",
   "execution_count": 68,
   "id": "5ec45a43-c48c-411f-a973-a9e715e52578",
   "metadata": {},
   "outputs": [
    {
     "name": "stdout",
     "output_type": "stream",
     "text": [
      "e\n",
      "['c', 'd']\n"
     ]
    }
   ],
   "source": [
    "# 음수 인덱스 (파이썬에서만 가능)\n",
    "print(my_list[-1])\n",
    "print(my_list[-3:-1])"
   ]
  },
  {
   "cell_type": "code",
   "execution_count": 72,
   "id": "bff646dd-beaf-4c21-9685-bb10b5055cbe",
   "metadata": {},
   "outputs": [
    {
     "name": "stdout",
     "output_type": "stream",
     "text": [
      "['a', 'c', 'e']\n"
     ]
    }
   ],
   "source": [
    "# step\n",
    "print(my_list[::2])"
   ]
  },
  {
   "cell_type": "code",
   "execution_count": 77,
   "id": "64223f33-5915-44bd-874d-2e318a42efb8",
   "metadata": {},
   "outputs": [
    {
     "name": "stdout",
     "output_type": "stream",
     "text": [
      "False\n",
      "True\n"
     ]
    }
   ],
   "source": [
    "# in / not in\n",
    "print(1 in my_list)\n",
    "print('a' in my_list)"
   ]
  },
  {
   "cell_type": "code",
   "execution_count": 79,
   "id": "742f9d26-44a7-4ee3-b467-de0da647fd7b",
   "metadata": {},
   "outputs": [
    {
     "name": "stdout",
     "output_type": "stream",
     "text": [
      "False\n",
      "True\n"
     ]
    }
   ],
   "source": [
    "print('a' not in my_list)\n",
    "print('z' not in my_list)"
   ]
  },
  {
   "cell_type": "code",
   "execution_count": 87,
   "id": "c8cec303-8776-4551-8d1d-b2a8ad4caea6",
   "metadata": {},
   "outputs": [
    {
     "name": "stdout",
     "output_type": "stream",
     "text": [
      "['a', 'b', 'c', 'd', 'e', 1, 2, 3, 4, 5]\n",
      "(6, 7, 8, 9, 10, 1, 2, 3)\n"
     ]
    }
   ],
   "source": [
    "# concatennation (같은 것끼리만 연결 가능)\n",
    "print(my_list + [1,2,3,4,5])\n",
    "print(my_tuple + (1,2,3))"
   ]
  },
  {
   "cell_type": "code",
   "execution_count": 98,
   "id": "30bb0df0-2c6e-4b3d-b14c-58cac63f2178",
   "metadata": {},
   "outputs": [
    {
     "name": "stdout",
     "output_type": "stream",
     "text": [
      "['a', 'b', 'c', 'd', 'e', 'a', 'b', 'c', 'd', 'e']\n",
      "aaaaa\n",
      "[0, 0, 0, 0, 0, 0, 0, 0, 0, 0, 0, 0, 0, 0, 0, 0, 0, 0, 0, 0, 0, 0, 0, 0, 0, 0, 0, 0, 0, 0, 0, 0, 0, 0, 0, 0, 0, 0, 0, 0, 0, 0, 0, 0, 0, 0, 0, 0, 0, 0]\n"
     ]
    }
   ],
   "source": [
    "# * (곱하기)\n",
    "print(my_list * 2)\n",
    "print('a' * 5)\n",
    "\n",
    "# [0,0,0,0,0,0,0,0]\n",
    "print([0] * 50)"
   ]
  },
  {
   "cell_type": "code",
   "execution_count": 102,
   "id": "c6c68cda-82b3-408b-b0c9-df7c1dae380b",
   "metadata": {},
   "outputs": [
    {
     "data": {
      "text/plain": [
       "5"
      ]
     },
     "execution_count": 102,
     "metadata": {},
     "output_type": "execute_result"
    }
   ],
   "source": [
    "#len 길이(몇개인지)\n",
    "len(my_list)"
   ]
  },
  {
   "cell_type": "code",
   "execution_count": 104,
   "id": "78ff5e4c-2fd9-4812-bdb7-beb0a7a0362a",
   "metadata": {},
   "outputs": [
    {
     "data": {
      "text/plain": [
       "'e'"
      ]
     },
     "execution_count": 104,
     "metadata": {},
     "output_type": "execute_result"
    }
   ],
   "source": [
    "max(my_list)"
   ]
  },
  {
   "cell_type": "code",
   "execution_count": 106,
   "id": "b22bd1a8-8759-4910-8d94-d7cf4a531c79",
   "metadata": {},
   "outputs": [
    {
     "data": {
      "text/plain": [
       "'a'"
      ]
     },
     "execution_count": 106,
     "metadata": {},
     "output_type": "execute_result"
    }
   ],
   "source": [
    "min(my_list)"
   ]
  },
  {
   "cell_type": "markdown",
   "id": "933afcf3-9ef1-4b2b-950b-d978e38b8d7f",
   "metadata": {},
   "source": [
    "# 시퀀스형이 아닌 자료구조"
   ]
  },
  {
   "cell_type": "markdown",
   "id": "11061f6f-1838-4b55-86dc-d465b7b262d9",
   "metadata": {},
   "source": [
    "## 5.1 set\n",
    "- 수학에서의 집합과 비슷한 개념 (중복값이 없음 / 고유한 하나의 값만 존재 !)\n",
    "\n",
    "- 선언 : var_name = {value1, value2, value3, ...}"
   ]
  },
  {
   "cell_type": "code",
   "execution_count": 108,
   "id": "588d04ad-b6b3-48aa-a6af-ecc9f0613201",
   "metadata": {},
   "outputs": [],
   "source": [
    "my_set_a = {1,2,3,4,5}\n",
    "my_set_b = {1,3,5,7,9}"
   ]
  },
  {
   "cell_type": "code",
   "execution_count": 110,
   "id": "dcf95bb9-de7f-4fc4-bcc1-85858403e0f6",
   "metadata": {},
   "outputs": [
    {
     "name": "stdout",
     "output_type": "stream",
     "text": [
      "{1, 2, 3, 4, 5}\n",
      "{1, 3, 5, 7, 9}\n"
     ]
    }
   ],
   "source": [
    "print(my_set_a)\n",
    "print(my_set_b)"
   ]
  },
  {
   "cell_type": "code",
   "execution_count": 116,
   "id": "37054355-d3f0-40e1-a5ff-6da299c5e4c4",
   "metadata": {},
   "outputs": [
    {
     "name": "stdout",
     "output_type": "stream",
     "text": [
      "{2, 4}\n",
      "{1, 2, 3, 4, 5, 7, 9}\n",
      "{1, 3, 5}\n"
     ]
    }
   ],
   "source": [
    "# set \n",
    "# - : a 집합에서 b 집합을 뺀 형태\n",
    "# | : a 집합에서 b 집합을 더한 형태\n",
    "# & : a 집합과 b 집합의 공통된 값만 뽑아냄.\n",
    "print(my_set_a - my_set_b)\n",
    "print(my_set_a | my_set_b)\n",
    "print(my_set_a & my_set_b)"
   ]
  },
  {
   "cell_type": "code",
   "execution_count": 119,
   "id": "bd4e968f-9206-41b8-9bee-8b1f02489f7d",
   "metadata": {},
   "outputs": [
    {
     "name": "stdout",
     "output_type": "stream",
     "text": [
      "{'대구', '서울', '대전'}\n"
     ]
    }
   ],
   "source": [
    "location = ['서울', '대전', '대구','서울', '대전', '대구']\n",
    "print(set(location))"
   ]
  },
  {
   "cell_type": "markdown",
   "id": "e73bd108-c345-4744-9ad6-33dd1f9fec78",
   "metadata": {},
   "source": [
    "## 5.2 Dictionary\n",
    "- 선언 : `var_name = {key1: value1, key2: value2, key3: value3,...}`\n",
    "- 접근 : `var_name[key]`"
   ]
  },
  {
   "cell_type": "code",
   "execution_count": 127,
   "id": "25537c0c-1cc8-43b6-bc14-ca0f3fd1a48e",
   "metadata": {},
   "outputs": [
    {
     "name": "stdout",
     "output_type": "stream",
     "text": [
      "02\n"
     ]
    }
   ],
   "source": [
    "my_dict = {'서울': '02', '경기': '031'}\n",
    "print(my_dict['서울'])"
   ]
  },
  {
   "cell_type": "code",
   "execution_count": 129,
   "id": "ec361012-5fd0-4fc7-8704-a1a2b43515f7",
   "metadata": {},
   "outputs": [],
   "source": [
    "my_info = {\n",
    "    'name': 'yunseo', \n",
    "    'location': 'seoul', \n",
    "    'age': 23, \n",
    "    'skill': ['python', 'git']\n",
    "}"
   ]
  },
  {
   "cell_type": "code",
   "execution_count": 139,
   "id": "66d50b37-9491-400a-bc7d-95efac51db40",
   "metadata": {},
   "outputs": [
    {
     "name": "stdout",
     "output_type": "stream",
     "text": [
      "seoul\n",
      "23\n",
      "python\n"
     ]
    }
   ],
   "source": [
    "print(my_info['location'])\n",
    "print(my_info['age'])\n",
    "print(my_info['skill'][0])"
   ]
  },
  {
   "cell_type": "markdown",
   "id": "dc4f7c3d-e6bb-4f4e-840e-e909807b8770",
   "metadata": {},
   "source": [
    "**데이터 타입**\n",
    "- number\n",
    "- boolean\n",
    "- string\n",
    "\n",
    "**자료구조**\n",
    "- 시퀀스\n",
    "1. [list] : mutable\n",
    "2. (tuple) : immutable\n",
    "3. range() : immutable\n",
    "4, 'string' : immutable\n",
    "\n",
    "- 시퀀스가 아닌 것 \n",
    "1. {Set} : mutable\n",
    "2. {Dict ignary} : mutable"
   ]
  },
  {
   "cell_type": "code",
   "execution_count": null,
   "id": "1fab03b1-97e6-4c85-9ebd-63835c0b12be",
   "metadata": {},
   "outputs": [],
   "source": []
  }
 ],
 "metadata": {
  "kernelspec": {
   "display_name": "Python 3 (ipykernel)",
   "language": "python",
   "name": "python3"
  },
  "language_info": {
   "codemirror_mode": {
    "name": "ipython",
    "version": 3
   },
   "file_extension": ".py",
   "mimetype": "text/x-python",
   "name": "python",
   "nbconvert_exporter": "python",
   "pygments_lexer": "ipython3",
   "version": "3.13.2"
  }
 },
 "nbformat": 4,
 "nbformat_minor": 5
}
