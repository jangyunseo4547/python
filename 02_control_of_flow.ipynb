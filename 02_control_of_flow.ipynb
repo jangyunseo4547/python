{
 "cells": [
  {
   "cell_type": "markdown",
   "id": "b05640fb-ff36-4023-9537-616dcf4a6249",
   "metadata": {},
   "source": [
    "## 조건문 (if문)\n",
    "\n",
    "1. if문은 반드시 참/거짓을 판단할 수 있는 `조건식`과 함께 사용한다.\n",
    "   - `if<조건식>:`\n",
    "2. `<조건식>` 참인 경우 : `:`이후의 문장을 실행\n",
    "3. `<조건식>` 거짓인 경우 : `else:` 이후의 문장을 실행\n",
    "\n",
    "```\n",
    "if <조건식>:\n",
    "    if의 조건식이 참인 경우 실행하는 코드\n",
    "else:\n",
    "    if의 조건식이 거짓인 경우 실행하는 코드\n",
    "```"
   ]
  },
  {
   "cell_type": "code",
   "execution_count": 143,
   "id": "0634648d-6c27-4205-977d-407310d8dede",
   "metadata": {},
   "outputs": [
    {
     "name": "stdin",
     "output_type": "stream",
     "text": [
      " 12/12\n"
     ]
    },
    {
     "name": "stdout",
     "output_type": "stream",
     "text": [
      "12/12\n",
      "no\n"
     ]
    }
   ],
   "source": [
    "#외부의 데이터를 받아볼 때 사용자가 입력 :input : 숫자로 인지 ! \n",
    "# 크리스마스일때 출력 / 아닐경우 no출력\n",
    "\n",
    "my_string = input()\n",
    "print(my_string)\n",
    "\n",
    "if my_string == '12/25':\n",
    "    print('merry christmas!')\n",
    "else:\n",
    "    print('no')"
   ]
  },
  {
   "cell_type": "code",
   "execution_count": 145,
   "id": "9abe93be-8534-4579-860d-d58b3529b11d",
   "metadata": {},
   "outputs": [
    {
     "name": "stdin",
     "output_type": "stream",
     "text": [
      " 2\n"
     ]
    },
    {
     "name": "stdout",
     "output_type": "stream",
     "text": [
      "even\n"
     ]
    }
   ],
   "source": [
    "num = int(input())\n",
    "\n",
    "if num % 2 == 1:\n",
    "    print('odd')\n",
    "else:\n",
    "    print('even')"
   ]
  },
  {
   "cell_type": "code",
   "execution_count": 29,
   "id": "1f1c80fa-19d7-42ad-b9bc-b2c389f0a20d",
   "metadata": {},
   "outputs": [
    {
     "name": "stdin",
     "output_type": "stream",
     "text": [
      " 2\n"
     ]
    },
    {
     "name": "stdout",
     "output_type": "stream",
     "text": [
      "even\n"
     ]
    }
   ],
   "source": [
    "num = int(input())\n",
    "\n",
    "if num % 2 == 0:\n",
    "    print('even')\n",
    "else:\n",
    "    print('odd')"
   ]
  },
  {
   "cell_type": "code",
   "execution_count": 158,
   "id": "6d13fede-b94d-47bd-b851-25d9eaaaf026",
   "metadata": {},
   "outputs": [
    {
     "name": "stdin",
     "output_type": "stream",
     "text": [
      " 1\n"
     ]
    },
    {
     "name": "stdout",
     "output_type": "stream",
     "text": [
      "odd\n"
     ]
    }
   ],
   "source": [
    "#2의 짝수가 아닌 것을 먼저 : 홀수(odd) / 2의 짝수 : even\n",
    "num = int(input())\n",
    "\n",
    "if num % 2:\n",
    "    print('odd')\n",
    "else:\n",
    "    print('even')"
   ]
  },
  {
   "cell_type": "code",
   "execution_count": 34,
   "id": "60e6fed2-e973-4c48-ba8e-01536ade47e2",
   "metadata": {},
   "outputs": [
    {
     "name": "stdin",
     "output_type": "stream",
     "text": [
      "5의 배수를 판단해드리겠습니다 100\n"
     ]
    },
    {
     "name": "stdout",
     "output_type": "stream",
     "text": [
      "yes\n"
     ]
    }
   ],
   "source": [
    "num = int(input('5의 배수를 판단해드리겠습니다'))\n",
    "\n",
    "if num % 5 == 0:\n",
    "    print('yes')\n",
    "else:\n",
    "    print('no')"
   ]
  },
  {
   "cell_type": "code",
   "execution_count": 38,
   "id": "0ce92a59-13ec-4337-8601-427e492263e3",
   "metadata": {},
   "outputs": [
    {
     "name": "stdin",
     "output_type": "stream",
     "text": [
      " 235\n"
     ]
    },
    {
     "name": "stdout",
     "output_type": "stream",
     "text": [
      "yes\n"
     ]
    }
   ],
   "source": [
    "num = int(input())\n",
    "\n",
    "# 5의 배수가 아닌 것 : 1,2,3,4\n",
    "if num % 5:\n",
    "    print('no')\n",
    "# 나머지가 0인 경우\n",
    "else:\n",
    "    print('yes')"
   ]
  },
  {
   "cell_type": "markdown",
   "id": "04489fac-a965-4d17-8294-7972afa8a2bc",
   "metadata": {},
   "source": [
    "- **초급 문제 (기본적인 if 문 활용)**\n",
    "\n",
    "`사용자로부터 나이를 입력받아 아래 조건에 따라 출력을 다르게 하는 프로그램을 작성하세요.`\n",
    "\n",
    "```\n",
    "7세 이하 → \"유아\" 출력\n",
    "8세 이상 19세 이하 → \"청소년\" 출력\n",
    "20세 이상 → \"성인\" 출력\n",
    "```"
   ]
  },
  {
   "cell_type": "code",
   "execution_count": 167,
   "id": "38a2a848-6727-441f-b624-d82428d36bb9",
   "metadata": {},
   "outputs": [
    {
     "name": "stdin",
     "output_type": "stream",
     "text": [
      " 25\n"
     ]
    },
    {
     "name": "stdout",
     "output_type": "stream",
     "text": [
      "성인\n"
     ]
    }
   ],
   "source": [
    "age = int(input())\n",
    "\n",
    "if age <= 7:\n",
    "    print('유아')\n",
    "\n",
    "elif 8 <= age <= 19:\n",
    "    print('청소년')\n",
    "\n",
    "else:\n",
    "    print('성인')"
   ]
  },
  {
   "cell_type": "markdown",
   "id": "6fe35477-5d24-4d14-b151-93fb8fa78f61",
   "metadata": {},
   "source": [
    "- **중급문제 (if-elif-else 활용)**\n",
    "`사용자로부터 세 개의 숫자를 입력받아 가장 큰 숫자를 출력하는 프로그램을 작성하세요.`\n",
    "\n",
    "```\n",
    "첫 번째 숫자: 7  \n",
    "두 번째 숫자: 2  \n",
    "세 번째 숫자: 5  \n",
    "출력: 가장 큰 숫자는 7입니다.\n",
    "```\n",
    "\n",
    "- 세가지 숫자 모두 같을 경우 `세가지 숫자 모두 같습니다` 출력"
   ]
  },
  {
   "cell_type": "code",
   "execution_count": 181,
   "id": "d1578ca7-3ea7-48e3-9f9c-8fcc44c78924",
   "metadata": {},
   "outputs": [
    {
     "name": "stdin",
     "output_type": "stream",
     "text": [
      " 45\n",
      " 89\n",
      " 15\n"
     ]
    },
    {
     "name": "stdout",
     "output_type": "stream",
     "text": [
      "가장 큰 숫자는 89입니다.\n"
     ]
    }
   ],
   "source": [
    "##### 3개의 숫자에 대해서 values를 설정해야 함.\n",
    "# 가장 큰 수에 대한 변수 설정해야 함.\n",
    "\n",
    "num1 = int(input())\n",
    "num2 = int(input())\n",
    "num3 = int(input())\n",
    "\n",
    "if num1 >= num2 and num1 >= num3:\n",
    "    max_num = num1\n",
    "elif num2 >= num1 and num2 >= num3:\n",
    "    max_num = num2\n",
    "else:\n",
    "    max_num = num3\n",
    "print(f'가장 큰 숫자는 {max_num}입니다.')"
   ]
  },
  {
   "cell_type": "code",
   "execution_count": 180,
   "id": "c5df8e9d-d9c2-4906-a98b-0c6d4c62a1d1",
   "metadata": {},
   "outputs": [
    {
     "name": "stdin",
     "output_type": "stream",
     "text": [
      " 45\n",
      " 26\n",
      " 78\n"
     ]
    },
    {
     "name": "stdout",
     "output_type": "stream",
     "text": [
      "가장 큰 숫자는 78입니다.\n"
     ]
    }
   ],
   "source": [
    "num1 = int(input())\n",
    "num2 = int(input())\n",
    "num3 = int(input())\n",
    "\n",
    "if num1 == num2 == num3:\n",
    "    print('모두 같습니다')\n",
    "\n",
    "else:\n",
    "    max_num =max(num1,num2,num3)\n",
    "    print(f'가장 큰 숫자는 {max_num}입니다.')"
   ]
  },
  {
   "cell_type": "markdown",
   "id": "4ff944af-44e9-4852-929b-f728e0ed3bc0",
   "metadata": {},
   "source": [
    "##### elif\n",
    "- 위에서부터 차근차근 계산 -> 다 맞지 않을 경우 else로 이동\n",
    "```\n",
    "if <조건식>:\n",
    "    참인 경우\n",
    "\n",
    "elif <조건식>:\n",
    "    elif문이 참인경우\n",
    "\n",
    "else:\n",
    "    위의 모든 조건식이 거짓인 경우\n",
    "```"
   ]
  },
  {
   "cell_type": "code",
   "execution_count": 53,
   "id": "2d14ef0a-4f26-4cd0-9efb-743daa106c8d",
   "metadata": {},
   "outputs": [
    {
     "name": "stdin",
     "output_type": "stream",
     "text": [
      " 90\n"
     ]
    },
    {
     "name": "stdout",
     "output_type": "stream",
     "text": [
      "A\n"
     ]
    }
   ],
   "source": [
    "score = int(input())\n",
    "\n",
    "if score >= 90: \n",
    "    print('A')\n",
    "    if score >=95:\n",
    "        print('good!!')\n",
    "elif score >= 80:\n",
    "    print('B')\n",
    "elif score >= 70:\n",
    "    print('C')\n",
    "else:\n",
    "    print('F')"
   ]
  },
  {
   "cell_type": "markdown",
   "id": "da1fd0f7-3b36-47ac-83d0-7aa483490218",
   "metadata": {},
   "source": [
    "### 조건 표현식\n",
    "\n",
    "- `true_value if <조건식> else false_value`"
   ]
  },
  {
   "cell_type": "code",
   "execution_count": 182,
   "id": "da913a38-eb4b-4549-b4c6-8ffb41493410",
   "metadata": {},
   "outputs": [
    {
     "name": "stdout",
     "output_type": "stream",
     "text": [
      "100\n"
     ]
    }
   ],
   "source": [
    "# if True: 는 항상 참(True) 이므로 else 부분은 절대 실행되지 않음\n",
    "# 따라서 a = 100 이 실행되고, print(a) 하면 100이 출력됨\n",
    "\n",
    "a = 0 \n",
    "if True:\n",
    "    a = 100\n",
    "else:\n",
    "    a = -100\n",
    "print(a)"
   ]
  },
  {
   "cell_type": "code",
   "execution_count": 201,
   "id": "3fefcd95-bc3b-4f58-99b5-f17949d7f873",
   "metadata": {},
   "outputs": [
    {
     "name": "stdout",
     "output_type": "stream",
     "text": [
      "100\n"
     ]
    }
   ],
   "source": [
    "# True_value if <조건식> else false_value\n",
    "a = -100 if False else 100\n",
    "print(a)"
   ]
  },
  {
   "cell_type": "code",
   "execution_count": 186,
   "id": "32fec025-873a-4442-8c6b-654f68810db7",
   "metadata": {},
   "outputs": [
    {
     "name": "stdout",
     "output_type": "stream",
     "text": [
      "100\n"
     ]
    }
   ],
   "source": [
    "a = 100 if True else -100\n",
    "print(a)"
   ]
  },
  {
   "cell_type": "code",
   "execution_count": 203,
   "id": "ed95be74-9cef-4494-8988-b6d388ef6d83",
   "metadata": {},
   "outputs": [
    {
     "name": "stdin",
     "output_type": "stream",
     "text": [
      " 15\n"
     ]
    },
    {
     "name": "stdout",
     "output_type": "stream",
     "text": [
      "15\n"
     ]
    }
   ],
   "source": [
    "# 양수일때 양수 출력, 그렇지 않으면 0 출력\n",
    "num = int(input())\n",
    "\n",
    "if num >= 0:\n",
    "    result = num\n",
    "else:\n",
    "    result = 0\n",
    "print(result)"
   ]
  },
  {
   "cell_type": "code",
   "execution_count": 204,
   "id": "5315a38e-ba23-4c3a-8d44-2e74ffc38686",
   "metadata": {},
   "outputs": [
    {
     "name": "stdout",
     "output_type": "stream",
     "text": [
      "15\n"
     ]
    }
   ],
   "source": [
    "#위 문제를 조건 표현식으로 표현\n",
    "#True_value if <조건식> else False_value\n",
    "\n",
    "num = 0 if False else num\n",
    "print(num)"
   ]
  },
  {
   "cell_type": "code",
   "execution_count": 211,
   "id": "a70aa380-2e47-4680-83d2-f64667650bd7",
   "metadata": {},
   "outputs": [
    {
     "name": "stdin",
     "output_type": "stream",
     "text": [
      " -15\n"
     ]
    },
    {
     "name": "stdout",
     "output_type": "stream",
     "text": [
      "0\n"
     ]
    }
   ],
   "source": [
    "#아래 식을 조건 표현문으로 바꾸기\n",
    "\n",
    "num = int(input())\n",
    "\n",
    "result = num if num >= 0 else 0\n",
    "print(result)"
   ]
  },
  {
   "cell_type": "code",
   "execution_count": 208,
   "id": "dc6a5791-57c1-481d-8b4a-b56e4acfdfcf",
   "metadata": {},
   "outputs": [
    {
     "name": "stdin",
     "output_type": "stream",
     "text": [
      " -15\n"
     ]
    },
    {
     "name": "stdout",
     "output_type": "stream",
     "text": [
      "0\n"
     ]
    }
   ],
   "source": [
    "#if else 구문으로 바꾸기\n",
    "\n",
    "num = int(input())\n",
    "\n",
    "if num >= 0:\n",
    "    print(num)\n",
    "else:\n",
    "    print(0)"
   ]
  },
  {
   "cell_type": "code",
   "execution_count": 215,
   "id": "dbf0e343-558e-4f71-bca4-f5a6032af6b6",
   "metadata": {},
   "outputs": [
    {
     "name": "stdin",
     "output_type": "stream",
     "text": [
      " 12\n"
     ]
    },
    {
     "name": "stdout",
     "output_type": "stream",
     "text": [
      "짝수\n"
     ]
    }
   ],
   "source": [
    "# 2로 나눠지지 않는 경우 홀수로 표현, 2로 나눠지면 짝수로 표현  \n",
    "\n",
    "num = int(input())\n",
    "\n",
    "result = '홀수' if num % 2 else '짝수'\n",
    "print(result)"
   ]
  },
  {
   "cell_type": "code",
   "execution_count": 218,
   "id": "131125d1-c579-4989-9c3f-bae1a64a842b",
   "metadata": {},
   "outputs": [
    {
     "name": "stdin",
     "output_type": "stream",
     "text": [
      " 12\n"
     ]
    },
    {
     "name": "stdout",
     "output_type": "stream",
     "text": [
      "짝\n"
     ]
    }
   ],
   "source": [
    "#위를 조건식으로 표현\n",
    "num = int(input())\n",
    "\n",
    "if num % 2:\n",
    "    print('홀')\n",
    "\n",
    "else:\n",
    "    print('짝')"
   ]
  },
  {
   "cell_type": "markdown",
   "id": "e47915cb-95e1-4c9d-9992-2c17709de21c",
   "metadata": {},
   "source": [
    "- **중급 문제 (조건 표현식 중첩 활용)**\n",
    "- `사용자로부터 나이를 입력받아 아래 조건에 따라 출력하는 코드를 작성하세요.`\n",
    "\n",
    "```\n",
    "19세 이하 → \"미성년자\"\n",
    "20세 이상 64세 이하 → \"성인\"\n",
    "65세 이상 → \"노인\"\n",
    "```\n",
    "\n",
    "```\n",
    "나이 입력: 15  \n",
    "출력: 미성년자\n",
    "\n",
    "나이 입력: 35  \n",
    "출력: 성인\n",
    "\n",
    "나이 입력: 70  \n",
    "출력: 노인\n",
    "```"
   ]
  },
  {
   "cell_type": "code",
   "execution_count": 226,
   "id": "8f3eabfb-ecac-415c-ab30-7af067810b76",
   "metadata": {},
   "outputs": [
    {
     "name": "stdin",
     "output_type": "stream",
     "text": [
      " 15\n"
     ]
    },
    {
     "name": "stdout",
     "output_type": "stream",
     "text": [
      "미성년자\n"
     ]
    }
   ],
   "source": [
    "num = int(input())\n",
    "\n",
    "if num <= 19:\n",
    "    print('미성년자')\n",
    "elif 20 <= num <= 64:\n",
    "    print('성인')\n",
    "else:\n",
    "    print('노인')"
   ]
  },
  {
   "cell_type": "code",
   "execution_count": 229,
   "id": "076c0172-c2db-483f-83eb-8c9b01bcce07",
   "metadata": {},
   "outputs": [
    {
     "name": "stdin",
     "output_type": "stream",
     "text": [
      " 95\n"
     ]
    },
    {
     "name": "stdout",
     "output_type": "stream",
     "text": [
      "노인\n"
     ]
    }
   ],
   "source": [
    "#위의 식을 조건 표현식으로 표현\n",
    "\n",
    "num = int(input())\n",
    "\n",
    "result = '미성년자' if num <= 19 else ('성인' if 20 <= num <= 64 else '노인')\n",
    "print(result)"
   ]
  },
  {
   "cell_type": "markdown",
   "id": "a912bcc6-4819-4e12-9f78-2340afb95d80",
   "metadata": {},
   "source": [
    "## 반복문"
   ]
  },
  {
   "cell_type": "markdown",
   "id": "743f3760-e64c-47ae-b36c-c826ad0dd312",
   "metadata": {},
   "source": [
    "### while문\n",
    "```\n",
    "while <조건식>:\n",
    "    실행할 코드\n",
    "```"
   ]
  },
  {
   "cell_type": "code",
   "execution_count": 2,
   "id": "32822a88-8f90-4fc5-af76-d478b10364ca",
   "metadata": {},
   "outputs": [
    {
     "name": "stdout",
     "output_type": "stream",
     "text": [
      "0\n",
      "1\n",
      "2\n",
      "3\n",
      "4\n"
     ]
    }
   ],
   "source": [
    "# a = 0일때\n",
    "a = 0 \n",
    "\n",
    "while a < 5:\n",
    "    print(a)\n",
    "    a = a + 1         # a += 1"
   ]
  },
  {
   "cell_type": "markdown",
   "id": "a034aa69-51b0-4540-aa5c-d4b5d67358fe",
   "metadata": {},
   "source": [
    "- **중급 문제: 숫자 맞히기 게임**\n",
    "    \n",
    "```\n",
    "1~100 사이의 랜덤한 숫자를 생성합니다.\n",
    "사용자는 숫자를 입력하며, 정답보다 크거나 작은지 힌트를 줍니다.\n",
    "정답을 맞히면 시도 횟수를 출력하고 종료합니다.\n",
    "입력값이 1~100 범위를 벗어나면 다시 입력하도록 합니다.\n",
    "```\n",
    "```\n",
    "숫자를 맞혀보세요 (1~100): 150  \n",
    "잘못된 입력입니다. 다시 입력하세요.  \n",
    "숫자를 맞혀보세요 (1~100): 50  \n",
    "더 작은 숫자입니다.  \n",
    "숫자를 맞혀보세요 (1~100): 25  \n",
    "더 큰 숫자입니다.  \n",
    "숫자를 맞혀보세요 (1~100): 37  \n",
    "정답입니다! 시도 횟수: 3\n",
    "```"
   ]
  },
  {
   "cell_type": "markdown",
   "id": "184fc3fe-427c-44c8-a4fc-2e84208de113",
   "metadata": {},
   "source": [
    "## for 문\n",
    "- 정해진 범위내의 **반복**\n",
    "  \n",
    "```\n",
    "for variable(item) in sequence:\n",
    "    code\n",
    "```"
   ]
  },
  {
   "cell_type": "code",
   "execution_count": 56,
   "id": "35c8a3e3-965e-4fef-a6e6-52e6ae0ec41e",
   "metadata": {},
   "outputs": [
    {
     "name": "stdout",
     "output_type": "stream",
     "text": [
      "1\n",
      "2\n",
      "3\n",
      "4\n",
      "5\n"
     ]
    }
   ],
   "source": [
    "numbers = [1,2,3,4,5]\n",
    "\n",
    "for number in numbers:\n",
    "    print(number)"
   ]
  },
  {
   "cell_type": "code",
   "execution_count": 58,
   "id": "3ed0ca8e-efc1-45d9-b316-6a6422ab070c",
   "metadata": {},
   "outputs": [
    {
     "name": "stdout",
     "output_type": "stream",
     "text": [
      "a\n",
      "p\n",
      "p\n",
      "l\n",
      "e\n"
     ]
    }
   ],
   "source": [
    "word = 'apple'\n",
    "\n",
    "for char in word:\n",
    "    print(char)\n"
   ]
  },
  {
   "cell_type": "code",
   "execution_count": 62,
   "id": "5d56d6c1-4b12-4d6d-bfea-9b20bbb0e9e7",
   "metadata": {},
   "outputs": [
    {
     "name": "stdout",
     "output_type": "stream",
     "text": [
      "0\n",
      "1\n",
      "2\n",
      "3\n",
      "4\n"
     ]
    }
   ],
   "source": [
    "for i in range(5):\n",
    "    print(i)"
   ]
  },
  {
   "cell_type": "code",
   "execution_count": 73,
   "id": "e4da1f27-264f-4c7c-a974-11f6e2d34268",
   "metadata": {},
   "outputs": [
    {
     "name": "stdout",
     "output_type": "stream",
     "text": [
      "5\n",
      "10\n",
      "15\n",
      "20\n",
      "25\n",
      "30\n",
      "35\n",
      "40\n",
      "45\n",
      "50\n"
     ]
    }
   ],
   "source": [
    "numbers = range(1,51)\n",
    "\n",
    "for number in numbers:\n",
    "    if number % 5 == 0:\n",
    "        print(number)"
   ]
  },
  {
   "cell_type": "code",
   "execution_count": 81,
   "id": "9609ef0c-13e7-487e-89af-e46de5efd69e",
   "metadata": {},
   "outputs": [
    {
     "name": "stdout",
     "output_type": "stream",
     "text": [
      "0\n",
      "서울\n",
      "1\n",
      "대전\n",
      "2\n",
      "부산\n"
     ]
    }
   ],
   "source": [
    "#ebumerate() : 낱낱이 세다 -> 인덱스와 함께 프린트 \n",
    "# 괄호 활용하여 아래처럼 분리해서 출력할 수 있음.\n",
    "locations = ['서울', '대전', '부산']\n",
    "\n",
    "for (index, location) in enumerate (locations):\n",
    "    print(index)\n",
    "    print(location)"
   ]
  },
  {
   "cell_type": "markdown",
   "id": "244298bd-62d7-41f8-89ce-4e94a1034ece",
   "metadata": {},
   "source": [
    "### dictionary 반복\n",
    "\n",
    "- for key in dict: #키값만 출력\n",
    "- for key in dict.keys(): #키값과 그에 대응하는 벨류 출력\n",
    "- for value in dict.values(): #벨류만 출력\n",
    "- for key,value in dict.items(): #키값, 벨류가 옆으로 출력"
   ]
  },
  {
   "cell_type": "code",
   "execution_count": 86,
   "id": "7d83e13e-36c5-48af-a39d-b880fa459f1c",
   "metadata": {},
   "outputs": [],
   "source": [
    "info = {\n",
    "    'name': 'gildong',\n",
    "    'location': 'seoul',\n",
    "    'age': 20,\n",
    "    'phone': '010-1234-1234',\n",
    "}"
   ]
  },
  {
   "cell_type": "code",
   "execution_count": 89,
   "id": "49d165d6-bcd7-4e84-a631-b4e9cc503d91",
   "metadata": {},
   "outputs": [
    {
     "name": "stdout",
     "output_type": "stream",
     "text": [
      "name\n",
      "location\n",
      "age\n",
      "phone\n"
     ]
    }
   ],
   "source": [
    "#dictionary : 아무것도 안 붙었을때는 키값만 출력함.\n",
    "for k in info:\n",
    "    print(k)"
   ]
  },
  {
   "cell_type": "code",
   "execution_count": 94,
   "id": "454d50f3-d576-4702-89cd-5a431734a44c",
   "metadata": {},
   "outputs": [
    {
     "name": "stdout",
     "output_type": "stream",
     "text": [
      "name\n",
      "gildong\n",
      "location\n",
      "seoul\n",
      "age\n",
      "20\n",
      "phone\n",
      "010-1234-1234\n"
     ]
    }
   ],
   "source": [
    "#.keys() : 키값에 접근할 수 있도록함.\n",
    "for k in info.keys():\n",
    "    print(k)\n",
    "    print(info[k])"
   ]
  },
  {
   "cell_type": "code",
   "execution_count": 99,
   "id": "8da7b777-e9da-4c7b-a89f-79fccd5e7a4a",
   "metadata": {},
   "outputs": [
    {
     "name": "stdout",
     "output_type": "stream",
     "text": [
      "gildong\n",
      "seoul\n",
      "20\n",
      "010-1234-1234\n"
     ]
    }
   ],
   "source": [
    "#key를 뜻하는 값들(values)만 출력 \n",
    "for v in info.values():\n",
    "    print(v)"
   ]
  },
  {
   "cell_type": "code",
   "execution_count": 113,
   "id": "d3d24827-6ce0-49c5-b3d5-4115cdd97364",
   "metadata": {},
   "outputs": [
    {
     "name": "stdout",
     "output_type": "stream",
     "text": [
      "name gildong\n",
      "location seoul\n",
      "age 20\n",
      "phone 010-1234-1234\n"
     ]
    }
   ],
   "source": [
    "for k, v in info.items():\n",
    "    print(k,v)"
   ]
  },
  {
   "cell_type": "code",
   "execution_count": 1,
   "id": "19245dcb-3204-4d88-bec4-aa205bcc4a32",
   "metadata": {},
   "outputs": [],
   "source": [
    "blood_type = {\n",
    "    'a': 15,\n",
    "    'b': 8,\n",
    "    'c' : 5,\n",
    "    'ab' : 4,\n",
    "}"
   ]
  },
  {
   "cell_type": "code",
   "execution_count": 3,
   "id": "77ee55d3-100a-4a4c-b4e6-853fedfd7634",
   "metadata": {},
   "outputs": [
    {
     "name": "stdout",
     "output_type": "stream",
     "text": [
      "혈액형 종류는 다음과 같습니다.\n",
      "a\n",
      "b\n",
      "c\n",
      "ab\n"
     ]
    }
   ],
   "source": [
    "# 혈액형은 ~가 있습니다.\n",
    "\n",
    "blood_type = {\n",
    "    'a': 15,\n",
    "    'b': 8,\n",
    "    'c' : 5,\n",
    "    'ab' : 4,\n",
    "}\n",
    "\n",
    "print('혈액형 종류는 다음과 같습니다.')\n",
    "\n",
    "for blood in blood_type:\n",
    "    print(blood)"
   ]
  },
  {
   "cell_type": "code",
   "execution_count": 5,
   "id": "6c71f98c-f324-43ca-aafb-309870710e25",
   "metadata": {},
   "outputs": [
    {
     "name": "stdout",
     "output_type": "stream",
     "text": [
      "32\n"
     ]
    }
   ],
   "source": [
    "# 총 학생은 몇명입니다. \n",
    "\n",
    "blood_type = {\n",
    "    'a': 15,\n",
    "    'b': 8,\n",
    "    'c' : 5,\n",
    "    'ab' : 4,\n",
    "}\n",
    "\n",
    "result = 0\n",
    "for number in blood_type.values():\n",
    "    result = result + number\n",
    "\n",
    "\n",
    "print(result)"
   ]
  },
  {
   "cell_type": "code",
   "execution_count": 6,
   "id": "99286768-3472-421d-8d5e-fc7b357f1b2a",
   "metadata": {},
   "outputs": [
    {
     "name": "stdout",
     "output_type": "stream",
     "text": [
      "a형은 15명입니다.\n",
      "b형은 8명입니다.\n",
      "c형은 5명입니다.\n",
      "ab형은 4명입니다.\n"
     ]
    }
   ],
   "source": [
    "for k,v in blood_type.items(): #옆으로 출력\n",
    "    print(f'{k}형은 {v}명입니다.')"
   ]
  },
  {
   "cell_type": "markdown",
   "id": "9ddbb107-c6bf-4a64-a4fe-eb546f366f6d",
   "metadata": {},
   "source": [
    "## break\n",
    "\n",
    "반복문을 종료 시키는 키워드"
   ]
  },
  {
   "cell_type": "code",
   "execution_count": 6,
   "id": "91c148b8-d393-4ffc-a901-6324396b4672",
   "metadata": {},
   "outputs": [
    {
     "name": "stdout",
     "output_type": "stream",
     "text": [
      "여기는 for문 0\n",
      "여기는 for문 1\n",
      "여기는 for문 2\n",
      "여기는 for문 3\n",
      "여기는 for문 4\n",
      "여기는 for문 5\n",
      "여기는 for문 6\n",
      "여기는 브레이크\n"
     ]
    }
   ],
   "source": [
    "#break : 가장 가까운 상황에서 정지시키는 것 \n",
    "for i in range(100):\n",
    "    print('여기는 for문', i)\n",
    "    if i > 5:\n",
    "        print('여기는 브레이크')\n",
    "        break"
   ]
  },
  {
   "cell_type": "code",
   "execution_count": 126,
   "id": "5a41f7de-6489-4d44-89c1-8c71d204387f",
   "metadata": {},
   "outputs": [
    {
     "name": "stdin",
     "output_type": "stream",
     "text": [
      " 보리\n",
      " 쌀\n"
     ]
    },
    {
     "name": "stdout",
     "output_type": "stream",
     "text": [
      "잡았다!!\n"
     ]
    }
   ],
   "source": [
    "while True: \n",
    "    rice = input()\n",
    "    if rice == '쌀':\n",
    "        print('잡았다!!')\n",
    "        break"
   ]
  },
  {
   "cell_type": "markdown",
   "id": "828e6399-9143-4016-bfaa-15f73248e21d",
   "metadata": {},
   "source": [
    "### continue\n",
    "\n",
    "- continue 이후의 코드를 실행하지 않고 다음 반복을 진행\n",
    "- 특정상황에서 스킵하고 싶을 때 사용"
   ]
  },
  {
   "cell_type": "code",
   "execution_count": 128,
   "id": "ebf1460c-a858-4cbd-829c-a8342b5eb4a5",
   "metadata": {},
   "outputs": [
    {
     "name": "stdout",
     "output_type": "stream",
     "text": [
      "0\n",
      "2\n",
      "4\n",
      "6\n",
      "8\n",
      "10\n",
      "12\n",
      "14\n",
      "16\n",
      "18\n"
     ]
    }
   ],
   "source": [
    "for i in range(20):\n",
    "    if i % 2 == 1:\n",
    "        continue\n",
    "    \n",
    "    print(i)\n",
    "    "
   ]
  },
  {
   "cell_type": "code",
   "execution_count": 132,
   "id": "1d207b04-f7cd-4939-9cbf-8ca90c78116b",
   "metadata": {},
   "outputs": [
    {
     "name": "stdout",
     "output_type": "stream",
     "text": [
      "20살은 성인입니다.\n",
      "30살은 성인입니다.\n",
      "40살은 성인입니다.\n",
      "50살은 성인입니다.\n"
     ]
    }
   ],
   "source": [
    "ages = [10,20,30,40,50]\n",
    "for age in ages:\n",
    "    if age < 20:\n",
    "        continue\n",
    "\n",
    "    print(f'{age}살은 성인입니다.')"
   ]
  },
  {
   "cell_type": "markdown",
   "id": "117cb776-d810-4fc1-a070-8e4ed1a9bfac",
   "metadata": {},
   "source": [
    "### else\n",
    "- else 문은 끝까지 반복된 경우 실행됩니다.\n",
    "- break를 만나지 않은 경우 실행\n",
    "  "
   ]
  },
  {
   "cell_type": "code",
   "execution_count": 138,
   "id": "26bf083a-2803-4662-a534-f6a057d10433",
   "metadata": {},
   "outputs": [
    {
     "name": "stdout",
     "output_type": "stream",
     "text": [
      "0\n",
      "1\n",
      "2\n",
      "3\n",
      "4\n",
      "5\n",
      "6\n",
      "7\n",
      "8\n",
      "9\n",
      "모두 완료!\n"
     ]
    }
   ],
   "source": [
    "for i in range(10):\n",
    "    if i > 100:\n",
    "        break\n",
    "    print(i)\n",
    "else:\n",
    "    print('모두 완료!')"
   ]
  },
  {
   "cell_type": "code",
   "execution_count": null,
   "id": "aa8c94a7-cbb6-4d3c-969b-cbdc7078682c",
   "metadata": {},
   "outputs": [],
   "source": []
  }
 ],
 "metadata": {
  "kernelspec": {
   "display_name": "Python 3 (ipykernel)",
   "language": "python",
   "name": "python3"
  },
  "language_info": {
   "codemirror_mode": {
    "name": "ipython",
    "version": 3
   },
   "file_extension": ".py",
   "mimetype": "text/x-python",
   "name": "python",
   "nbconvert_exporter": "python",
   "pygments_lexer": "ipython3",
   "version": "3.13.2"
  }
 },
 "nbformat": 4,
 "nbformat_minor": 5
}
