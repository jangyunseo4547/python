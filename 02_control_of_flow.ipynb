{
 "cells": [
  {
   "cell_type": "markdown",
   "id": "b05640fb-ff36-4023-9537-616dcf4a6249",
   "metadata": {},
   "source": [
    "## 조건문 (if문)\n",
    "\n",
    "1. if문은 반드시 참/거짓을 판단할 수 있는 `조건식`과 함께 사용한다.\n",
    "   - `if<조건식>:`\n",
    "2. `<조건식>` 참인 경우 : `:`이후의 문장을 실행\n",
    "3. `<조건식>` 거짓인 경우 : `else:` 이후의 문장을 실행\n",
    "\n",
    "```\n",
    "if <조건식>:\n",
    "    if의 조건식이 참인 경우 실행하는 코드\n",
    "else:\n",
    "    if의 조건식이 거짓인 경우 실행하는 코드\n",
    "```"
   ]
  },
  {
   "cell_type": "code",
   "execution_count": 23,
   "id": "0634648d-6c27-4205-977d-407310d8dede",
   "metadata": {},
   "outputs": [
    {
     "name": "stdin",
     "output_type": "stream",
     "text": [
      " 12/3\n"
     ]
    },
    {
     "name": "stdout",
     "output_type": "stream",
     "text": [
      "12/3\n",
      "no\n"
     ]
    }
   ],
   "source": [
    "#외부의 데이터를 받아볼 때 사용자가 입력 :input : 숫자로 인지 ! \n",
    "my_string = input()\n",
    "print(my_string)\n",
    "\n",
    "if my_string == '12/25':\n",
    "    print('merry christmas!')\n",
    "else:\n",
    "    print('no')"
   ]
  },
  {
   "cell_type": "code",
   "execution_count": 26,
   "id": "9abe93be-8534-4579-860d-d58b3529b11d",
   "metadata": {},
   "outputs": [
    {
     "name": "stdin",
     "output_type": "stream",
     "text": [
      " 1\n"
     ]
    },
    {
     "name": "stdout",
     "output_type": "stream",
     "text": [
      "odd\n"
     ]
    }
   ],
   "source": [
    "num = int(input())\n",
    "\n",
    "if num % 2 == 1:\n",
    "    print('odd')\n",
    "else:\n",
    "    print('even')"
   ]
  },
  {
   "cell_type": "code",
   "execution_count": 29,
   "id": "1f1c80fa-19d7-42ad-b9bc-b2c389f0a20d",
   "metadata": {},
   "outputs": [
    {
     "name": "stdin",
     "output_type": "stream",
     "text": [
      " 2\n"
     ]
    },
    {
     "name": "stdout",
     "output_type": "stream",
     "text": [
      "even\n"
     ]
    }
   ],
   "source": [
    "num = int(input())\n",
    "\n",
    "if num % 2 == 0:\n",
    "    print('even')\n",
    "else:\n",
    "    print('odd')"
   ]
  },
  {
   "cell_type": "code",
   "execution_count": 31,
   "id": "75cbf091-0b53-4768-951b-7188894232f2",
   "metadata": {},
   "outputs": [
    {
     "name": "stdin",
     "output_type": "stream",
     "text": [
      " 3\n"
     ]
    },
    {
     "name": "stdout",
     "output_type": "stream",
     "text": [
      "odd\n"
     ]
    }
   ],
   "source": [
    "num = int(input())\n",
    "\n",
    "if num % 2:\n",
    "    print('odd')\n",
    "else:\n",
    "    print('even')"
   ]
  },
  {
   "cell_type": "code",
   "execution_count": 34,
   "id": "60e6fed2-e973-4c48-ba8e-01536ade47e2",
   "metadata": {},
   "outputs": [
    {
     "name": "stdin",
     "output_type": "stream",
     "text": [
      "5의 배수를 판단해드리겠습니다 100\n"
     ]
    },
    {
     "name": "stdout",
     "output_type": "stream",
     "text": [
      "yes\n"
     ]
    }
   ],
   "source": [
    "num = int(input('5의 배수를 판단해드리겠습니다'))\n",
    "\n",
    "if num % 5 == 0:\n",
    "    print('yes')\n",
    "else:\n",
    "    print('no')"
   ]
  },
  {
   "cell_type": "code",
   "execution_count": 38,
   "id": "0ce92a59-13ec-4337-8601-427e492263e3",
   "metadata": {},
   "outputs": [
    {
     "name": "stdin",
     "output_type": "stream",
     "text": [
      " 235\n"
     ]
    },
    {
     "name": "stdout",
     "output_type": "stream",
     "text": [
      "yes\n"
     ]
    }
   ],
   "source": [
    "num = int(input())\n",
    "\n",
    "# 5의 배수가 아닌 것 : 1,2,3,4\n",
    "if num % 5:\n",
    "    print('no')\n",
    "# 나머지가 0인 경우\n",
    "else:\n",
    "    print('yes')"
   ]
  },
  {
   "cell_type": "markdown",
   "id": "4ff944af-44e9-4852-929b-f728e0ed3bc0",
   "metadata": {},
   "source": [
    "### elif\n",
    "- 위에서부터 차근차근 계산 -> 다 맞지 않을 경우 else로 이동\n",
    "```\n",
    "if <조건식>:\n",
    "    참인 경우\n",
    "\n",
    "elif <조건식>:\n",
    "    elif문이 참인경우\n",
    "\n",
    "else:\n",
    "    위의 모든 조건식이 거짓인 경우\n",
    "```"
   ]
  },
  {
   "cell_type": "code",
   "execution_count": 53,
   "id": "2d14ef0a-4f26-4cd0-9efb-743daa106c8d",
   "metadata": {},
   "outputs": [
    {
     "name": "stdin",
     "output_type": "stream",
     "text": [
      " 90\n"
     ]
    },
    {
     "name": "stdout",
     "output_type": "stream",
     "text": [
      "A\n"
     ]
    }
   ],
   "source": [
    "score = int(input())\n",
    "\n",
    "if score >= 90: \n",
    "    print('A')\n",
    "    if score >=95:\n",
    "        print('good!!')\n",
    "elif score >= 80:\n",
    "    print('B')\n",
    "elif score >= 70:\n",
    "    print('C')\n",
    "else:\n",
    "    print('F')"
   ]
  },
  {
   "cell_type": "code",
   "execution_count": null,
   "id": "82eafd38-6b66-4ae9-a8ae-a0bb3ac5d9ea",
   "metadata": {},
   "outputs": [],
   "source": []
  }
 ],
 "metadata": {
  "kernelspec": {
   "display_name": "Python 3 (ipykernel)",
   "language": "python",
   "name": "python3"
  },
  "language_info": {
   "codemirror_mode": {
    "name": "ipython",
    "version": 3
   },
   "file_extension": ".py",
   "mimetype": "text/x-python",
   "name": "python",
   "nbconvert_exporter": "python",
   "pygments_lexer": "ipython3",
   "version": "3.13.2"
  }
 },
 "nbformat": 4,
 "nbformat_minor": 5
}
