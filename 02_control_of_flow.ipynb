{
 "cells": [
  {
   "cell_type": "markdown",
   "id": "b05640fb-ff36-4023-9537-616dcf4a6249",
   "metadata": {},
   "source": [
    "## 조건문 (if문)\n",
    "\n",
    "1. if문은 반드시 참/거짓을 판단할 수 있는 `조건식`과 함께 사용한다.\n",
    "   - `if<조건식>:`\n",
    "2. `<조건식>` 참인 경우 : `:`이후의 문장을 실행\n",
    "3. `<조건식>` 거짓인 경우 : `else:` 이후의 문장을 실행\n",
    "\n",
    "```\n",
    "if <조건식>:\n",
    "    if의 조건식이 참인 경우 실행하는 코드\n",
    "else:\n",
    "    if의 조건식이 거짓인 경우 실행하는 코드\n",
    "```"
   ]
  },
  {
   "cell_type": "code",
   "execution_count": 23,
   "id": "0634648d-6c27-4205-977d-407310d8dede",
   "metadata": {},
   "outputs": [
    {
     "name": "stdin",
     "output_type": "stream",
     "text": [
      " 12/3\n"
     ]
    },
    {
     "name": "stdout",
     "output_type": "stream",
     "text": [
      "12/3\n",
      "no\n"
     ]
    }
   ],
   "source": [
    "#외부의 데이터를 받아볼 때 사용자가 입력 :input : 숫자로 인지 ! \n",
    "my_string = input()\n",
    "print(my_string)\n",
    "\n",
    "if my_string == '12/25':\n",
    "    print('merry christmas!')\n",
    "else:\n",
    "    print('no')"
   ]
  },
  {
   "cell_type": "code",
   "execution_count": 26,
   "id": "9abe93be-8534-4579-860d-d58b3529b11d",
   "metadata": {},
   "outputs": [
    {
     "name": "stdin",
     "output_type": "stream",
     "text": [
      " 1\n"
     ]
    },
    {
     "name": "stdout",
     "output_type": "stream",
     "text": [
      "odd\n"
     ]
    }
   ],
   "source": [
    "num = int(input())\n",
    "\n",
    "if num % 2 == 1:\n",
    "    print('odd')\n",
    "else:\n",
    "    print('even')"
   ]
  },
  {
   "cell_type": "code",
   "execution_count": 29,
   "id": "1f1c80fa-19d7-42ad-b9bc-b2c389f0a20d",
   "metadata": {},
   "outputs": [
    {
     "name": "stdin",
     "output_type": "stream",
     "text": [
      " 2\n"
     ]
    },
    {
     "name": "stdout",
     "output_type": "stream",
     "text": [
      "even\n"
     ]
    }
   ],
   "source": [
    "num = int(input())\n",
    "\n",
    "if num % 2 == 0:\n",
    "    print('even')\n",
    "else:\n",
    "    print('odd')"
   ]
  },
  {
   "cell_type": "code",
   "execution_count": 31,
   "id": "75cbf091-0b53-4768-951b-7188894232f2",
   "metadata": {},
   "outputs": [
    {
     "name": "stdin",
     "output_type": "stream",
     "text": [
      " 3\n"
     ]
    },
    {
     "name": "stdout",
     "output_type": "stream",
     "text": [
      "odd\n"
     ]
    }
   ],
   "source": [
    "num = int(input())\n",
    "\n",
    "if num % 2:\n",
    "    print('odd')\n",
    "else:\n",
    "    print('even')"
   ]
  },
  {
   "cell_type": "code",
   "execution_count": 34,
   "id": "60e6fed2-e973-4c48-ba8e-01536ade47e2",
   "metadata": {},
   "outputs": [
    {
     "name": "stdin",
     "output_type": "stream",
     "text": [
      "5의 배수를 판단해드리겠습니다 100\n"
     ]
    },
    {
     "name": "stdout",
     "output_type": "stream",
     "text": [
      "yes\n"
     ]
    }
   ],
   "source": [
    "num = int(input('5의 배수를 판단해드리겠습니다'))\n",
    "\n",
    "if num % 5 == 0:\n",
    "    print('yes')\n",
    "else:\n",
    "    print('no')"
   ]
  },
  {
   "cell_type": "code",
   "execution_count": 38,
   "id": "0ce92a59-13ec-4337-8601-427e492263e3",
   "metadata": {},
   "outputs": [
    {
     "name": "stdin",
     "output_type": "stream",
     "text": [
      " 235\n"
     ]
    },
    {
     "name": "stdout",
     "output_type": "stream",
     "text": [
      "yes\n"
     ]
    }
   ],
   "source": [
    "num = int(input())\n",
    "\n",
    "# 5의 배수가 아닌 것 : 1,2,3,4\n",
    "if num % 5:\n",
    "    print('no')\n",
    "# 나머지가 0인 경우\n",
    "else:\n",
    "    print('yes')"
   ]
  },
  {
   "cell_type": "markdown",
   "id": "4ff944af-44e9-4852-929b-f728e0ed3bc0",
   "metadata": {},
   "source": [
    "### elif\n",
    "- 위에서부터 차근차근 계산 -> 다 맞지 않을 경우 else로 이동\n",
    "```\n",
    "if <조건식>:\n",
    "    참인 경우\n",
    "\n",
    "elif <조건식>:\n",
    "    elif문이 참인경우\n",
    "\n",
    "else:\n",
    "    위의 모든 조건식이 거짓인 경우\n",
    "```"
   ]
  },
  {
   "cell_type": "code",
   "execution_count": 53,
   "id": "2d14ef0a-4f26-4cd0-9efb-743daa106c8d",
   "metadata": {},
   "outputs": [
    {
     "name": "stdin",
     "output_type": "stream",
     "text": [
      " 90\n"
     ]
    },
    {
     "name": "stdout",
     "output_type": "stream",
     "text": [
      "A\n"
     ]
    }
   ],
   "source": [
    "score = int(input())\n",
    "\n",
    "if score >= 90: \n",
    "    print('A')\n",
    "    if score >=95:\n",
    "        print('good!!')\n",
    "elif score >= 80:\n",
    "    print('B')\n",
    "elif score >= 70:\n",
    "    print('C')\n",
    "else:\n",
    "    print('F')"
   ]
  },
  {
   "cell_type": "markdown",
   "id": "da1fd0f7-3b36-47ac-83d0-7aa483490218",
   "metadata": {},
   "source": [
    "### 조건 표현식\n",
    "\n",
    "- `true_value if <조건식> else false_value`"
   ]
  },
  {
   "cell_type": "code",
   "execution_count": 5,
   "id": "da913a38-eb4b-4549-b4c6-8ffb41493410",
   "metadata": {},
   "outputs": [
    {
     "name": "stdout",
     "output_type": "stream",
     "text": [
      "100\n"
     ]
    }
   ],
   "source": [
    "a = 0 \n",
    "if True:\n",
    "    a = 100\n",
    "else:\n",
    "    a = -100\n",
    "print(a)"
   ]
  },
  {
   "cell_type": "code",
   "execution_count": 42,
   "id": "3fefcd95-bc3b-4f58-99b5-f17949d7f873",
   "metadata": {},
   "outputs": [
    {
     "name": "stdout",
     "output_type": "stream",
     "text": [
      "-100\n"
     ]
    }
   ],
   "source": [
    "a = 100 if False else -100\n",
    "print(a)"
   ]
  },
  {
   "cell_type": "code",
   "execution_count": 14,
   "id": "ed95be74-9cef-4494-8988-b6d388ef6d83",
   "metadata": {},
   "outputs": [
    {
     "name": "stdin",
     "output_type": "stream",
     "text": [
      " -100\n"
     ]
    },
    {
     "name": "stdout",
     "output_type": "stream",
     "text": [
      "0\n"
     ]
    }
   ],
   "source": [
    "num = int(input())\n",
    "\n",
    "if num >= 0:\n",
    "    result = num\n",
    "else:\n",
    "    result = 0\n",
    "print(result)"
   ]
  },
  {
   "cell_type": "code",
   "execution_count": 39,
   "id": "a70aa380-2e47-4680-83d2-f64667650bd7",
   "metadata": {},
   "outputs": [
    {
     "name": "stdin",
     "output_type": "stream",
     "text": [
      " -15\n"
     ]
    },
    {
     "name": "stdout",
     "output_type": "stream",
     "text": [
      "0\n"
     ]
    }
   ],
   "source": [
    "num = int(input())\n",
    "\n",
    "result = num if num >= 0 else 0\n",
    "print(result)"
   ]
  },
  {
   "cell_type": "code",
   "execution_count": 37,
   "id": "dbf0e343-558e-4f71-bca4-f5a6032af6b6",
   "metadata": {},
   "outputs": [
    {
     "name": "stdin",
     "output_type": "stream",
     "text": [
      " 85\n"
     ]
    },
    {
     "name": "stdout",
     "output_type": "stream",
     "text": [
      "홀수\n"
     ]
    }
   ],
   "source": [
    "num = int(input())\n",
    "\n",
    "result = '홀수' if num % 2 else '짝수'\n",
    "print(result)"
   ]
  },
  {
   "cell_type": "code",
   "execution_count": 36,
   "id": "131125d1-c579-4989-9c3f-bae1a64a842b",
   "metadata": {},
   "outputs": [
    {
     "name": "stdout",
     "output_type": "stream",
     "text": [
      "짝\n"
     ]
    }
   ],
   "source": [
    "num = 10 \n",
    "\n",
    "if num % 2:\n",
    "    result = '홀'\n",
    "\n",
    "else:\n",
    "    result = '짝'\n",
    "print(result)"
   ]
  },
  {
   "cell_type": "markdown",
   "id": "a912bcc6-4819-4e12-9f78-2340afb95d80",
   "metadata": {},
   "source": [
    "## 반복문"
   ]
  },
  {
   "cell_type": "markdown",
   "id": "743f3760-e64c-47ae-b36c-c826ad0dd312",
   "metadata": {},
   "source": [
    "### while문\n",
    "```\n",
    "while <조건식>:\n",
    "    실행할 코드\n",
    "```"
   ]
  },
  {
   "cell_type": "code",
   "execution_count": 52,
   "id": "32822a88-8f90-4fc5-af76-d478b10364ca",
   "metadata": {},
   "outputs": [
    {
     "name": "stdout",
     "output_type": "stream",
     "text": [
      "0\n",
      "1\n",
      "2\n",
      "3\n",
      "4\n"
     ]
    }
   ],
   "source": [
    "a = 0 \n",
    "\n",
    "while a < 5:\n",
    "    print(a)\n",
    "    # a += 1\n",
    "    a = a + 1"
   ]
  },
  {
   "cell_type": "markdown",
   "id": "184fc3fe-427c-44c8-a4fc-2e84208de113",
   "metadata": {},
   "source": [
    "## for 문\n",
    "- 정해진 범위내의 **반복**\n",
    "  \n",
    "```\n",
    "for variable(item) in sequence:\n",
    "    code\n",
    "```"
   ]
  },
  {
   "cell_type": "code",
   "execution_count": 56,
   "id": "35c8a3e3-965e-4fef-a6e6-52e6ae0ec41e",
   "metadata": {},
   "outputs": [
    {
     "name": "stdout",
     "output_type": "stream",
     "text": [
      "1\n",
      "2\n",
      "3\n",
      "4\n",
      "5\n"
     ]
    }
   ],
   "source": [
    "numbers = [1,2,3,4,5]\n",
    "\n",
    "for number in numbers:\n",
    "    print(number)"
   ]
  },
  {
   "cell_type": "code",
   "execution_count": 58,
   "id": "3ed0ca8e-efc1-45d9-b316-6a6422ab070c",
   "metadata": {},
   "outputs": [
    {
     "name": "stdout",
     "output_type": "stream",
     "text": [
      "a\n",
      "p\n",
      "p\n",
      "l\n",
      "e\n"
     ]
    }
   ],
   "source": [
    "word = 'apple'\n",
    "\n",
    "for char in word:\n",
    "    print(char)\n"
   ]
  },
  {
   "cell_type": "code",
   "execution_count": 62,
   "id": "5d56d6c1-4b12-4d6d-bfea-9b20bbb0e9e7",
   "metadata": {},
   "outputs": [
    {
     "name": "stdout",
     "output_type": "stream",
     "text": [
      "0\n",
      "1\n",
      "2\n",
      "3\n",
      "4\n"
     ]
    }
   ],
   "source": [
    "for i in range(5):\n",
    "    print(i)"
   ]
  },
  {
   "cell_type": "code",
   "execution_count": 73,
   "id": "e4da1f27-264f-4c7c-a974-11f6e2d34268",
   "metadata": {},
   "outputs": [
    {
     "name": "stdout",
     "output_type": "stream",
     "text": [
      "5\n",
      "10\n",
      "15\n",
      "20\n",
      "25\n",
      "30\n",
      "35\n",
      "40\n",
      "45\n",
      "50\n"
     ]
    }
   ],
   "source": [
    "numbers = range(1,51)\n",
    "\n",
    "for number in numbers:\n",
    "    if number % 5 == 0:\n",
    "        print(number)"
   ]
  },
  {
   "cell_type": "code",
   "execution_count": 81,
   "id": "9609ef0c-13e7-487e-89af-e46de5efd69e",
   "metadata": {},
   "outputs": [
    {
     "name": "stdout",
     "output_type": "stream",
     "text": [
      "0\n",
      "서울\n",
      "1\n",
      "대전\n",
      "2\n",
      "부산\n"
     ]
    }
   ],
   "source": [
    "#ebumerate() : 낱낱이 세다 -> 인덱스와 함께 프린트 \n",
    "# 괄호 활용하여 아래처럼 분리해서 출력할 수 있음.\n",
    "locations = ['서울', '대전', '부산']\n",
    "\n",
    "for (index, location) in enumerate (locations):\n",
    "    print(index)\n",
    "    print(location)"
   ]
  },
  {
   "cell_type": "markdown",
   "id": "244298bd-62d7-41f8-89ce-4e94a1034ece",
   "metadata": {},
   "source": [
    "### dictionary 반복\n",
    "\n",
    "- for key in dict: #키값만 출력\n",
    "- for key in dict.keys(): #키값과 그에 대응하는 벨류 출력\n",
    "- for value in dict.values(): #벨류만 출력\n",
    "- for key,value in dict.items(): #키값, 벨류가 옆으로 출력"
   ]
  },
  {
   "cell_type": "code",
   "execution_count": 86,
   "id": "7d83e13e-36c5-48af-a39d-b880fa459f1c",
   "metadata": {},
   "outputs": [],
   "source": [
    "info = {\n",
    "    'name': 'gildong',\n",
    "    'location': 'seoul',\n",
    "    'age': 20,\n",
    "    'phone': '010-1234-1234',\n",
    "}"
   ]
  },
  {
   "cell_type": "code",
   "execution_count": 89,
   "id": "49d165d6-bcd7-4e84-a631-b4e9cc503d91",
   "metadata": {},
   "outputs": [
    {
     "name": "stdout",
     "output_type": "stream",
     "text": [
      "name\n",
      "location\n",
      "age\n",
      "phone\n"
     ]
    }
   ],
   "source": [
    "#dictionary : 아무것도 안 붙었을때는 키값만 출력함.\n",
    "for k in info:\n",
    "    print(k)"
   ]
  },
  {
   "cell_type": "code",
   "execution_count": 94,
   "id": "454d50f3-d576-4702-89cd-5a431734a44c",
   "metadata": {},
   "outputs": [
    {
     "name": "stdout",
     "output_type": "stream",
     "text": [
      "name\n",
      "gildong\n",
      "location\n",
      "seoul\n",
      "age\n",
      "20\n",
      "phone\n",
      "010-1234-1234\n"
     ]
    }
   ],
   "source": [
    "#.keys() : 키값에 접근할 수 있도록함.\n",
    "for k in info.keys():\n",
    "    print(k)\n",
    "    print(info[k])"
   ]
  },
  {
   "cell_type": "code",
   "execution_count": 99,
   "id": "8da7b777-e9da-4c7b-a89f-79fccd5e7a4a",
   "metadata": {},
   "outputs": [
    {
     "name": "stdout",
     "output_type": "stream",
     "text": [
      "gildong\n",
      "seoul\n",
      "20\n",
      "010-1234-1234\n"
     ]
    }
   ],
   "source": [
    "#key를 뜻하는 값들(values)만 출력 \n",
    "for v in info.values():\n",
    "    print(v)"
   ]
  },
  {
   "cell_type": "code",
   "execution_count": 113,
   "id": "d3d24827-6ce0-49c5-b3d5-4115cdd97364",
   "metadata": {},
   "outputs": [
    {
     "name": "stdout",
     "output_type": "stream",
     "text": [
      "name gildong\n",
      "location seoul\n",
      "age 20\n",
      "phone 010-1234-1234\n"
     ]
    }
   ],
   "source": [
    "for k, v in info.items():\n",
    "    print(k,v)"
   ]
  },
  {
   "cell_type": "code",
   "execution_count": 104,
   "id": "19245dcb-3204-4d88-bec4-aa205bcc4a32",
   "metadata": {},
   "outputs": [],
   "source": [
    "blood_type = {\n",
    "    'a': 15,\n",
    "    'b': 8,\n",
    "    'c' : 5,\n",
    "    'ab' : 4,\n",
    "}"
   ]
  },
  {
   "cell_type": "code",
   "execution_count": 106,
   "id": "77ee55d3-100a-4a4c-b4e6-853fedfd7634",
   "metadata": {},
   "outputs": [
    {
     "name": "stdout",
     "output_type": "stream",
     "text": [
      "혈액형 종류는 다음과 같습니다.\n",
      "a\n",
      "b\n",
      "c\n",
      "ab\n"
     ]
    }
   ],
   "source": [
    "# 혈액형은 ~가 있습니다.\n",
    "\n",
    "print('혈액형 종류는 다음과 같습니다.')\n",
    "\n",
    "for blood in blood_type:\n",
    "    print(blood)"
   ]
  },
  {
   "cell_type": "code",
   "execution_count": 114,
   "id": "6c71f98c-f324-43ca-aafb-309870710e25",
   "metadata": {},
   "outputs": [
    {
     "name": "stdout",
     "output_type": "stream",
     "text": [
      "32\n"
     ]
    }
   ],
   "source": [
    "# 총 학생은 몇명입니다. \n",
    "\n",
    "result = 0\n",
    "for number in blood_type.values():\n",
    "    result = result + number\n",
    "\n",
    "\n",
    "print(result)"
   ]
  },
  {
   "cell_type": "code",
   "execution_count": 112,
   "id": "99286768-3472-421d-8d5e-fc7b357f1b2a",
   "metadata": {},
   "outputs": [
    {
     "name": "stdout",
     "output_type": "stream",
     "text": [
      "a형은 15명입니다.\n",
      "b형은 8명입니다.\n",
      "c형은 5명입니다.\n",
      "ab형은 4명입니다.\n"
     ]
    }
   ],
   "source": [
    "for k,v in blood_type.items():\n",
    "    print(f'{k}형은 {v}명입니다.')"
   ]
  },
  {
   "cell_type": "markdown",
   "id": "9ddbb107-c6bf-4a64-a4fe-eb546f366f6d",
   "metadata": {},
   "source": [
    "## break\n",
    "\n",
    "반복문을 종료 시키는 키워드"
   ]
  },
  {
   "cell_type": "code",
   "execution_count": 119,
   "id": "91c148b8-d393-4ffc-a901-6324396b4672",
   "metadata": {},
   "outputs": [
    {
     "name": "stdout",
     "output_type": "stream",
     "text": [
      "여기는 for문 0\n",
      "여기는 for문 1\n",
      "여기는 for문 2\n",
      "여기는 for문 3\n",
      "여기는 for문 4\n",
      "여기는 for문 5\n",
      "여기는 for문 6\n",
      "여기는 브레이크\n"
     ]
    }
   ],
   "source": [
    "#break : 가장 가까운 상황에서 정지시키는 것 \n",
    "for i in range(100):\n",
    "    print('여기는 for문', i)\n",
    "    if i > 5:\n",
    "        print('여기는 브레이크')\n",
    "        break"
   ]
  },
  {
   "cell_type": "code",
   "execution_count": 126,
   "id": "5a41f7de-6489-4d44-89c1-8c71d204387f",
   "metadata": {},
   "outputs": [
    {
     "name": "stdin",
     "output_type": "stream",
     "text": [
      " 보리\n",
      " 쌀\n"
     ]
    },
    {
     "name": "stdout",
     "output_type": "stream",
     "text": [
      "잡았다!!\n"
     ]
    }
   ],
   "source": [
    "while True: \n",
    "    rice = input()\n",
    "    if rice == '쌀':\n",
    "        print('잡았다!!')\n",
    "        break"
   ]
  },
  {
   "cell_type": "markdown",
   "id": "828e6399-9143-4016-bfaa-15f73248e21d",
   "metadata": {},
   "source": [
    "### continue\n",
    "\n",
    "- continue 이후의 코드를 실행하지 않고 다음 반복을 진행\n",
    "- 특정상황에서 스킵하고 싶을 때 사용"
   ]
  },
  {
   "cell_type": "code",
   "execution_count": 128,
   "id": "ebf1460c-a858-4cbd-829c-a8342b5eb4a5",
   "metadata": {},
   "outputs": [
    {
     "name": "stdout",
     "output_type": "stream",
     "text": [
      "0\n",
      "2\n",
      "4\n",
      "6\n",
      "8\n",
      "10\n",
      "12\n",
      "14\n",
      "16\n",
      "18\n"
     ]
    }
   ],
   "source": [
    "for i in range(20):\n",
    "    if i % 2 == 1:\n",
    "        continue\n",
    "    \n",
    "    print(i)\n",
    "    "
   ]
  },
  {
   "cell_type": "code",
   "execution_count": 132,
   "id": "1d207b04-f7cd-4939-9cbf-8ca90c78116b",
   "metadata": {},
   "outputs": [
    {
     "name": "stdout",
     "output_type": "stream",
     "text": [
      "20살은 성인입니다.\n",
      "30살은 성인입니다.\n",
      "40살은 성인입니다.\n",
      "50살은 성인입니다.\n"
     ]
    }
   ],
   "source": [
    "ages = [10,20,30,40,50]\n",
    "for age in ages:\n",
    "    if age < 20:\n",
    "        continue\n",
    "\n",
    "    print(f'{age}살은 성인입니다.')"
   ]
  },
  {
   "cell_type": "markdown",
   "id": "117cb776-d810-4fc1-a070-8e4ed1a9bfac",
   "metadata": {},
   "source": [
    "### else\n",
    "- else 문은 끝까지 반복된 경우 실행됩니다.\n",
    "- break를 만나지 않은 경우 실행\n",
    "  "
   ]
  },
  {
   "cell_type": "code",
   "execution_count": 138,
   "id": "26bf083a-2803-4662-a534-f6a057d10433",
   "metadata": {},
   "outputs": [
    {
     "name": "stdout",
     "output_type": "stream",
     "text": [
      "0\n",
      "1\n",
      "2\n",
      "3\n",
      "4\n",
      "5\n",
      "6\n",
      "7\n",
      "8\n",
      "9\n",
      "모두 완료!\n"
     ]
    }
   ],
   "source": [
    "for i in range(10):\n",
    "    if i > 100:\n",
    "        break\n",
    "    print(i)\n",
    "else:\n",
    "    print('모두 완료!')"
   ]
  },
  {
   "cell_type": "code",
   "execution_count": null,
   "id": "aa8c94a7-cbb6-4d3c-969b-cbdc7078682c",
   "metadata": {},
   "outputs": [],
   "source": []
  }
 ],
 "metadata": {
  "kernelspec": {
   "display_name": "Python 3 (ipykernel)",
   "language": "python",
   "name": "python3"
  },
  "language_info": {
   "codemirror_mode": {
    "name": "ipython",
    "version": 3
   },
   "file_extension": ".py",
   "mimetype": "text/x-python",
   "name": "python",
   "nbconvert_exporter": "python",
   "pygments_lexer": "ipython3",
   "version": "3.13.2"
  }
 },
 "nbformat": 4,
 "nbformat_minor": 5
}
