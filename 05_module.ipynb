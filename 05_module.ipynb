{
 "cells": [
  {
   "cell_type": "markdown",
   "id": "982c1e85-7fcf-409d-8a6e-74b304bed6fa",
   "metadata": {},
   "source": [
    "# 모듈"
   ]
  },
  {
   "cell_type": "code",
   "execution_count": null,
   "id": "d9242f1b-0bb5-4ed3-8d0e-6f685246bd52",
   "metadata": {},
   "outputs": [],
   "source": [
    "import fact"
   ]
  },
  {
   "cell_type": "code",
   "execution_count": null,
   "id": "8caa041d-ab95-401f-83c5-391f3b64323d",
   "metadata": {},
   "outputs": [],
   "source": [
    "print(fact)"
   ]
  },
  {
   "cell_type": "code",
   "execution_count": null,
   "id": "4e4cb3f3-8649-4849-805c-a387c70ce758",
   "metadata": {},
   "outputs": [],
   "source": [
    "fact.factorial(5)"
   ]
  },
  {
   "cell_type": "code",
   "execution_count": null,
   "id": "827b7958-7099-492d-9d16-240e47b77e72",
   "metadata": {},
   "outputs": [],
   "source": [
    "fact.my_max(2,3)"
   ]
  },
  {
   "cell_type": "markdown",
   "id": "084aaa3c-8c73-479d-b4b8-20c96f7dae43",
   "metadata": {},
   "source": [
    "# 패키지\n",
    "\n",
    "#변수이름 저장\n",
    "```\n",
    "my_Package/\n",
    "    __init__.py\n",
    "    math/\n",
    "        __init__.py\n",
    "```\n",
    "\n",
    "- 패키지 안에 `__init__.py`파일이 존재해야 패키지로 인식"
   ]
  },
  {
   "cell_type": "code",
   "execution_count": null,
   "id": "18404107-8d26-42c9-9b1e-850ba7f80619",
   "metadata": {},
   "outputs": [],
   "source": [
    "import myPackage"
   ]
  },
  {
   "cell_type": "code",
   "execution_count": null,
   "id": "8af98f1f-59e1-4f73-911a-bc3fcdd1a956",
   "metadata": {},
   "outputs": [],
   "source": [
    "print(myPackage)"
   ]
  },
  {
   "cell_type": "code",
   "execution_count": null,
   "id": "4a56a7d8-608e-4f8d-9fcc-3cc7971996d6",
   "metadata": {},
   "outputs": [],
   "source": [
    "myPackage.math.fomula.my_max(2,3)"
   ]
  },
  {
   "cell_type": "code",
   "execution_count": null,
   "id": "a57456c3-eefc-4a20-819c-fabad3067220",
   "metadata": {},
   "outputs": [],
   "source": [
    "# myPackage-> math -> 모듈 --> import my_max 함수 추가\n",
    "\n",
    "from myPackage.math.fomula import my_max"
   ]
  },
  {
   "cell_type": "code",
   "execution_count": null,
   "id": "6bbef920-4ae2-4d13-9921-6cde5e17387d",
   "metadata": {},
   "outputs": [],
   "source": [
    "my_max(2,3)"
   ]
  },
  {
   "cell_type": "code",
   "execution_count": null,
   "id": "cee4e96b-ace1-4ac9-9fb6-76f12cfe571a",
   "metadata": {},
   "outputs": [],
   "source": [
    "from myPackage.math import fomula\n"
   ]
  },
  {
   "cell_type": "code",
   "execution_count": null,
   "id": "bcdf6695-2ccd-4e28-926c-1cf47ab61a4a",
   "metadata": {},
   "outputs": [],
   "source": [
    "fomula.my_max(2,3)"
   ]
  },
  {
   "cell_type": "code",
   "execution_count": null,
   "id": "c3c16302-a893-48c0-aa7a-6bf2fb977b54",
   "metadata": {},
   "outputs": [],
   "source": [
    "from myPackage.math.fomula import *\n",
    "print(pi)"
   ]
  },
  {
   "cell_type": "code",
   "execution_count": null,
   "id": "c0a96fbd-c310-4128-90b4-f6d75b3af801",
   "metadata": {},
   "outputs": [],
   "source": [
    "fomula = 1234\n",
    "from myPackage.math import fomula as f\n",
    "print(fomula)\n",
    "print(f)"
   ]
  },
  {
   "cell_type": "markdown",
   "id": "b0cb2a3b-4050-494a-8669-31be965fdb0f",
   "metadata": {},
   "source": [
    "# 5. 파이썬 내장 패지키\n",
    "- math.pi 원주율\n",
    "\n",
    "- math.e 지수\n",
    "\n",
    "- math.ceil / math.floor 반올림, 반내림\n",
    "\n",
    "- math sqrt 루트\n",
    "\n",
    "- math factorial 팩토리얼\n",
    "\n",
    "    - 여러개 함수를 import 하고 싶은 경우 `from math import sqrt, factorial`"
   ]
  },
  {
   "cell_type": "code",
   "execution_count": 97,
   "id": "53b2ac0e-a924-4e39-9bb2-9288129a5337",
   "metadata": {},
   "outputs": [],
   "source": [
    "import math"
   ]
  },
  {
   "cell_type": "code",
   "execution_count": 98,
   "id": "5a98906f-7177-4241-8165-5a3c85f85c4b",
   "metadata": {},
   "outputs": [
    {
     "data": {
      "text/plain": [
       "3.141592653589793"
      ]
     },
     "execution_count": 98,
     "metadata": {},
     "output_type": "execute_result"
    }
   ],
   "source": [
    "math.pi"
   ]
  },
  {
   "cell_type": "code",
   "execution_count": 100,
   "id": "da193395-61ce-4be4-9897-31a6984a2d69",
   "metadata": {},
   "outputs": [
    {
     "data": {
      "text/plain": [
       "2.718281828459045"
      ]
     },
     "execution_count": 100,
     "metadata": {},
     "output_type": "execute_result"
    }
   ],
   "source": [
    "# math.e 지수 의미\n",
    "\n",
    "math.e"
   ]
  },
  {
   "cell_type": "code",
   "execution_count": 101,
   "id": "ba410927-6243-403f-b003-1848a2de0383",
   "metadata": {},
   "outputs": [
    {
     "data": {
      "text/plain": [
       "3"
      ]
     },
     "execution_count": 101,
     "metadata": {},
     "output_type": "execute_result"
    }
   ],
   "source": [
    "# cell : 반올림\n",
    "\n",
    "math.ceil(math.e)"
   ]
  },
  {
   "cell_type": "code",
   "execution_count": null,
   "id": "98916309-a07d-4a62-b24d-bdb3f0df78e3",
   "metadata": {},
   "outputs": [],
   "source": [
    "# floor : 내림 처림\n",
    "\n",
    "math.floor(math.e)"
   ]
  },
  {
   "cell_type": "code",
   "execution_count": 103,
   "id": "b647e3e8-76c5-46be-b0ee-1f1235da20ea",
   "metadata": {},
   "outputs": [
    {
     "data": {
      "text/plain": [
       "3.0"
      ]
     },
     "execution_count": 103,
     "metadata": {},
     "output_type": "execute_result"
    }
   ],
   "source": [
    "# sqrt : 루트 계산\n",
    "\n",
    "math.sqrt(9)"
   ]
  },
  {
   "cell_type": "code",
   "execution_count": 104,
   "id": "e00a10fc-1d51-4b3c-b4cb-52577c5a1dfd",
   "metadata": {},
   "outputs": [
    {
     "data": {
      "text/plain": [
       "3628800"
      ]
     },
     "execution_count": 104,
     "metadata": {},
     "output_type": "execute_result"
    }
   ],
   "source": [
    "# factorial : ! 계산\n",
    "\n",
    "math.factorial(10)"
   ]
  },
  {
   "cell_type": "code",
   "execution_count": 105,
   "id": "dbe9209a-2484-43cc-8f86-767288ad6e1c",
   "metadata": {},
   "outputs": [],
   "source": [
    "from math import sqrt, factorial"
   ]
  },
  {
   "cell_type": "code",
   "execution_count": 106,
   "id": "cdcf2bd7-6e13-4c62-8278-5ee6e249a83d",
   "metadata": {},
   "outputs": [
    {
     "data": {
      "text/plain": [
       "4.0"
      ]
     },
     "execution_count": 106,
     "metadata": {},
     "output_type": "execute_result"
    }
   ],
   "source": [
    "sqrt(16)"
   ]
  },
  {
   "cell_type": "code",
   "execution_count": 107,
   "id": "2bcfc57a-ebf6-45ac-8025-56d15d485d43",
   "metadata": {},
   "outputs": [
    {
     "data": {
      "text/plain": [
       "120"
      ]
     },
     "execution_count": 107,
     "metadata": {},
     "output_type": "execute_result"
    }
   ],
   "source": [
    "factorial(5)"
   ]
  },
  {
   "cell_type": "markdown",
   "id": "4ac01a7a-5b3d-41e0-871a-d91b02c21b29",
   "metadata": {},
   "source": [
    "## 5.1 ramdom\n",
    "\n",
    "- random.random() : 0 ~ 1 사이의 랜덤한 소수를 만들어냄.\n",
    "- random.randint(1,n) : 1부터 n이하로 랜덤하게 정수 만들어냄.\n",
    "- random.seed(k) : 랜덤하게 생성된 값을 고정하고 싶을때\n",
    "  \n",
    "    - random.shuffle(시퀀스) : 시퀀스 안에서 배열을 섞어줌.\n",
    "    - random.choice(시퀀스,k) : 중복될 가능성 있음. \n",
    "    - random.sample(시퀀스,k) : 중복되지 않게 랜덤"
   ]
  },
  {
   "cell_type": "code",
   "execution_count": 108,
   "id": "729aa0e7-be90-4037-97f2-eb0751c93052",
   "metadata": {},
   "outputs": [],
   "source": [
    "import random"
   ]
  },
  {
   "cell_type": "code",
   "execution_count": null,
   "id": "47d9f487-352d-437a-9743-60e48af9ab44",
   "metadata": {},
   "outputs": [],
   "source": [
    "# 랜덤이라는 파일안에 랜덤이라는 함수가 들어있다.\n",
    "# 0 ~ 1 사이에 랜덤한 소수를 만들어냄.\n",
    "\n",
    "random.random()"
   ]
  },
  {
   "cell_type": "code",
   "execution_count": 127,
   "id": "b5d0a413-d11b-4c38-bd27-64ef1ebd010d",
   "metadata": {},
   "outputs": [
    {
     "data": {
      "text/plain": [
       "6"
      ]
     },
     "execution_count": 127,
     "metadata": {},
     "output_type": "execute_result"
    }
   ],
   "source": [
    "# random.randint(,) => 지정 범위 안에서의 자연수\n",
    "\n",
    "random.randint(1,10)"
   ]
  },
  {
   "cell_type": "code",
   "execution_count": 137,
   "id": "cb36fefc-2114-4767-9da6-1115e74a35f5",
   "metadata": {},
   "outputs": [
    {
     "data": {
      "text/plain": [
       "0.052363598850944326"
      ]
     },
     "execution_count": 137,
     "metadata": {},
     "output_type": "execute_result"
    }
   ],
   "source": [
    "# random.seed => 랜덤하게 데이터를 고정할때 \n",
    "# 다른 사람 컴퓨터에서도 랜덤하게 생성한 결과값을 고정하고 싶을때\n",
    "\n",
    "random.seed(123)\n",
    "random.random()"
   ]
  },
  {
   "cell_type": "code",
   "execution_count": 140,
   "id": "3614eb6e-5375-402d-befe-2c93041f71c7",
   "metadata": {},
   "outputs": [],
   "source": [
    "numbers = [1,2,3,4,5]"
   ]
  },
  {
   "cell_type": "code",
   "execution_count": 143,
   "id": "311d4d8e-b91b-4662-a7d7-c8b4fcca9956",
   "metadata": {},
   "outputs": [
    {
     "name": "stdout",
     "output_type": "stream",
     "text": [
      "[1, 3, 4, 2, 5]\n"
     ]
    }
   ],
   "source": [
    "# random.shuffle => 리스트 안에 배열을 섞어줌.\n",
    "\n",
    "random.shuffle(numbers)\n",
    "print(numbers)"
   ]
  },
  {
   "cell_type": "code",
   "execution_count": 149,
   "id": "3cb568f5-7bea-4097-a6f3-24b95bef3500",
   "metadata": {},
   "outputs": [
    {
     "data": {
      "text/plain": [
       "2"
      ]
     },
     "execution_count": 149,
     "metadata": {},
     "output_type": "execute_result"
    }
   ],
   "source": [
    "# random.choice => 랜덤하게 선택\n",
    "\n",
    "random.choice(numbers)\n",
    "\n",
    "# => 중복되어서 프린트될 확률 있음"
   ]
  },
  {
   "cell_type": "code",
   "execution_count": 162,
   "id": "99870433-3fce-4c46-9502-fbb97b3a8d05",
   "metadata": {},
   "outputs": [
    {
     "data": {
      "text/plain": [
       "[1, 3]"
      ]
     },
     "execution_count": 162,
     "metadata": {},
     "output_type": "execute_result"
    }
   ],
   "source": [
    "# random.sample => 중복되지 않게 랜덤하게 선택\n",
    "\n",
    "random.sample(numbers,2)"
   ]
  },
  {
   "cell_type": "code",
   "execution_count": 175,
   "id": "698c91c3-ada5-4dcd-bd4e-a9ad0aa55fd7",
   "metadata": {},
   "outputs": [
    {
     "data": {
      "text/plain": [
       "[3, 4, 5, 1]"
      ]
     },
     "execution_count": 175,
     "metadata": {},
     "output_type": "execute_result"
    }
   ],
   "source": [
    "numbers = [1,2,3,4,5,6]\n",
    "\n",
    "random.sample(numbers, 4)"
   ]
  },
  {
   "cell_type": "markdown",
   "id": "77545abf-dd90-4fc2-a69e-ffddbb1bfb5c",
   "metadata": {},
   "source": [
    "## 5.2 datetime"
   ]
  },
  {
   "cell_type": "code",
   "execution_count": null,
   "id": "c10c8a60-166c-45a4-9aba-39e3f7fd0ff9",
   "metadata": {},
   "outputs": [],
   "source": [
    "from datetime import datetime"
   ]
  },
  {
   "cell_type": "code",
   "execution_count": null,
   "id": "bf6a721f-ee89-4f18-b6fd-f18ee8c99011",
   "metadata": {},
   "outputs": [],
   "source": [
    "datetime.now()"
   ]
  },
  {
   "cell_type": "code",
   "execution_count": null,
   "id": "ef6dd775-dd23-44ae-84e0-be92ed31cce8",
   "metadata": {},
   "outputs": [],
   "source": [
    "datetime.today()"
   ]
  },
  {
   "cell_type": "code",
   "execution_count": null,
   "id": "40507f66-2232-4211-a1b6-7c80b5639eb8",
   "metadata": {},
   "outputs": [],
   "source": [
    "datetime.utcnow()"
   ]
  },
  {
   "cell_type": "code",
   "execution_count": null,
   "id": "b3ad59d6-b5ae-4b24-b662-309b3dcf4c5f",
   "metadata": {},
   "outputs": [],
   "source": [
    "# datetime.utcnow()\n",
    "datetime.now(datetime.UTC)"
   ]
  },
  {
   "cell_type": "code",
   "execution_count": null,
   "id": "33124ba8-f5e5-41a4-a8ce-cc1643453c73",
   "metadata": {},
   "outputs": [],
   "source": [
    "now = datetime.now()"
   ]
  },
  {
   "cell_type": "code",
   "execution_count": null,
   "id": "463f37e9-d794-4e63-bf41-4d730d731a7e",
   "metadata": {},
   "outputs": [],
   "source": [
    "now"
   ]
  },
  {
   "cell_type": "code",
   "execution_count": null,
   "id": "ca2e981f-301a-4cd9-9cde-567de697f34d",
   "metadata": {},
   "outputs": [],
   "source": [
    "now.year"
   ]
  },
  {
   "cell_type": "code",
   "execution_count": null,
   "id": "573030ab-de1e-4698-9602-2b6e1a48b161",
   "metadata": {},
   "outputs": [],
   "source": [
    "now.month"
   ]
  },
  {
   "cell_type": "code",
   "execution_count": null,
   "id": "7ec11530-494b-4060-9bbf-1e1c82bc7ea5",
   "metadata": {},
   "outputs": [],
   "source": [
    "now.day"
   ]
  },
  {
   "cell_type": "code",
   "execution_count": null,
   "id": "1b2b21e3-4d5c-4801-97e3-9f984e6a7100",
   "metadata": {},
   "outputs": [],
   "source": [
    "now.weekday()"
   ]
  },
  {
   "cell_type": "code",
   "execution_count": null,
   "id": "9603cbd8-3db1-40b1-b41d-7db647682d6b",
   "metadata": {},
   "outputs": [],
   "source": [
    "print(now)"
   ]
  },
  {
   "cell_type": "code",
   "execution_count": null,
   "id": "8a71073b-b0ac-4a06-b913-24a9c01c464c",
   "metadata": {},
   "outputs": [],
   "source": [
    "now.strftime('%Y년 %m월 %d일')"
   ]
  },
  {
   "cell_type": "code",
   "execution_count": null,
   "id": "667466f7-ef42-4844-a513-5c618cd9588e",
   "metadata": {},
   "outputs": [],
   "source": [
    "now.strftime('%Y년 %B월 %d일')"
   ]
  },
  {
   "cell_type": "code",
   "execution_count": null,
   "id": "992e0b08-ef7f-42dd-86d0-b80c86c4ecd4",
   "metadata": {},
   "outputs": [],
   "source": [
    "x_mas = datetime(2025,12,25)\n",
    "print(x_mas)"
   ]
  },
  {
   "cell_type": "code",
   "execution_count": null,
   "id": "c3ce1fd1-cbe5-4b00-bbe8-0f68dc86997e",
   "metadata": {},
   "outputs": [],
   "source": [
    "from datetime import timedelta"
   ]
  },
  {
   "cell_type": "code",
   "execution_count": null,
   "id": "72171d17-3e4e-4057-91f5-a0184be178ba",
   "metadata": {},
   "outputs": [],
   "source": [
    "# timedelta 특정 날짜로부터 몇일 뒤를 계산 가능\n",
    "\n",
    "future = timedelta(days=-100)\n",
    "print(x_mas + future)"
   ]
  },
  {
   "cell_type": "code",
   "execution_count": null,
   "id": "1fd48645-d512-4863-8d49-701108420644",
   "metadata": {},
   "outputs": [],
   "source": [
    "x_mas - now"
   ]
  },
  {
   "cell_type": "markdown",
   "id": "232e2b8e-3f5b-49c1-adce-2905bfe8b6cc",
   "metadata": {},
   "source": [
    "# 6. HTTP\n",
    "- 브라우저, 서버가 주고받는 요청과 응답의 형태(request, response)"
   ]
  },
  {
   "cell_type": "markdown",
   "id": "d82eb107-c266-49f9-b535-92ee00c6bb3b",
   "metadata": {},
   "source": [
    "## 6.1 외부 라이브러리"
   ]
  },
  {
   "cell_type": "markdown",
   "id": "5e13311d-b935-4888-8552-4eee5b02e069",
   "metadata": {},
   "source": [
    "### requests"
   ]
  },
  {
   "cell_type": "code",
   "execution_count": 8,
   "id": "b6993f7f-d529-4035-8981-4be7dc659549",
   "metadata": {},
   "outputs": [],
   "source": [
    "import requests"
   ]
  },
  {
   "cell_type": "code",
   "execution_count": null,
   "id": "ef1676df-7782-49f9-a5ce-901d9eead128",
   "metadata": {},
   "outputs": [],
   "source": [
    "r = requests.get('https://api.github.com/events') #github에서 필요한 정보를 r.에 저장한 형태"
   ]
  },
  {
   "cell_type": "code",
   "execution_count": 177,
   "id": "3cd4a812-6dd1-40f2-a432-9578384efb2e",
   "metadata": {},
   "outputs": [
    {
     "name": "stdout",
     "output_type": "stream",
     "text": [
      "<Response [200]>\n",
      "<class 'str'>\n"
     ]
    }
   ],
   "source": [
    "print(r)\n",
    "print(type('a'))"
   ]
  },
  {
   "cell_type": "code",
   "execution_count": null,
   "id": "27320c72-d1f3-43f8-b3aa-104d08ebd740",
   "metadata": {
    "scrolled": true
   },
   "outputs": [],
   "source": [
    "# . 상위 개념에서 접근할 때 사용\n",
    "\n",
    "print(r.text)"
   ]
  },
  {
   "cell_type": "code",
   "execution_count": null,
   "id": "42a1a8d6-6cdf-438f-a585-f00050aae04b",
   "metadata": {},
   "outputs": [],
   "source": [
    "# requests: 요청을 보냈을 때 텍스트만 보내줌.\n",
    "\n",
    "r = requests.get('https://naver.com')\n",
    "print(r.text)"
   ]
  },
  {
   "cell_type": "code",
   "execution_count": 178,
   "id": "a75e9088-354a-4a7f-b2f9-c0f0c1ddfb86",
   "metadata": {
    "collapsed": true,
    "jupyter": {
     "outputs_hidden": true
    }
   },
   "outputs": [
    {
     "name": "stdout",
     "output_type": "stream",
     "text": [
      "{\n",
      "  \"method\": \"GET\",\n",
      "  \"args\": {\n",
      "    \"key1\": \"value1\",\n",
      "    \"key2\": \"value2\"\n",
      "  },\n",
      "  \"headers\": {\n",
      "    \"Accept\": \"*/*\",\n",
      "    \"Accept-Encoding\": \"gzip, deflate\",\n",
      "    \"Host\": \"httpbun.org\",\n",
      "    \"User-Agent\": \"python-requests/2.32.3\"\n",
      "  },\n",
      "  \"origin\": \"183.96.187.252\",\n",
      "  \"url\": \"https://httpbun.org/get?key1=value1&key2=value2\",\n",
      "  \"form\": {},\n",
      "  \"data\": \"\",\n",
      "  \"json\": null,\n",
      "  \"files\": {}\n",
      "}\n",
      "\n",
      "https://httpbun.org/get?key1=value1&key2=value2\n"
     ]
    }
   ],
   "source": [
    "payload = {'key1': 'value1', 'key2': 'value2'}\n",
    "r = requests.get('https://httpbun.org/get',params=payload) #params라는 공간에 payload라는 딕셔너리를 넣어줌. / 추가적인 정보 필요시 params 사용\n",
    "print(r.text)\n",
    "print(r. url)"
   ]
  },
  {
   "cell_type": "markdown",
   "id": "414f5609-1059-47fa-bb0e-fb97ad3c7486",
   "metadata": {},
   "source": [
    "### ex) 네이버에 자바를 검색했을 경우\n",
    "\n",
    "https://search.naver.com/search.naver #물음표 앞만 작동 가능\n",
    "? #물음표 뒤는 선택적 정보\n",
    "where=nexearch&sm=top_sug.pre&fbm=0&acr=1&acq=java&qdt=0&ie=utf8&query=java #params (추가적인 정보)"
   ]
  },
  {
   "cell_type": "code",
   "execution_count": null,
   "id": "a2de43ca-8512-4324-8d23-76f68c185b28",
   "metadata": {},
   "outputs": [],
   "source": [
    "payload = {'query': '파이썬'}\n",
    "r = requests.get('https://search.naver.com/search.naver', params=payload) #물음표 앞까지\n",
    "print(r.url)"
   ]
  },
  {
   "cell_type": "code",
   "execution_count": 180,
   "id": "165d64bb-fb0f-4d0d-a4f9-2eb06e1ad0a8",
   "metadata": {},
   "outputs": [
    {
     "name": "stdout",
     "output_type": "stream",
     "text": [
      "<class 'list'>\n",
      "<bound method Response.json of <Response [200]>>\n"
     ]
    }
   ],
   "source": [
    "r = requests.get('https://api.github.com/events')\n",
    "print(type(r.json())) # 아래 정보를 json이라 함.\n",
    "print(r.json) #외부의 있는 정보 중 딕셔너리와 비슷한 경우 딕셔너리로 바꿈."
   ]
  },
  {
   "cell_type": "markdown",
   "id": "86542306-a9b5-46ad-af56-ad9418f7d3ab",
   "metadata": {},
   "source": [
    "# api\n",
    "- 애플리케이션 프로그래밍 인터페이스\n",
    "- 컴퓨터나 컴퓨터 프로그램 사이의 연결을 의미 (나 - 어플리케이션 사이의 접전을 만들어줌.)\n",
    "- 오픈 api 활용 "
   ]
  },
  {
   "cell_type": "markdown",
   "id": "45ec3b20-6e72-4e2a-b6c6-448527895e9e",
   "metadata": {},
   "source": [
    "#### 동행복권 로또 번호 url\n",
    "https://www.dhlottery.co.kr/common.do\n",
    "\n",
    "?\n",
    "\n",
    "method=getLottoNumber\n",
    "\n",
    "&\n",
    "\n",
    "drwNo=1159 #회차번호"
   ]
  },
  {
   "cell_type": "code",
   "execution_count": 181,
   "id": "6db321c0-a540-491f-9475-ec55fc673cd4",
   "metadata": {},
   "outputs": [
    {
     "name": "stdout",
     "output_type": "stream",
     "text": [
      "{\"totSellamnt\":124802304000,\"returnValue\":\"success\",\"drwNoDate\":\"2025-02-15\",\"firstWinamnt\":1284854250,\"drwtNo6\":39,\"drwtNo4\":28,\"firstPrzwnerCo\":23,\"drwtNo5\":38,\"bnusNo\":7,\"firstAccumamnt\":29551647750,\"drwNo\":1159,\"drwtNo2\":9,\"drwtNo3\":27,\"drwtNo1\":3}\n",
      "2025-02-15\n",
      "3\n",
      "9\n",
      "27\n",
      "28\n",
      "38\n",
      "39\n"
     ]
    }
   ],
   "source": [
    "lotto_url = 'https://www.dhlottery.co.kr/common.do'\n",
    "\n",
    "payload = {\n",
    "    'method':'getLottoNumber',\n",
    "    'drwNo' : 1159,\n",
    "}\n",
    "\n",
    "r = requests.get(lotto_url, params=payload)\n",
    "# print(r. url)\n",
    "\n",
    "\n",
    "# text와 json의 차이 / r.json은 dictionary로 바꿔줌.\n",
    "print(r. text)\n",
    "\n",
    "lotto_dict = r.json()\n",
    "\n",
    "print(lotto_dict['drwNoDate'])\n",
    "# print(lotto_dict['drwtNo1'])\n",
    "# print(lotto_dict['drwtNo2'])\n",
    "# print(lotto_dict['drwtNo3'])\n",
    "# print(lotto_dict['drwtNo4'])\n",
    "# print(lotto_dict['drwtNo5'])\n",
    "# print(lotto_dict['drwtNo6'])\n",
    "\n",
    "\n",
    "# for문으로 print\n",
    "for i in range(1,7):\n",
    "    print(lotto_dict[f'drwtNo{i}'])\n",
    "\n",
    "    \n",
    "# list로 저장 후 append로 print"
   ]
  },
  {
   "cell_type": "markdown",
   "id": "f0c57ef6-f852-49be-8751-4790fb23473a",
   "metadata": {},
   "source": [
    "# 로또 번호 추첨 후 1등인지 당첨 발표하는 프로그램\n",
    "\n",
    "1. 로또 5000원 구매하기\n",
    "    - 랜덤으로 6개 숫자로 이루어진 5개 세트의 로또 번호를 생성\n",
    "\n",
    "2. 등수 확인하기\n",
    "      - 최신회차의 당첨 번호와 생성된 번호를 비교하여 몇등인지 출력합니다.\n",
    "\n",
    "3. 1,3,4,5,꽝\n",
    "      - 2등"
   ]
  },
  {
   "cell_type": "code",
   "execution_count": 1,
   "id": "37dc1cb9-c193-4923-ae2d-2d00d5c4f262",
   "metadata": {},
   "outputs": [],
   "source": [
    "import random"
   ]
  },
  {
   "cell_type": "code",
   "execution_count": 48,
   "id": "c7a4eaff-6ba4-4840-a4b6-894b414c194e",
   "metadata": {},
   "outputs": [
    {
     "name": "stdout",
     "output_type": "stream",
     "text": [
      "[34, 5, 40, 31, 45, 39]\n",
      "[38, 2, 8, 26, 1, 24]\n",
      "[31, 25, 10, 8, 42, 20]\n",
      "[42, 23, 32, 39, 2, 6]\n",
      "[35, 38, 8, 31, 29, 11]\n"
     ]
    }
   ],
   "source": [
    "# 1\n",
    "\n",
    "numbers = range(1,46)\n",
    "a = random.sample(numbers, 6)\n",
    "print(a)\n",
    "\n",
    "b = random.sample(numbers, 6)\n",
    "print(b)\n",
    "\n",
    "c = random.sample(numbers, 6)\n",
    "print(c)\n",
    "\n",
    "d = random.sample(numbers, 6)\n",
    "print(d)\n",
    "\n",
    "e = random.sample(numbers, 6)\n",
    "print(e)"
   ]
  },
  {
   "cell_type": "code",
   "execution_count": 46,
   "id": "db219c36-c76b-49cf-b212-eaea5b0926fe",
   "metadata": {},
   "outputs": [
    {
     "name": "stdout",
     "output_type": "stream",
     "text": [
      "[27, 36, 17, 23, 4, 13]\n",
      "[31, 37, 7, 30, 25, 27]\n",
      "[14, 38, 36, 34, 17, 21]\n",
      "[20, 6, 26, 10, 40, 1]\n",
      "[28, 26, 6, 31, 18, 17]\n"
     ]
    }
   ],
   "source": [
    "import random\n",
    "\n",
    "numbers = range(1, 46)\n",
    "\n",
    "for _ in range(5):  # 5번 반복\n",
    "    result = random.sample(numbers, 6)\n",
    "    print(result)"
   ]
  },
  {
   "cell_type": "code",
   "execution_count": 49,
   "id": "0cf4b0b8-f36a-4ce0-a189-cd63a3606bad",
   "metadata": {},
   "outputs": [
    {
     "name": "stdout",
     "output_type": "stream",
     "text": [
      "{'A': [13, 12, 16, 6, 21, 25], 'B': [22, 41, 42, 44, 38, 24], 'C': [1, 8, 24, 36, 15, 18], 'D': [13, 45, 44, 29, 28, 25], 'E': [25, 22, 16, 13, 38, 20]}\n",
      "[3, 9, 27, 28, 38, 39]\n"
     ]
    }
   ],
   "source": [
    "# 1\n",
    "\n",
    "import random\n",
    "\n",
    "numbers = range(1, 46)\n",
    "my_lotto = {}\n",
    "\n",
    "for label in [\"A\", \"B\", \"C\", \"D\", \"E\"]:\n",
    "    result = random.sample(numbers, 6)\n",
    "    my_lotto[label] = result\n",
    "\n",
    "print(my_lotto)\n",
    "\n",
    "#2 \n",
    "result = []\n",
    "\n",
    "for i in range(1, 7):\n",
    "    result.append(lotto_dict[f'drwtNo{i}'])\n",
    "\n",
    "print(result)"
   ]
  },
  {
   "cell_type": "markdown",
   "id": "edc487ec-dac0-4fc5-9d11-619ee7a97593",
   "metadata": {},
   "source": [
    "- 5등 3개 \n",
    "- 4등 4개 \n",
    "- 3등 5개 동일\n",
    "- 2등 5개 동일 + 보너스\n",
    "- 1등 6개 + 보너스 숫자까지 "
   ]
  },
  {
   "cell_type": "code",
   "execution_count": 50,
   "id": "92091bd5-c15b-4f01-af4e-551ee0c6a6ff",
   "metadata": {},
   "outputs": [
    {
     "name": "stdout",
     "output_type": "stream",
     "text": [
      "['A: 꽝', 'B: 꽝', 'C: 꽝', 'D: 꽝', 'E: 꽝']\n"
     ]
    }
   ],
   "source": [
    "#3\n",
    "new = []\n",
    "\n",
    "for k,v in my_lotto.items():\n",
    "    difference = len(list(set(v) - set(result)))\n",
    "\n",
    "    if difference >= 4:        \n",
    "        new.append(f'{k}: 꽝')\n",
    "        \n",
    "    elif difference >= 3:\n",
    "        new.append(f'{k}: 5등')\n",
    "        \n",
    "    elif difference >= 2:\n",
    "        new.append(f'{k}: 4등')\n",
    "    \n",
    "    elif difference >= 1:\n",
    "       new.append(f'{k}: 3등')\n",
    "    \n",
    "    else:\n",
    "        new.append(f'{k}: 1등')\n",
    "        \n",
    "print(new)"
   ]
  },
  {
   "cell_type": "code",
   "execution_count": 95,
   "id": "6dbd5158-efe3-408e-ab2a-8625035b18c8",
   "metadata": {},
   "outputs": [
    {
     "name": "stdout",
     "output_type": "stream",
     "text": [
      "{1: [3, 5, 17, 18, 25, 40], 2: [1, 3, 8, 9, 35, 40], 3: [3, 9, 19, 20, 36, 39], 4: [4, 16, 21, 29, 32, 34], 5: [20, 21, 23, 27, 34, 38]}\n"
     ]
    }
   ],
   "source": [
    "#1 로또번호 생성 \n",
    "\n",
    "import random\n",
    "\n",
    "my_numbers = {} #키값이 필요할 때 딕셔너리\n",
    "\n",
    "for i in range(1,6): #1~5개의 세트 생성\n",
    "    random_numbers = random.sample(range(1,46),6) #1~45까지를 6가지 수 뽑기\n",
    "    random_numbers.sort() #.sort 오름차순 정렬\n",
    "    my_numbers[i] = random_numbers\n",
    "\n",
    "print(my_numbers)"
   ]
  },
  {
   "cell_type": "code",
   "execution_count": 86,
   "id": "c4dcebfb-b9d7-425e-83cc-61b653fc971c",
   "metadata": {},
   "outputs": [
    {
     "name": "stdout",
     "output_type": "stream",
     "text": [
      "{\"totSellamnt\":124802304000,\"returnValue\":\"success\",\"drwNoDate\":\"2025-02-15\",\"firstWinamnt\":1284854250,\"drwtNo6\":39,\"drwtNo4\":28,\"firstPrzwnerCo\":23,\"drwtNo5\":38,\"bnusNo\":7,\"firstAccumamnt\":29551647750,\"drwNo\":1159,\"drwtNo2\":9,\"drwtNo3\":27,\"drwtNo1\":3}\n",
      "[39, 28, 38, 9, 27, 3]\n"
     ]
    }
   ],
   "source": [
    "# 2. 최신회차 당첨번호 수집\n",
    "\n",
    "import requests\n",
    "\n",
    "LOTTO_URL = 'https://www.dhlottery.co.kr/common.do' # 변하지 않은 상수 : 대문자로 작성\n",
    "\n",
    "payload = {\n",
    "    'method':'getLottoNumber',\n",
    "    'drwNo' : 1159,\n",
    "}\n",
    "\n",
    "r = requests.get(LOTTO_URL, params=payload) #r = response 의미\n",
    "# print(r. url)\n",
    "# text와 json의 차이 / r.json은 dictionary로 바꿔줌.\n",
    "\n",
    "print(r. text)\n",
    "\n",
    "lotto_dict = r.json()\n",
    "\n",
    "lucky_numbers = []\n",
    "bonus_numbers = lotto_dict['bnusNo']\n",
    "\n",
    "for k,v in lotto_dict.items():\n",
    "    if 'drwtNo' in k:\n",
    "        lucky_numbers.append(v)\n",
    "\n",
    "print(lucky_numbers)"
   ]
  },
  {
   "cell_type": "code",
   "execution_count": 87,
   "id": "541693fc-8eb7-40bf-939b-758d11ae08cf",
   "metadata": {},
   "outputs": [
    {
     "name": "stdout",
     "output_type": "stream",
     "text": [
      "{1: [5, 8, 11, 23, 29, 36], 2: [7, 10, 12, 17, 32, 40], 3: [3, 4, 17, 41, 42, 45], 4: [11, 12, 13, 15, 17, 45], 5: [25, 26, 35, 37, 39, 41]}\n",
      "[39, 28, 38, 9, 27, 3]\n",
      "7\n"
     ]
    }
   ],
   "source": [
    "print(my_numbers)\n",
    "print(lucky_numbers)\n",
    "print(bonus_numbers)"
   ]
  },
  {
   "cell_type": "markdown",
   "id": "08904423-2c62-49c9-8bca-97a0332eadc4",
   "metadata": {},
   "source": [
    "# 3. 등수 확인하기\n",
    "\n",
    "# 있는지 없는지 카운팅 필요\n",
    "# for문 활용시\n",
    "for key,value in my_numbers.items():\n",
    "    for i in value:\n",
    "        for j in range(6):\n",
    "            if i == lucky_numbers[j]:\n",
    "\n",
    "        print(i)"
   ]
  },
  {
   "cell_type": "code",
   "execution_count": 88,
   "id": "eaac8119-5a54-46f0-b7f9-95ab2ab77215",
   "metadata": {},
   "outputs": [
    {
     "name": "stdout",
     "output_type": "stream",
     "text": [
      "ㅜㅜ\n",
      "ㅜㅜ\n",
      "ㅜㅜ\n",
      "ㅜㅜ\n",
      "ㅜㅜ\n"
     ]
    }
   ],
   "source": [
    "# 3. 등수 확인하기\n",
    "\n",
    "for my_number in my_numbers.values():\n",
    "    my_number_set = set(my_number)\n",
    "    lucky_numbers_set = set(lucky_numbers)\n",
    "\n",
    "    match_count = len(my_number_set & lucky_numbers_set)\n",
    "      \n",
    "    if match_count == 6:\n",
    "        print('1등!!!')\n",
    "    elif match_count == 5 and bonus_number in my_number:\n",
    "        print('2등!!!')\n",
    "    elif match_count == 5:\n",
    "        print('3등!')\n",
    "    elif match_count == 4:\n",
    "        print('4등')\n",
    "    elif match_count == 3:\n",
    "        print('5')\n",
    "    else:\n",
    "        print('ㅜㅜ')"
   ]
  },
  {
   "cell_type": "code",
   "execution_count": null,
   "id": "267e77b1-34b8-4d3d-a819-3153b40bff55",
   "metadata": {},
   "outputs": [],
   "source": []
  }
 ],
 "metadata": {
  "kernelspec": {
   "display_name": "Python 3 (ipykernel)",
   "language": "python",
   "name": "python3"
  },
  "language_info": {
   "codemirror_mode": {
    "name": "ipython",
    "version": 3
   },
   "file_extension": ".py",
   "mimetype": "text/x-python",
   "name": "python",
   "nbconvert_exporter": "python",
   "pygments_lexer": "ipython3",
   "version": "3.13.2"
  }
 },
 "nbformat": 4,
 "nbformat_minor": 5
}
