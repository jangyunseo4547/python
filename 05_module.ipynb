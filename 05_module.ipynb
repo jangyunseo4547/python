{
 "cells": [
  {
   "cell_type": "markdown",
   "id": "982c1e85-7fcf-409d-8a6e-74b304bed6fa",
   "metadata": {},
   "source": [
    "# 모듈"
   ]
  },
  {
   "cell_type": "code",
   "execution_count": null,
   "id": "d9242f1b-0bb5-4ed3-8d0e-6f685246bd52",
   "metadata": {},
   "outputs": [],
   "source": [
    "import fact"
   ]
  },
  {
   "cell_type": "code",
   "execution_count": null,
   "id": "8caa041d-ab95-401f-83c5-391f3b64323d",
   "metadata": {},
   "outputs": [],
   "source": [
    "print(fact)"
   ]
  },
  {
   "cell_type": "code",
   "execution_count": null,
   "id": "4e4cb3f3-8649-4849-805c-a387c70ce758",
   "metadata": {},
   "outputs": [],
   "source": [
    "fact.factorial(5)"
   ]
  },
  {
   "cell_type": "code",
   "execution_count": null,
   "id": "827b7958-7099-492d-9d16-240e47b77e72",
   "metadata": {},
   "outputs": [],
   "source": [
    "fact.my_max(2,3)"
   ]
  },
  {
   "cell_type": "markdown",
   "id": "084aaa3c-8c73-479d-b4b8-20c96f7dae43",
   "metadata": {},
   "source": [
    "# 패키지\n",
    "\n",
    "#변수이름 저장\n",
    "```\n",
    "my_Package/\n",
    "    __init__.py\n",
    "    math/\n",
    "        __init__.py\n",
    "```\n",
    "\n",
    "- 패키지 안에 `__init__.py`파일이 존재해야 패키지로 인식"
   ]
  },
  {
   "cell_type": "code",
   "execution_count": 1,
   "id": "18404107-8d26-42c9-9b1e-850ba7f80619",
   "metadata": {},
   "outputs": [],
   "source": [
    "import myPackage"
   ]
  },
  {
   "cell_type": "code",
   "execution_count": 2,
   "id": "8af98f1f-59e1-4f73-911a-bc3fcdd1a956",
   "metadata": {},
   "outputs": [
    {
     "name": "stdout",
     "output_type": "stream",
     "text": [
      "<module 'myPackage' from 'C:\\\\Users\\\\1-17\\\\Desktop\\\\DAMF2\\\\python\\\\myPackage\\\\__init__.py'>\n"
     ]
    }
   ],
   "source": [
    "print(myPackage)"
   ]
  },
  {
   "cell_type": "code",
   "execution_count": 3,
   "id": "4a56a7d8-608e-4f8d-9fcc-3cc7971996d6",
   "metadata": {},
   "outputs": [
    {
     "ename": "AttributeError",
     "evalue": "module 'myPackage' has no attribute 'math'",
     "output_type": "error",
     "traceback": [
      "\u001b[1;31m---------------------------------------------------------------------------\u001b[0m",
      "\u001b[1;31mAttributeError\u001b[0m                            Traceback (most recent call last)",
      "Cell \u001b[1;32mIn[3], line 1\u001b[0m\n\u001b[1;32m----> 1\u001b[0m \u001b[43mmyPackage\u001b[49m\u001b[38;5;241;43m.\u001b[39;49m\u001b[43mmath\u001b[49m\u001b[38;5;241m.\u001b[39mfomula\u001b[38;5;241m.\u001b[39mmy_max(\u001b[38;5;241m2\u001b[39m,\u001b[38;5;241m3\u001b[39m)\n",
      "\u001b[1;31mAttributeError\u001b[0m: module 'myPackage' has no attribute 'math'"
     ]
    }
   ],
   "source": [
    "myPackage.math.fomula.my_max(2,3)"
   ]
  },
  {
   "cell_type": "code",
   "execution_count": 4,
   "id": "a57456c3-eefc-4a20-819c-fabad3067220",
   "metadata": {},
   "outputs": [],
   "source": [
    "# myPackage-> math -> 모듈 --> import my_max 함수 추가\n",
    "\n",
    "from myPackage.math.fomula import my_max"
   ]
  },
  {
   "cell_type": "code",
   "execution_count": 7,
   "id": "6bbef920-4ae2-4d13-9921-6cde5e17387d",
   "metadata": {},
   "outputs": [
    {
     "data": {
      "text/plain": [
       "3"
      ]
     },
     "execution_count": 7,
     "metadata": {},
     "output_type": "execute_result"
    }
   ],
   "source": [
    "my_max(2,3)"
   ]
  },
  {
   "cell_type": "code",
   "execution_count": 8,
   "id": "cee4e96b-ace1-4ac9-9fb6-76f12cfe571a",
   "metadata": {},
   "outputs": [],
   "source": [
    "from myPackage.math import fomula\n"
   ]
  },
  {
   "cell_type": "code",
   "execution_count": 9,
   "id": "bcdf6695-2ccd-4e28-926c-1cf47ab61a4a",
   "metadata": {},
   "outputs": [
    {
     "data": {
      "text/plain": [
       "3"
      ]
     },
     "execution_count": 9,
     "metadata": {},
     "output_type": "execute_result"
    }
   ],
   "source": [
    "fomula.my_max(2,3)"
   ]
  },
  {
   "cell_type": "code",
   "execution_count": null,
   "id": "c3c16302-a893-48c0-aa7a-6bf2fb977b54",
   "metadata": {},
   "outputs": [],
   "source": [
    "from myPackage.math.fomula import *\n",
    "print(pi)"
   ]
  },
  {
   "cell_type": "code",
   "execution_count": null,
   "id": "c0a96fbd-c310-4128-90b4-f6d75b3af801",
   "metadata": {},
   "outputs": [],
   "source": [
    "fomula = 1234\n",
    "from myPackage.math import fomula as f\n",
    "print(fomula)\n",
    "print(f)"
   ]
  },
  {
   "cell_type": "markdown",
   "id": "b0cb2a3b-4050-494a-8669-31be965fdb0f",
   "metadata": {},
   "source": [
    "# 파이썬 내장 패키지"
   ]
  },
  {
   "cell_type": "code",
   "execution_count": 12,
   "id": "53b2ac0e-a924-4e39-9bb2-9288129a5337",
   "metadata": {},
   "outputs": [],
   "source": [
    "import math"
   ]
  },
  {
   "cell_type": "code",
   "execution_count": 14,
   "id": "5a98906f-7177-4241-8165-5a3c85f85c4b",
   "metadata": {},
   "outputs": [
    {
     "data": {
      "text/plain": [
       "3.141592653589793"
      ]
     },
     "execution_count": 14,
     "metadata": {},
     "output_type": "execute_result"
    }
   ],
   "source": [
    "math.pi"
   ]
  },
  {
   "cell_type": "code",
   "execution_count": 16,
   "id": "da193395-61ce-4be4-9897-31a6984a2d69",
   "metadata": {},
   "outputs": [
    {
     "data": {
      "text/plain": [
       "2.718281828459045"
      ]
     },
     "execution_count": 16,
     "metadata": {},
     "output_type": "execute_result"
    }
   ],
   "source": [
    "math.e"
   ]
  },
  {
   "cell_type": "code",
   "execution_count": 19,
   "id": "ba410927-6243-403f-b003-1848a2de0383",
   "metadata": {},
   "outputs": [
    {
     "data": {
      "text/plain": [
       "3"
      ]
     },
     "execution_count": 19,
     "metadata": {},
     "output_type": "execute_result"
    }
   ],
   "source": [
    "# cell : 반올림\n",
    "\n",
    "math.ceil(math.e)"
   ]
  },
  {
   "cell_type": "code",
   "execution_count": 21,
   "id": "98916309-a07d-4a62-b24d-bdb3f0df78e3",
   "metadata": {},
   "outputs": [
    {
     "data": {
      "text/plain": [
       "2"
      ]
     },
     "execution_count": 21,
     "metadata": {},
     "output_type": "execute_result"
    }
   ],
   "source": [
    "# floor : 내림 처림\n",
    "\n",
    "math.floor(math.e)"
   ]
  },
  {
   "cell_type": "code",
   "execution_count": 26,
   "id": "b647e3e8-76c5-46be-b0ee-1f1235da20ea",
   "metadata": {},
   "outputs": [
    {
     "data": {
      "text/plain": [
       "3.0"
      ]
     },
     "execution_count": 26,
     "metadata": {},
     "output_type": "execute_result"
    }
   ],
   "source": [
    "# sqrt : 루트 계산\n",
    "\n",
    "math.sqrt(9)"
   ]
  },
  {
   "cell_type": "code",
   "execution_count": 30,
   "id": "e00a10fc-1d51-4b3c-b4cb-52577c5a1dfd",
   "metadata": {},
   "outputs": [
    {
     "data": {
      "text/plain": [
       "3628800"
      ]
     },
     "execution_count": 30,
     "metadata": {},
     "output_type": "execute_result"
    }
   ],
   "source": [
    "# factorial : ! 계산\n",
    "\n",
    "math.factorial(10)"
   ]
  },
  {
   "cell_type": "code",
   "execution_count": 32,
   "id": "dbe9209a-2484-43cc-8f86-767288ad6e1c",
   "metadata": {},
   "outputs": [],
   "source": [
    "from math import sqrt, factorial"
   ]
  },
  {
   "cell_type": "code",
   "execution_count": 34,
   "id": "cdcf2bd7-6e13-4c62-8278-5ee6e249a83d",
   "metadata": {},
   "outputs": [
    {
     "data": {
      "text/plain": [
       "4.0"
      ]
     },
     "execution_count": 34,
     "metadata": {},
     "output_type": "execute_result"
    }
   ],
   "source": [
    "sqrt(16)"
   ]
  },
  {
   "cell_type": "code",
   "execution_count": 36,
   "id": "2bcfc57a-ebf6-45ac-8025-56d15d485d43",
   "metadata": {},
   "outputs": [
    {
     "data": {
      "text/plain": [
       "120"
      ]
     },
     "execution_count": 36,
     "metadata": {},
     "output_type": "execute_result"
    }
   ],
   "source": [
    "factorial(5)"
   ]
  },
  {
   "cell_type": "markdown",
   "id": "4ac01a7a-5b3d-41e0-871a-d91b02c21b29",
   "metadata": {},
   "source": [
    "## ramdom"
   ]
  },
  {
   "cell_type": "code",
   "execution_count": 38,
   "id": "729aa0e7-be90-4037-97f2-eb0751c93052",
   "metadata": {},
   "outputs": [],
   "source": [
    "import random"
   ]
  },
  {
   "cell_type": "code",
   "execution_count": 42,
   "id": "47d9f487-352d-437a-9743-60e48af9ab44",
   "metadata": {},
   "outputs": [
    {
     "data": {
      "text/plain": [
       "0.3635654648259302"
      ]
     },
     "execution_count": 42,
     "metadata": {},
     "output_type": "execute_result"
    }
   ],
   "source": [
    "# 랜덤이라는 파일안에 랜덤이라는 함수가 들어있다.\n",
    "# 0 ~ 1 사이에 랜덤한 소수를 만들어냄.\n",
    "\n",
    "random.random()"
   ]
  },
  {
   "cell_type": "code",
   "execution_count": 77,
   "id": "b5d0a413-d11b-4c38-bd27-64ef1ebd010d",
   "metadata": {},
   "outputs": [
    {
     "data": {
      "text/plain": [
       "10"
      ]
     },
     "execution_count": 77,
     "metadata": {},
     "output_type": "execute_result"
    }
   ],
   "source": [
    "# random.randint(,) => 지정 범위 안에서의 자연수\n",
    "\n",
    "random.randint(1,10)"
   ]
  },
  {
   "cell_type": "code",
   "execution_count": 62,
   "id": "cb36fefc-2114-4767-9da6-1115e74a35f5",
   "metadata": {},
   "outputs": [
    {
     "data": {
      "text/plain": [
       "0.052363598850944326"
      ]
     },
     "execution_count": 62,
     "metadata": {},
     "output_type": "execute_result"
    }
   ],
   "source": [
    "# random.seed => 랜덤하게 데이터를 고정할때\n",
    "\n",
    "random.seed(123)\n",
    "random.random()"
   ]
  },
  {
   "cell_type": "code",
   "execution_count": 64,
   "id": "3614eb6e-5375-402d-befe-2c93041f71c7",
   "metadata": {},
   "outputs": [],
   "source": [
    "numbers = [1,2,3,4,5]"
   ]
  },
  {
   "cell_type": "code",
   "execution_count": 74,
   "id": "311d4d8e-b91b-4662-a7d7-c8b4fcca9956",
   "metadata": {},
   "outputs": [
    {
     "name": "stdout",
     "output_type": "stream",
     "text": [
      "[3, 2, 1, 5, 4]\n"
     ]
    }
   ],
   "source": [
    "# random.shuffle => 리스트 안에 배열을 섞어줌.\n",
    "\n",
    "random.shuffle(numbers)\n",
    "print(numbers)"
   ]
  },
  {
   "cell_type": "code",
   "execution_count": 85,
   "id": "3cb568f5-7bea-4097-a6f3-24b95bef3500",
   "metadata": {},
   "outputs": [
    {
     "data": {
      "text/plain": [
       "5"
      ]
     },
     "execution_count": 85,
     "metadata": {},
     "output_type": "execute_result"
    }
   ],
   "source": [
    "# random.choice => 랜덤하게 선택\n",
    "\n",
    "random.choice(numbers)\n",
    "\n",
    "# => 중복되어서 프린트될 확률 있음"
   ]
  },
  {
   "cell_type": "code",
   "execution_count": 89,
   "id": "99870433-3fce-4c46-9502-fbb97b3a8d05",
   "metadata": {},
   "outputs": [
    {
     "data": {
      "text/plain": [
       "[4, 5]"
      ]
     },
     "execution_count": 89,
     "metadata": {},
     "output_type": "execute_result"
    }
   ],
   "source": [
    "# random.sample => 중복되지 않게 랜덤하게 선택\n",
    "\n",
    "random.sample(numbers,2)"
   ]
  },
  {
   "cell_type": "code",
   "execution_count": null,
   "id": "c4a326f7-d56a-4a56-aaaa-32496740c9b2",
   "metadata": {},
   "outputs": [],
   "source": []
  }
 ],
 "metadata": {
  "kernelspec": {
   "display_name": "Python 3 (ipykernel)",
   "language": "python",
   "name": "python3"
  },
  "language_info": {
   "codemirror_mode": {
    "name": "ipython",
    "version": 3
   },
   "file_extension": ".py",
   "mimetype": "text/x-python",
   "name": "python",
   "nbconvert_exporter": "python",
   "pygments_lexer": "ipython3",
   "version": "3.13.2"
  }
 },
 "nbformat": 4,
 "nbformat_minor": 5
}
