{
 "cells": [
  {
   "cell_type": "markdown",
   "id": "9a223368-d299-48c4-b530-5878e6e86290",
   "metadata": {},
   "source": [
    "# 01. 클래스\n",
    "\n",
    "- OOP : 객체 지향 프로그래밍\n",
    "    - 1) 코드의 정의 먼저 작성 \n",
    "    - 2) 클래스 실행 (인스턴스화)\n",
    "\n",
    "```\n",
    "- 클래스 (Class) : 같은 종류의 집단에 속하는 `속성`과 `행동`을 정의한것\n",
    "- 속성 (attribute) : 클래스/인스턴스가 가지고 있는 `데이터 / 값`\n",
    "- 행동 (method) : 클래스/인스턴스가 가지고 있는 `함수 / 기능`\n",
    "- 인스턴스 (instance) : 클래스를 실제로 메로리상에 할당한 것\n",
    "```"
   ]
  },
  {
   "cell_type": "code",
   "execution_count": 12,
   "id": "b1239465-31e3-4b92-abe4-aeee96a2c93a",
   "metadata": {},
   "outputs": [],
   "source": [
    "number = 1 + 2j"
   ]
  },
  {
   "cell_type": "code",
   "execution_count": 13,
   "id": "9451a195-ebfa-42d4-8b8d-ed6e6326f5d1",
   "metadata": {},
   "outputs": [
    {
     "name": "stdout",
     "output_type": "stream",
     "text": [
      "(1+2j)\n"
     ]
    }
   ],
   "source": [
    "print(number)"
   ]
  },
  {
   "cell_type": "code",
   "execution_count": 14,
   "id": "e40e500c-92ea-4a5d-b87a-71cea4542329",
   "metadata": {},
   "outputs": [
    {
     "name": "stdout",
     "output_type": "stream",
     "text": [
      "<class 'complex'>\n"
     ]
    }
   ],
   "source": [
    "print(type(number))"
   ]
  },
  {
   "cell_type": "code",
   "execution_count": 25,
   "id": "de0662ed-2c75-4e21-a809-b108832f9f98",
   "metadata": {},
   "outputs": [
    {
     "name": "stdout",
     "output_type": "stream",
     "text": [
      "1.0\n",
      "2.0\n"
     ]
    }
   ],
   "source": [
    "# 2) 속성 : 클래스가 가진 데이터, 값\n",
    "\n",
    "print(number.real) # real 실수\n",
    "print(number.imag) # imag 허수"
   ]
  },
  {
   "cell_type": "code",
   "execution_count": 22,
   "id": "de333240-c43a-494c-926e-d11f813099a6",
   "metadata": {},
   "outputs": [
    {
     "name": "stdout",
     "output_type": "stream",
     "text": [
      "<class 'list'>\n"
     ]
    }
   ],
   "source": [
    "# 3) 메소드 : 클래스가 가진 함수를 실행 ()\n",
    "\n",
    "numbers = [1,2,3]\n",
    "print(type(numbers))"
   ]
  },
  {
   "cell_type": "code",
   "execution_count": 24,
   "id": "b490d5c0-5331-4306-ae72-10399fc5cc46",
   "metadata": {},
   "outputs": [
    {
     "name": "stdout",
     "output_type": "stream",
     "text": [
      "[1, 2, 3]\n"
     ]
    }
   ],
   "source": [
    "numbers.reverse()\n",
    "print(numbers)"
   ]
  },
  {
   "cell_type": "code",
   "execution_count": 28,
   "id": "940e9824-425a-4838-8cb8-b10c2e8691ec",
   "metadata": {},
   "outputs": [
    {
     "name": "stdout",
     "output_type": "stream",
     "text": [
      "010-1234-1234가 010-1111-2222에게 전화 거는 중\n"
     ]
    }
   ],
   "source": [
    "# 클래스를 사용하지 않았을때\n",
    "\n",
    "number = '010-1234-1234'\n",
    "\n",
    "power = True\n",
    "phone_book = {\n",
    "    'kim' : '010-1111-2222',\n",
    "    'park' : '010-1231-1231',\n",
    "}\n",
    "\n",
    "def call(from_num,to_num):\n",
    "    print(f'{from_num}가 {to_num}에게 전화 거는 중')\n",
    "\n",
    "call(number, phone_book['kim'])\n"
   ]
  },
  {
   "cell_type": "markdown",
   "id": "b4575daf-e421-4226-97f3-8be0a013fa29",
   "metadata": {},
   "source": [
    "## 01-1 class\n",
    "\n",
    "- 1) 클래스 선언/정의\n",
    "```python\n",
    "class ClassName(): #클래스 정의 시 각단어의 시작점에 대문자로 작성 \n",
    "    attribute1 = value1 # 속성, 데이터 ,값\n",
    "    attribute2 = value2\n",
    "    ...\n",
    "\n",
    "    def method_name1(self): #함수 괄호안에 self\n",
    "    code\n",
    "\n",
    "    def method_name2(self):\n",
    "    code\n",
    "    ...\n",
    "    \n",
    "```\n",
    "\n",
    "- 2) 인스턴스화 (클래스 실행)\n",
    "\n",
    "`c = ClassName()`\n",
    "`c1 = ClassName()`"
   ]
  },
  {
   "cell_type": "code",
   "execution_count": 30,
   "id": "783a5734-db61-481a-8dd1-c7b3f37b819e",
   "metadata": {},
   "outputs": [],
   "source": [
    "# 선언\n",
    "\n",
    "class MyClass():\n",
    "    name = 'kim'\n",
    "\n",
    "    def hello(self):\n",
    "        return 'hahahah'"
   ]
  },
  {
   "cell_type": "code",
   "execution_count": 34,
   "id": "26692d6c-4628-4a2e-b11c-4f301de3020c",
   "metadata": {},
   "outputs": [],
   "source": [
    "# 인스턴스화\n",
    "\n",
    "m = MyClass()"
   ]
  },
  {
   "cell_type": "code",
   "execution_count": 36,
   "id": "60ec1d85-391c-46dc-abc6-548eabf4dedf",
   "metadata": {},
   "outputs": [
    {
     "name": "stdout",
     "output_type": "stream",
     "text": [
      "<__main__.MyClass object at 0x0000022D84BCA780>\n"
     ]
    }
   ],
   "source": [
    "print(m)"
   ]
  },
  {
   "cell_type": "code",
   "execution_count": 42,
   "id": "7fb9da94-98ad-49a1-ad95-91ecebe99e4c",
   "metadata": {},
   "outputs": [
    {
     "name": "stdout",
     "output_type": "stream",
     "text": [
      "kim\n",
      "hahahah\n"
     ]
    }
   ],
   "source": [
    "# 클래스안에 만들어진 값에 접근 가능\n",
    "\n",
    "print(m.name)\n",
    "print(m.hello())"
   ]
  },
  {
   "cell_type": "code",
   "execution_count": null,
   "id": "b1b6a398-56bd-47d9-8286-798b79dca48f",
   "metadata": {},
   "outputs": [],
   "source": []
  },
  {
   "cell_type": "code",
   "execution_count": 43,
   "id": "c35bf643-9ccc-4df9-9ed6-a24df3ab42db",
   "metadata": {},
   "outputs": [
    {
     "name": "stdout",
     "output_type": "stream",
     "text": [
      "kim\n",
      "hahahah\n"
     ]
    }
   ],
   "source": [
    "m2 = MyClass()\n",
    "\n",
    "print(m2.name)\n",
    "print(m2.hello())"
   ]
  },
  {
   "cell_type": "code",
   "execution_count": 45,
   "id": "9821785e-f613-412f-a889-76fc68680119",
   "metadata": {},
   "outputs": [
    {
     "name": "stdout",
     "output_type": "stream",
     "text": [
      "kim\n",
      "park\n"
     ]
    }
   ],
   "source": [
    "# 인스턴스화 : 독립적인 하나의 객체를 만들어냄.\n",
    "\n",
    "m2.name = 'park'\n",
    "\n",
    "print(m.name)\n",
    "print(m2.name)"
   ]
  },
  {
   "cell_type": "code",
   "execution_count": 143,
   "id": "8bceb1db-88c8-4a0f-95e8-57b1b67eb426",
   "metadata": {},
   "outputs": [],
   "source": [
    "class Phone():\n",
    "    power = False\n",
    "    number = '010-0000-0000'\n",
    "    book = {}\n",
    "    model = ''\n",
    "\n",
    "    def on(self): #self = instance 자체를 의미  #power가 꺼져있을때 True로 변경\n",
    "        if self.power == False:\n",
    "            self.power = True\n",
    "\n",
    "    def off(self):\n",
    "        if self.power == True: #power가 켜져있을때 False로 변경\n",
    "            self.power = False\n",
    "\n",
    "    def call(self,target):\n",
    "        if self.power == True: #\n",
    "            print(f'{self.number}가 {target.number}한테 전화거는중')\n",
    "        else:\n",
    "            print('핸드폰이 꺼져있습니다.')"
   ]
  },
  {
   "cell_type": "code",
   "execution_count": 91,
   "id": "3f28dc53-a16b-4fcb-8126-bb9a1dd332c3",
   "metadata": {},
   "outputs": [],
   "source": [
    "my_phone = Phone()\n",
    "your_phone = Phone()"
   ]
  },
  {
   "cell_type": "code",
   "execution_count": 92,
   "id": "59196018-4be0-45a8-b3f1-5cf1239a5130",
   "metadata": {},
   "outputs": [
    {
     "data": {
      "text/plain": [
       "'010-0000-0000'"
      ]
     },
     "execution_count": 92,
     "metadata": {},
     "output_type": "execute_result"
    }
   ],
   "source": [
    "my_phone.number"
   ]
  },
  {
   "cell_type": "code",
   "execution_count": 93,
   "id": "170d4afd-3aaf-4910-830d-1ff83c3f242a",
   "metadata": {},
   "outputs": [
    {
     "name": "stdout",
     "output_type": "stream",
     "text": [
      "010-1234-1234\n"
     ]
    }
   ],
   "source": [
    "my_phone.number = '010-1234-1234'\n",
    "print(my_phone.number)"
   ]
  },
  {
   "cell_type": "code",
   "execution_count": 80,
   "id": "8319ba95-9579-4222-99a5-09ae0701a84b",
   "metadata": {},
   "outputs": [
    {
     "data": {
      "text/plain": [
       "False"
      ]
     },
     "execution_count": 80,
     "metadata": {},
     "output_type": "execute_result"
    }
   ],
   "source": [
    "my_phone.power"
   ]
  },
  {
   "cell_type": "code",
   "execution_count": 94,
   "id": "375563cc-66c5-4fc8-ad9d-6cffbead9f87",
   "metadata": {},
   "outputs": [],
   "source": [
    "my_phone.on()"
   ]
  },
  {
   "cell_type": "code",
   "execution_count": 82,
   "id": "70894f65-aedd-4eea-ab40-55d393ae5f0c",
   "metadata": {},
   "outputs": [
    {
     "data": {
      "text/plain": [
       "True"
      ]
     },
     "execution_count": 82,
     "metadata": {},
     "output_type": "execute_result"
    }
   ],
   "source": [
    "my_phone.power"
   ]
  },
  {
   "cell_type": "code",
   "execution_count": 95,
   "id": "37f6c27d-1857-425c-ba8a-2f4b93d742ee",
   "metadata": {},
   "outputs": [
    {
     "data": {
      "text/plain": [
       "False"
      ]
     },
     "execution_count": 95,
     "metadata": {},
     "output_type": "execute_result"
    }
   ],
   "source": [
    "your_phone.power"
   ]
  },
  {
   "cell_type": "code",
   "execution_count": 96,
   "id": "c8536d07-45b8-4d1e-b49b-d4d4bca214dc",
   "metadata": {},
   "outputs": [
    {
     "name": "stdout",
     "output_type": "stream",
     "text": [
      "핸드폰이 꺼져있습니다.\n"
     ]
    }
   ],
   "source": [
    "your_phone.call(my_phone) #self는 자기자신이라 생략"
   ]
  },
  {
   "cell_type": "code",
   "execution_count": 98,
   "id": "201c3bb5-8157-43a1-b5d5-0c0ec4dc435a",
   "metadata": {},
   "outputs": [
    {
     "name": "stdout",
     "output_type": "stream",
     "text": [
      "010-1234-1234가 010-0000-0000한테 전화거는중\n"
     ]
    }
   ],
   "source": [
    "my_phone.call(your_phone)"
   ]
  },
  {
   "cell_type": "code",
   "execution_count": 120,
   "id": "d0fe10e5-5389-4d77-872d-a12c6089449a",
   "metadata": {},
   "outputs": [],
   "source": [
    "class Person():\n",
    "    name = ''\n",
    "    gender = ''\n",
    "    age = 0\n",
    "    height = 0\n",
    "\n",
    "    def greeting(self):\n",
    "        print(f'안녕하세요 저는 {self.name}입니다.')\n",
    "\n",
    "    def grow(self):\n",
    "        self.age += 1"
   ]
  },
  {
   "cell_type": "code",
   "execution_count": 102,
   "id": "4cd20d4f-db3f-4e91-a9b4-65fdbb703457",
   "metadata": {},
   "outputs": [],
   "source": [
    "p1 = Person()\n",
    "p2 = Person()"
   ]
  },
  {
   "cell_type": "code",
   "execution_count": 105,
   "id": "b854d7a0-3b31-4e59-a2e6-6ba54846be3e",
   "metadata": {},
   "outputs": [
    {
     "name": "stdout",
     "output_type": "stream",
     "text": [
      " \n"
     ]
    }
   ],
   "source": [
    "print(p1.name, p2.name)\n"
   ]
  },
  {
   "cell_type": "code",
   "execution_count": 107,
   "id": "d7a3dc5c-6966-4e8c-8cb7-d5398881808f",
   "metadata": {},
   "outputs": [],
   "source": [
    "p1.name = 'hong'\n",
    "p2.name = 'kim'\n",
    "\n",
    "p1.gender = 'F'\n",
    "p2.gender = 'M'\n",
    "\n",
    "p1.age = 20\n",
    "p2.age = 30\n",
    "\n",
    "p1.height = 170\n",
    "p2.height = 180"
   ]
  },
  {
   "cell_type": "code",
   "execution_count": 114,
   "id": "c75ef1ea-8376-4d57-8589-72de04bf8d2d",
   "metadata": {},
   "outputs": [
    {
     "name": "stdout",
     "output_type": "stream",
     "text": [
      "안녕하세요 저는 hong입니다.\n"
     ]
    }
   ],
   "source": [
    "#p1.greeting()\n",
    "\n",
    "Person.greeting(p1)"
   ]
  },
  {
   "cell_type": "code",
   "execution_count": 118,
   "id": "263806fe-5c8b-43ed-a131-df9a62548d05",
   "metadata": {},
   "outputs": [
    {
     "name": "stdout",
     "output_type": "stream",
     "text": [
      "안녕하세요 저는 kim입니다.\n"
     ]
    }
   ],
   "source": [
    "p2.greeting()"
   ]
  },
  {
   "cell_type": "code",
   "execution_count": 123,
   "id": "14536510-8457-473a-82f8-707983f8b61f",
   "metadata": {},
   "outputs": [
    {
     "data": {
      "text/plain": [
       "'hong'"
      ]
     },
     "execution_count": 123,
     "metadata": {},
     "output_type": "execute_result"
    }
   ],
   "source": [
    "p1.name"
   ]
  },
  {
   "cell_type": "code",
   "execution_count": null,
   "id": "f9a95ab8-0c1e-44bf-a234-dc74dcdd3525",
   "metadata": {},
   "outputs": [],
   "source": []
  },
  {
   "cell_type": "markdown",
   "id": "235312de-7385-4ab1-b83a-417bc991ffb5",
   "metadata": {},
   "source": [
    "# 02. 생성자, 소멸자\n",
    "\n",
    "- 생성자 : 생성할 때 동시에 실행되는 함수 (생성할 때 동시에 인스턴스화)\n",
    "\n",
    "```python\n",
    "class MyClass():\n",
    "\n",
    "    def __init__(self): #생성자\n",
    "        pass\n",
    "\n",
    "    def __def__(self): #소멸자\n",
    "        pass"
   ]
  },
  {
   "cell_type": "code",
   "execution_count": 135,
   "id": "8315066c-0999-4e9f-80ae-83bd770bc133",
   "metadata": {},
   "outputs": [],
   "source": [
    "#self.name에서의 name과 (self, name)에서의 name은 독립적으로 다름.\n",
    "\n",
    "class Person():\n",
    "    name = ''\n",
    "\n",
    "    def __init__(self, name):\n",
    "        self.name = name\n",
    "        print('생성됨')\n",
    "\n",
    "    def __del__(self):\n",
    "        print('소멸됨')"
   ]
  },
  {
   "cell_type": "code",
   "execution_count": 141,
   "id": "b05b9fc1-895b-4472-ba76-ca3941c59958",
   "metadata": {},
   "outputs": [
    {
     "name": "stdout",
     "output_type": "stream",
     "text": [
      "생성됨\n"
     ]
    }
   ],
   "source": [
    "p1 = Person('kim') # => Person.__init__(p1,???)"
   ]
  },
  {
   "cell_type": "code",
   "execution_count": 142,
   "id": "b315a3bf-1bfa-448c-a713-c632817e0f8c",
   "metadata": {},
   "outputs": [
    {
     "name": "stdout",
     "output_type": "stream",
     "text": [
      "소멸됨\n"
     ]
    }
   ],
   "source": [
    "del p1"
   ]
  },
  {
   "cell_type": "markdown",
   "id": "7a97a980-5a92-418b-9a2b-c6c6bb251ccf",
   "metadata": {},
   "source": [
    "## 02-1 class 연습문제"
   ]
  },
  {
   "cell_type": "code",
   "execution_count": 207,
   "id": "eb9fa0a1-d86d-47a2-be0a-08a83a7cf179",
   "metadata": {},
   "outputs": [],
   "source": [
    "#1) 원 클래스 (정보, 면적, 둘레, 중심점 이동)\n",
    "\n",
    "class Circle():\n",
    "    \n",
    "    pi = 3.14\n",
    "    \n",
    "    def __init__(self, r, x=0, y=0): #원에 필요한 인자\n",
    "        self.r = r\n",
    "        self.x = x\n",
    "        self.y = y\n",
    "\n",
    "    def info(self):\n",
    "        print(f'반지름 : {self.r}, 중심점 : {self.x}, {self.y}')\n",
    "\n",
    "    def area(self): #면적\n",
    "        return self.r ** 2 * self.pi\n",
    "\n",
    "    def round(self): #둘레 / return인경우 print해줘야 함.\n",
    "        return self.r * self.pi * 2\n",
    "\n",
    "    def move(self, x, y):\n",
    "        self.x = x\n",
    "        self.y = y"
   ]
  },
  {
   "cell_type": "code",
   "execution_count": 208,
   "id": "f51b3bb0-ca69-478c-ad81-17ca821ecc71",
   "metadata": {},
   "outputs": [],
   "source": [
    "c1 = Circle(5)\n",
    "c2 = Circle(3,1,1)"
   ]
  },
  {
   "cell_type": "code",
   "execution_count": 167,
   "id": "02ff5a1b-9e38-44b6-83e5-780232693441",
   "metadata": {},
   "outputs": [
    {
     "name": "stdout",
     "output_type": "stream",
     "text": [
      "반지름 : 5, 중심점 : 0, 0\n",
      "반지름 : 3, 중심점 : 1, 1\n"
     ]
    }
   ],
   "source": [
    "c1.info()\n",
    "c2.info()"
   ]
  },
  {
   "cell_type": "code",
   "execution_count": 209,
   "id": "d854c2a1-f212-460c-af66-d41a07c52530",
   "metadata": {},
   "outputs": [
    {
     "name": "stdout",
     "output_type": "stream",
     "text": [
      "78.5\n",
      "28.26\n"
     ]
    }
   ],
   "source": [
    "print(c1.area())\n",
    "print(c2.area())"
   ]
  },
  {
   "cell_type": "code",
   "execution_count": 174,
   "id": "53d0fe72-16ca-4591-a30a-34925faef147",
   "metadata": {},
   "outputs": [
    {
     "name": "stdout",
     "output_type": "stream",
     "text": [
      "31.400000000000002\n",
      "18.84\n"
     ]
    }
   ],
   "source": [
    "print(c1.round())\n",
    "print(c2.round())"
   ]
  },
  {
   "cell_type": "code",
   "execution_count": 179,
   "id": "f93cbf2b-0efd-4da5-8cf8-9d3eb7be80da",
   "metadata": {},
   "outputs": [
    {
     "name": "stdout",
     "output_type": "stream",
     "text": [
      "반지름 : 5, 중심점 : 100, 100\n"
     ]
    }
   ],
   "source": [
    "c1.move(100,100)\n",
    "c1.info()"
   ]
  },
  {
   "cell_type": "code",
   "execution_count": 214,
   "id": "af9de571-36b8-408c-b31f-b976212f96b3",
   "metadata": {},
   "outputs": [],
   "source": [
    "# 2) point 생성\n",
    "\n",
    "class Point():\n",
    "    def __init__(self,x,y):\n",
    "        self.x = x\n",
    "        self.y = y\n",
    "\n",
    "    def info(self):\n",
    "        print(f'{self.x}, {self.y}')"
   ]
  },
  {
   "cell_type": "code",
   "execution_count": 212,
   "id": "a77b2fc0-fd3f-4a5d-bd3b-ae1966405ad5",
   "metadata": {},
   "outputs": [],
   "source": [
    "p1 = Point(1,1)\n",
    "p2 = Point(2,3)"
   ]
  },
  {
   "cell_type": "code",
   "execution_count": 199,
   "id": "070915f7-4755-4a8b-ba5d-394b8a66a31f",
   "metadata": {},
   "outputs": [],
   "source": [
    "# 3) \n",
    "\n",
    "class Circle():\n",
    "    def __init__(self, r, point):\n",
    "        self.r = r\n",
    "        self.point = point\n",
    "\n",
    "    def info(self):\n",
    "        print(f'반지름 : {self.r}, 중심점 : {self.point.x}, {self.point.y}')\n",
    "\n",
    "        # point = self.point\n",
    "        # x = point.x\n",
    "        # y = point.y\n",
    "\n",
    "        # print(f'반지름 : {self.r}, 중심점 : {self.x}, {self.y}')"
   ]
  },
  {
   "cell_type": "code",
   "execution_count": 194,
   "id": "8920137c-ee97-41c4-aeca-ee45a3fd40ae",
   "metadata": {},
   "outputs": [],
   "source": [
    "c1 = Circle(10, p1)\n",
    "c2 = Circle(5, p2)"
   ]
  },
  {
   "cell_type": "code",
   "execution_count": 195,
   "id": "e7a58f4d-6ea5-43ee-b9eb-01068d2af788",
   "metadata": {},
   "outputs": [
    {
     "name": "stdout",
     "output_type": "stream",
     "text": [
      "반지름 : 10, 중심점 : 1, 1\n"
     ]
    }
   ],
   "source": [
    "c1.info()"
   ]
  },
  {
   "cell_type": "markdown",
   "id": "3c8a17bd-c16c-420a-b536-a7101de38dce",
   "metadata": {},
   "source": [
    "## 02 - 3. 클래스 변수 / 인스턴스 변수\n",
    "\n",
    "- 클래스 변수 : 클래스 선언 블록 최상단에 위치\n",
    "- 인스턴스 변수 : 인스턴스 내부에서 생성한 변수\n",
    "\n",
    "```python\n",
    "class MyClass():\n",
    "    class_variable = '클래스변수'\n",
    "\n",
    "    def__init__(self):\n",
    "        self.instance_variable = '인스턴스 변수'\n",
    "\n",
    "```"
   ]
  },
  {
   "cell_type": "code",
   "execution_count": 216,
   "id": "14e15bfc-ea01-4cbe-9512-6410448818d5",
   "metadata": {},
   "outputs": [],
   "source": [
    "class Person():\n",
    "    name = 'hong' #클래스 변수\n",
    "    age = 10\n",
    "\n",
    "    def __init__(self,name): #인스턴스 변수\n",
    "        self.name = name"
   ]
  },
  {
   "cell_type": "code",
   "execution_count": 217,
   "id": "39e12d65-d5c1-4a8a-b382-a9e9500869a8",
   "metadata": {},
   "outputs": [
    {
     "name": "stdout",
     "output_type": "stream",
     "text": [
      "oh\n",
      "10\n"
     ]
    }
   ],
   "source": [
    "p1 = Person('oh')\n",
    "\n",
    "print(p1.name)\n",
    "print(p1.age)"
   ]
  },
  {
   "cell_type": "markdown",
   "id": "97aff915-d64c-4e1a-90aa-60372f1cfb2e",
   "metadata": {},
   "source": [
    "## 02 - 4. 클래스 메소드 / 인스턴스 메소드 / 스태틱 메소드\n",
    "\n",
    "```python\n",
    "class MyClass():\n",
    "    \n",
    "    def instance_method(self): #거의 대부분 인스턴스 메소드 : 인스턴스화 되어 있는 것을 접근하고자 할 때\n",
    "    pass\n",
    "\n",
    "    @classmethod\n",
    "    def class_method(cls):\n",
    "        pass\n",
    "\n",
    "    @staticmethod\n",
    "    def staticmethod():\n",
    "        pass"
   ]
  },
  {
   "cell_type": "code",
   "execution_count": 219,
   "id": "2063ecff-cc16-4e84-a9ac-e08f49628c7d",
   "metadata": {},
   "outputs": [],
   "source": [
    "#\n",
    "\n",
    "class MyClass():\n",
    "    def instance_method(self):\n",
    "        print(self)\n",
    "\n",
    "    @classmethod\n",
    "    def class_method(cls):\n",
    "        print(cls)\n",
    "\n",
    "    @staticmethod\n",
    "    def staticmethod():\n",
    "        print('static')"
   ]
  },
  {
   "cell_type": "code",
   "execution_count": 221,
   "id": "51f9edb1-403c-4a9f-ab4e-00c30048638b",
   "metadata": {},
   "outputs": [
    {
     "name": "stdout",
     "output_type": "stream",
     "text": [
      "<__main__.MyClass object at 0x0000022D84C53D90>\n",
      "<__main__.MyClass object at 0x0000022D84C53D90>\n"
     ]
    }
   ],
   "source": [
    "mc = MyClass()\n",
    "mc.instance_method()\n",
    "print(mc)"
   ]
  },
  {
   "cell_type": "code",
   "execution_count": 223,
   "id": "b5f9127c-a254-4dac-9a5b-0bf482e9b962",
   "metadata": {},
   "outputs": [
    {
     "name": "stdout",
     "output_type": "stream",
     "text": [
      "<class '__main__.MyClass'>\n",
      "<class '__main__.MyClass'>\n"
     ]
    }
   ],
   "source": [
    "mc.class_method()\n",
    "print(MyClass)"
   ]
  },
  {
   "cell_type": "code",
   "execution_count": 233,
   "id": "6731137e-a630-4b14-90a7-6bd0bd62f69c",
   "metadata": {},
   "outputs": [],
   "source": [
    "# 연습문제\n",
    "\n",
    "class Puppy():\n",
    "    num_of_puppy = 0\n",
    "    \n",
    "    def __init__(self,name):\n",
    "        self.name = name\n",
    "        Puppy.num_of_puppy += 1\n",
    "\n",
    "    \n",
    "    @classmethod      # 클래스 메소드 활용 : 클래스 변수에 접근하고 싶을 때 ex) 강아지가 태어날때마다 누적\n",
    "    def info(cls):\n",
    "        print(f'현재 강아지는 {cls.num_of_puppy}마리입니다.')\n",
    "\n",
    "    \n",
    "    def bark(self):    #인스턴스 메소드 활용 : 인스턴스 변수에 접근하고 싶을 때 (self)\n",
    "        print(f'멍멍! {self.name}입니다.')\n",
    "\n",
    "    \n",
    "    @staticmethod      #스태틱 메소드 활용 : 클래스 변수, 인스턴스 변수 둘다 필요없을 때 \n",
    "    def bark2():\n",
    "        print('왈왈')"
   ]
  },
  {
   "cell_type": "code",
   "execution_count": 230,
   "id": "119f2c9d-28dd-495c-a3ce-b308d8025774",
   "metadata": {},
   "outputs": [
    {
     "name": "stdout",
     "output_type": "stream",
     "text": [
      "현재 강아지는 6마리입니다.\n"
     ]
    }
   ],
   "source": [
    "p1 = Puppy('초코')\n",
    "p2 = Puppy('인절미')\n",
    "p3 = Puppy('구름')\n",
    "\n",
    "Puppy.info()"
   ]
  },
  {
   "cell_type": "markdown",
   "id": "d8e735ca-b063-45c2-a6dd-7ddf0109a165",
   "metadata": {},
   "source": [
    "# 03. 상속 "
   ]
  },
  {
   "cell_type": "code",
   "execution_count": 241,
   "id": "50f796ab-129c-4f57-aca2-2b4fc2cfa239",
   "metadata": {},
   "outputs": [],
   "source": [
    "# 1) 사람 / 인사 하기\n",
    "\n",
    "class Person():\n",
    "    ident = ''\n",
    "\n",
    "    def __init__(self,name):\n",
    "        self.name = name\n",
    "\n",
    "    def greeting(self):\n",
    "        print(f'안녕하세요 저는 {self.name}입니다.')"
   ]
  },
  {
   "cell_type": "code",
   "execution_count": 238,
   "id": "fdfe3986-32a8-4c4c-8bf1-934d3b48dd3e",
   "metadata": {},
   "outputs": [],
   "source": [
    "p1 = Person('hong')\n",
    "p2 = Person('kim')"
   ]
  },
  {
   "cell_type": "code",
   "execution_count": 240,
   "id": "e9d29496-19eb-4de6-a6ce-5c532fa83fd0",
   "metadata": {},
   "outputs": [
    {
     "name": "stdout",
     "output_type": "stream",
     "text": [
      "안녕하세요 저는 hong입니다.\n",
      "안녕하세요 저는 kim입니다.\n"
     ]
    }
   ],
   "source": [
    "p1.greeting()\n",
    "p2.greeting()"
   ]
  },
  {
   "cell_type": "code",
   "execution_count": 253,
   "id": "220ebbc2-1be1-413c-a173-02ba5facb395",
   "metadata": {},
   "outputs": [],
   "source": [
    "# 2) 클래스변수를 괄호에 넣으면 군인에게 사람 생성한 값이 상속됨. \n",
    "\n",
    "class Soldier(Person): # 상속 : Person의 값이 soldier에 상속됨.\n",
    "\n",
    "# 3) 부모값을 바꾸고 싶을 경우 다른 이름으로 인스턴스 변수 생성\n",
    "\n",
    "    def soldier_greeting(self):\n",
    "        print(f'충성! {self.name}입니다.')"
   ]
  },
  {
   "cell_type": "code",
   "execution_count": 250,
   "id": "0d793dda-30b9-49f5-ac5c-3198c51ce9d8",
   "metadata": {},
   "outputs": [
    {
     "name": "stdout",
     "output_type": "stream",
     "text": [
      "안녕하세요 저는 굳건이입니다.\n",
      "충성! 굳건이입니다.\n"
     ]
    }
   ],
   "source": [
    "s1 = Soldier('굳건이')\n",
    "s1.greeting()\n",
    "s1.soldier_greeting()"
   ]
  },
  {
   "cell_type": "code",
   "execution_count": 247,
   "id": "73670e71-6409-48b9-9cba-517c04b1ac3f",
   "metadata": {},
   "outputs": [
    {
     "data": {
      "text/plain": [
       "'999999-11111'"
      ]
     },
     "execution_count": 247,
     "metadata": {},
     "output_type": "execute_result"
    }
   ],
   "source": [
    "p1.ident = '999999-11111'\n",
    "p1.ident"
   ]
  },
  {
   "cell_type": "code",
   "execution_count": 248,
   "id": "7a3f9a8b-6141-460c-b86a-ff5faf20a0c0",
   "metadata": {},
   "outputs": [
    {
     "data": {
      "text/plain": [
       "'25-12341234'"
      ]
     },
     "execution_count": 248,
     "metadata": {},
     "output_type": "execute_result"
    }
   ],
   "source": [
    "s1.ident = '25-12341234'\n",
    "s1.ident"
   ]
  },
  {
   "cell_type": "markdown",
   "id": "8c0c9aaf-cb61-4599-82d3-7ad437f9c916",
   "metadata": {},
   "source": [
    "### 연습 2) "
   ]
  },
  {
   "cell_type": "code",
   "execution_count": null,
   "id": "a24bf906-b53a-4843-9fcf-34becf230a5c",
   "metadata": {},
   "outputs": [],
   "source": [
    "# 1) 사람 만들기\n",
    "\n",
    "class Person():\n",
    "    \n",
    "    def __init__(self,name, age, email, phone):\n",
    "        self.name = name\n",
    "        self.age = age\n",
    "        self.email = email\n",
    "        self.phone = phone\n",
    "\n",
    "\n",
    "# 2) 상속 Person(부모) -> Student(자식) \n",
    "\n",
    "class Student(Person):\n",
    "\n",
    "    def __init__(self,name, age, email, phone, student_id):\n",
    "        \n",
    "        super().__init__(name, age, email, phone)       # super(). 부모가 사용하는 인\n",
    "        self.student_id = student_id \n",
    "    \n",
    "    "
   ]
  }
 ],
 "metadata": {
  "kernelspec": {
   "display_name": "Python 3 (ipykernel)",
   "language": "python",
   "name": "python3"
  },
  "language_info": {
   "codemirror_mode": {
    "name": "ipython",
    "version": 3
   },
   "file_extension": ".py",
   "mimetype": "text/x-python",
   "name": "python",
   "nbconvert_exporter": "python",
   "pygments_lexer": "ipython3",
   "version": "3.13.2"
  }
 },
 "nbformat": 4,
 "nbformat_minor": 5
}
