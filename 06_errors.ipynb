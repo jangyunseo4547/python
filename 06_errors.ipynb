{
 "cells": [
  {
   "cell_type": "markdown",
   "id": "f1a1f5ac-53ad-4274-8a39-bdd57134fe5c",
   "metadata": {},
   "source": [
    "# Error"
   ]
  },
  {
   "cell_type": "markdown",
   "id": "57a6e1e9-0454-44d1-9824-1985ab62570e",
   "metadata": {},
   "source": [
    "## 1. syntax error (문법 에러)"
   ]
  },
  {
   "cell_type": "code",
   "execution_count": 6,
   "id": "03379a95-2058-4f4f-bc82-f06848d13ad1",
   "metadata": {},
   "outputs": [
    {
     "ename": "SyntaxError",
     "evalue": "expected ':' (3591579285.py, line 5)",
     "output_type": "error",
     "traceback": [
      "\u001b[1;36m  Cell \u001b[1;32mIn[6], line 5\u001b[1;36m\u001b[0m\n\u001b[1;33m    else\u001b[0m\n\u001b[1;37m        ^\u001b[0m\n\u001b[1;31mSyntaxError\u001b[0m\u001b[1;31m:\u001b[0m expected ':'\n"
     ]
    }
   ],
   "source": [
    "# ex) 1\n",
    "\n",
    "if True:\n",
    "    pass\n",
    "else"
   ]
  },
  {
   "cell_type": "code",
   "execution_count": 5,
   "id": "231e4975-e93a-4a5c-a435-6ec0f53045ab",
   "metadata": {},
   "outputs": [
    {
     "ename": "SyntaxError",
     "evalue": "unterminated string literal (detected at line 3) (1683747403.py, line 3)",
     "output_type": "error",
     "traceback": [
      "\u001b[1;36m  Cell \u001b[1;32mIn[5], line 3\u001b[1;36m\u001b[0m\n\u001b[1;33m    print('hello)\u001b[0m\n\u001b[1;37m          ^\u001b[0m\n\u001b[1;31mSyntaxError\u001b[0m\u001b[1;31m:\u001b[0m unterminated string literal (detected at line 3)\n"
     ]
    }
   ],
   "source": [
    "# ex) 2 \n",
    "\n",
    "print('hello)"
   ]
  },
  {
   "cell_type": "markdown",
   "id": "38ef6b29-6623-4b0e-ae13-1d6cfbfc674c",
   "metadata": {},
   "source": [
    "## 2. exception (예외처리)"
   ]
  },
  {
   "cell_type": "code",
   "execution_count": 9,
   "id": "817ce7fb-9e17-41ca-81c4-599d713896a9",
   "metadata": {},
   "outputs": [
    {
     "ename": "ZeroDivisionError",
     "evalue": "division by zero",
     "output_type": "error",
     "traceback": [
      "\u001b[1;31m---------------------------------------------------------------------------\u001b[0m",
      "\u001b[1;31mZeroDivisionError\u001b[0m                         Traceback (most recent call last)",
      "Cell \u001b[1;32mIn[9], line 3\u001b[0m\n\u001b[0;32m      1\u001b[0m \u001b[38;5;66;03m# 코드가 예상과 달리 동작했을 경우\u001b[39;00m\n\u001b[1;32m----> 3\u001b[0m \u001b[38;5;28mprint\u001b[39m(\u001b[38;5;241;43m5\u001b[39;49m\u001b[38;5;241;43m/\u001b[39;49m\u001b[38;5;241;43m0\u001b[39;49m) \u001b[38;5;66;03m# => ZeroDivisionError : 수학적인 관점에서 동작할 수 없음.\u001b[39;00m\n",
      "\u001b[1;31mZeroDivisionError\u001b[0m: division by zero"
     ]
    }
   ],
   "source": [
    "# 코드가 예상과 달리 동작했을 경우\n",
    "\n",
    "print(5/0) # => ZeroDivisionError : 수학적인 관점에서 동작할 수 없음."
   ]
  },
  {
   "cell_type": "code",
   "execution_count": 12,
   "id": "cee28911-7926-46b3-8ea6-cb1e536ce77f",
   "metadata": {},
   "outputs": [
    {
     "ename": "NameError",
     "evalue": "name 'hello' is not defined",
     "output_type": "error",
     "traceback": [
      "\u001b[1;31m---------------------------------------------------------------------------\u001b[0m",
      "\u001b[1;31mNameError\u001b[0m                                 Traceback (most recent call last)",
      "Cell \u001b[1;32mIn[12], line 3\u001b[0m\n\u001b[0;32m      1\u001b[0m \u001b[38;5;66;03m# nameerror : \"\"가 없어서 변수 hello를 찾으려다 오류 / 변수 hello 지정 x\u001b[39;00m\n\u001b[1;32m----> 3\u001b[0m \u001b[38;5;28mprint\u001b[39m(\u001b[43mhello\u001b[49m)\n",
      "\u001b[1;31mNameError\u001b[0m: name 'hello' is not defined"
     ]
    }
   ],
   "source": [
    "# nameerror : \"\"가 없어서 변수 hello를 찾으려다 오류 / 변수 hello 지정 x\n",
    "\n",
    "print(hello)"
   ]
  },
  {
   "cell_type": "code",
   "execution_count": 16,
   "id": "87793893-5f52-4d96-b655-df131384d17a",
   "metadata": {},
   "outputs": [
    {
     "ename": "TypeError",
     "evalue": "unsupported operand type(s) for +: 'int' and 'str'",
     "output_type": "error",
     "traceback": [
      "\u001b[1;31m---------------------------------------------------------------------------\u001b[0m",
      "\u001b[1;31mTypeError\u001b[0m                                 Traceback (most recent call last)",
      "Cell \u001b[1;32mIn[16], line 3\u001b[0m\n\u001b[0;32m      1\u001b[0m \u001b[38;5;66;03m# 연산자가 같지 않을때 int + str \u001b[39;00m\n\u001b[1;32m----> 3\u001b[0m \u001b[38;5;241;43m1\u001b[39;49m\u001b[43m \u001b[49m\u001b[38;5;241;43m+\u001b[39;49m\u001b[43m \u001b[49m\u001b[38;5;124;43m'\u001b[39;49m\u001b[38;5;124;43m1\u001b[39;49m\u001b[38;5;124;43m'\u001b[39;49m\n",
      "\u001b[1;31mTypeError\u001b[0m: unsupported operand type(s) for +: 'int' and 'str'"
     ]
    }
   ],
   "source": [
    "# 연산자가 같지 않을때 int + str \n",
    "\n",
    "1 + '1'"
   ]
  },
  {
   "cell_type": "code",
   "execution_count": 19,
   "id": "af6e564c-88be-4954-a85c-812af807e5af",
   "metadata": {},
   "outputs": [
    {
     "ename": "TypeError",
     "evalue": "can only concatenate str (not \"int\") to str",
     "output_type": "error",
     "traceback": [
      "\u001b[1;31m---------------------------------------------------------------------------\u001b[0m",
      "\u001b[1;31mTypeError\u001b[0m                                 Traceback (most recent call last)",
      "Cell \u001b[1;32mIn[19], line 3\u001b[0m\n\u001b[0;32m      1\u001b[0m \u001b[38;5;66;03m# concatenate str (not \"int\") to str\u001b[39;00m\n\u001b[1;32m----> 3\u001b[0m \u001b[38;5;124;43m'\u001b[39;49m\u001b[38;5;124;43m1\u001b[39;49m\u001b[38;5;124;43m'\u001b[39;49m\u001b[43m \u001b[49m\u001b[38;5;241;43m+\u001b[39;49m\u001b[43m \u001b[49m\u001b[38;5;241;43m1\u001b[39;49m\n",
      "\u001b[1;31mTypeError\u001b[0m: can only concatenate str (not \"int\") to str"
     ]
    }
   ],
   "source": [
    "# concatenate str (not \"int\") to str\n",
    "\n",
    "'1' + 1"
   ]
  },
  {
   "cell_type": "code",
   "execution_count": 25,
   "id": "e544b6c0-bb83-44e1-8f49-e025a09129f2",
   "metadata": {},
   "outputs": [
    {
     "data": {
      "text/plain": [
       "[5, 3, 2, 4]"
      ]
     },
     "execution_count": 25,
     "metadata": {},
     "output_type": "execute_result"
    }
   ],
   "source": [
    "# 필요인자를 빠트렸을 경우 random.sample(,)\n",
    "\n",
    "import random\n",
    "random.sample([1,2,3,4,5],4)"
   ]
  },
  {
   "cell_type": "code",
   "execution_count": 28,
   "id": "b0a2e469-c95f-436f-9a99-4fac6dbbff23",
   "metadata": {},
   "outputs": [
    {
     "ename": "ValueError",
     "evalue": "invalid literal for int() with base 10: '4.5'",
     "output_type": "error",
     "traceback": [
      "\u001b[1;31m---------------------------------------------------------------------------\u001b[0m",
      "\u001b[1;31mValueError\u001b[0m                                Traceback (most recent call last)",
      "Cell \u001b[1;32mIn[28], line 3\u001b[0m\n\u001b[0;32m      1\u001b[0m \u001b[38;5;66;03m# valueerror\u001b[39;00m\n\u001b[1;32m----> 3\u001b[0m \u001b[38;5;28;43mint\u001b[39;49m\u001b[43m(\u001b[49m\u001b[38;5;124;43m'\u001b[39;49m\u001b[38;5;124;43m4.5\u001b[39;49m\u001b[38;5;124;43m'\u001b[39;49m\u001b[43m)\u001b[49m\n",
      "\u001b[1;31mValueError\u001b[0m: invalid literal for int() with base 10: '4.5'"
     ]
    }
   ],
   "source": [
    "# valueerror\n",
    "\n",
    "int('4.5')"
   ]
  },
  {
   "cell_type": "code",
   "execution_count": 31,
   "id": "6ebbebff-539a-4b6d-bb24-0323aaeec31a",
   "metadata": {},
   "outputs": [
    {
     "ename": "ValueError",
     "evalue": "100 is not in list",
     "output_type": "error",
     "traceback": [
      "\u001b[1;31m---------------------------------------------------------------------------\u001b[0m",
      "\u001b[1;31mValueError\u001b[0m                                Traceback (most recent call last)",
      "Cell \u001b[1;32mIn[31], line 4\u001b[0m\n\u001b[0;32m      1\u001b[0m \u001b[38;5;66;03m# list 안에 index하고자 하는 숫자가 없음.\u001b[39;00m\n\u001b[0;32m      3\u001b[0m numbers \u001b[38;5;241m=\u001b[39m [\u001b[38;5;241m1\u001b[39m,\u001b[38;5;241m2\u001b[39m,\u001b[38;5;241m3\u001b[39m]\n\u001b[1;32m----> 4\u001b[0m \u001b[43mnumbers\u001b[49m\u001b[38;5;241;43m.\u001b[39;49m\u001b[43mindex\u001b[49m\u001b[43m(\u001b[49m\u001b[38;5;241;43m100\u001b[39;49m\u001b[43m)\u001b[49m\n",
      "\u001b[1;31mValueError\u001b[0m: 100 is not in list"
     ]
    }
   ],
   "source": [
    "# list 안에 index하고자 하는 숫자가 없음.\n",
    "\n",
    "numbers = [1,2,3]\n",
    "numbers.index(100)"
   ]
  },
  {
   "cell_type": "code",
   "execution_count": 33,
   "id": "f98acdf1-2f97-4d7b-86df-145319383b37",
   "metadata": {},
   "outputs": [
    {
     "ename": "IndexError",
     "evalue": "list index out of range",
     "output_type": "error",
     "traceback": [
      "\u001b[1;31m---------------------------------------------------------------------------\u001b[0m",
      "\u001b[1;31mIndexError\u001b[0m                                Traceback (most recent call last)",
      "Cell \u001b[1;32mIn[33], line 1\u001b[0m\n\u001b[1;32m----> 1\u001b[0m \u001b[43mnumbers\u001b[49m\u001b[43m[\u001b[49m\u001b[38;5;241;43m100\u001b[39;49m\u001b[43m]\u001b[49m\n",
      "\u001b[1;31mIndexError\u001b[0m: list index out of range"
     ]
    }
   ],
   "source": [
    "numbers[100]"
   ]
  },
  {
   "cell_type": "code",
   "execution_count": 35,
   "id": "ca857b3c-0640-4399-a9be-fa1cb0e4e3ab",
   "metadata": {},
   "outputs": [],
   "source": [
    "my_dict = {\n",
    "    'apple' : '사과',\n",
    "    'banana' : '바나나',\n",
    "}"
   ]
  },
  {
   "cell_type": "code",
   "execution_count": 38,
   "id": "2584c7d2-9609-4d2d-acd6-e1fb2c45478b",
   "metadata": {},
   "outputs": [
    {
     "ename": "KeyError",
     "evalue": "'melon'",
     "output_type": "error",
     "traceback": [
      "\u001b[1;31m---------------------------------------------------------------------------\u001b[0m",
      "\u001b[1;31mKeyError\u001b[0m                                  Traceback (most recent call last)",
      "Cell \u001b[1;32mIn[38], line 3\u001b[0m\n\u001b[0;32m      1\u001b[0m \u001b[38;5;66;03m# my_dict 안에 찾고자 하는 인자가 없는 경우\u001b[39;00m\n\u001b[1;32m----> 3\u001b[0m \u001b[43mmy_dict\u001b[49m\u001b[43m[\u001b[49m\u001b[38;5;124;43m'\u001b[39;49m\u001b[38;5;124;43mmelon\u001b[39;49m\u001b[38;5;124;43m'\u001b[39;49m\u001b[43m]\u001b[49m\n",
      "\u001b[1;31mKeyError\u001b[0m: 'melon'"
     ]
    }
   ],
   "source": [
    "# my_dict 안에 찾고자 하는 인자가 없는 경우\n",
    "\n",
    "my_dict['melon']"
   ]
  },
  {
   "cell_type": "code",
   "execution_count": 42,
   "id": "12c7d1ac-7d29-4003-8daa-67b154431908",
   "metadata": {},
   "outputs": [
    {
     "ename": "ModuleNotFoundError",
     "evalue": "No module named 'pandas'",
     "output_type": "error",
     "traceback": [
      "\u001b[1;31m---------------------------------------------------------------------------\u001b[0m",
      "\u001b[1;31mModuleNotFoundError\u001b[0m                       Traceback (most recent call last)",
      "Cell \u001b[1;32mIn[42], line 3\u001b[0m\n\u001b[0;32m      1\u001b[0m \u001b[38;5;66;03m# 모듈을 설치하지 않았을 때 모듈을 불러올 수 없는 에러 발생\u001b[39;00m\n\u001b[1;32m----> 3\u001b[0m \u001b[38;5;28;01mimport\u001b[39;00m\u001b[38;5;250m \u001b[39m\u001b[38;5;21;01mpandas\u001b[39;00m\n",
      "\u001b[1;31mModuleNotFoundError\u001b[0m: No module named 'pandas'"
     ]
    }
   ],
   "source": [
    "# 모듈을 설치하지 않았을 때 모듈을 불러올 수 없는 에러 발생\n",
    "\n",
    "import pandas"
   ]
  },
  {
   "cell_type": "code",
   "execution_count": 47,
   "id": "7ff997cd-c478-4ed1-91a9-59c98cc20fde",
   "metadata": {},
   "outputs": [
    {
     "ename": "ModuleNotFoundError",
     "evalue": "No module named 'request'",
     "output_type": "error",
     "traceback": [
      "\u001b[1;31m---------------------------------------------------------------------------\u001b[0m",
      "\u001b[1;31mModuleNotFoundError\u001b[0m                       Traceback (most recent call last)",
      "Cell \u001b[1;32mIn[47], line 1\u001b[0m\n\u001b[1;32m----> 1\u001b[0m \u001b[38;5;28;01mimport\u001b[39;00m\u001b[38;5;250m \u001b[39m\u001b[38;5;21;01mrequest\u001b[39;00m\n",
      "\u001b[1;31mModuleNotFoundError\u001b[0m: No module named 'request'"
     ]
    }
   ],
   "source": [
    "import request"
   ]
  },
  {
   "cell_type": "markdown",
   "id": "dcbd905e-b00d-45ab-a4e9-df576e7e7b09",
   "metadata": {},
   "source": [
    "### 2-1. 예외처리 (try except문)\n",
    "```python \n",
    "try:\n",
    "    code\n",
    "except exception:\n",
    "    code\n",
    "```"
   ]
  },
  {
   "cell_type": "code",
   "execution_count": 54,
   "id": "cd2454ab-4a89-4626-95ea-c075d704f3db",
   "metadata": {},
   "outputs": [
    {
     "name": "stdin",
     "output_type": "stream",
     "text": [
      "숫자를 입력해주세요 422\n"
     ]
    },
    {
     "name": "stdout",
     "output_type": "stream",
     "text": [
      "입력하신 422의 세제곱은 75151448입니다.\n"
     ]
    }
   ],
   "source": [
    "try:\n",
    "    number = int(input('숫자를 입력해주세요'))\n",
    "    print(f'입력하신 {number}의 세제곱은 {number ** 3}입니다.')\n",
    "\n",
    "except:\n",
    "    print('숫자를 입력해달라고!!!')"
   ]
  },
  {
   "cell_type": "code",
   "execution_count": 58,
   "id": "31470bdf-cc37-4d5b-8486-86f8b9048d01",
   "metadata": {},
   "outputs": [
    {
     "name": "stdin",
     "output_type": "stream",
     "text": [
      "100을 무엇으로 나누겠습니까? 45\n"
     ]
    },
    {
     "name": "stdout",
     "output_type": "stream",
     "text": [
      "100을 45으로 나눈 결과는 2.2222222222222223입니다.\n"
     ]
    }
   ],
   "source": [
    "try:\n",
    "    num = int(input('100을 무엇으로 나누겠습니까?'))\n",
    "    print(f'100을 {num}으로 나눈 결과는 {100 / num}입니다.')\n",
    "\n",
    "except ValueError:\n",
    "    print('입력한 데이터는 숫자가 아닙니다.')\n",
    "\n",
    "except ZeroDivisionError:\n",
    "    print('모든 수는 0으로 나눌 수 없습니다.')"
   ]
  },
  {
   "cell_type": "code",
   "execution_count": 65,
   "id": "6f53f169-7445-44f0-bb11-deec7b0c3a72",
   "metadata": {},
   "outputs": [
    {
     "name": "stdout",
     "output_type": "stream",
     "text": [
      "여기는 else입니다.\n"
     ]
    }
   ],
   "source": [
    "try:\n",
    "    numbers = [1,2,3]\n",
    "    numbers[1]\n",
    "\n",
    "except:\n",
    "    print('오류입니다.')\n",
    "\n",
    "else: # try를 실행하고 except 실행 안되었을 떄 else 실행 (오류가 나지 않았을 때 else 실행)\n",
    "    print('여기는 else입니다.')"
   ]
  },
  {
   "cell_type": "code",
   "execution_count": 69,
   "id": "2a0e77d3-4b21-47b0-a185-defd3489b0f9",
   "metadata": {},
   "outputs": [
    {
     "name": "stdout",
     "output_type": "stream",
     "text": [
      "오류입니다.\n",
      "여기는 else입니다.\n"
     ]
    }
   ],
   "source": [
    "try:\n",
    "    numbers = [1,2,3]\n",
    "    numbers[11]\n",
    "\n",
    "except:\n",
    "    print('오류입니다.')\n",
    "\n",
    "finally:  #finally는 무조건 실행됨.\n",
    "    print('여기는 else입니다.')"
   ]
  },
  {
   "cell_type": "code",
   "execution_count": 78,
   "id": "9c4afd1e-f446-40df-a147-05cf0de2ebc0",
   "metadata": {},
   "outputs": [
    {
     "data": {
      "text/plain": [
       "1.6666666666666667"
      ]
     },
     "execution_count": 78,
     "metadata": {},
     "output_type": "execute_result"
    }
   ],
   "source": [
    "def my_div(a,b):\n",
    "    try:\n",
    "        return a/b\n",
    "    except (ValueError, TypeError):\n",
    "        return '숫자를 넣어주세요'\n",
    "    except ZeroDivisionError:\n",
    "        return '0으로 나눌 수 없습니다.'\n",
    "\n",
    "my_div(5,3)"
   ]
  },
  {
   "cell_type": "markdown",
   "id": "50c92c40-4ecb-423b-89d9-3f4d851f224d",
   "metadata": {},
   "source": [
    "## 5-1. 파이썬 내장 패지키 \n",
    "\n",
    "- math.pi 원주율\n",
    "- math.e 지수\n",
    "- math.ceil / math.floor 반올림, 반내림\n",
    "- math sqrt 루트\n",
    "- math factorial 팩토리얼\n",
    " \n",
    "    - 여러개 함수를 import 하고 싶은 경우 `from math import sqrt, factorial` "
   ]
  },
  {
   "cell_type": "code",
   "execution_count": 80,
   "id": "024d23ea-eb6b-4212-a3c7-e3b5e8e91a9e",
   "metadata": {},
   "outputs": [],
   "source": [
    "import math"
   ]
  },
  {
   "cell_type": "code",
   "execution_count": 83,
   "id": "0ef50786-8b5a-4395-9b49-22c1bb59ed22",
   "metadata": {},
   "outputs": [
    {
     "data": {
      "text/plain": [
       "3.141592653589793"
      ]
     },
     "execution_count": 83,
     "metadata": {},
     "output_type": "execute_result"
    }
   ],
   "source": [
    "# math.pi 원주율\n",
    "\n",
    "math.pi"
   ]
  },
  {
   "cell_type": "code",
   "execution_count": 86,
   "id": "d2294386-4b65-49e9-8482-1134cc0436ec",
   "metadata": {},
   "outputs": [
    {
     "data": {
      "text/plain": [
       "2.718281828459045"
      ]
     },
     "execution_count": 86,
     "metadata": {},
     "output_type": "execute_result"
    }
   ],
   "source": [
    "# math.e 지수\n",
    "\n",
    "math.e"
   ]
  },
  {
   "cell_type": "code",
   "execution_count": 92,
   "id": "380b64de-b5dd-4c5b-ae94-a9ef9483dfd8",
   "metadata": {},
   "outputs": [
    {
     "data": {
      "text/plain": [
       "3"
      ]
     },
     "execution_count": 92,
     "metadata": {},
     "output_type": "execute_result"
    }
   ],
   "source": [
    "# math.cell 반올림 / floor 반내림\n",
    "\n",
    "math.floor(math.pi)"
   ]
  },
  {
   "cell_type": "code",
   "execution_count": 95,
   "id": "6e543af5-6b31-4bf2-8af2-bd26c80949a4",
   "metadata": {},
   "outputs": [
    {
     "data": {
      "text/plain": [
       "10.0"
      ]
     },
     "execution_count": 95,
     "metadata": {},
     "output_type": "execute_result"
    }
   ],
   "source": [
    "# math.sqrt(9) 루트 계산\n",
    "\n",
    "math.sqrt(100)"
   ]
  },
  {
   "cell_type": "code",
   "execution_count": 97,
   "id": "1ce56371-ddab-4f56-9e25-ede51706c930",
   "metadata": {},
   "outputs": [
    {
     "data": {
      "text/plain": [
       "3628800"
      ]
     },
     "execution_count": 97,
     "metadata": {},
     "output_type": "execute_result"
    }
   ],
   "source": [
    "# math.factorial() ! 계산\n",
    "\n",
    "math.factorial(10)"
   ]
  },
  {
   "cell_type": "code",
   "execution_count": 99,
   "id": "16fc6dda-eeed-47a5-a3dc-c6c1074e7d1c",
   "metadata": {},
   "outputs": [],
   "source": [
    "# 여러개를 import 하고 싶은 경우\n",
    "\n",
    "from math import sqrt, factorial"
   ]
  },
  {
   "cell_type": "code",
   "execution_count": 101,
   "id": "a4eeed7f-a0bf-4d33-a0cf-60073cbdb9b5",
   "metadata": {},
   "outputs": [
    {
     "data": {
      "text/plain": [
       "3.0"
      ]
     },
     "execution_count": 101,
     "metadata": {},
     "output_type": "execute_result"
    }
   ],
   "source": [
    "sqrt(9)"
   ]
  },
  {
   "cell_type": "code",
   "execution_count": 102,
   "id": "613cca55-f81f-4d89-bd17-1b3c2ea93bcb",
   "metadata": {},
   "outputs": [
    {
     "data": {
      "text/plain": [
       "120"
      ]
     },
     "execution_count": 102,
     "metadata": {},
     "output_type": "execute_result"
    }
   ],
   "source": [
    "factorial(5)"
   ]
  },
  {
   "cell_type": "markdown",
   "id": "3b6ba28b-8da6-439a-9839-d5e7136c95b2",
   "metadata": {},
   "source": [
    "## 5.1 random "
   ]
  },
  {
   "cell_type": "code",
   "execution_count": 198,
   "id": "f6c671e7-ab85-4f01-91e6-1acea8a618f6",
   "metadata": {},
   "outputs": [],
   "source": [
    "import random"
   ]
  },
  {
   "cell_type": "code",
   "execution_count": 199,
   "id": "dc7a9ff1-c5a4-4407-8789-94f31b38ed36",
   "metadata": {},
   "outputs": [
    {
     "data": {
      "text/plain": [
       "0.47676824487221536"
      ]
     },
     "execution_count": 199,
     "metadata": {},
     "output_type": "execute_result"
    }
   ],
   "source": [
    "random.random()"
   ]
  },
  {
   "cell_type": "code",
   "execution_count": 202,
   "id": "1334d3da-99d7-488b-8305-8937a520a4b1",
   "metadata": {},
   "outputs": [
    {
     "data": {
      "text/plain": [
       "4"
      ]
     },
     "execution_count": 202,
     "metadata": {},
     "output_type": "execute_result"
    }
   ],
   "source": [
    "random.randint(1,100)"
   ]
  },
  {
   "cell_type": "code",
   "execution_count": 207,
   "id": "b47d3270-ed0f-4658-864d-bfa84e94b30d",
   "metadata": {},
   "outputs": [
    {
     "data": {
      "text/plain": [
       "0.4745706786885481"
      ]
     },
     "execution_count": 207,
     "metadata": {},
     "output_type": "execute_result"
    }
   ],
   "source": [
    "random.seed(12)\n",
    "random.random()"
   ]
  },
  {
   "cell_type": "markdown",
   "id": "f0ee81b5-db4c-430b-af21-b5e2b92e6b00",
   "metadata": {},
   "source": [
    "## 6.1 http / 외부 라이브러리\n",
    "\n",
    "- HTTP : 내 컴퓨와 브라우저간 서로 주고 받는 요청, 응답 형태\n",
    "\n",
    "    - requests\n",
    "    - api "
   ]
  },
  {
   "cell_type": "code",
   "execution_count": 213,
   "id": "ceeee15e-0461-4f69-82c5-1a2a9fd76cf0",
   "metadata": {},
   "outputs": [],
   "source": [
    "import requests"
   ]
  },
  {
   "cell_type": "code",
   "execution_count": 217,
   "id": "32992e64-f73e-4916-ae3a-4598f581bcc2",
   "metadata": {},
   "outputs": [],
   "source": [
    "r = requests.get('https://api.github.com/events') "
   ]
  },
  {
   "cell_type": "code",
   "execution_count": 219,
   "id": "bef20809-2014-4f8d-a20f-9ad8bdc980b1",
   "metadata": {
    "collapsed": true,
    "jupyter": {
     "outputs_hidden": true
    }
   },
   "outputs": [
    {
     "name": "stdout",
     "output_type": "stream",
     "text": [
      "[{\"id\":\"46720886438\",\"type\":\"PushEvent\",\"actor\":{\"id\":41898282,\"login\":\"github-actions[bot]\",\"display_login\":\"github-actions\",\"gravatar_id\":\"\",\"url\":\"https://api.github.com/users/github-actions[bot]\",\"avatar_url\":\"https://avatars.githubusercontent.com/u/41898282?\"},\"repo\":{\"id\":383324105,\"name\":\"pratamatama/pratamatama\",\"url\":\"https://api.github.com/repos/pratamatama/pratamatama\"},\"payload\":{\"repository_id\":383324105,\"push_id\":22736164642,\"size\":1,\"distinct_size\":1,\"ref\":\"refs/heads/main\",\"head\":\"286b093d1a3bc28f7e0e454d759eab428e6365c7\",\"before\":\"17d774771e3bdf5208f076bcac1c5ae98448398d\",\"commits\":[{\"sha\":\"286b093d1a3bc28f7e0e454d759eab428e6365c7\",\"author\":{\"email\":\"41898282+github-actions[bot]@users.noreply.github.com\",\"name\":\"github-actions[bot]\"},\"message\":\"Update metrics1.svg - [Skip GitHub Action]\",\"distinct\":true,\"url\":\"https://api.github.com/repos/pratamatama/pratamatama/commits/286b093d1a3bc28f7e0e454d759eab428e6365c7\"}]},\"public\":true,\"created_at\":\"2025-02-19T08:06:55Z\"},{\"id\":\"46720886460\",\"type\":\"PushEvent\",\"actor\":{\"id\":65212910,\"login\":\"Hall-1910\",\"display_login\":\"Hall-1910\",\"gravatar_id\":\"\",\"url\":\"https://api.github.com/users/Hall-1910\",\"avatar_url\":\"https://avatars.githubusercontent.com/u/65212910?\"},\"repo\":{\"id\":222505696,\"name\":\"brand22/d3\",\"url\":\"https://api.github.com/repos/brand22/d3\"},\"payload\":{\"repository_id\":222505696,\"push_id\":22736164588,\"size\":1,\"distinct_size\":1,\"ref\":\"refs/heads/master\",\"head\":\"28b81e0ef4c26f112e10dd06edb982a2ce50c06f\",\"before\":\"040c21b081b850f717032bddb5497899e5b8bcde\",\"commits\":[{\"sha\":\"28b81e0ef4c26f112e10dd06edb982a2ce50c06f\",\"author\":{\"email\":\"65212910+Hall-1910@users.noreply.github.com\",\"name\":\"Hall-1910\"},\"message\":\"m\",\"distinct\":true,\"url\":\"https://api.github.com/repos/brand22/d3/commits/28b81e0ef4c26f112e10dd06edb982a2ce50c06f\"}]},\"public\":true,\"created_at\":\"2025-02-19T08:06:55Z\"},{\"id\":\"46720886480\",\"type\":\"ForkEvent\",\"actor\":{\"id\":5655475,\"login\":\"feurerviktor\",\"display_login\":\"feurerviktor\",\"gravatar_id\":\"\",\"url\":\"https://api.github.com/users/feurerviktor\",\"avatar_url\":\"https://avatars.githubusercontent.com/u/5655475?\"},\"repo\":{\"id\":251573933,\"name\":\"CrystallizeAPI/crystallize-magento-import\",\"url\":\"https://api.github.com/repos/CrystallizeAPI/crystallize-magento-import\"},\"payload\":{\"forkee\":{\"id\":935294406,\"node_id\":\"R_kgDON791xg\",\"name\":\"crystallize-magento-import\",\"full_name\":\"feurerviktor/crystallize-magento-import\",\"private\":false,\"owner\":{\"login\":\"feurerviktor\",\"id\":5655475,\"node_id\":\"MDQ6VXNlcjU2NTU0NzU=\",\"avatar_url\":\"https://avatars.githubusercontent.com/u/5655475?v=4\",\"gravatar_id\":\"\",\"url\":\"https://api.github.com/users/feurerviktor\",\"html_url\":\"https://github.com/feurerviktor\",\"followers_url\":\"https://api.github.com/users/feurerviktor/followers\",\"following_url\":\"https://api.github.com/users/feurerviktor/following{/other_user}\",\"gists_url\":\"https://api.github.com/users/feurerviktor/gists{/gist_id}\",\"starred_url\":\"https://api.github.com/users/feurerviktor/starred{/owner}{/repo}\",\"subscriptions_url\":\"https://api.github.com/users/feurerviktor/subscriptions\",\"organizations_url\":\"https://api.github.com/users/feurerviktor/orgs\",\"repos_url\":\"https://api.github.com/users/feurerviktor/repos\",\"events_url\":\"https://api.github.com/users/feurerviktor/events{/privacy}\",\"received_events_url\":\"https://api.github.com/users/feurerviktor/received_events\",\"type\":\"User\",\"user_view_type\":\"public\",\"site_admin\":false},\"html_url\":\"https://github.com/feurerviktor/crystallize-magento-import\",\"description\":\"Importing magento catalogue in Crystallize\",\"fork\":true,\"url\":\"https://api.github.com/repos/feurerviktor/crystallize-magento-import\",\"forks_url\":\"https://api.github.com/repos/feurerviktor/crystallize-magento-import/forks\",\"keys_url\":\"https://api.github.com/repos/feurerviktor/crystallize-magento-import/keys{/key_id}\",\"collaborators_url\":\"https://api.github.com/repos/feurerviktor/crystallize-magento-import/collaborators{/collaborator}\",\"teams_url\":\"https://api.github.com/repos/feurerviktor/crystallize-magento-import/teams\",\"hooks_url\":\"https://api.github.com/repos/feurerviktor/crystallize-magento-import/hooks\",\"issue_events_url\":\"https://api.github.com/repos/feurerviktor/crystallize-magento-import/issues/events{/number}\",\"events_url\":\"https://api.github.com/repos/feurerviktor/crystallize-magento-import/events\",\"assignees_url\":\"https://api.github.com/repos/feurerviktor/crystallize-magento-import/assignees{/user}\",\"branches_url\":\"https://api.github.com/repos/feurerviktor/crystallize-magento-import/branches{/branch}\",\"tags_url\":\"https://api.github.com/repos/feurerviktor/crystallize-magento-import/tags\",\"blobs_url\":\"https://api.github.com/repos/feurerviktor/crystallize-magento-import/git/blobs{/sha}\",\"git_tags_url\":\"https://api.github.com/repos/feurerviktor/crystallize-magento-import/git/tags{/sha}\",\"git_refs_url\":\"https://api.github.com/repos/feurerviktor/crystallize-magento-import/git/refs{/sha}\",\"trees_url\":\"https://api.github.com/repos/feurerviktor/crystallize-magento-import/git/trees{/sha}\",\"statuses_url\":\"https://api.github.com/repos/feurerviktor/crystallize-magento-import/statuses/{sha}\",\"languages_url\":\"https://api.github.com/repos/feurerviktor/crystallize-magento-import/languages\",\"stargazers_url\":\"https://api.github.com/repos/feurerviktor/crystallize-magento-import/stargazers\",\"contributors_url\":\"https://api.github.com/repos/feurerviktor/crystallize-magento-import/contributors\",\"subscribers_url\":\"https://api.github.com/repos/feurerviktor/crystallize-magento-import/subscribers\",\"subscription_url\":\"https://api.github.com/repos/feurerviktor/crystallize-magento-import/subscription\",\"commits_url\":\"https://api.github.com/repos/feurerviktor/crystallize-magento-import/commits{/sha}\",\"git_commits_url\":\"https://api.github.com/repos/feurerviktor/crystallize-magento-import/git/commits{/sha}\",\"comments_url\":\"https://api.github.com/repos/feurerviktor/crystallize-magento-import/comments{/number}\",\"issue_comment_url\":\"https://api.github.com/repos/feurerviktor/crystallize-magento-import/issues/comments{/number}\",\"contents_url\":\"https://api.github.com/repos/feurerviktor/crystallize-magento-import/contents/{+path}\",\"compare_url\":\"https://api.github.com/repos/feurerviktor/crystallize-magento-import/compare/{base}...{head}\",\"merges_url\":\"https://api.github.com/repos/feurerviktor/crystallize-magento-import/merges\",\"archive_url\":\"https://api.github.com/repos/feurerviktor/crystallize-magento-import/{archive_format}{/ref}\",\"downloads_url\":\"https://api.github.com/repos/feurerviktor/crystallize-magento-import/downloads\",\"issues_url\":\"https://api.github.com/repos/feurerviktor/crystallize-magento-import/issues{/number}\",\"pulls_url\":\"https://api.github.com/repos/feurerviktor/crystallize-magento-import/pulls{/number}\",\"milestones_url\":\"https://api.github.com/repos/feurerviktor/crystallize-magento-import/milestones{/number}\",\"notifications_url\":\"https://api.github.com/repos/feurerviktor/crystallize-magento-import/notifications{?since,all,participating}\",\"labels_url\":\"https://api.github.com/repos/feurerviktor/crystallize-magento-import/labels{/name}\",\"releases_url\":\"https://api.github.com/repos/feurerviktor/crystallize-magento-import/releases{/id}\",\"deployments_url\":\"https://api.github.com/repos/feurerviktor/crystallize-magento-import/deployments\",\"created_at\":\"2025-02-19T08:06:54Z\",\"updated_at\":\"2025-02-19T08:06:54Z\",\"pushed_at\":\"2023-03-04T09:30:59Z\",\"git_url\":\"git://github.com/feurerviktor/crystallize-magento-import.git\",\"ssh_url\":\"git@github.com:feurerviktor/crystallize-magento-import.git\",\"clone_url\":\"https://github.com/feurerviktor/crystallize-magento-import.git\",\"svn_url\":\"https://github.com/feurerviktor/crystallize-magento-import\",\"homepage\":null,\"size\":121,\"stargazers_count\":0,\"watchers_count\":0,\"language\":null,\"has_issues\":false,\"has_projects\":true,\"has_downloads\":true,\"has_wiki\":false,\"has_pages\":false,\"has_discussions\":false,\"forks_count\":0,\"mirror_url\":null,\"archived\":false,\"disabled\":false,\"open_issues_count\":0,\"license\":null,\"allow_forking\":true,\"is_template\":false,\"web_commit_signoff_required\":false,\"topics\":[],\"visibility\":\"public\",\"forks\":0,\"open_issues\":0,\"watchers\":0,\"default_branch\":\"main\",\"public\":true}},\"public\":true,\"created_at\":\"2025-02-19T08:06:55Z\",\"org\":{\"id\":44665644,\"login\":\"CrystallizeAPI\",\"gravatar_id\":\"\",\"url\":\"https://api.github.com/orgs/CrystallizeAPI\",\"avatar_url\":\"https://avatars.githubusercontent.com/u/44665644?\"}},{\"id\":\"46720886443\",\"type\":\"WatchEvent\",\"actor\":{\"id\":133875139,\"login\":\"zxcvbnmkj\",\"display_login\":\"zxcvbnmkj\",\"gravatar_id\":\"\",\"url\":\"https://api.github.com/users/zxcvbnmkj\",\"avatar_url\":\"https://avatars.githubusercontent.com/u/133875139?\"},\"repo\":{\"id\":833984877,\"name\":\"kvcache-ai/ktransformers\",\"url\":\"https://api.github.com/repos/kvcache-ai/ktransformers\"},\"payload\":{\"action\":\"started\"},\"public\":true,\"created_at\":\"2025-02-19T08:06:55Z\",\"org\":{\"id\":170996193,\"login\":\"kvcache-ai\",\"gravatar_id\":\"\",\"url\":\"https://api.github.com/orgs/kvcache-ai\",\"avatar_url\":\"https://avatars.githubusercontent.com/u/170996193?\"}},{\"id\":\"46720886467\",\"type\":\"IssueCommentEvent\",\"actor\":{\"id\":41898282,\"login\":\"github-actions[bot]\",\"display_login\":\"github-actions\",\"gravatar_id\":\"\",\"url\":\"https://api.github.com/users/github-actions[bot]\",\"avatar_url\":\"https://avatars.githubusercontent.com/u/41898282?\"},\"repo\":{\"id\":802814179,\"name\":\"starkware-libs/sequencer\",\"url\":\"https://api.github.com/repos/starkware-libs/sequencer\"},\"payload\":{\"action\":\"created\",\"issue\":{\"url\":\"https://api.github.com/repos/starkware-libs/sequencer/issues/3343\",\"repository_url\":\"https://api.github.com/repos/starkware-libs/sequencer\",\"labels_url\":\"https://api.github.com/repos/starkware-libs/sequencer/issues/3343/labels{/name}\",\"comments_url\":\"https://api.github.com/repos/starkware-libs/sequencer/issues/3343/comments\",\"events_url\":\"https://api.github.com/repos/starkware-libs/sequencer/issues/3343/events\",\"html_url\":\"https://github.com/starkware-libs/sequencer/pull/3343\",\"id\":2789853818,\"node_id\":\"PR_kwDOL9n4486H2e3J\",\"number\":3343,\"title\":\"wip\",\"user\":{\"login\":\"Itay-Tsabary-Starkware\",\"id\":106665835,\"node_id\":\"U_kgDOBluXaw\",\"avatar_url\":\"https://avatars.githubusercontent.com/u/106665835?v=4\",\"gravatar_id\":\"\",\"url\":\"https://api.github.com/users/Itay-Tsabary-Starkware\",\"html_url\":\"https://github.com/Itay-Tsabary-Starkware\",\"followers_url\":\"https://api.github.com/users/Itay-Tsabary-Starkware/followers\",\"following_url\":\"https://api.github.com/users/Itay-Tsabary-Starkware/following{/other_user}\",\"gists_url\":\"https://api.github.com/users/Itay-Tsabary-Starkware/gists{/gist_id}\",\"starred_url\":\"https://api.github.com/users/Itay-Tsabary-Starkware/starred{/owner}{/repo}\",\"subscriptions_url\":\"https://api.github.com/users/Itay-Tsabary-Starkware/subscriptions\",\"organizations_url\":\"https://api.github.com/users/Itay-Tsabary-Starkware/orgs\",\"repos_url\":\"https://api.github.com/users/Itay-Tsabary-Starkware/repos\",\"events_url\":\"https://api.github.com/users/Itay-Tsabary-Starkware/events{/privacy}\",\"received_events_url\":\"https://api.github.com/users/Itay-Tsabary-Starkware/received_events\",\"type\":\"User\",\"user_view_type\":\"public\",\"site_admin\":false},\"labels\":[{\"id\":7162124972,\"node_id\":\"LA_kwDOL9n4488AAAABquVarA\",\"url\":\"https://api.github.com/repos/starkware-libs/sequencer/labels/stale\",\"name\":\"stale\",\"color\":\"ededed\",\"default\":false,\"description\":null}],\"state\":\"open\",\"locked\":false,\"assignee\":null,\"assignees\":[],\"milestone\":null,\"comments\":2,\"created_at\":\"2025-01-15T13:28:13Z\",\"updated_at\":\"2025-02-19T08:06:55Z\",\"closed_at\":null,\"author_association\":\"CONTRIBUTOR\",\"sub_issues_summary\":{\"total\":0,\"completed\":0,\"percent_completed\":0},\"active_lock_reason\":null,\"draft\":false,\"pull_request\":{\"url\":\"https://api.github.com/repos/starkware-libs/sequencer/pulls/3343\",\"html_url\":\"https://github.com/starkware-libs/sequencer/pull/3343\",\"diff_url\":\"https://github.com/starkware-libs/sequencer/pull/3343.diff\",\"patch_url\":\"https://github.com/starkware-libs/sequencer/pull/3343.patch\",\"merged_at\":null},\"body\":\"**Stack**:\\n- wip #3343 ⬅\\n- chore(papyrus_common): reallocate and remove redundant functions #3342\\n- chore(starknet_infra_utils): remove get_available_socket #3323\\n\\n\\n⚠️ *Part of a stack created by [spr](https://github.com/ejoffe/spr). Do not merge manually using the UI - doing so may have unexpected results.*\",\"reactions\":{\"url\":\"https://api.github.com/repos/starkware-libs/sequencer/issues/3343/reactions\",\"total_count\":0,\"+1\":0,\"-1\":0,\"laugh\":0,\"hooray\":0,\"confused\":0,\"heart\":0,\"rocket\":0,\"eyes\":0},\"timeline_url\":\"https://api.github.com/repos/starkware-libs/sequencer/issues/3343/timeline\",\"performed_via_github_app\":null,\"state_reason\":null},\"comment\":{\"url\":\"https://api.github.com/repos/starkware-libs/sequencer/issues/comments/2667851974\",\"html_url\":\"https://github.com/starkware-libs/sequencer/pull/3343#issuecomment-2667851974\",\"issue_url\":\"https://api.github.com/repos/starkware-libs/sequencer/issues/3343\",\"id\":2667851974,\"node_id\":\"IC_kwDOL9n4486fBDDG\",\"user\":{\"login\":\"github-actions[bot]\",\"id\":41898282,\"node_id\":\"MDM6Qm90NDE4OTgyODI=\",\"avatar_url\":\"https://avatars.githubusercontent.com/in/15368?v=4\",\"gravatar_id\":\"\",\"url\":\"https://api.github.com/users/github-actions%5Bbot%5D\",\"html_url\":\"https://github.com/apps/github-actions\",\"followers_url\":\"https://api.github.com/users/github-actions%5Bbot%5D/followers\",\"following_url\":\"https://api.github.com/users/github-actions%5Bbot%5D/following{/other_user}\",\"gists_url\":\"https://api.github.com/users/github-actions%5Bbot%5D/gists{/gist_id}\",\"starred_url\":\"https://api.github.com/users/github-actions%5Bbot%5D/starred{/owner}{/repo}\",\"subscriptions_url\":\"https://api.github.com/users/github-actions%5Bbot%5D/subscriptions\",\"organizations_url\":\"https://api.github.com/users/github-actions%5Bbot%5D/orgs\",\"repos_url\":\"https://api.github.com/users/github-actions%5Bbot%5D/repos\",\"events_url\":\"https://api.github.com/users/github-actions%5Bbot%5D/events{/privacy}\",\"received_events_url\":\"https://api.github.com/users/github-actions%5Bbot%5D/received_events\",\"type\":\"Bot\",\"user_view_type\":\"public\",\"site_admin\":false},\"created_at\":\"2025-02-19T08:06:53Z\",\"updated_at\":\"2025-02-19T08:06:53Z\",\"author_association\":\"NONE\",\"body\":\"There hasn't been any activity on this pull request recently, and in order to prioritize active work, it has been marked as stale.\\nThis PR will be closed and locked in 7 days if no further activity occurs.\\nThank you for your contributions!\",\"reactions\":{\"url\":\"https://api.github.com/repos/starkware-libs/sequencer/issues/comments/2667851974/reactions\",\"total_count\":0,\"+1\":0,\"-1\":0,\"laugh\":0,\"hooray\":0,\"confused\":0,\"heart\":0,\"rocket\":0,\"eyes\":0},\"performed_via_github_app\":{\"id\":15368,\"client_id\":\"Iv1.05c79e9ad1f6bdfa\",\"slug\":\"github-actions\",\"node_id\":\"MDM6QXBwMTUzNjg=\",\"owner\":{\"login\":\"github\",\"id\":9919,\"node_id\":\"MDEyOk9yZ2FuaXphdGlvbjk5MTk=\",\"avatar_url\":\"https://avatars.githubusercontent.com/u/9919?v=4\",\"gravatar_id\":\"\",\"url\":\"https://api.github.com/users/github\",\"html_url\":\"https://github.com/github\",\"followers_url\":\"https://api.github.com/users/github/followers\",\"following_url\":\"https://api.github.com/users/github/following{/other_user}\",\"gists_url\":\"https://api.github.com/users/github/gists{/gist_id}\",\"starred_url\":\"https://api.github.com/users/github/starred{/owner}{/repo}\",\"subscriptions_url\":\"https://api.github.com/users/github/subscriptions\",\"organizations_url\":\"https://api.github.com/users/github/orgs\",\"repos_url\":\"https://api.github.com/users/github/repos\",\"events_url\":\"https://api.github.com/users/github/events{/privacy}\",\"received_events_url\":\"https://api.github.com/users/github/received_events\",\"type\":\"Organization\",\"user_view_type\":\"public\",\"site_admin\":false},\"name\":\"GitHub Actions\",\"description\":\"Automate your workflow from idea to production\",\"external_url\":\"https://help.github.com/en/actions\",\"html_url\":\"https://github.com/apps/github-actions\",\"created_at\":\"2018-07-30T09:30:17Z\",\"updated_at\":\"2024-04-10T20:33:16Z\",\"permissions\":{\"actions\":\"write\",\"administration\":\"read\",\"attestations\":\"write\",\"checks\":\"write\",\"contents\":\"write\",\"deployments\":\"write\",\"discussions\":\"write\",\"issues\":\"write\",\"merge_queues\":\"write\",\"metadata\":\"read\",\"packages\":\"write\",\"pages\":\"write\",\"pull_requests\":\"write\",\"repository_hooks\":\"write\",\"repository_projects\":\"write\",\"security_events\":\"write\",\"statuses\":\"write\",\"vulnerability_alerts\":\"read\"},\"events\":[\"branch_protection_rule\",\"check_run\",\"check_suite\",\"create\",\"delete\",\"deployment\",\"deployment_status\",\"discussion\",\"discussion_comment\",\"fork\",\"gollum\",\"issues\",\"issue_comment\",\"label\",\"merge_group\",\"milestone\",\"page_build\",\"project\",\"project_card\",\"project_column\",\"public\",\"pull_request\",\"pull_request_review\",\"pull_request_review_comment\",\"push\",\"registry_package\",\"release\",\"repository\",\"repository_dispatch\",\"status\",\"watch\",\"workflow_dispatch\",\"workflow_run\"]}}},\"public\":true,\"created_at\":\"2025-02-19T08:06:55Z\",\"org\":{\"id\":59333826,\"login\":\"starkware-libs\",\"gravatar_id\":\"\",\"url\":\"https://api.github.com/orgs/starkware-libs\",\"avatar_url\":\"https://avatars.githubusercontent.com/u/59333826?\"}},{\"id\":\"46720886422\",\"type\":\"PushEvent\",\"actor\":{\"id\":46676825,\"login\":\"walidelbourdiney\",\"display_login\":\"walidelbourdiney\",\"gravatar_id\":\"\",\"url\":\"https://api.github.com/users/walidelbourdiney\",\"avatar_url\":\"https://avatars.githubusercontent.com/u/46676825?\"},\"repo\":{\"id\":931158610,\"name\":\"walidelbourdiney/alx-fe-reactjs\",\"url\":\"https://api.github.com/repos/walidelbourdiney/alx-fe-reactjs\"},\"payload\":{\"repository_id\":931158610,\"push_id\":22736164548,\"size\":1,\"distinct_size\":1,\"ref\":\"refs/heads/main\",\"head\":\"1ecbd4f4102ecd86f4319b9045e8f96d7ccedad9\",\"before\":\"88200c5261e7af42ac33e529b64836fb9fcbbf3d\",\"commits\":[{\"sha\":\"1ecbd4f4102ecd86f4319b9045e8f96d7ccedad9\",\"author\":{\"email\":\"walidelbourdiney25@gmail.com\",\"name\":\"walidelbourdiney\"},\"message\":\"edit task 3\",\"distinct\":true,\"url\":\"https://api.github.com/repos/walidelbourdiney/alx-fe-reactjs/commits/1ecbd4f4102ecd86f4319b9045e8f96d7ccedad9\"}]},\"public\":true,\"created_at\":\"2025-02-19T08:06:55Z\"},{\"id\":\"46720886423\",\"type\":\"PushEvent\",\"actor\":{\"id\":64365623,\"login\":\"vtloa\",\"display_login\":\"vtloa\",\"gravatar_id\":\"\",\"url\":\"https://api.github.com/users/vtloa\",\"avatar_url\":\"https://avatars.githubusercontent.com/u/64365623?\"},\"repo\":{\"id\":259069507,\"name\":\"vtloa/vtloa.github.io\",\"url\":\"https://api.github.com/repos/vtloa/vtloa.github.io\"},\"payload\":{\"repository_id\":259069507,\"push_id\":22736164559,\"size\":1,\"distinct_size\":1,\"ref\":\"refs/heads/master\",\"head\":\"29f26865245ba0b1fcd715cf84345853ef8d16bb\",\"before\":\"41cc6213ed31587f02fa3fdd16a36e93884b0af5\",\"commits\":[{\"sha\":\"29f26865245ba0b1fcd715cf84345853ef8d16bb\",\"author\":{\"email\":\"64365623+vtloa@users.noreply.github.com\",\"name\":\"vtloa\"},\"message\":\"Update Beon_Home.css\",\"distinct\":true,\"url\":\"https://api.github.com/repos/vtloa/vtloa.github.io/commits/29f26865245ba0b1fcd715cf84345853ef8d16bb\"}]},\"public\":true,\"created_at\":\"2025-02-19T08:06:55Z\"},{\"id\":\"46720886459\",\"type\":\"CreateEvent\",\"actor\":{\"id\":176950411,\"login\":\"ArKQuee\",\"display_login\":\"ArKQuee\",\"gravatar_id\":\"\",\"url\":\"https://api.github.com/users/ArKQuee\",\"avatar_url\":\"https://avatars.githubusercontent.com/u/176950411?\"},\"repo\":{\"id\":935294405,\"name\":\"ArKQuee/implementing_insert_an_entity_in_react_app_assignment_2\",\"url\":\"https://api.github.com/repos/ArKQuee/implementing_insert_an_entity_in_react_app_assignment_2\"},\"payload\":{\"ref\":null,\"ref_type\":\"repository\",\"master_branch\":\"main\",\"description\":\"Created with StackBlitz ⚡️\",\"pusher_type\":\"user\"},\"public\":true,\"created_at\":\"2025-02-19T08:06:55Z\"},{\"id\":\"46720886409\",\"type\":\"CreateEvent\",\"actor\":{\"id\":199894272,\"login\":\"jackqelley\",\"display_login\":\"jackqelley\",\"gravatar_id\":\"\",\"url\":\"https://api.github.com/users/jackqelley\",\"avatar_url\":\"https://avatars.githubusercontent.com/u/199894272?\"},\"repo\":{\"id\":935293909,\"name\":\"Nitric-Boost-Ultra-Australia/.github\",\"url\":\"https://api.github.com/repos/Nitric-Boost-Ultra-Australia/.github\"},\"payload\":{\"ref\":\"main\",\"ref_type\":\"branch\",\"master_branch\":\"main\",\"description\":null,\"pusher_type\":\"user\"},\"public\":true,\"created_at\":\"2025-02-19T08:06:55Z\",\"org\":{\"id\":199894469,\"login\":\"Nitric-Boost-Ultra-Australia\",\"gravatar_id\":\"\",\"url\":\"https://api.github.com/orgs/Nitric-Boost-Ultra-Australia\",\"avatar_url\":\"https://avatars.githubusercontent.com/u/199894469?\"}},{\"id\":\"46720886416\",\"type\":\"PullRequestReviewEvent\",\"actor\":{\"id\":304966,\"login\":\"adr1anh\",\"display_login\":\"adr1anh\",\"gravatar_id\":\"\",\"url\":\"https://api.github.com/users/adr1anh\",\"avatar_url\":\"https://avatars.githubusercontent.com/u/304966?\"},\"repo\":{\"id\":621164321,\"name\":\"Plonky3/Plonky3\",\"url\":\"https://api.github.com/repos/Plonky3/Plonky3\"},\"payload\":{\"action\":\"created\",\"review\":{\"id\":2619496882,\"node_id\":\"PRR_kwDOJQY3Ic6cIlmy\",\"user\":{\"login\":\"adr1anh\",\"id\":304966,\"node_id\":\"MDQ6VXNlcjMwNDk2Ng==\",\"avatar_url\":\"https://avatars.githubusercontent.com/u/304966?v=4\",\"gravatar_id\":\"\",\"url\":\"https://api.github.com/users/adr1anh\",\"html_url\":\"https://github.com/adr1anh\",\"followers_url\":\"https://api.github.com/users/adr1anh/followers\",\"following_url\":\"https://api.github.com/users/adr1anh/following{/other_user}\",\"gists_url\":\"https://api.github.com/users/adr1anh/gists{/gist_id}\",\"starred_url\":\"https://api.github.com/users/adr1anh/starred{/owner}{/repo}\",\"subscriptions_url\":\"https://api.github.com/users/adr1anh/subscriptions\",\"organizations_url\":\"https://api.github.com/users/adr1anh/orgs\",\"repos_url\":\"https://api.github.com/users/adr1anh/repos\",\"events_url\":\"https://api.github.com/users/adr1anh/events{/privacy}\",\"received_events_url\":\"https://api.github.com/users/adr1anh/received_events\",\"type\":\"User\",\"user_view_type\":\"public\",\"site_admin\":false},\"body\":null,\"commit_id\":\"2b90ad4bf32a093cbfd9e9af5ea569212dc6beca\",\"submitted_at\":\"2025-02-19T08:06:54Z\",\"state\":\"commented\",\"html_url\":\"https://github.com/Plonky3/Plonky3/pull/669#pullrequestreview-2619496882\",\"pull_request_url\":\"https://api.github.com/repos/Plonky3/Plonky3/pulls/669\",\"author_association\":\"CONTRIBUTOR\",\"_links\":{\"html\":{\"href\":\"https://github.com/Plonky3/Plonky3/pull/669#pullrequestreview-2619496882\"},\"pull_request\":{\"href\":\"https://api.github.com/repos/Plonky3/Plonky3/pulls/669\"}}},\"pull_request\":{\"url\":\"https://api.github.com/repos/Plonky3/Plonky3/pulls/669\",\"id\":2334709212,\"node_id\":\"PR_kwDOJQY3Ic6LKNXc\",\"html_url\":\"https://github.com/Plonky3/Plonky3/pull/669\",\"diff_url\":\"https://github.com/Plonky3/Plonky3/pull/669.diff\",\"patch_url\":\"https://github.com/Plonky3/Plonky3/pull/669.patch\",\"issue_url\":\"https://api.github.com/repos/Plonky3/Plonky3/issues/669\",\"number\":669,\"state\":\"open\",\"locked\":false,\"title\":\"core: some improvements\",\"user\":{\"login\":\"tcoratger\",\"id\":60488569,\"node_id\":\"MDQ6VXNlcjYwNDg4NTY5\",\"avatar_url\":\"https://avatars.githubusercontent.com/u/60488569?v=4\",\"gravatar_id\":\"\",\"url\":\"https://api.github.com/users/tcoratger\",\"html_url\":\"https://github.com/tcoratger\",\"followers_url\":\"https://api.github.com/users/tcoratger/followers\",\"following_url\":\"https://api.github.com/users/tcoratger/following{/other_user}\",\"gists_url\":\"https://api.github.com/users/tcoratger/gists{/gist_id}\",\"starred_url\":\"https://api.github.com/users/tcoratger/starred{/owner}{/repo}\",\"subscriptions_url\":\"https://api.github.com/users/tcoratger/subscriptions\",\"organizations_url\":\"https://api.github.com/users/tcoratger/orgs\",\"repos_url\":\"https://api.github.com/users/tcoratger/repos\",\"events_url\":\"https://api.github.com/users/tcoratger/events{/privacy}\",\"received_events_url\":\"https://api.github.com/users/tcoratger/received_events\",\"type\":\"User\",\"user_view_type\":\"public\",\"site_admin\":false},\"body\":\"@dlubarov @SyxtonPrime Let me know what you think and if there are places where you don't like the changes.\\r\\n\\r\\nI didn't put any clippy constraints to not overload the next PRs but I did a global pass of changes that can be useful in terms of dev experience and sometimes perf stuffs with references with a pass by value is useless (avoiding some clones).\",\"created_at\":\"2025-02-13T20:46:24Z\",\"updated_at\":\"2025-02-19T08:06:54Z\",\"closed_at\":null,\"merged_at\":null,\"merge_commit_sha\":\"75e66c018646fef25f0a0e28a56c631add0030a7\",\"assignee\":null,\"assignees\":[],\"requested_reviewers\":[],\"requested_teams\":[],\"labels\":[],\"milestone\":null,\"draft\":false,\"commits_url\":\"https://api.github.com/repos/Plonky3/Plonky3/pulls/669/commits\",\"review_comments_url\":\"https://api.github.com/repos/Plonky3/Plonky3/pulls/669/comments\",\"review_comment_url\":\"https://api.github.com/repos/Plonky3/Plonky3/pulls/comments{/number}\",\"comments_url\":\"https://api.github.com/repos/Plonky3/Plonky3/issues/669/comments\",\"statuses_url\":\"https://api.github.com/repos/Plonky3/Plonky3/statuses/2b90ad4bf32a093cbfd9e9af5ea569212dc6beca\",\"head\":{\"label\":\"tcoratger:overall-improvements\",\"ref\":\"overall-improvements\",\"sha\":\"2b90ad4bf32a093cbfd9e9af5ea569212dc6beca\",\"user\":{\"login\":\"tcoratger\",\"id\":60488569,\"node_id\":\"MDQ6VXNlcjYwNDg4NTY5\",\"avatar_url\":\"https://avatars.githubusercontent.com/u/60488569?v=4\",\"gravatar_id\":\"\",\"url\":\"https://api.github.com/users/tcoratger\",\"html_url\":\"https://github.com/tcoratger\",\"followers_url\":\"https://api.github.com/users/tcoratger/followers\",\"following_url\":\"https://api.github.com/users/tcoratger/following{/other_user}\",\"gists_url\":\"https://api.github.com/users/tcoratger/gists{/gist_id}\",\"starred_url\":\"https://api.github.com/users/tcoratger/starred{/owner}{/repo}\",\"subscriptions_url\":\"https://api.github.com/users/tcoratger/subscriptions\",\"organizations_url\":\"https://api.github.com/users/tcoratger/orgs\",\"repos_url\":\"https://api.github.com/users/tcoratger/repos\",\"events_url\":\"https://api.github.com/users/tcoratger/events{/privacy}\",\"received_events_url\":\"https://api.github.com/users/tcoratger/received_events\",\"type\":\"User\",\"user_view_type\":\"public\",\"site_admin\":false},\"repo\":{\"id\":885379957,\"node_id\":\"R_kgDONMXTdQ\",\"name\":\"Plonky3\",\"full_name\":\"tcoratger/Plonky3\",\"private\":false,\"owner\":{\"login\":\"tcoratger\",\"id\":60488569,\"node_id\":\"MDQ6VXNlcjYwNDg4NTY5\",\"avatar_url\":\"https://avatars.githubusercontent.com/u/60488569?v=4\",\"gravatar_id\":\"\",\"url\":\"https://api.github.com/users/tcoratger\",\"html_url\":\"https://github.com/tcoratger\",\"followers_url\":\"https://api.github.com/users/tcoratger/followers\",\"following_url\":\"https://api.github.com/users/tcoratger/following{/other_user}\",\"gists_url\":\"https://api.github.com/users/tcoratger/gists{/gist_id}\",\"starred_url\":\"https://api.github.com/users/tcoratger/starred{/owner}{/repo}\",\"subscriptions_url\":\"https://api.github.com/users/tcoratger/subscriptions\",\"organizations_url\":\"https://api.github.com/users/tcoratger/orgs\",\"repos_url\":\"https://api.github.com/users/tcoratger/repos\",\"events_url\":\"https://api.github.com/users/tcoratger/events{/privacy}\",\"received_events_url\":\"https://api.github.com/users/tcoratger/received_events\",\"type\":\"User\",\"user_view_type\":\"public\",\"site_admin\":false},\"html_url\":\"https://github.com/tcoratger/Plonky3\",\"description\":\"A toolkit for polynomial IOPs (PIOPs)\",\"fork\":true,\"url\":\"https://api.github.com/repos/tcoratger/Plonky3\",\"forks_url\":\"https://api.github.com/repos/tcoratger/Plonky3/forks\",\"keys_url\":\"https://api.github.com/repos/tcoratger/Plonky3/keys{/key_id}\",\"collaborators_url\":\"https://api.github.com/repos/tcoratger/Plonky3/collaborators{/collaborator}\",\"teams_url\":\"https://api.github.com/repos/tcoratger/Plonky3/teams\",\"hooks_url\":\"https://api.github.com/repos/tcoratger/Plonky3/hooks\",\"issue_events_url\":\"https://api.github.com/repos/tcoratger/Plonky3/issues/events{/number}\",\"events_url\":\"https://api.github.com/repos/tcoratger/Plonky3/events\",\"assignees_url\":\"https://api.github.com/repos/tcoratger/Plonky3/assignees{/user}\",\"branches_url\":\"https://api.github.com/repos/tcoratger/Plonky3/branches{/branch}\",\"tags_url\":\"https://api.github.com/repos/tcoratger/Plonky3/tags\",\"blobs_url\":\"https://api.github.com/repos/tcoratger/Plonky3/git/blobs{/sha}\",\"git_tags_url\":\"https://api.github.com/repos/tcoratger/Plonky3/git/tags{/sha}\",\"git_refs_url\":\"https://api.github.com/repos/tcoratger/Plonky3/git/refs{/sha}\",\"trees_url\":\"https://api.github.com/repos/tcoratger/Plonky3/git/trees{/sha}\",\"statuses_url\":\"https://api.github.com/repos/tcoratger/Plonky3/statuses/{sha}\",\"languages_url\":\"https://api.github.com/repos/tcoratger/Plonky3/languages\",\"stargazers_url\":\"https://api.github.com/repos/tcoratger/Plonky3/stargazers\",\"contributors_url\":\"https://api.github.com/repos/tcoratger/Plonky3/contributors\",\"subscribers_url\":\"https://api.github.com/repos/tcoratger/Plonky3/subscribers\",\"subscription_url\":\"https://api.github.com/repos/tcoratger/Plonky3/subscription\",\"commits_url\":\"https://api.github.com/repos/tcoratger/Plonky3/commits{/sha}\",\"git_commits_url\":\"https://api.github.com/repos/tcoratger/Plonky3/git/commits{/sha}\",\"comments_url\":\"https://api.github.com/repos/tcoratger/Plonky3/comments{/number}\",\"issue_comment_url\":\"https://api.github.com/repos/tcoratger/Plonky3/issues/comments{/number}\",\"contents_url\":\"https://api.github.com/repos/tcoratger/Plonky3/contents/{+path}\",\"compare_url\":\"https://api.github.com/repos/tcoratger/Plonky3/compare/{base}...{head}\",\"merges_url\":\"https://api.github.com/repos/tcoratger/Plonky3/merges\",\"archive_url\":\"https://api.github.com/repos/tcoratger/Plonky3/{archive_format}{/ref}\",\"downloads_url\":\"https://api.github.com/repos/tcoratger/Plonky3/downloads\",\"issues_url\":\"https://api.github.com/repos/tcoratger/Plonky3/issues{/number}\",\"pulls_url\":\"https://api.github.com/repos/tcoratger/Plonky3/pulls{/number}\",\"milestones_url\":\"https://api.github.com/repos/tcoratger/Plonky3/milestones{/number}\",\"notifications_url\":\"https://api.github.com/repos/tcoratger/Plonky3/notifications{?since,all,participating}\",\"labels_url\":\"https://api.github.com/repos/tcoratger/Plonky3/labels{/name}\",\"releases_url\":\"https://api.github.com/repos/tcoratger/Plonky3/releases{/id}\",\"deployments_url\":\"https://api.github.com/repos/tcoratger/Plonky3/deployments\",\"created_at\":\"2024-11-08T13:28:22Z\",\"updated_at\":\"2025-02-17T17:07:13Z\",\"pushed_at\":\"2025-02-18T14:20:12Z\",\"git_url\":\"git://github.com/tcoratger/Plonky3.git\",\"ssh_url\":\"git@github.com:tcoratger/Plonky3.git\",\"clone_url\":\"https://github.com/tcoratger/Plonky3.git\",\"svn_url\":\"https://github.com/tcoratger/Plonky3\",\"homepage\":\"\",\"size\":4104,\"stargazers_count\":0,\"watchers_count\":0,\"language\":\"Rust\",\"has_issues\":false,\"has_projects\":true,\"has_downloads\":true,\"has_wiki\":false,\"has_pages\":false,\"has_discussions\":false,\"forks_count\":0,\"mirror_url\":null,\"archived\":false,\"disabled\":false,\"open_issues_count\":0,\"license\":{\"key\":\"apache-2.0\",\"name\":\"Apache License 2.0\",\"spdx_id\":\"Apache-2.0\",\"url\":\"https://api.github.com/licenses/apache-2.0\",\"node_id\":\"MDc6TGljZW5zZTI=\"},\"allow_forking\":true,\"is_template\":false,\"web_commit_signoff_required\":false,\"topics\":[],\"visibility\":\"public\",\"forks\":0,\"open_issues\":0,\"watchers\":0,\"default_branch\":\"main\"}},\"base\":{\"label\":\"Plonky3:main\",\"ref\":\"main\",\"sha\":\"f91c76545cf5c4ae9182897bcc557715817bcbdc\",\"user\":{\"login\":\"Plonky3\",\"id\":129361535,\"node_id\":\"O_kgDOB7Xmfw\",\"avatar_url\":\"https://avatars.githubusercontent.com/u/129361535?v=4\",\"gravatar_id\":\"\",\"url\":\"https://api.github.com/users/Plonky3\",\"html_url\":\"https://github.com/Plonky3\",\"followers_url\":\"https://api.github.com/users/Plonky3/followers\",\"following_url\":\"https://api.github.com/users/Plonky3/following{/other_user}\",\"gists_url\":\"https://api.github.com/users/Plonky3/gists{/gist_id}\",\"starred_url\":\"https://api.github.com/users/Plonky3/starred{/owner}{/repo}\",\"subscriptions_url\":\"https://api.github.com/users/Plonky3/subscriptions\",\"organizations_url\":\"https://api.github.com/users/Plonky3/orgs\",\"repos_url\":\"https://api.github.com/users/Plonky3/repos\",\"events_url\":\"https://api.github.com/users/Plonky3/events{/privacy}\",\"received_events_url\":\"https://api.github.com/users/Plonky3/received_events\",\"type\":\"Organization\",\"user_view_type\":\"public\",\"site_admin\":false},\"repo\":{\"id\":621164321,\"node_id\":\"R_kgDOJQY3IQ\",\"name\":\"Plonky3\",\"full_name\":\"Plonky3/Plonky3\",\"private\":false,\"owner\":{\"login\":\"Plonky3\",\"id\":129361535,\"node_id\":\"O_kgDOB7Xmfw\",\"avatar_url\":\"https://avatars.githubusercontent.com/u/129361535?v=4\",\"gravatar_id\":\"\",\"url\":\"https://api.github.com/users/Plonky3\",\"html_url\":\"https://github.com/Plonky3\",\"followers_url\":\"https://api.github.com/users/Plonky3/followers\",\"following_url\":\"https://api.github.com/users/Plonky3/following{/other_user}\",\"gists_url\":\"https://api.github.com/users/Plonky3/gists{/gist_id}\",\"starred_url\":\"https://api.github.com/users/Plonky3/starred{/owner}{/repo}\",\"subscriptions_url\":\"https://api.github.com/users/Plonky3/subscriptions\",\"organizations_url\":\"https://api.github.com/users/Plonky3/orgs\",\"repos_url\":\"https://api.github.com/users/Plonky3/repos\",\"events_url\":\"https://api.github.com/users/Plonky3/events{/privacy}\",\"received_events_url\":\"https://api.github.com/users/Plonky3/received_events\",\"type\":\"Organization\",\"user_view_type\":\"public\",\"site_admin\":false},\"html_url\":\"https://github.com/Plonky3/Plonky3\",\"description\":\"A toolkit for polynomial IOPs (PIOPs)\",\"fork\":false,\"url\":\"https://api.github.com/repos/Plonky3/Plonky3\",\"forks_url\":\"https://api.github.com/repos/Plonky3/Plonky3/forks\",\"keys_url\":\"https://api.github.com/repos/Plonky3/Plonky3/keys{/key_id}\",\"collaborators_url\":\"https://api.github.com/repos/Plonky3/Plonky3/collaborators{/collaborator}\",\"teams_url\":\"https://api.github.com/repos/Plonky3/Plonky3/teams\",\"hooks_url\":\"https://api.github.com/repos/Plonky3/Plonky3/hooks\",\"issue_events_url\":\"https://api.github.com/repos/Plonky3/Plonky3/issues/events{/number}\",\"events_url\":\"https://api.github.com/repos/Plonky3/Plonky3/events\",\"assignees_url\":\"https://api.github.com/repos/Plonky3/Plonky3/assignees{/user}\",\"branches_url\":\"https://api.github.com/repos/Plonky3/Plonky3/branches{/branch}\",\"tags_url\":\"https://api.github.com/repos/Plonky3/Plonky3/tags\",\"blobs_url\":\"https://api.github.com/repos/Plonky3/Plonky3/git/blobs{/sha}\",\"git_tags_url\":\"https://api.github.com/repos/Plonky3/Plonky3/git/tags{/sha}\",\"git_refs_url\":\"https://api.github.com/repos/Plonky3/Plonky3/git/refs{/sha}\",\"trees_url\":\"https://api.github.com/repos/Plonky3/Plonky3/git/trees{/sha}\",\"statuses_url\":\"https://api.github.com/repos/Plonky3/Plonky3/statuses/{sha}\",\"languages_url\":\"https://api.github.com/repos/Plonky3/Plonky3/languages\",\"stargazers_url\":\"https://api.github.com/repos/Plonky3/Plonky3/stargazers\",\"contributors_url\":\"https://api.github.com/repos/Plonky3/Plonky3/contributors\",\"subscribers_url\":\"https://api.github.com/repos/Plonky3/Plonky3/subscribers\",\"subscription_url\":\"https://api.github.com/repos/Plonky3/Plonky3/subscription\",\"commits_url\":\"https://api.github.com/repos/Plonky3/Plonky3/commits{/sha}\",\"git_commits_url\":\"https://api.github.com/repos/Plonky3/Plonky3/git/commits{/sha}\",\"comments_url\":\"https://api.github.com/repos/Plonky3/Plonky3/comments{/number}\",\"issue_comment_url\":\"https://api.github.com/repos/Plonky3/Plonky3/issues/comments{/number}\",\"contents_url\":\"https://api.github.com/repos/Plonky3/Plonky3/contents/{+path}\",\"compare_url\":\"https://api.github.com/repos/Plonky3/Plonky3/compare/{base}...{head}\",\"merges_url\":\"https://api.github.com/repos/Plonky3/Plonky3/merges\",\"archive_url\":\"https://api.github.com/repos/Plonky3/Plonky3/{archive_format}{/ref}\",\"downloads_url\":\"https://api.github.com/repos/Plonky3/Plonky3/downloads\",\"issues_url\":\"https://api.github.com/repos/Plonky3/Plonky3/issues{/number}\",\"pulls_url\":\"https://api.github.com/repos/Plonky3/Plonky3/pulls{/number}\",\"milestones_url\":\"https://api.github.com/repos/Plonky3/Plonky3/milestones{/number}\",\"notifications_url\":\"https://api.github.com/repos/Plonky3/Plonky3/notifications{?since,all,participating}\",\"labels_url\":\"https://api.github.com/repos/Plonky3/Plonky3/labels{/name}\",\"releases_url\":\"https://api.github.com/repos/Plonky3/Plonky3/releases{/id}\",\"deployments_url\":\"https://api.github.com/repos/Plonky3/Plonky3/deployments\",\"created_at\":\"2023-03-30T05:46:08Z\",\"updated_at\":\"2025-02-19T01:12:57Z\",\"pushed_at\":\"2025-02-18T17:01:21Z\",\"git_url\":\"git://github.com/Plonky3/Plonky3.git\",\"ssh_url\":\"git@github.com:Plonky3/Plonky3.git\",\"clone_url\":\"https://github.com/Plonky3/Plonky3.git\",\"svn_url\":\"https://github.com/Plonky3/Plonky3\",\"homepage\":\"\",\"size\":5824,\"stargazers_count\":566,\"watchers_count\":566,\"language\":\"Rust\",\"has_issues\":true,\"has_projects\":true,\"has_downloads\":true,\"has_wiki\":false,\"has_pages\":false,\"has_discussions\":false,\"forks_count\":246,\"mirror_url\":null,\"archived\":false,\"disabled\":false,\"open_issues_count\":72,\"license\":{\"key\":\"apache-2.0\",\"name\":\"Apache License 2.0\",\"spdx_id\":\"Apache-2.0\",\"url\":\"https://api.github.com/licenses/apache-2.0\",\"node_id\":\"MDc6TGljZW5zZTI=\"},\"allow_forking\":true,\"is_template\":false,\"web_commit_signoff_required\":false,\"topics\":[],\"visibility\":\"public\",\"forks\":246,\"open_issues\":72,\"watchers\":566,\"default_branch\":\"main\"}},\"_links\":{\"self\":{\"href\":\"https://api.github.com/repos/Plonky3/Plonky3/pulls/669\"},\"html\":{\"href\":\"https://github.com/Plonky3/Plonky3/pull/669\"},\"issue\":{\"href\":\"https://api.github.com/repos/Plonky3/Plonky3/issues/669\"},\"comments\":{\"href\":\"https://api.github.com/repos/Plonky3/Plonky3/issues/669/comments\"},\"review_comments\":{\"href\":\"https://api.github.com/repos/Plonky3/Plonky3/pulls/669/comments\"},\"review_comment\":{\"href\":\"https://api.github.com/repos/Plonky3/Plonky3/pulls/comments{/number}\"},\"commits\":{\"href\":\"https://api.github.com/repos/Plonky3/Plonky3/pulls/669/commits\"},\"statuses\":{\"href\":\"https://api.github.com/repos/Plonky3/Plonky3/statuses/2b90ad4bf32a093cbfd9e9af5ea569212dc6beca\"}},\"author_association\":\"CONTRIBUTOR\",\"auto_merge\":null,\"active_lock_reason\":null}},\"public\":true,\"created_at\":\"2025-02-19T08:06:55Z\",\"org\":{\"id\":129361535,\"login\":\"Plonky3\",\"gravatar_id\":\"\",\"url\":\"https://api.github.com/orgs/Plonky3\",\"avatar_url\":\"https://avatars.githubusercontent.com/u/129361535?\"}},{\"id\":\"46720886427\",\"type\":\"IssueCommentEvent\",\"actor\":{\"id\":25687724,\"login\":\"kubevirt-bot\",\"display_login\":\"kubevirt-bot\",\"gravatar_id\":\"\",\"url\":\"https://api.github.com/users/kubevirt-bot\",\"avatar_url\":\"https://avatars.githubusercontent.com/u/25687724?\"},\"repo\":{\"id\":96095106,\"name\":\"kubevirt/project-infra\",\"url\":\"https://api.github.com/repos/kubevirt/project-infra\"},\"payload\":{\"action\":\"created\",\"issue\":{\"url\":\"https://api.github.com/repos/kubevirt/project-infra/issues/3964\",\"repository_url\":\"https://api.github.com/repos/kubevirt/project-infra\",\"labels_url\":\"https://api.github.com/repos/kubevirt/project-infra/issues/3964/labels{/name}\",\"comments_url\":\"https://api.github.com/repos/kubevirt/project-infra/issues/3964/comments\",\"events_url\":\"https://api.github.com/repos/kubevirt/project-infra/issues/3964/events\",\"html_url\":\"https://github.com/kubevirt/project-infra/pull/3964\",\"id\":2862534889,\"node_id\":\"PR_kwDOBbpLgs6LtUKO\",\"number\":3964,\"title\":\"fix,test-label-analyzer: auto-insert git commit id\",\"user\":{\"login\":\"dhiller\",\"id\":809335,\"node_id\":\"MDQ6VXNlcjgwOTMzNQ==\",\"avatar_url\":\"https://avatars.githubusercontent.com/u/809335?v=4\",\"gravatar_id\":\"\",\"url\":\"https://api.github.com/users/dhiller\",\"html_url\":\"https://github.com/dhiller\",\"followers_url\":\"https://api.github.com/users/dhiller/followers\",\"following_url\":\"https://api.github.com/users/dhiller/following{/other_user}\",\"gists_url\":\"https://api.github.com/users/dhiller/gists{/gist_id}\",\"starred_url\":\"https://api.github.com/users/dhiller/starred{/owner}{/repo}\",\"subscriptions_url\":\"https://api.github.com/users/dhiller/subscriptions\",\"organizations_url\":\"https://api.github.com/users/dhiller/orgs\",\"repos_url\":\"https://api.github.com/users/dhiller/repos\",\"events_url\":\"https://api.github.com/users/dhiller/events{/privacy}\",\"received_events_url\":\"https://api.github.com/users/dhiller/received_events\",\"type\":\"User\",\"user_view_type\":\"public\",\"site_admin\":false},\"labels\":[{\"id\":1446484771,\"node_id\":\"MDU6TGFiZWwxNDQ2NDg0Nzcx\",\"url\":\"https://api.github.com/repos/kubevirt/project-infra/labels/do-not-merge/work-in-progress\",\"name\":\"do-not-merge/work-in-progress\",\"color\":\"e11d21\",\"default\":false,\"description\":\"Indicates that a PR should not merge because it is a work in progress.\"},{\"id\":1574997472,\"node_id\":\"MDU6TGFiZWwxNTc0OTk3NDcy\",\"url\":\"https://api.github.com/repos/kubevirt/project-infra/labels/dco-signoff:%20yes\",\"name\":\"dco-signoff: yes\",\"color\":\"bfe5bf\",\"default\":false,\"description\":\"Indicates the PR's author has DCO signed all their commits.\"}],\"state\":\"open\",\"locked\":false,\"assignee\":null,\"assignees\":[],\"milestone\":null,\"comments\":1,\"created_at\":\"2025-02-19T08:06:50Z\",\"updated_at\":\"2025-02-19T08:06:55Z\",\"closed_at\":null,\"author_association\":\"CONTRIBUTOR\",\"sub_issues_summary\":{\"total\":0,\"completed\":0,\"percent_completed\":0},\"active_lock_reason\":null,\"draft\":true,\"pull_request\":{\"url\":\"https://api.github.com/repos/kubevirt/project-infra/pulls/3964\",\"html_url\":\"https://github.com/kubevirt/project-infra/pull/3964\",\"diff_url\":\"https://github.com/kubevirt/project-infra/pull/3964.diff\",\"patch_url\":\"https://github.com/kubevirt/project-infra/pull/3964.patch\",\"merged_at\":null},\"body\":\"Integrates the auto-determination of the latest commit id from the test\\r\\nrepository into the test repository url.\\r\\n\\r\\nSigned-off-by: Daniel Hiller <dhiller@redhat.com><!--  Thanks for sending a pull request!  Here are some tips for you:\\r\\n1. Consider creating this PR as draft: https://github.com/kubevirt/kubevirt/blob/main/CONTRIBUTING.md#consider-opening-your-pull-request-as-draft\\r\\n2. Follow the instructions for writing a release note from k8s: https://git.k8s.io/community/contributors/guide/release-notes.md\\r\\n-->\\r\\n\\r\\n**What this PR does / why we need it**:\\r\\n\\r\\n**Which issue(s) this PR fixes** *(optional, in `fixes #<issue number>(, fixes #<issue_number>, ...)` format, will close the issue(s) when PR gets merged)*:\\r\\nFixes #\\r\\n\\r\\n**Special notes for your reviewer**:\\r\\n\\r\\n**Checklist**\\r\\n\\r\\nThis checklist is not enforcing, but it's a reminder of items that could be relevant to every PR.\\r\\nApprovers are expected to review this list.\\r\\n\\r\\n- [ ] Design: A [design document](https://github.com/kubevirt/community/tree/main/design-proposals) was considered and is present (link) or not required\\r\\n- [ ] PR: The PR description is expressive enough and will help future contributors\\r\\n- [ ] Code: [Write code that humans can understand](https://en.wikiquote.org/wiki/Martin_Fowler#code-for-humans) and [Keep it simple](https://en.wikipedia.org/wiki/KISS_principle)\\r\\n- [ ] Refactor: You have [left the code cleaner than you found it (Boy Scout Rule)](https://learning.oreilly.com/library/view/97-things-every/9780596809515/ch08.html)\\r\\n- [ ] Upgrade: Impact of this change on upgrade flows was considered and addressed if required\\r\\n- [ ] Testing: New code requires [new unit tests](https://github.com/kubevirt/kubevirt/blob/main/docs/reviewer-guide.md#when-is-a-pr-good-enough). New features and bug fixes require at least on e2e test\\r\\n- [ ] Documentation: A [user-guide update](https://github.com/kubevirt/user-guide/) was considered and is present (link) or not required. You want a user-guide update if it's a user facing feature / API change.\\r\\n- [ ] Community: Announcement to [kubevirt-dev](https://groups.google.com/g/kubevirt-dev/) was considered\\r\\n\\r\\n**Release note**:\\r\\n<!--  Write your release note:\\r\\n1. Enter your extended release note in the below block. If the PR requires additional action from users switching to the new release, include the string \\\"action required\\\".\\r\\n2. If no release note is required, just write \\\"NONE\\\".\\r\\n-->\\r\\n```release-note\\r\\n\\r\\n```\\r\\n\",\"reactions\":{\"url\":\"https://api.github.com/repos/kubevirt/project-infra/issues/3964/reactions\",\"total_count\":0,\"+1\":0,\"-1\":0,\"laugh\":0,\"hooray\":0,\"confused\":0,\"heart\":0,\"rocket\":0,\"eyes\":0},\"timeline_url\":\"https://api.github.com/repos/kubevirt/project-infra/issues/3964/timeline\",\"performed_via_github_app\":null,\"state_reason\":null},\"comment\":{\"url\":\"https://api.github.com/repos/kubevirt/project-infra/issues/comments/2667851989\",\"html_url\":\"https://github.com/kubevirt/project-infra/pull/3964#issuecomment-2667851989\",\"issue_url\":\"https://api.github.com/repos/kubevirt/project-infra/issues/3964\",\"id\":2667851989,\"node_id\":\"IC_kwDOBbpLgs6fBDDV\",\"user\":{\"login\":\"kubevirt-bot\",\"id\":25687724,\"node_id\":\"MDQ6VXNlcjI1Njg3NzI0\",\"avatar_url\":\"https://avatars.githubusercontent.com/u/25687724?v=4\",\"gravatar_id\":\"\",\"url\":\"https://api.github.com/users/kubevirt-bot\",\"html_url\":\"https://github.com/kubevirt-bot\",\"followers_url\":\"https://api.github.com/users/kubevirt-bot/followers\",\"following_url\":\"https://api.github.com/users/kubevirt-bot/following{/other_user}\",\"gists_url\":\"https://api.github.com/users/kubevirt-bot/gists{/gist_id}\",\"starred_url\":\"https://api.github.com/users/kubevirt-bot/starred{/owner}{/repo}\",\"subscriptions_url\":\"https://api.github.com/users/kubevirt-bot/subscriptions\",\"organizations_url\":\"https://api.github.com/users/kubevirt-bot/orgs\",\"repos_url\":\"https://api.github.com/users/kubevirt-bot/repos\",\"events_url\":\"https://api.github.com/users/kubevirt-bot/events{/privacy}\",\"received_events_url\":\"https://api.github.com/users/kubevirt-bot/received_events\",\"type\":\"User\",\"user_view_type\":\"public\",\"site_admin\":false},\"created_at\":\"2025-02-19T08:06:54Z\",\"updated_at\":\"2025-02-19T08:06:54Z\",\"author_association\":\"CONTRIBUTOR\",\"body\":\"Skipping CI for Draft Pull Request.\\nIf you want CI signal for your change, please convert it to an actual PR.\\nYou can still manually trigger a test run with `/test all`\",\"reactions\":{\"url\":\"https://api.github.com/repos/kubevirt/project-infra/issues/comments/2667851989/reactions\",\"total_count\":0,\"+1\":0,\"-1\":0,\"laugh\":0,\"hooray\":0,\"confused\":0,\"heart\":0,\"rocket\":0,\"eyes\":0},\"performed_via_github_app\":null}},\"public\":true,\"created_at\":\"2025-02-19T08:06:55Z\",\"org\":{\"id\":18700703,\"login\":\"kubevirt\",\"gravatar_id\":\"\",\"url\":\"https://api.github.com/orgs/kubevirt\",\"avatar_url\":\"https://avatars.githubusercontent.com/u/18700703?\"}},{\"id\":\"46720886402\",\"type\":\"PushEvent\",\"actor\":{\"id\":128683349,\"login\":\"d5user\",\"display_login\":\"d5user\",\"gravatar_id\":\"\",\"url\":\"https://api.github.com/users/d5user\",\"avatar_url\":\"https://avatars.githubusercontent.com/u/128683349?\"},\"repo\":{\"id\":808458728,\"name\":\"d5user/WhatsappNew\",\"url\":\"https://api.github.com/repos/d5user/WhatsappNew\"},\"payload\":{\"repository_id\":808458728,\"push_id\":22736164563,\"size\":1,\"distinct_size\":1,\"ref\":\"refs/heads/main\",\"head\":\"49440b84980d336ceaa3dad4a0614e08434b6024\",\"before\":\"bceef56e9df32786f7d1b91c2209df205af442fb\",\"commits\":[{\"sha\":\"49440b84980d336ceaa3dad4a0614e08434b6024\",\"author\":{\"email\":\"128683349+d5user@users.noreply.github.com\",\"name\":\"d5user\"},\"message\":\"Upload file\",\"distinct\":true,\"url\":\"https://api.github.com/repos/d5user/WhatsappNew/commits/49440b84980d336ceaa3dad4a0614e08434b6024\"}]},\"public\":true,\"created_at\":\"2025-02-19T08:06:55Z\"},{\"id\":\"46720886408\",\"type\":\"PushEvent\",\"actor\":{\"id\":77161167,\"login\":\"catliar666\",\"display_login\":\"catliar666\",\"gravatar_id\":\"\",\"url\":\"https://api.github.com/users/catliar666\",\"avatar_url\":\"https://avatars.githubusercontent.com/u/77161167?\"},\"repo\":{\"id\":935278495,\"name\":\"catliar666/frontTema5\",\"url\":\"https://api.github.com/repos/catliar666/frontTema5\"},\"payload\":{\"repository_id\":935278495,\"push_id\":22736164537,\"size\":1,\"distinct_size\":1,\"ref\":\"refs/heads/main\",\"head\":\"b11c100064a164a57559cedc020112c4088e38bf\",\"before\":\"1b092866dccee5a3c9245d68c706a24b40c48626\",\"commits\":[{\"sha\":\"b11c100064a164a57559cedc020112c4088e38bf\",\"author\":{\"email\":\"maariiaa1912@gmail.com\",\"name\":\"Maria Ordóñez\"},\"message\":\"arreglo rutas\",\"distinct\":true,\"url\":\"https://api.github.com/repos/catliar666/frontTema5/commits/b11c100064a164a57559cedc020112c4088e38bf\"}]},\"public\":true,\"created_at\":\"2025-02-19T08:06:55Z\"},{\"id\":\"46720886396\",\"type\":\"ForkEvent\",\"actor\":{\"id\":172836271,\"login\":\"JtljtlstlSTL\",\"display_login\":\"JtljtlstlSTL\",\"gravatar_id\":\"\",\"url\":\"https://api.github.com/users/JtljtlstlSTL\",\"avatar_url\":\"https://avatars.githubusercontent.com/u/172836271?\"},\"repo\":{\"id\":472464387,\"name\":\"ciiiii/cloudflare-docker-proxy\",\"url\":\"https://api.github.com/repos/ciiiii/cloudflare-docker-proxy\"},\"payload\":{\"forkee\":{\"id\":935294409,\"node_id\":\"R_kgDON791yQ\",\"name\":\"cloudflare-docker-proxy\",\"full_name\":\"JtljtlstlSTL/cloudflare-docker-proxy\",\"private\":false,\"owner\":{\"login\":\"JtljtlstlSTL\",\"id\":172836271,\"node_id\":\"U_kgDOCk1Frw\",\"avatar_url\":\"https://avatars.githubusercontent.com/u/172836271?v=4\",\"gravatar_id\":\"\",\"url\":\"https://api.github.com/users/JtljtlstlSTL\",\"html_url\":\"https://github.com/JtljtlstlSTL\",\"followers_url\":\"https://api.github.com/users/JtljtlstlSTL/followers\",\"following_url\":\"https://api.github.com/users/JtljtlstlSTL/following{/other_user}\",\"gists_url\":\"https://api.github.com/users/JtljtlstlSTL/gists{/gist_id}\",\"starred_url\":\"https://api.github.com/users/JtljtlstlSTL/starred{/owner}{/repo}\",\"subscriptions_url\":\"https://api.github.com/users/JtljtlstlSTL/subscriptions\",\"organizations_url\":\"https://api.github.com/users/JtljtlstlSTL/orgs\",\"repos_url\":\"https://api.github.com/users/JtljtlstlSTL/repos\",\"events_url\":\"https://api.github.com/users/JtljtlstlSTL/events{/privacy}\",\"received_events_url\":\"https://api.github.com/users/JtljtlstlSTL/received_events\",\"type\":\"User\",\"user_view_type\":\"public\",\"site_admin\":false},\"html_url\":\"https://github.com/JtljtlstlSTL/cloudflare-docker-proxy\",\"description\":\" A docker registry proxy run on cloudflare worker.\",\"fork\":true,\"url\":\"https://api.github.com/repos/JtljtlstlSTL/cloudflare-docker-proxy\",\"forks_url\":\"https://api.github.com/repos/JtljtlstlSTL/cloudflare-docker-proxy/forks\",\"keys_url\":\"https://api.github.com/repos/JtljtlstlSTL/cloudflare-docker-proxy/keys{/key_id}\",\"collaborators_url\":\"https://api.github.com/repos/JtljtlstlSTL/cloudflare-docker-proxy/collaborators{/collaborator}\",\"teams_url\":\"https://api.github.com/repos/JtljtlstlSTL/cloudflare-docker-proxy/teams\",\"hooks_url\":\"https://api.github.com/repos/JtljtlstlSTL/cloudflare-docker-proxy/hooks\",\"issue_events_url\":\"https://api.github.com/repos/JtljtlstlSTL/cloudflare-docker-proxy/issues/events{/number}\",\"events_url\":\"https://api.github.com/repos/JtljtlstlSTL/cloudflare-docker-proxy/events\",\"assignees_url\":\"https://api.github.com/repos/JtljtlstlSTL/cloudflare-docker-proxy/assignees{/user}\",\"branches_url\":\"https://api.github.com/repos/JtljtlstlSTL/cloudflare-docker-proxy/branches{/branch}\",\"tags_url\":\"https://api.github.com/repos/JtljtlstlSTL/cloudflare-docker-proxy/tags\",\"blobs_url\":\"https://api.github.com/repos/JtljtlstlSTL/cloudflare-docker-proxy/git/blobs{/sha}\",\"git_tags_url\":\"https://api.github.com/repos/JtljtlstlSTL/cloudflare-docker-proxy/git/tags{/sha}\",\"git_refs_url\":\"https://api.github.com/repos/JtljtlstlSTL/cloudflare-docker-proxy/git/refs{/sha}\",\"trees_url\":\"https://api.github.com/repos/JtljtlstlSTL/cloudflare-docker-proxy/git/trees{/sha}\",\"statuses_url\":\"https://api.github.com/repos/JtljtlstlSTL/cloudflare-docker-proxy/statuses/{sha}\",\"languages_url\":\"https://api.github.com/repos/JtljtlstlSTL/cloudflare-docker-proxy/languages\",\"stargazers_url\":\"https://api.github.com/repos/JtljtlstlSTL/cloudflare-docker-proxy/stargazers\",\"contributors_url\":\"https://api.github.com/repos/JtljtlstlSTL/cloudflare-docker-proxy/contributors\",\"subscribers_url\":\"https://api.github.com/repos/JtljtlstlSTL/cloudflare-docker-proxy/subscribers\",\"subscription_url\":\"https://api.github.com/repos/JtljtlstlSTL/cloudflare-docker-proxy/subscription\",\"commits_url\":\"https://api.github.com/repos/JtljtlstlSTL/cloudflare-docker-proxy/commits{/sha}\",\"git_commits_url\":\"https://api.github.com/repos/JtljtlstlSTL/cloudflare-docker-proxy/git/commits{/sha}\",\"comments_url\":\"https://api.github.com/repos/JtljtlstlSTL/cloudflare-docker-proxy/comments{/number}\",\"issue_comment_url\":\"https://api.github.com/repos/JtljtlstlSTL/cloudflare-docker-proxy/issues/comments{/number}\",\"contents_url\":\"https://api.github.com/repos/JtljtlstlSTL/cloudflare-docker-proxy/contents/{+path}\",\"compare_url\":\"https://api.github.com/repos/JtljtlstlSTL/cloudflare-docker-proxy/compare/{base}...{head}\",\"merges_url\":\"https://api.github.com/repos/JtljtlstlSTL/cloudflare-docker-proxy/merges\",\"archive_url\":\"https://api.github.com/repos/JtljtlstlSTL/cloudflare-docker-proxy/{archive_format}{/ref}\",\"downloads_url\":\"https://api.github.com/repos/JtljtlstlSTL/cloudflare-docker-proxy/downloads\",\"issues_url\":\"https://api.github.com/repos/JtljtlstlSTL/cloudflare-docker-proxy/issues{/number}\",\"pulls_url\":\"https://api.github.com/repos/JtljtlstlSTL/cloudflare-docker-proxy/pulls{/number}\",\"milestones_url\":\"https://api.github.com/repos/JtljtlstlSTL/cloudflare-docker-proxy/milestones{/number}\",\"notifications_url\":\"https://api.github.com/repos/JtljtlstlSTL/cloudflare-docker-proxy/notifications{?since,all,participating}\",\"labels_url\":\"https://api.github.com/repos/JtljtlstlSTL/cloudflare-docker-proxy/labels{/name}\",\"releases_url\":\"https://api.github.com/repos/JtljtlstlSTL/cloudflare-docker-proxy/releases{/id}\",\"deployments_url\":\"https://api.github.com/repos/JtljtlstlSTL/cloudflare-docker-proxy/deployments\",\"created_at\":\"2025-02-19T08:06:54Z\",\"updated_at\":\"2025-02-19T08:06:54Z\",\"pushed_at\":\"2025-02-17T00:14:26Z\",\"git_url\":\"git://github.com/JtljtlstlSTL/cloudflare-docker-proxy.git\",\"ssh_url\":\"git@github.com:JtljtlstlSTL/cloudflare-docker-proxy.git\",\"clone_url\":\"https://github.com/JtljtlstlSTL/cloudflare-docker-proxy.git\",\"svn_url\":\"https://github.com/JtljtlstlSTL/cloudflare-docker-proxy\",\"homepage\":\"\",\"size\":75,\"stargazers_count\":0,\"watchers_count\":0,\"language\":null,\"has_issues\":false,\"has_projects\":true,\"has_downloads\":true,\"has_wiki\":true,\"has_pages\":false,\"has_discussions\":false,\"forks_count\":0,\"mirror_url\":null,\"archived\":false,\"disabled\":false,\"open_issues_count\":0,\"license\":null,\"allow_forking\":true,\"is_template\":false,\"web_commit_signoff_required\":false,\"topics\":[],\"visibility\":\"public\",\"forks\":0,\"open_issues\":0,\"watchers\":0,\"default_branch\":\"main\",\"public\":true}},\"public\":true,\"created_at\":\"2025-02-19T08:06:55Z\"},{\"id\":\"46720886388\",\"type\":\"PullRequestEvent\",\"actor\":{\"id\":199672890,\"login\":\"Thorfix\",\"display_login\":\"Thorfix\",\"gravatar_id\":\"\",\"url\":\"https://api.github.com/users/Thorfix\",\"avatar_url\":\"https://avatars.githubusercontent.com/u/199672890?\"},\"repo\":{\"id\":934452089,\"name\":\"jeppevinkel/CodeBuddy\",\"url\":\"https://api.github.com/repos/jeppevinkel/CodeBuddy\"},\"payload\":{\"action\":\"closed\",\"number\":229,\"pull_request\":{\"url\":\"https://api.github.com/repos/jeppevinkel/CodeBuddy/pulls/229\",\"id\":2343907215,\"node_id\":\"PR_kwDON7Kbec6LtS-P\",\"html_url\":\"https://github.com/jeppevinkel/CodeBuddy/pull/229\",\"diff_url\":\"https://github.com/jeppevinkel/CodeBuddy/pull/229.diff\",\"patch_url\":\"https://github.com/jeppevinkel/CodeBuddy/pull/229.patch\",\"issue_url\":\"https://api.github.com/repos/jeppevinkel/CodeBuddy/issues/229\",\"number\":229,\"state\":\"closed\",\"locked\":false,\"title\":\"Based on analyzing the codebase and README.md, I'll create an improvement issue:\",\"user\":{\"login\":\"Thorfix\",\"id\":199672890,\"node_id\":\"U_kgDOC-bEOg\",\"avatar_url\":\"https://avatars.githubusercontent.com/u/199672890?v=4\",\"gravatar_id\":\"\",\"url\":\"https://api.github.com/users/Thorfix\",\"html_url\":\"https://github.com/Thorfix\",\"followers_url\":\"https://api.github.com/users/Thorfix/followers\",\"following_url\":\"https://api.github.com/users/Thorfix/following{/other_user}\",\"gists_url\":\"https://api.github.com/users/Thorfix/gists{/gist_id}\",\"starred_url\":\"https://api.github.com/users/Thorfix/starred{/owner}{/repo}\",\"subscriptions_url\":\"https://api.github.com/users/Thorfix/subscriptions\",\"organizations_url\":\"https://api.github.com/users/Thorfix/orgs\",\"repos_url\":\"https://api.github.com/users/Thorfix/repos\",\"events_url\":\"https://api.github.com/users/Thorfix/events{/privacy}\",\"received_events_url\":\"https://api.github.com/users/Thorfix/received_events\",\"type\":\"User\",\"user_view_type\":\"public\",\"site_admin\":false},\"body\":\"Fixes #228\",\"created_at\":\"2025-02-19T08:03:51Z\",\"updated_at\":\"2025-02-19T08:06:54Z\",\"closed_at\":\"2025-02-19T08:06:54Z\",\"merged_at\":\"2025-02-19T08:06:54Z\",\"merge_commit_sha\":\"65d4f06b6615032c7b5903e948e63f939deb7835\",\"assignee\":null,\"assignees\":[],\"requested_reviewers\":[],\"requested_teams\":[],\"labels\":[],\"milestone\":null,\"draft\":false,\"commits_url\":\"https://api.github.com/repos/jeppevinkel/CodeBuddy/pulls/229/commits\",\"review_comments_url\":\"https://api.github.com/repos/jeppevinkel/CodeBuddy/pulls/229/comments\",\"review_comment_url\":\"https://api.github.com/repos/jeppevinkel/CodeBuddy/pulls/comments{/number}\",\"comments_url\":\"https://api.github.com/repos/jeppevinkel/CodeBuddy/issues/229/comments\",\"statuses_url\":\"https://api.github.com/repos/jeppevinkel/CodeBuddy/statuses/d044e75fa0aeeeebd5dafdcc53172199d45928b7\",\"head\":{\"label\":\"jeppevinkel:thorfix/228-feature/resource-analytics-dashboard\",\"ref\":\"thorfix/228-feature/resource-analytics-dashboard\",\"sha\":\"d044e75fa0aeeeebd5dafdcc53172199d45928b7\",\"user\":{\"login\":\"jeppevinkel\",\"id\":1492684,\"node_id\":\"MDQ6VXNlcjE0OTI2ODQ=\",\"avatar_url\":\"https://avatars.githubusercontent.com/u/1492684?v=4\",\"gravatar_id\":\"\",\"url\":\"https://api.github.com/users/jeppevinkel\",\"html_url\":\"https://github.com/jeppevinkel\",\"followers_url\":\"https://api.github.com/users/jeppevinkel/followers\",\"following_url\":\"https://api.github.com/users/jeppevinkel/following{/other_user}\",\"gists_url\":\"https://api.github.com/users/jeppevinkel/gists{/gist_id}\",\"starred_url\":\"https://api.github.com/users/jeppevinkel/starred{/owner}{/repo}\",\"subscriptions_url\":\"https://api.github.com/users/jeppevinkel/subscriptions\",\"organizations_url\":\"https://api.github.com/users/jeppevinkel/orgs\",\"repos_url\":\"https://api.github.com/users/jeppevinkel/repos\",\"events_url\":\"https://api.github.com/users/jeppevinkel/events{/privacy}\",\"received_events_url\":\"https://api.github.com/users/jeppevinkel/received_events\",\"type\":\"User\",\"user_view_type\":\"public\",\"site_admin\":false},\"repo\":{\"id\":934452089,\"node_id\":\"R_kgDON7KbeQ\",\"name\":\"CodeBuddy\",\"full_name\":\"jeppevinkel/CodeBuddy\",\"private\":false,\"owner\":{\"login\":\"jeppevinkel\",\"id\":1492684,\"node_id\":\"MDQ6VXNlcjE0OTI2ODQ=\",\"avatar_url\":\"https://avatars.githubusercontent.com/u/1492684?v=4\",\"gravatar_id\":\"\",\"url\":\"https://api.github.com/users/jeppevinkel\",\"html_url\":\"https://github.com/jeppevinkel\",\"followers_url\":\"https://api.github.com/users/jeppevinkel/followers\",\"following_url\":\"https://api.github.com/users/jeppevinkel/following{/other_user}\",\"gists_url\":\"https://api.github.com/users/jeppevinkel/gists{/gist_id}\",\"starred_url\":\"https://api.github.com/users/jeppevinkel/starred{/owner}{/repo}\",\"subscriptions_url\":\"https://api.github.com/users/jeppevinkel/subscriptions\",\"organizations_url\":\"https://api.github.com/users/jeppevinkel/orgs\",\"repos_url\":\"https://api.github.com/users/jeppevinkel/repos\",\"events_url\":\"https://api.github.com/users/jeppevinkel/events{/privacy}\",\"received_events_url\":\"https://api.github.com/users/jeppevinkel/received_events\",\"type\":\"User\",\"user_view_type\":\"public\",\"site_admin\":false},\"html_url\":\"https://github.com/jeppevinkel/CodeBuddy\",\"description\":\"Your companian app for all things software dev (this is a very experimental tool made as a test of another tool)\",\"fork\":false,\"url\":\"https://api.github.com/repos/jeppevinkel/CodeBuddy\",\"forks_url\":\"https://api.github.com/repos/jeppevinkel/CodeBuddy/forks\",\"keys_url\":\"https://api.github.com/repos/jeppevinkel/CodeBuddy/keys{/key_id}\",\"collaborators_url\":\"https://api.github.com/repos/jeppevinkel/CodeBuddy/collaborators{/collaborator}\",\"teams_url\":\"https://api.github.com/repos/jeppevinkel/CodeBuddy/teams\",\"hooks_url\":\"https://api.github.com/repos/jeppevinkel/CodeBuddy/hooks\",\"issue_events_url\":\"https://api.github.com/repos/jeppevinkel/CodeBuddy/issues/events{/number}\",\"events_url\":\"https://api.github.com/repos/jeppevinkel/CodeBuddy/events\",\"assignees_url\":\"https://api.github.com/repos/jeppevinkel/CodeBuddy/assignees{/user}\",\"branches_url\":\"https://api.github.com/repos/jeppevinkel/CodeBuddy/branches{/branch}\",\"tags_url\":\"https://api.github.com/repos/jeppevinkel/CodeBuddy/tags\",\"blobs_url\":\"https://api.github.com/repos/jeppevinkel/CodeBuddy/git/blobs{/sha}\",\"git_tags_url\":\"https://api.github.com/repos/jeppevinkel/CodeBuddy/git/tags{/sha}\",\"git_refs_url\":\"https://api.github.com/repos/jeppevinkel/CodeBuddy/git/refs{/sha}\",\"trees_url\":\"https://api.github.com/repos/jeppevinkel/CodeBuddy/git/trees{/sha}\",\"statuses_url\":\"https://api.github.com/repos/jeppevinkel/CodeBuddy/statuses/{sha}\",\"languages_url\":\"https://api.github.com/repos/jeppevinkel/CodeBuddy/languages\",\"stargazers_url\":\"https://api.github.com/repos/jeppevinkel/CodeBuddy/stargazers\",\"contributors_url\":\"https://api.github.com/repos/jeppevinkel/CodeBuddy/contributors\",\"subscribers_url\":\"https://api.github.com/repos/jeppevinkel/CodeBuddy/subscribers\",\"subscription_url\":\"https://api.github.com/repos/jeppevinkel/CodeBuddy/subscription\",\"commits_url\":\"https://api.github.com/repos/jeppevinkel/CodeBuddy/commits{/sha}\",\"git_commits_url\":\"https://api.github.com/repos/jeppevinkel/CodeBuddy/git/commits{/sha}\",\"comments_url\":\"https://api.github.com/repos/jeppevinkel/CodeBuddy/comments{/number}\",\"issue_comment_url\":\"https://api.github.com/repos/jeppevinkel/CodeBuddy/issues/comments{/number}\",\"contents_url\":\"https://api.github.com/repos/jeppevinkel/CodeBuddy/contents/{+path}\",\"compare_url\":\"https://api.github.com/repos/jeppevinkel/CodeBuddy/compare/{base}...{head}\",\"merges_url\":\"https://api.github.com/repos/jeppevinkel/CodeBuddy/merges\",\"archive_url\":\"https://api.github.com/repos/jeppevinkel/CodeBuddy/{archive_format}{/ref}\",\"downloads_url\":\"https://api.github.com/repos/jeppevinkel/CodeBuddy/downloads\",\"issues_url\":\"https://api.github.com/repos/jeppevinkel/CodeBuddy/issues{/number}\",\"pulls_url\":\"https://api.github.com/repos/jeppevinkel/CodeBuddy/pulls{/number}\",\"milestones_url\":\"https://api.github.com/repos/jeppevinkel/CodeBuddy/milestones{/number}\",\"notifications_url\":\"https://api.github.com/repos/jeppevinkel/CodeBuddy/notifications{?since,all,participating}\",\"labels_url\":\"https://api.github.com/repos/jeppevinkel/CodeBuddy/labels{/name}\",\"releases_url\":\"https://api.github.com/repos/jeppevinkel/CodeBuddy/releases{/id}\",\"deployments_url\":\"https://api.github.com/repos/jeppevinkel/CodeBuddy/deployments\",\"created_at\":\"2025-02-17T21:25:16Z\",\"updated_at\":\"2025-02-19T07:56:38Z\",\"pushed_at\":\"2025-02-19T08:03:19Z\",\"git_url\":\"git://github.com/jeppevinkel/CodeBuddy.git\",\"ssh_url\":\"git@github.com:jeppevinkel/CodeBuddy.git\",\"clone_url\":\"https://github.com/jeppevinkel/CodeBuddy.git\",\"svn_url\":\"https://github.com/jeppevinkel/CodeBuddy\",\"homepage\":null,\"size\":825,\"stargazers_count\":0,\"watchers_count\":0,\"language\":\"C#\",\"has_issues\":true,\"has_projects\":true,\"has_downloads\":true,\"has_wiki\":true,\"has_pages\":false,\"has_discussions\":false,\"forks_count\":0,\"mirror_url\":null,\"archived\":false,\"disabled\":false,\"open_issues_count\":48,\"license\":null,\"allow_forking\":true,\"is_template\":false,\"web_commit_signoff_required\":false,\"topics\":[],\"visibility\":\"public\",\"forks\":0,\"open_issues\":48,\"watchers\":0,\"default_branch\":\"master\"}},\"base\":{\"label\":\"jeppevinkel:master\",\"ref\":\"master\",\"sha\":\"9f809b750055c76e219f684db1ec6b9e93ffb3ea\",\"user\":{\"login\":\"jeppevinkel\",\"id\":1492684,\"node_id\":\"MDQ6VXNlcjE0OTI2ODQ=\",\"avatar_url\":\"https://avatars.githubusercontent.com/u/1492684?v=4\",\"gravatar_id\":\"\",\"url\":\"https://api.github.com/users/jeppevinkel\",\"html_url\":\"https://github.com/jeppevinkel\",\"followers_url\":\"https://api.github.com/users/jeppevinkel/followers\",\"following_url\":\"https://api.github.com/users/jeppevinkel/following{/other_user}\",\"gists_url\":\"https://api.github.com/users/jeppevinkel/gists{/gist_id}\",\"starred_url\":\"https://api.github.com/users/jeppevinkel/starred{/owner}{/repo}\",\"subscriptions_url\":\"https://api.github.com/users/jeppevinkel/subscriptions\",\"organizations_url\":\"https://api.github.com/users/jeppevinkel/orgs\",\"repos_url\":\"https://api.github.com/users/jeppevinkel/repos\",\"events_url\":\"https://api.github.com/users/jeppevinkel/events{/privacy}\",\"received_events_url\":\"https://api.github.com/users/jeppevinkel/received_events\",\"type\":\"User\",\"user_view_type\":\"public\",\"site_admin\":false},\"repo\":{\"id\":934452089,\"node_id\":\"R_kgDON7KbeQ\",\"name\":\"CodeBuddy\",\"full_name\":\"jeppevinkel/CodeBuddy\",\"private\":false,\"owner\":{\"login\":\"jeppevinkel\",\"id\":1492684,\"node_id\":\"MDQ6VXNlcjE0OTI2ODQ=\",\"avatar_url\":\"https://avatars.githubusercontent.com/u/1492684?v=4\",\"gravatar_id\":\"\",\"url\":\"https://api.github.com/users/jeppevinkel\",\"html_url\":\"https://github.com/jeppevinkel\",\"followers_url\":\"https://api.github.com/users/jeppevinkel/followers\",\"following_url\":\"https://api.github.com/users/jeppevinkel/following{/other_user}\",\"gists_url\":\"https://api.github.com/users/jeppevinkel/gists{/gist_id}\",\"starred_url\":\"https://api.github.com/users/jeppevinkel/starred{/owner}{/repo}\",\"subscriptions_url\":\"https://api.github.com/users/jeppevinkel/subscriptions\",\"organizations_url\":\"https://api.github.com/users/jeppevinkel/orgs\",\"repos_url\":\"https://api.github.com/users/jeppevinkel/repos\",\"events_url\":\"https://api.github.com/users/jeppevinkel/events{/privacy}\",\"received_events_url\":\"https://api.github.com/users/jeppevinkel/received_events\",\"type\":\"User\",\"user_view_type\":\"public\",\"site_admin\":false},\"html_url\":\"https://github.com/jeppevinkel/CodeBuddy\",\"description\":\"Your companian app for all things software dev (this is a very experimental tool made as a test of another tool)\",\"fork\":false,\"url\":\"https://api.github.com/repos/jeppevinkel/CodeBuddy\",\"forks_url\":\"https://api.github.com/repos/jeppevinkel/CodeBuddy/forks\",\"keys_url\":\"https://api.github.com/repos/jeppevinkel/CodeBuddy/keys{/key_id}\",\"collaborators_url\":\"https://api.github.com/repos/jeppevinkel/CodeBuddy/collaborators{/collaborator}\",\"teams_url\":\"https://api.github.com/repos/jeppevinkel/CodeBuddy/teams\",\"hooks_url\":\"https://api.github.com/repos/jeppevinkel/CodeBuddy/hooks\",\"issue_events_url\":\"https://api.github.com/repos/jeppevinkel/CodeBuddy/issues/events{/number}\",\"events_url\":\"https://api.github.com/repos/jeppevinkel/CodeBuddy/events\",\"assignees_url\":\"https://api.github.com/repos/jeppevinkel/CodeBuddy/assignees{/user}\",\"branches_url\":\"https://api.github.com/repos/jeppevinkel/CodeBuddy/branches{/branch}\",\"tags_url\":\"https://api.github.com/repos/jeppevinkel/CodeBuddy/tags\",\"blobs_url\":\"https://api.github.com/repos/jeppevinkel/CodeBuddy/git/blobs{/sha}\",\"git_tags_url\":\"https://api.github.com/repos/jeppevinkel/CodeBuddy/git/tags{/sha}\",\"git_refs_url\":\"https://api.github.com/repos/jeppevinkel/CodeBuddy/git/refs{/sha}\",\"trees_url\":\"https://api.github.com/repos/jeppevinkel/CodeBuddy/git/trees{/sha}\",\"statuses_url\":\"https://api.github.com/repos/jeppevinkel/CodeBuddy/statuses/{sha}\",\"languages_url\":\"https://api.github.com/repos/jeppevinkel/CodeBuddy/languages\",\"stargazers_url\":\"https://api.github.com/repos/jeppevinkel/CodeBuddy/stargazers\",\"contributors_url\":\"https://api.github.com/repos/jeppevinkel/CodeBuddy/contributors\",\"subscribers_url\":\"https://api.github.com/repos/jeppevinkel/CodeBuddy/subscribers\",\"subscription_url\":\"https://api.github.com/repos/jeppevinkel/CodeBuddy/subscription\",\"commits_url\":\"https://api.github.com/repos/jeppevinkel/CodeBuddy/commits{/sha}\",\"git_commits_url\":\"https://api.github.com/repos/jeppevinkel/CodeBuddy/git/commits{/sha}\",\"comments_url\":\"https://api.github.com/repos/jeppevinkel/CodeBuddy/comments{/number}\",\"issue_comment_url\":\"https://api.github.com/repos/jeppevinkel/CodeBuddy/issues/comments{/number}\",\"contents_url\":\"https://api.github.com/repos/jeppevinkel/CodeBuddy/contents/{+path}\",\"compare_url\":\"https://api.github.com/repos/jeppevinkel/CodeBuddy/compare/{base}...{head}\",\"merges_url\":\"https://api.github.com/repos/jeppevinkel/CodeBuddy/merges\",\"archive_url\":\"https://api.github.com/repos/jeppevinkel/CodeBuddy/{archive_format}{/ref}\",\"downloads_url\":\"https://api.github.com/repos/jeppevinkel/CodeBuddy/downloads\",\"issues_url\":\"https://api.github.com/repos/jeppevinkel/CodeBuddy/issues{/number}\",\"pulls_url\":\"https://api.github.com/repos/jeppevinkel/CodeBuddy/pulls{/number}\",\"milestones_url\":\"https://api.github.com/repos/jeppevinkel/CodeBuddy/milestones{/number}\",\"notifications_url\":\"https://api.github.com/repos/jeppevinkel/CodeBuddy/notifications{?since,all,participating}\",\"labels_url\":\"https://api.github.com/repos/jeppevinkel/CodeBuddy/labels{/name}\",\"releases_url\":\"https://api.github.com/repos/jeppevinkel/CodeBuddy/releases{/id}\",\"deployments_url\":\"https://api.github.com/repos/jeppevinkel/CodeBuddy/deployments\",\"created_at\":\"2025-02-17T21:25:16Z\",\"updated_at\":\"2025-02-19T07:56:38Z\",\"pushed_at\":\"2025-02-19T08:03:19Z\",\"git_url\":\"git://github.com/jeppevinkel/CodeBuddy.git\",\"ssh_url\":\"git@github.com:jeppevinkel/CodeBuddy.git\",\"clone_url\":\"https://github.com/jeppevinkel/CodeBuddy.git\",\"svn_url\":\"https://github.com/jeppevinkel/CodeBuddy\",\"homepage\":null,\"size\":825,\"stargazers_count\":0,\"watchers_count\":0,\"language\":\"C#\",\"has_issues\":true,\"has_projects\":true,\"has_downloads\":true,\"has_wiki\":true,\"has_pages\":false,\"has_discussions\":false,\"forks_count\":0,\"mirror_url\":null,\"archived\":false,\"disabled\":false,\"open_issues_count\":48,\"license\":null,\"allow_forking\":true,\"is_template\":false,\"web_commit_signoff_required\":false,\"topics\":[],\"visibility\":\"public\",\"forks\":0,\"open_issues\":48,\"watchers\":0,\"default_branch\":\"master\"}},\"_links\":{\"self\":{\"href\":\"https://api.github.com/repos/jeppevinkel/CodeBuddy/pulls/229\"},\"html\":{\"href\":\"https://github.com/jeppevinkel/CodeBuddy/pull/229\"},\"issue\":{\"href\":\"https://api.github.com/repos/jeppevinkel/CodeBuddy/issues/229\"},\"comments\":{\"href\":\"https://api.github.com/repos/jeppevinkel/CodeBuddy/issues/229/comments\"},\"review_comments\":{\"href\":\"https://api.github.com/repos/jeppevinkel/CodeBuddy/pulls/229/comments\"},\"review_comment\":{\"href\":\"https://api.github.com/repos/jeppevinkel/CodeBuddy/pulls/comments{/number}\"},\"commits\":{\"href\":\"https://api.github.com/repos/jeppevinkel/CodeBuddy/pulls/229/commits\"},\"statuses\":{\"href\":\"https://api.github.com/repos/jeppevinkel/CodeBuddy/statuses/d044e75fa0aeeeebd5dafdcc53172199d45928b7\"}},\"author_association\":\"COLLABORATOR\",\"auto_merge\":null,\"active_lock_reason\":null,\"merged\":true,\"mergeable\":null,\"rebaseable\":null,\"mergeable_state\":\"unknown\",\"merged_by\":{\"login\":\"Thorfix\",\"id\":199672890,\"node_id\":\"U_kgDOC-bEOg\",\"avatar_url\":\"https://avatars.githubusercontent.com/u/199672890?v=4\",\"gravatar_id\":\"\",\"url\":\"https://api.github.com/users/Thorfix\",\"html_url\":\"https://github.com/Thorfix\",\"followers_url\":\"https://api.github.com/users/Thorfix/followers\",\"following_url\":\"https://api.github.com/users/Thorfix/following{/other_user}\",\"gists_url\":\"https://api.github.com/users/Thorfix/gists{/gist_id}\",\"starred_url\":\"https://api.github.com/users/Thorfix/starred{/owner}{/repo}\",\"subscriptions_url\":\"https://api.github.com/users/Thorfix/subscriptions\",\"organizations_url\":\"https://api.github.com/users/Thorfix/orgs\",\"repos_url\":\"https://api.github.com/users/Thorfix/repos\",\"events_url\":\"https://api.github.com/users/Thorfix/events{/privacy}\",\"received_events_url\":\"https://api.github.com/users/Thorfix/received_events\",\"type\":\"User\",\"user_view_type\":\"public\",\"site_admin\":false},\"comments\":0,\"review_comments\":0,\"maintainer_can_modify\":false,\"commits\":1,\"additions\":552,\"deletions\":12,\"changed_files\":4}},\"public\":true,\"created_at\":\"2025-02-19T08:06:55Z\"},{\"id\":\"46720886367\",\"type\":\"PushEvent\",\"actor\":{\"id\":115519602,\"login\":\"hodfords-cong-nguyen\",\"display_login\":\"hodfords-cong-nguyen\",\"gravatar_id\":\"\",\"url\":\"https://api.github.com/users/hodfords-cong-nguyen\",\"avatar_url\":\"https://avatars.githubusercontent.com/u/115519602?\"},\"repo\":{\"id\":896812774,\"name\":\"hodfords-solutions/detect-change-actions\",\"url\":\"https://api.github.com/repos/hodfords-solutions/detect-change-actions\"},\"payload\":{\"repository_id\":896812774,\"push_id\":22736164519,\"size\":11,\"distinct_size\":11,\"ref\":\"refs/heads/main\",\"head\":\"b32e959f2dc4dd46954d6490c46b31d492b72ddf\",\"before\":\"d32e5614377e8851d19503559a2e4e3a743803bf\",\"commits\":[{\"sha\":\"ab9efb5bde43bfe02ce0236912ac07313b1d18ec\",\"author\":{\"email\":\"cong.nc@hodfords.com\",\"name\":\"hodfords-cong-nguyen-be\"},\"message\":\"feat: init detect change project\",\"distinct\":true,\"url\":\"https://api.github.com/repos/hodfords-solutions/detect-change-actions/commits/ab9efb5bde43bfe02ce0236912ac07313b1d18ec\"},{\"sha\":\"98a9b1fa431a18f8dd4e1446430f26af2fac176e\",\"author\":{\"email\":\"cong.nc@hodfords.com\",\"name\":\"hodfords-cong-nguyen-be\"},\"message\":\"feat: init detect change project\",\"distinct\":true,\"url\":\"https://api.github.com/repos/hodfords-solutions/detect-change-actions/commits/98a9b1fa431a18f8dd4e1446430f26af2fac176e\"},{\"sha\":\"8f2870904823d55333fe4bc4438bdc8f554b9a99\",\"author\":{\"email\":\"cong.nc@hodfords.com\",\"name\":\"hodfords-cong-nguyen-be\"},\"message\":\"feat: init detect change project\",\"distinct\":true,\"url\":\"https://api.github.com/repos/hodfords-solutions/detect-change-actions/commits/8f2870904823d55333fe4bc4438bdc8f554b9a99\"},{\"sha\":\"50985e5f2f6de68160543ce06cbfcda66122e947\",\"author\":{\"email\":\"cong.nc@hodfords.com\",\"name\":\"hodfords-cong-nguyen-be\"},\"message\":\"feat: init detect change project\",\"distinct\":true,\"url\":\"https://api.github.com/repos/hodfords-solutions/detect-change-actions/commits/50985e5f2f6de68160543ce06cbfcda66122e947\"},{\"sha\":\"2f6abe460b49714bf5ea950d74ff3540b967a36b\",\"author\":{\"email\":\"cong.nc@hodfords.com\",\"name\":\"hodfords-cong-nguyen-be\"},\"message\":\"feat: init detect change project\",\"distinct\":true,\"url\":\"https://api.github.com/repos/hodfords-solutions/detect-change-actions/commits/2f6abe460b49714bf5ea950d74ff3540b967a36b\"},{\"sha\":\"ad3afd5b734775a0d0a28e10ded1036158812664\",\"author\":{\"email\":\"cong.nc@hodfords.com\",\"name\":\"hodfords-cong-nguyen-be\"},\"message\":\"feat: init detect change project\",\"distinct\":true,\"url\":\"https://api.github.com/repos/hodfords-solutions/detect-change-actions/commits/ad3afd5b734775a0d0a28e10ded1036158812664\"},{\"sha\":\"17d869626946322736adf0aaded70de6f8c99f4a\",\"author\":{\"email\":\"cong.nc@hodfords.com\",\"name\":\"hodfords-cong-nguyen-be\"},\"message\":\"feat: init detect change project\",\"distinct\":true,\"url\":\"https://api.github.com/repos/hodfords-solutions/detect-change-actions/commits/17d869626946322736adf0aaded70de6f8c99f4a\"},{\"sha\":\"56852a431c2d2f12f06ea9a1f806e966fd3ebbba\",\"author\":{\"email\":\"cong.nc@hodfords.com\",\"name\":\"hodfords-cong-nguyen-be\"},\"message\":\"feat: init detect change project\",\"distinct\":true,\"url\":\"https://api.github.com/repos/hodfords-solutions/detect-change-actions/commits/56852a431c2d2f12f06ea9a1f806e966fd3ebbba\"},{\"sha\":\"158e8f47480029b485aa18afa11650373d5318fb\",\"author\":{\"email\":\"cong.nc@hodfords.com\",\"name\":\"hodfords-cong-nguyen-be\"},\"message\":\"feat: init detect change project\",\"distinct\":true,\"url\":\"https://api.github.com/repos/hodfords-solutions/detect-change-actions/commits/158e8f47480029b485aa18afa11650373d5318fb\"},{\"sha\":\"eb3fbbe3113056bb763c4b567dbcbe3949e9995d\",\"author\":{\"email\":\"cong.nc@hodfords.com\",\"name\":\"hodfords-cong-nguyen-be\"},\"message\":\"feat: init detect change project\",\"distinct\":true,\"url\":\"https://api.github.com/repos/hodfords-solutions/detect-change-actions/commits/eb3fbbe3113056bb763c4b567dbcbe3949e9995d\"},{\"sha\":\"b32e959f2dc4dd46954d6490c46b31d492b72ddf\",\"author\":{\"email\":\"cong.nc@hodfords.com\",\"name\":\"hodfords-cong-nguyen-be\"},\"message\":\"feat: init detect change project\",\"distinct\":true,\"url\":\"https://api.github.com/repos/hodfords-solutions/detect-change-actions/commits/b32e959f2dc4dd46954d6490c46b31d492b72ddf\"}]},\"public\":true,\"created_at\":\"2025-02-19T08:06:55Z\",\"org\":{\"id\":86032981,\"login\":\"hodfords-solutions\",\"gravatar_id\":\"\",\"url\":\"https://api.github.com/orgs/hodfords-solutions\",\"avatar_url\":\"https://avatars.githubusercontent.com/u/86032981?\"}},{\"id\":\"46720886341\",\"type\":\"PushEvent\",\"actor\":{\"id\":166895733,\"login\":\"swa-runner-app[bot]\",\"display_login\":\"swa-runner-app\",\"gravatar_id\":\"\",\"url\":\"https://api.github.com/users/swa-runner-app[bot]\",\"avatar_url\":\"https://avatars.githubusercontent.com/u/166895733?\"},\"repo\":{\"id\":935294356,\"name\":\"static-web-apps-testing-org/swa8dab387dbecd4766bd4834688de8c24a\",\"url\":\"https://api.github.com/repos/static-web-apps-testing-org/swa8dab387dbecd4766bd4834688de8c24a\"},\"payload\":{\"repository_id\":935294356,\"push_id\":22736164547,\"size\":1,\"distinct_size\":1,\"ref\":\"refs/heads/main\",\"head\":\"e74b1d3d08a550ca5ceb1fe3a0dce55a05087043\",\"before\":\"377b45fa0f8f60bb59d3551c5f5316f3d0281157\",\"commits\":[{\"sha\":\"e74b1d3d08a550ca5ceb1fe3a0dce55a05087043\",\"author\":{\"email\":\"166895733+swa-runner-app[bot]@users.noreply.github.com\",\"name\":\"swa-runner-app[bot]\"},\"message\":\"Writing file api/content.txt\",\"distinct\":true,\"url\":\"https://api.github.com/repos/static-web-apps-testing-org/swa8dab387dbecd4766bd4834688de8c24a/commits/e74b1d3d08a550ca5ceb1fe3a0dce55a05087043\"}]},\"public\":true,\"created_at\":\"2025-02-19T08:06:55Z\",\"org\":{\"id\":96167003,\"login\":\"static-web-apps-testing-org\",\"gravatar_id\":\"\",\"url\":\"https://api.github.com/orgs/static-web-apps-testing-org\",\"avatar_url\":\"https://avatars.githubusercontent.com/u/96167003?\"}},{\"id\":\"46720886344\",\"type\":\"PushEvent\",\"actor\":{\"id\":2791653,\"login\":\"kaidokert\",\"display_login\":\"kaidokert\",\"gravatar_id\":\"\",\"url\":\"https://api.github.com/users/kaidokert\",\"avatar_url\":\"https://avatars.githubusercontent.com/u/2791653?\"},\"repo\":{\"id\":719816022,\"name\":\"kaidokert/winc-rs\",\"url\":\"https://api.github.com/repos/kaidokert/winc-rs\"},\"payload\":{\"repository_id\":719816022,\"push_id\":22736164565,\"size\":6,\"distinct_size\":6,\"ref\":\"refs/heads/dev\",\"head\":\"f13a8679327f040d1c93ab1fdb85f6edd934bdb7\",\"before\":\"b1c377acdb6fb9091397d1e0660c219704a8d6a9\",\"commits\":[{\"sha\":\"dafdb85c9c25c04c8bda67a5f198805523b18240\",\"author\":{\"email\":\"kaidokert@gmail.com\",\"name\":\"Kaido Kert\"},\"message\":\"Update notes\",\"distinct\":true,\"url\":\"https://api.github.com/repos/kaidokert/winc-rs/commits/dafdb85c9c25c04c8bda67a5f198805523b18240\"},{\"sha\":\"98159f1876f5f24711b1af1847ff5118283f2498\",\"author\":{\"email\":\"kaidokert@gmail.com\",\"name\":\"Kaido Kert\"},\"message\":\"More cleanup and removing detritus\",\"distinct\":true,\"url\":\"https://api.github.com/repos/kaidokert/winc-rs/commits/98159f1876f5f24711b1af1847ff5118283f2498\"},{\"sha\":\"fd5e84396eb4223d0f7fe3d4f5a5d7c4747da2bd\",\"author\":{\"email\":\"kaidokert@gmail.com\",\"name\":\"Kaido Kert\"},\"message\":\"Public API cleanup and refactor\",\"distinct\":true,\"url\":\"https://api.github.com/repos/kaidokert/winc-rs/commits/fd5e84396eb4223d0f7fe3d4f5a5d7c4747da2bd\"},{\"sha\":\"661fe3884bbdc0f0b0dc4e9895c02527470f364f\",\"author\":{\"email\":\"kaidokert@gmail.com\",\"name\":\"Kaido Kert\"},\"message\":\"Implement start_module properly\",\"distinct\":true,\"url\":\"https://api.github.com/repos/kaidokert/winc-rs/commits/661fe3884bbdc0f0b0dc4e9895c02527470f364f\"},{\"sha\":\"3692b143beff6fda1dd77bbe2d2a5c72a0c28d7c\",\"author\":{\"email\":\"kaidokert@gmail.com\",\"name\":\"Kaido Kert\"},\"message\":\"Implement some module level functions\\n\\nAdd default connect with stored credentials\\nAdd ping, get RSSI value\\nClean up internal helpers and simplify demos\",\"distinct\":true,\"url\":\"https://api.github.com/repos/kaidokert/winc-rs/commits/3692b143beff6fda1dd77bbe2d2a5c72a0c28d7c\"},{\"sha\":\"f13a8679327f040d1c93ab1fdb85f6edd934bdb7\",\"author\":{\"email\":\"kaidokert@gmail.com\",\"name\":\"Kaido Kert\"},\"message\":\"Merge branch 'dev' of https://github.com/kaidokert/winc-rs into dev\",\"distinct\":true,\"url\":\"https://api.github.com/repos/kaidokert/winc-rs/commits/f13a8679327f040d1c93ab1fdb85f6edd934bdb7\"}]},\"public\":true,\"created_at\":\"2025-02-19T08:06:55Z\"},{\"id\":\"46720886376\",\"type\":\"PushEvent\",\"actor\":{\"id\":68896885,\"login\":\"hmdnu\",\"display_login\":\"hmdnu\",\"gravatar_id\":\"\",\"url\":\"https://api.github.com/users/hmdnu\",\"avatar_url\":\"https://avatars.githubusercontent.com/u/68896885?\"},\"repo\":{\"id\":934574374,\"name\":\"SIB-2A/data-warehouse\",\"url\":\"https://api.github.com/repos/SIB-2A/data-warehouse\"},\"payload\":{\"repository_id\":934574374,\"push_id\":22736164499,\"size\":4,\"distinct_size\":4,\"ref\":\"refs/heads/main\",\"head\":\"ea402514878c9bb79cd3af04736bb0ffe44505f0\",\"before\":\"6da687e95697ead845bd40630ccadc340a02219e\",\"commits\":[{\"sha\":\"4d4bd04a92a6448bc98fdfccf0b1fc6154404dcb\",\"author\":{\"email\":\"aqilanurazza123@gmail.com\",\"name\":\"aqilaazza\"},\"message\":\"add jobsheet1\",\"distinct\":true,\"url\":\"https://api.github.com/repos/SIB-2A/data-warehouse/commits/4d4bd04a92a6448bc98fdfccf0b1fc6154404dcb\"},{\"sha\":\"36d6eb856e4a759a1e984674a11da34eb21f5946\",\"author\":{\"email\":\"144076430+aqilaazza@users.noreply.github.com\",\"name\":\"Aqila Nur Azza\"},\"message\":\"Delete 05_aqila_nur_azza/Jobsheet1/Jobsheet 1.docx\",\"distinct\":true,\"url\":\"https://api.github.com/repos/SIB-2A/data-warehouse/commits/36d6eb856e4a759a1e984674a11da34eb21f5946\"},{\"sha\":\"76fc78dd252e6e235c26f9c8c192858084c830a2\",\"author\":{\"email\":\"144076430+aqilaazza@users.noreply.github.com\",\"name\":\"Aqila Nur Azza\"},\"message\":\"Praktikum Jobsheet 1\\n\\nTugas dan Studi Kasus Data Warehouse sederhana dan Pengenalan Pdi Spoon\",\"distinct\":true,\"url\":\"https://api.github.com/repos/SIB-2A/data-warehouse/commits/76fc78dd252e6e235c26f9c8c192858084c830a2\"},{\"sha\":\"ea402514878c9bb79cd3af04736bb0ffe44505f0\",\"author\":{\"email\":\"68896885+hmdnu@users.noreply.github.com\",\"name\":\"Nerots\"},\"message\":\"Merge pull request #3 from aqilaazza/main\\n\\nJobsheet1\",\"distinct\":true,\"url\":\"https://api.github.com/repos/SIB-2A/data-warehouse/commits/ea402514878c9bb79cd3af04736bb0ffe44505f0\"}]},\"public\":true,\"created_at\":\"2025-02-19T08:06:55Z\",\"org\":{\"id\":199700198,\"login\":\"SIB-2A\",\"gravatar_id\":\"\",\"url\":\"https://api.github.com/orgs/SIB-2A\",\"avatar_url\":\"https://avatars.githubusercontent.com/u/199700198?\"}},{\"id\":\"46720886325\",\"type\":\"PushEvent\",\"actor\":{\"id\":76790487,\"login\":\"rayenxgamer\",\"display_login\":\"rayenxgamer\",\"gravatar_id\":\"\",\"url\":\"https://api.github.com/users/rayenxgamer\",\"avatar_url\":\"https://avatars.githubusercontent.com/u/76790487?\"},\"repo\":{\"id\":929997324,\"name\":\"rayenxgamer/ChessbutBad\",\"url\":\"https://api.github.com/repos/rayenxgamer/ChessbutBad\"},\"payload\":{\"repository_id\":929997324,\"push_id\":22736164544,\"size\":1,\"distinct_size\":1,\"ref\":\"refs/heads/master\",\"head\":\"53b2af3d1340acd4de3bf73c03cfb0e7a85fb1b3\",\"before\":\"31fdbf17342f56c8bf98675bbbfdbae5d9079832\",\"commits\":[{\"sha\":\"53b2af3d1340acd4de3bf73c03cfb0e7a85fb1b3\",\"author\":{\"email\":\"rayenxgamer@gmail.com\",\"name\":\"rayengamer\"},\"message\":\"starting work on actually moving the pieces\",\"distinct\":true,\"url\":\"https://api.github.com/repos/rayenxgamer/ChessbutBad/commits/53b2af3d1340acd4de3bf73c03cfb0e7a85fb1b3\"}]},\"public\":true,\"created_at\":\"2025-02-19T08:06:55Z\"},{\"id\":\"46720886353\",\"type\":\"PushEvent\",\"actor\":{\"id\":135633090,\"login\":\"AlmightyHin\",\"display_login\":\"AlmightyHin\",\"gravatar_id\":\"\",\"url\":\"https://api.github.com/users/AlmightyHin\",\"avatar_url\":\"https://avatars.githubusercontent.com/u/135633090?\"},\"repo\":{\"id\":931007621,\"name\":\"AlmightyHin/green\",\"url\":\"https://api.github.com/repos/AlmightyHin/green\"},\"payload\":{\"repository_id\":931007621,\"push_id\":22736164463,\"size\":1,\"distinct_size\":1,\"ref\":\"refs/heads/master\",\"head\":\"3c0b1fd9c727e2c6d5f0cb477c9558d371c47528\",\"before\":\"77e98a0f9e16031b0da8823fd532546e54f7e604\",\"commits\":[{\"sha\":\"3c0b1fd9c727e2c6d5f0cb477c9558d371c47528\",\"author\":{\"email\":\"terrarius.craft@gmail.com\",\"name\":\"almightyhin\"},\"message\":\"chore(bot): 😂 auto commit\",\"distinct\":true,\"url\":\"https://api.github.com/repos/AlmightyHin/green/commits/3c0b1fd9c727e2c6d5f0cb477c9558d371c47528\"}]},\"public\":true,\"created_at\":\"2025-02-19T08:06:55Z\"},{\"id\":\"46720886339\",\"type\":\"PushEvent\",\"actor\":{\"id\":187849404,\"login\":\"sagar-fabtechsol\",\"display_login\":\"sagar-fabtechsol\",\"gravatar_id\":\"\",\"url\":\"https://api.github.com/users/sagar-fabtechsol\",\"avatar_url\":\"https://avatars.githubusercontent.com/u/187849404?\"},\"repo\":{\"id\":926369450,\"name\":\"shakaib-fabtechsol/HomeService-Backend\",\"url\":\"https://api.github.com/repos/shakaib-fabtechsol/HomeService-Backend\"},\"payload\":{\"repository_id\":926369450,\"push_id\":22736164485,\"size\":2,\"distinct_size\":1,\"ref\":\"refs/heads/main\",\"head\":\"15f0f767680c73735a18431bde1eadd0af510a84\",\"before\":\"ec60fa3e26884dd1fd7a83fe1e116b1817435ece\",\"commits\":[{\"sha\":\"f1b1be51cffc1f43f3c0d59ad070475354703b69\",\"author\":{\"email\":\"sagar.sabir@fabtechsol.com\",\"name\":\"sagar-fabtechsol\"},\"message\":\"creating filter by category api in provider panel.\",\"distinct\":false,\"url\":\"https://api.github.com/repos/shakaib-fabtechsol/HomeService-Backend/commits/f1b1be51cffc1f43f3c0d59ad070475354703b69\"},{\"sha\":\"15f0f767680c73735a18431bde1eadd0af510a84\",\"author\":{\"email\":\"sagar.sabir@fabtechsol.com\",\"name\":\"sagar-fabtechsol\"},\"message\":\"Merge pull request #91 from shakaib-fabtechsol/sagar\\n\\ncreating filter by category api in provider panel.\",\"distinct\":true,\"url\":\"https://api.github.com/repos/shakaib-fabtechsol/HomeService-Backend/commits/15f0f767680c73735a18431bde1eadd0af510a84\"}]},\"public\":true,\"created_at\":\"2025-02-19T08:06:55Z\"},{\"id\":\"46720886317\",\"type\":\"PushEvent\",\"actor\":{\"id\":184089843,\"login\":\"mabajim065\",\"display_login\":\"mabajim065\",\"gravatar_id\":\"\",\"url\":\"https://api.github.com/users/mabajim065\",\"avatar_url\":\"https://avatars.githubusercontent.com/u/184089843?\"},\"repo\":{\"id\":890965901,\"name\":\"mabajim065/LENGUAJE-DE-MARCAS-M\",\"url\":\"https://api.github.com/repos/mabajim065/LENGUAJE-DE-MARCAS-M\"},\"payload\":{\"repository_id\":890965901,\"push_id\":22736164503,\"size\":1,\"distinct_size\":1,\"ref\":\"refs/heads/main\",\"head\":\"dfbe92def17f3a044148a831881f4ba48489c126\",\"before\":\"d0732f77de4b2483cae7c35117d685ee2719834b\",\"commits\":[{\"sha\":\"dfbe92def17f3a044148a831881f4ba48489c126\",\"author\":{\"email\":\"mariaabascal06@gmail.com\",\"name\":\"MARÍA ABASCAL\"},\"message\":\"Update TEMA3.html\",\"distinct\":true,\"url\":\"https://api.github.com/repos/mabajim065/LENGUAJE-DE-MARCAS-M/commits/dfbe92def17f3a044148a831881f4ba48489c126\"}]},\"public\":true,\"created_at\":\"2025-02-19T08:06:55Z\"},{\"id\":\"46720886309\",\"type\":\"PushEvent\",\"actor\":{\"id\":191310155,\"login\":\"kjleopold\",\"display_login\":\"kjleopold\",\"gravatar_id\":\"\",\"url\":\"https://api.github.com/users/kjleopold\",\"avatar_url\":\"https://avatars.githubusercontent.com/u/191310155?\"},\"repo\":{\"id\":935217687,\"name\":\"kjleopold/datafun-06-eda\",\"url\":\"https://api.github.com/repos/kjleopold/datafun-06-eda\"},\"payload\":{\"repository_id\":935217687,\"push_id\":22736164494,\"size\":1,\"distinct_size\":1,\"ref\":\"refs/heads/main\",\"head\":\"5890d1ddcad01f67d0a96230f58e6dc804c6d6e3\",\"before\":\"e23c0f156a7c2c6bc01b3d915350b41c50e4246a\",\"commits\":[{\"sha\":\"5890d1ddcad01f67d0a96230f58e6dc804c6d6e3\",\"author\":{\"email\":\"kjleopold806@gmail.com\",\"name\":\"Kellie Leopold\"},\"message\":\"Updating files.\",\"distinct\":true,\"url\":\"https://api.github.com/repos/kjleopold/datafun-06-eda/commits/5890d1ddcad01f67d0a96230f58e6dc804c6d6e3\"}]},\"public\":true,\"created_at\":\"2025-02-19T08:06:55Z\"},{\"id\":\"46720886271\",\"type\":\"PushEvent\",\"actor\":{\"id\":44281059,\"login\":\"AShinra\",\"display_login\":\"AShinra\",\"gravatar_id\":\"\",\"url\":\"https://api.github.com/users/AShinra\",\"avatar_url\":\"https://avatars.githubusercontent.com/u/44281059?\"},\"repo\":{\"id\":934945030,\"name\":\"AShinra/troms_ims\",\"url\":\"https://api.github.com/repos/AShinra/troms_ims\"},\"payload\":{\"repository_id\":934945030,\"push_id\":22736164492,\"size\":1,\"distinct_size\":1,\"ref\":\"refs/heads/main\",\"head\":\"6132583b701c79681f2fee29e11898f0d9fd344d\",\"before\":\"ef731558e8f213b23afde217b5f9ece96de818c0\",\"commits\":[{\"sha\":\"6132583b701c79681f2fee29e11898f0d9fd344d\",\"author\":{\"email\":\"jonpuray@gmail.com\",\"name\":\"Athan\"},\"message\":\"edited main.py\",\"distinct\":true,\"url\":\"https://api.github.com/repos/AShinra/troms_ims/commits/6132583b701c79681f2fee29e11898f0d9fd344d\"}]},\"public\":true,\"created_at\":\"2025-02-19T08:06:55Z\"},{\"id\":\"46720886283\",\"type\":\"CreateEvent\",\"actor\":{\"id\":187193647,\"login\":\"JasmineE1308\",\"display_login\":\"JasmineE1308\",\"gravatar_id\":\"\",\"url\":\"https://api.github.com/users/JasmineE1308\",\"avatar_url\":\"https://avatars.githubusercontent.com/u/187193647?\"},\"repo\":{\"id\":935294404,\"name\":\"JasmineE1308/new\",\"url\":\"https://api.github.com/repos/JasmineE1308/new\"},\"payload\":{\"ref\":null,\"ref_type\":\"repository\",\"master_branch\":\"main\",\"description\":null,\"pusher_type\":\"user\"},\"public\":true,\"created_at\":\"2025-02-19T08:06:55Z\"},{\"id\":\"46720886244\",\"type\":\"PushEvent\",\"actor\":{\"id\":195892948,\"login\":\"Sleshcode\",\"display_login\":\"Sleshcode\",\"gravatar_id\":\"\",\"url\":\"https://api.github.com/users/Sleshcode\",\"avatar_url\":\"https://avatars.githubusercontent.com/u/195892948?\"},\"repo\":{\"id\":933421730,\"name\":\"Sleshcode/go-sles\",\"url\":\"https://api.github.com/repos/Sleshcode/go-sles\"},\"payload\":{\"repository_id\":933421730,\"push_id\":22736164435,\"size\":1,\"distinct_size\":1,\"ref\":\"refs/heads/main\",\"head\":\"235721c046d7a1c3f07cc3de6301eb0303a491a5\",\"before\":\"1ac97a9e75c23506df9aced5a8e2321d314a1623\",\"commits\":[{\"sha\":\"235721c046d7a1c3f07cc3de6301eb0303a491a5\",\"author\":{\"email\":\"Akinkunmitoheeb72@gmail.com\",\"name\":\"Sleshcode\"},\"message\":\"Update README.md\",\"distinct\":true,\"url\":\"https://api.github.com/repos/Sleshcode/go-sles/commits/235721c046d7a1c3f07cc3de6301eb0303a491a5\"}]},\"public\":true,\"created_at\":\"2025-02-19T08:06:55Z\"},{\"id\":\"46720886238\",\"type\":\"PushEvent\",\"actor\":{\"id\":104379219,\"login\":\"saiharsha-18\",\"display_login\":\"saiharsha-18\",\"gravatar_id\":\"\",\"url\":\"https://api.github.com/users/saiharsha-18\",\"avatar_url\":\"https://avatars.githubusercontent.com/u/104379219?\"},\"repo\":{\"id\":935288969,\"name\":\"saiharsha-18/Healthcare-data-cleansing-NLP\",\"url\":\"https://api.github.com/repos/saiharsha-18/Healthcare-data-cleansing-NLP\"},\"payload\":{\"repository_id\":935288969,\"push_id\":22736164449,\"size\":1,\"distinct_size\":1,\"ref\":\"refs/heads/main\",\"head\":\"069b684f24c2ed968b5f94114317f9fbf1e8d10f\",\"before\":\"79e26389851a3256bf8f7bee95af044f2f04fc73\",\"commits\":[{\"sha\":\"069b684f24c2ed968b5f94114317f9fbf1e8d10f\",\"author\":{\"email\":\"104379219+saiharsha-18@users.noreply.github.com\",\"name\":\"S Sai Harshavardhana\"},\"message\":\"Create README.md\",\"distinct\":true,\"url\":\"https://api.github.com/repos/saiharsha-18/Healthcare-data-cleansing-NLP/commits/069b684f24c2ed968b5f94114317f9fbf1e8d10f\"}]},\"public\":true,\"created_at\":\"2025-02-19T08:06:55Z\"},{\"id\":\"46720886258\",\"type\":\"PullRequestEvent\",\"actor\":{\"id\":19661913,\"login\":\"yih-redhat\",\"display_login\":\"yih-redhat\",\"gravatar_id\":\"\",\"url\":\"https://api.github.com/users/yih-redhat\",\"avatar_url\":\"https://avatars.githubusercontent.com/u/19661913?\"},\"repo\":{\"id\":320154662,\"name\":\"virt-s1/rhel-edge\",\"url\":\"https://api.github.com/repos/virt-s1/rhel-edge\"},\"payload\":{\"action\":\"closed\",\"number\":9333,\"pull_request\":{\"url\":\"https://api.github.com/repos/virt-s1/rhel-edge/pulls/9333\",\"id\":2341030047,\"node_id\":\"PR_kwDOExUsJs6LiUif\",\"html_url\":\"https://github.com/virt-s1/rhel-edge/pull/9333\",\"diff_url\":\"https://github.com/virt-s1/rhel-edge/pull/9333.diff\",\"patch_url\":\"https://github.com/virt-s1/rhel-edge/pull/9333.patch\",\"issue_url\":\"https://api.github.com/repos/virt-s1/rhel-edge/issues/9333\",\"number\":9333,\"state\":\"closed\",\"locked\":false,\"title\":\"RHEL-9.4.0-updates-20250217.1 - 2025-02-18\",\"user\":{\"login\":\"github-actions[bot]\",\"id\":41898282,\"node_id\":\"MDM6Qm90NDE4OTgyODI=\",\"avatar_url\":\"https://avatars.githubusercontent.com/in/15368?v=4\",\"gravatar_id\":\"\",\"url\":\"https://api.github.com/users/github-actions%5Bbot%5D\",\"html_url\":\"https://github.com/apps/github-actions\",\"followers_url\":\"https://api.github.com/users/github-actions%5Bbot%5D/followers\",\"following_url\":\"https://api.github.com/users/github-actions%5Bbot%5D/following{/other_user}\",\"gists_url\":\"https://api.github.com/users/github-actions%5Bbot%5D/gists{/gist_id}\",\"starred_url\":\"https://api.github.com/users/github-actions%5Bbot%5D/starred{/owner}{/repo}\",\"subscriptions_url\":\"https://api.github.com/users/github-actions%5Bbot%5D/subscriptions\",\"organizations_url\":\"https://api.github.com/users/github-actions%5Bbot%5D/orgs\",\"repos_url\":\"https://api.github.com/users/github-actions%5Bbot%5D/repos\",\"events_url\":\"https://api.github.com/users/github-actions%5Bbot%5D/events{/privacy}\",\"received_events_url\":\"https://api.github.com/users/github-actions%5Bbot%5D/received_events\",\"type\":\"Bot\",\"user_view_type\":\"public\",\"site_admin\":false},\"body\":\"RHEL 9.4 compose RHEL-9.4.0-updates-20250217.1\\n- Date: 2025-02-18\\n- Packages:\\n    - osbuild-110-1.el9.noarch.rpm\\n    - osbuild-composer-101-2.el9_4.x86_64.rpm\\n    - weldr-client-35.12-2.el9.x86_64.rpm\",\"created_at\":\"2025-02-18T04:15:08Z\",\"updated_at\":\"2025-02-19T08:06:53Z\",\"closed_at\":\"2025-02-19T08:06:53Z\",\"merged_at\":null,\"merge_commit_sha\":\"c7959369455869d849a55dbcde8b33fa34a96f7e\",\"assignee\":null,\"assignees\":[],\"requested_reviewers\":[],\"requested_teams\":[],\"labels\":[{\"id\":4282273351,\"node_id\":\"LA_kwDOExUsJs7_Pk5H\",\"url\":\"https://api.github.com/repos/virt-s1/rhel-edge/labels/auto-merge\",\"name\":\"auto-merge\",\"color\":\"83EC9A\",\"default\":false,\"description\":\"\"},{\"id\":6160561219,\"node_id\":\"LA_kwDOExUsJs8AAAABbzK0Qw\",\"url\":\"https://api.github.com/repos/virt-s1/rhel-edge/labels/RHEL-9.4.0\",\"name\":\"RHEL-9.4.0\",\"color\":\"ededed\",\"default\":false,\"description\":null}],\"milestone\":null,\"draft\":false,\"commits_url\":\"https://api.github.com/repos/virt-s1/rhel-edge/pulls/9333/commits\",\"review_comments_url\":\"https://api.github.com/repos/virt-s1/rhel-edge/pulls/9333/comments\",\"review_comment_url\":\"https://api.github.com/repos/virt-s1/rhel-edge/pulls/comments{/number}\",\"comments_url\":\"https://api.github.com/repos/virt-s1/rhel-edge/issues/9333/comments\",\"statuses_url\":\"https://api.github.com/repos/virt-s1/rhel-edge/statuses/e277394d8ffc9ed9b12a5a659669240d66988465\",\"head\":{\"label\":\"virt-s1:cpr-hc0rmmu\",\"ref\":\"cpr-hc0rmmu\",\"sha\":\"e277394d8ffc9ed9b12a5a659669240d66988465\",\"user\":{\"login\":\"virt-s1\",\"id\":66708567,\"node_id\":\"MDEyOk9yZ2FuaXphdGlvbjY2NzA4NTY3\",\"avatar_url\":\"https://avatars.githubusercontent.com/u/66708567?v=4\",\"gravatar_id\":\"\",\"url\":\"https://api.github.com/users/virt-s1\",\"html_url\":\"https://github.com/virt-s1\",\"followers_url\":\"https://api.github.com/users/virt-s1/followers\",\"following_url\":\"https://api.github.com/users/virt-s1/following{/other_user}\",\"gists_url\":\"https://api.github.com/users/virt-s1/gists{/gist_id}\",\"starred_url\":\"https://api.github.com/users/virt-s1/starred{/owner}{/repo}\",\"subscriptions_url\":\"https://api.github.com/users/virt-s1/subscriptions\",\"organizations_url\":\"https://api.github.com/users/virt-s1/orgs\",\"repos_url\":\"https://api.github.com/users/virt-s1/repos\",\"events_url\":\"https://api.github.com/users/virt-s1/events{/privacy}\",\"received_events_url\":\"https://api.github.com/users/virt-s1/received_events\",\"type\":\"Organization\",\"user_view_type\":\"public\",\"site_admin\":false},\"repo\":{\"id\":320154662,\"node_id\":\"MDEwOlJlcG9zaXRvcnkzMjAxNTQ2NjI=\",\"name\":\"rhel-edge\",\"full_name\":\"virt-s1/rhel-edge\",\"private\":false,\"owner\":{\"login\":\"virt-s1\",\"id\":66708567,\"node_id\":\"MDEyOk9yZ2FuaXphdGlvbjY2NzA4NTY3\",\"avatar_url\":\"https://avatars.githubusercontent.com/u/66708567?v=4\",\"gravatar_id\":\"\",\"url\":\"https://api.github.com/users/virt-s1\",\"html_url\":\"https://github.com/virt-s1\",\"followers_url\":\"https://api.github.com/users/virt-s1/followers\",\"following_url\":\"https://api.github.com/users/virt-s1/following{/other_user}\",\"gists_url\":\"https://api.github.com/users/virt-s1/gists{/gist_id}\",\"starred_url\":\"https://api.github.com/users/virt-s1/starred{/owner}{/repo}\",\"subscriptions_url\":\"https://api.github.com/users/virt-s1/subscriptions\",\"organizations_url\":\"https://api.github.com/users/virt-s1/orgs\",\"repos_url\":\"https://api.github.com/users/virt-s1/repos\",\"events_url\":\"https://api.github.com/users/virt-s1/events{/privacy}\",\"received_events_url\":\"https://api.github.com/users/virt-s1/received_events\",\"type\":\"Organization\",\"user_view_type\":\"public\",\"site_admin\":false},\"html_url\":\"https://github.com/virt-s1/rhel-edge\",\"description\":\"RHEL for Edge Downstream CI and Test\",\"fork\":false,\"url\":\"https://api.github.com/repos/virt-s1/rhel-edge\",\"forks_url\":\"https://api.github.com/repos/virt-s1/rhel-edge/forks\",\"keys_url\":\"https://api.github.com/repos/virt-s1/rhel-edge/keys{/key_id}\",\"collaborators_url\":\"https://api.github.com/repos/virt-s1/rhel-edge/collaborators{/collaborator}\",\"teams_url\":\"https://api.github.com/repos/virt-s1/rhel-edge/teams\",\"hooks_url\":\"https://api.github.com/repos/virt-s1/rhel-edge/hooks\",\"issue_events_url\":\"https://api.github.com/repos/virt-s1/rhel-edge/issues/events{/number}\",\"events_url\":\"https://api.github.com/repos/virt-s1/rhel-edge/events\",\"assignees_url\":\"https://api.github.com/repos/virt-s1/rhel-edge/assignees{/user}\",\"branches_url\":\"https://api.github.com/repos/virt-s1/rhel-edge/branches{/branch}\",\"tags_url\":\"https://api.github.com/repos/virt-s1/rhel-edge/tags\",\"blobs_url\":\"https://api.github.com/repos/virt-s1/rhel-edge/git/blobs{/sha}\",\"git_tags_url\":\"https://api.github.com/repos/virt-s1/rhel-edge/git/tags{/sha}\",\"git_refs_url\":\"https://api.github.com/repos/virt-s1/rhel-edge/git/refs{/sha}\",\"trees_url\":\"https://api.github.com/repos/virt-s1/rhel-edge/git/trees{/sha}\",\"statuses_url\":\"https://api.github.com/repos/virt-s1/rhel-edge/statuses/{sha}\",\"languages_url\":\"https://api.github.com/repos/virt-s1/rhel-edge/languages\",\"stargazers_url\":\"https://api.github.com/repos/virt-s1/rhel-edge/stargazers\",\"contributors_url\":\"https://api.github.com/repos/virt-s1/rhel-edge/contributors\",\"subscribers_url\":\"https://api.github.com/repos/virt-s1/rhel-edge/subscribers\",\"subscription_url\":\"https://api.github.com/repos/virt-s1/rhel-edge/subscription\",\"commits_url\":\"https://api.github.com/repos/virt-s1/rhel-edge/commits{/sha}\",\"git_commits_url\":\"https://api.github.com/repos/virt-s1/rhel-edge/git/commits{/sha}\",\"comments_url\":\"https://api.github.com/repos/virt-s1/rhel-edge/comments{/number}\",\"issue_comment_url\":\"https://api.github.com/repos/virt-s1/rhel-edge/issues/comments{/number}\",\"contents_url\":\"https://api.github.com/repos/virt-s1/rhel-edge/contents/{+path}\",\"compare_url\":\"https://api.github.com/repos/virt-s1/rhel-edge/compare/{base}...{head}\",\"merges_url\":\"https://api.github.com/repos/virt-s1/rhel-edge/merges\",\"archive_url\":\"https://api.github.com/repos/virt-s1/rhel-edge/{archive_format}{/ref}\",\"downloads_url\":\"https://api.github.com/repos/virt-s1/rhel-edge/downloads\",\"issues_url\":\"https://api.github.com/repos/virt-s1/rhel-edge/issues{/number}\",\"pulls_url\":\"https://api.github.com/repos/virt-s1/rhel-edge/pulls{/number}\",\"milestones_url\":\"https://api.github.com/repos/virt-s1/rhel-edge/milestones{/number}\",\"notifications_url\":\"https://api.github.com/repos/virt-s1/rhel-edge/notifications{?since,all,participating}\",\"labels_url\":\"https://api.github.com/repos/virt-s1/rhel-edge/labels{/name}\",\"releases_url\":\"https://api.github.com/repos/virt-s1/rhel-edge/releases{/id}\",\"deployments_url\":\"https://api.github.com/repos/virt-s1/rhel-edge/deployments\",\"created_at\":\"2020-12-10T04:01:24Z\",\"updated_at\":\"2025-02-19T08:06:28Z\",\"pushed_at\":\"2025-02-19T08:06:26Z\",\"git_url\":\"git://github.com/virt-s1/rhel-edge.git\",\"ssh_url\":\"git@github.com:virt-s1/rhel-edge.git\",\"clone_url\":\"https://github.com/virt-s1/rhel-edge.git\",\"svn_url\":\"https://github.com/virt-s1/rhel-edge\",\"homepage\":\"\",\"size\":3105,\"stargazers_count\":10,\"watchers_count\":10,\"language\":\"Shell\",\"has_issues\":true,\"has_projects\":true,\"has_downloads\":true,\"has_wiki\":false,\"has_pages\":false,\"has_discussions\":false,\"forks_count\":12,\"mirror_url\":null,\"archived\":false,\"disabled\":false,\"open_issues_count\":14,\"license\":{\"key\":\"mit\",\"name\":\"MIT License\",\"spdx_id\":\"MIT\",\"url\":\"https://api.github.com/licenses/mit\",\"node_id\":\"MDc6TGljZW5zZTEz\"},\"allow_forking\":true,\"is_template\":false,\"web_commit_signoff_required\":false,\"topics\":[],\"visibility\":\"public\",\"forks\":12,\"open_issues\":14,\"watchers\":10,\"default_branch\":\"main\"}},\"base\":{\"label\":\"virt-s1:main\",\"ref\":\"main\",\"sha\":\"fce36289da3a79fbf6127b4041050405855ae783\",\"user\":{\"login\":\"virt-s1\",\"id\":66708567,\"node_id\":\"MDEyOk9yZ2FuaXphdGlvbjY2NzA4NTY3\",\"avatar_url\":\"https://avatars.githubusercontent.com/u/66708567?v=4\",\"gravatar_id\":\"\",\"url\":\"https://api.github.com/users/virt-s1\",\"html_url\":\"https://github.com/virt-s1\",\"followers_url\":\"https://api.github.com/users/virt-s1/followers\",\"following_url\":\"https://api.github.com/users/virt-s1/following{/other_user}\",\"gists_url\":\"https://api.github.com/users/virt-s1/gists{/gist_id}\",\"starred_url\":\"https://api.github.com/users/virt-s1/starred{/owner}{/repo}\",\"subscriptions_url\":\"https://api.github.com/users/virt-s1/subscriptions\",\"organizations_url\":\"https://api.github.com/users/virt-s1/orgs\",\"repos_url\":\"https://api.github.com/users/virt-s1/repos\",\"events_url\":\"https://api.github.com/users/virt-s1/events{/privacy}\",\"received_events_url\":\"https://api.github.com/users/virt-s1/received_events\",\"type\":\"Organization\",\"user_view_type\":\"public\",\"site_admin\":false},\"repo\":{\"id\":320154662,\"node_id\":\"MDEwOlJlcG9zaXRvcnkzMjAxNTQ2NjI=\",\"name\":\"rhel-edge\",\"full_name\":\"virt-s1/rhel-edge\",\"private\":false,\"owner\":{\"login\":\"virt-s1\",\"id\":66708567,\"node_id\":\"MDEyOk9yZ2FuaXphdGlvbjY2NzA4NTY3\",\"avatar_url\":\"https://avatars.githubusercontent.com/u/66708567?v=4\",\"gravatar_id\":\"\",\"url\":\"https://api.github.com/users/virt-s1\",\"html_url\":\"https://github.com/virt-s1\",\"followers_url\":\"https://api.github.com/users/virt-s1/followers\",\"following_url\":\"https://api.github.com/users/virt-s1/following{/other_user}\",\"gists_url\":\"https://api.github.com/users/virt-s1/gists{/gist_id}\",\"starred_url\":\"https://api.github.com/users/virt-s1/starred{/owner}{/repo}\",\"subscriptions_url\":\"https://api.github.com/users/virt-s1/subscriptions\",\"organizations_url\":\"https://api.github.com/users/virt-s1/orgs\",\"repos_url\":\"https://api.github.com/users/virt-s1/repos\",\"events_url\":\"https://api.github.com/users/virt-s1/events{/privacy}\",\"received_events_url\":\"https://api.github.com/users/virt-s1/received_events\",\"type\":\"Organization\",\"user_view_type\":\"public\",\"site_admin\":false},\"html_url\":\"https://github.com/virt-s1/rhel-edge\",\"description\":\"RHEL for Edge Downstream CI and Test\",\"fork\":false,\"url\":\"https://api.github.com/repos/virt-s1/rhel-edge\",\"forks_url\":\"https://api.github.com/repos/virt-s1/rhel-edge/forks\",\"keys_url\":\"https://api.github.com/repos/virt-s1/rhel-edge/keys{/key_id}\",\"collaborators_url\":\"https://api.github.com/repos/virt-s1/rhel-edge/collaborators{/collaborator}\",\"teams_url\":\"https://api.github.com/repos/virt-s1/rhel-edge/teams\",\"hooks_url\":\"https://api.github.com/repos/virt-s1/rhel-edge/hooks\",\"issue_events_url\":\"https://api.github.com/repos/virt-s1/rhel-edge/issues/events{/number}\",\"events_url\":\"https://api.github.com/repos/virt-s1/rhel-edge/events\",\"assignees_url\":\"https://api.github.com/repos/virt-s1/rhel-edge/assignees{/user}\",\"branches_url\":\"https://api.github.com/repos/virt-s1/rhel-edge/branches{/branch}\",\"tags_url\":\"https://api.github.com/repos/virt-s1/rhel-edge/tags\",\"blobs_url\":\"https://api.github.com/repos/virt-s1/rhel-edge/git/blobs{/sha}\",\"git_tags_url\":\"https://api.github.com/repos/virt-s1/rhel-edge/git/tags{/sha}\",\"git_refs_url\":\"https://api.github.com/repos/virt-s1/rhel-edge/git/refs{/sha}\",\"trees_url\":\"https://api.github.com/repos/virt-s1/rhel-edge/git/trees{/sha}\",\"statuses_url\":\"https://api.github.com/repos/virt-s1/rhel-edge/statuses/{sha}\",\"languages_url\":\"https://api.github.com/repos/virt-s1/rhel-edge/languages\",\"stargazers_url\":\"https://api.github.com/repos/virt-s1/rhel-edge/stargazers\",\"contributors_url\":\"https://api.github.com/repos/virt-s1/rhel-edge/contributors\",\"subscribers_url\":\"https://api.github.com/repos/virt-s1/rhel-edge/subscribers\",\"subscription_url\":\"https://api.github.com/repos/virt-s1/rhel-edge/subscription\",\"commits_url\":\"https://api.github.com/repos/virt-s1/rhel-edge/commits{/sha}\",\"git_commits_url\":\"https://api.github.com/repos/virt-s1/rhel-edge/git/commits{/sha}\",\"comments_url\":\"https://api.github.com/repos/virt-s1/rhel-edge/comments{/number}\",\"issue_comment_url\":\"https://api.github.com/repos/virt-s1/rhel-edge/issues/comments{/number}\",\"contents_url\":\"https://api.github.com/repos/virt-s1/rhel-edge/contents/{+path}\",\"compare_url\":\"https://api.github.com/repos/virt-s1/rhel-edge/compare/{base}...{head}\",\"merges_url\":\"https://api.github.com/repos/virt-s1/rhel-edge/merges\",\"archive_url\":\"https://api.github.com/repos/virt-s1/rhel-edge/{archive_format}{/ref}\",\"downloads_url\":\"https://api.github.com/repos/virt-s1/rhel-edge/downloads\",\"issues_url\":\"https://api.github.com/repos/virt-s1/rhel-edge/issues{/number}\",\"pulls_url\":\"https://api.github.com/repos/virt-s1/rhel-edge/pulls{/number}\",\"milestones_url\":\"https://api.github.com/repos/virt-s1/rhel-edge/milestones{/number}\",\"notifications_url\":\"https://api.github.com/repos/virt-s1/rhel-edge/notifications{?since,all,participating}\",\"labels_url\":\"https://api.github.com/repos/virt-s1/rhel-edge/labels{/name}\",\"releases_url\":\"https://api.github.com/repos/virt-s1/rhel-edge/releases{/id}\",\"deployments_url\":\"https://api.github.com/repos/virt-s1/rhel-edge/deployments\",\"created_at\":\"2020-12-10T04:01:24Z\",\"updated_at\":\"2025-02-19T08:06:28Z\",\"pushed_at\":\"2025-02-19T08:06:26Z\",\"git_url\":\"git://github.com/virt-s1/rhel-edge.git\",\"ssh_url\":\"git@github.com:virt-s1/rhel-edge.git\",\"clone_url\":\"https://github.com/virt-s1/rhel-edge.git\",\"svn_url\":\"https://github.com/virt-s1/rhel-edge\",\"homepage\":\"\",\"size\":3105,\"stargazers_count\":10,\"watchers_count\":10,\"language\":\"Shell\",\"has_issues\":true,\"has_projects\":true,\"has_downloads\":true,\"has_wiki\":false,\"has_pages\":false,\"has_discussions\":false,\"forks_count\":12,\"mirror_url\":null,\"archived\":false,\"disabled\":false,\"open_issues_count\":14,\"license\":{\"key\":\"mit\",\"name\":\"MIT License\",\"spdx_id\":\"MIT\",\"url\":\"https://api.github.com/licenses/mit\",\"node_id\":\"MDc6TGljZW5zZTEz\"},\"allow_forking\":true,\"is_template\":false,\"web_commit_signoff_required\":false,\"topics\":[],\"visibility\":\"public\",\"forks\":12,\"open_issues\":14,\"watchers\":10,\"default_branch\":\"main\"}},\"_links\":{\"self\":{\"href\":\"https://api.github.com/repos/virt-s1/rhel-edge/pulls/9333\"},\"html\":{\"href\":\"https://github.com/virt-s1/rhel-edge/pull/9333\"},\"issue\":{\"href\":\"https://api.github.com/repos/virt-s1/rhel-edge/issues/9333\"},\"comments\":{\"href\":\"https://api.github.com/repos/virt-s1/rhel-edge/issues/9333/comments\"},\"review_comments\":{\"href\":\"https://api.github.com/repos/virt-s1/rhel-edge/pulls/9333/comments\"},\"review_comment\":{\"href\":\"https://api.github.com/repos/virt-s1/rhel-edge/pulls/comments{/number}\"},\"commits\":{\"href\":\"https://api.github.com/repos/virt-s1/rhel-edge/pulls/9333/commits\"},\"statuses\":{\"href\":\"https://api.github.com/repos/virt-s1/rhel-edge/statuses/e277394d8ffc9ed9b12a5a659669240d66988465\"}},\"author_association\":\"NONE\",\"auto_merge\":null,\"active_lock_reason\":null,\"merged\":false,\"mergeable\":true,\"rebaseable\":false,\"mergeable_state\":\"unstable\",\"merged_by\":null,\"comments\":1,\"review_comments\":0,\"maintainer_can_modify\":false,\"commits\":1,\"additions\":1,\"deletions\":0,\"changed_files\":1}},\"public\":true,\"created_at\":\"2025-02-19T08:06:55Z\",\"org\":{\"id\":66708567,\"login\":\"virt-s1\",\"gravatar_id\":\"\",\"url\":\"https://api.github.com/orgs/virt-s1\",\"avatar_url\":\"https://avatars.githubusercontent.com/u/66708567?\"}},{\"id\":\"46720886243\",\"type\":\"PushEvent\",\"actor\":{\"id\":166895733,\"login\":\"swa-runner-app[bot]\",\"display_login\":\"swa-runner-app\",\"gravatar_id\":\"\",\"url\":\"https://api.github.com/users/swa-runner-app[bot]\",\"avatar_url\":\"https://avatars.githubusercontent.com/u/166895733?\"},\"repo\":{\"id\":935293956,\"name\":\"static-web-apps-testing-org/swa1397b4c37ffa477cacbb095789759377\",\"url\":\"https://api.github.com/repos/static-web-apps-testing-org/swa1397b4c37ffa477cacbb095789759377\"},\"payload\":{\"repository_id\":935293956,\"push_id\":22736164483,\"size\":1,\"distinct_size\":1,\"ref\":\"refs/heads/main\",\"head\":\"03169579de2985df3a0da8ae52875bfa577cac7c\",\"before\":\"235d77586ea42b0d78f1d70e548361e460023f6c\",\"commits\":[{\"sha\":\"03169579de2985df3a0da8ae52875bfa577cac7c\",\"author\":{\"email\":\"166895733+swa-runner-app[bot]@users.noreply.github.com\",\"name\":\"swa-runner-app[bot]\"},\"message\":\"Writing file src/environments/environment.prod.ts\",\"distinct\":true,\"url\":\"https://api.github.com/repos/static-web-apps-testing-org/swa1397b4c37ffa477cacbb095789759377/commits/03169579de2985df3a0da8ae52875bfa577cac7c\"}]},\"public\":true,\"created_at\":\"2025-02-19T08:06:55Z\",\"org\":{\"id\":96167003,\"login\":\"static-web-apps-testing-org\",\"gravatar_id\":\"\",\"url\":\"https://api.github.com/orgs/static-web-apps-testing-org\",\"avatar_url\":\"https://avatars.githubusercontent.com/u/96167003?\"}}]\n"
     ]
    }
   ],
   "source": [
    "print(r.text) # .은 상위 갠며에 접근할 때"
   ]
  },
  {
   "cell_type": "code",
   "execution_count": null,
   "id": "481e248f-ab40-4cf9-b5d0-29813b4a1166",
   "metadata": {},
   "outputs": [],
   "source": []
  }
 ],
 "metadata": {
  "kernelspec": {
   "display_name": "Python 3 (ipykernel)",
   "language": "python",
   "name": "python3"
  },
  "language_info": {
   "codemirror_mode": {
    "name": "ipython",
    "version": 3
   },
   "file_extension": ".py",
   "mimetype": "text/x-python",
   "name": "python",
   "nbconvert_exporter": "python",
   "pygments_lexer": "ipython3",
   "version": "3.13.2"
  }
 },
 "nbformat": 4,
 "nbformat_minor": 5
}
