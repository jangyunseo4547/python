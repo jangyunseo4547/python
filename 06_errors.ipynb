{
 "cells": [
  {
   "cell_type": "markdown",
   "id": "f1a1f5ac-53ad-4274-8a39-bdd57134fe5c",
   "metadata": {},
   "source": [
    "# Error"
   ]
  },
  {
   "cell_type": "markdown",
   "id": "57a6e1e9-0454-44d1-9824-1985ab62570e",
   "metadata": {},
   "source": [
    "## 1. syntax error (문법 에러)"
   ]
  },
  {
   "cell_type": "code",
   "execution_count": 6,
   "id": "03379a95-2058-4f4f-bc82-f06848d13ad1",
   "metadata": {},
   "outputs": [
    {
     "ename": "SyntaxError",
     "evalue": "expected ':' (3591579285.py, line 5)",
     "output_type": "error",
     "traceback": [
      "\u001b[1;36m  Cell \u001b[1;32mIn[6], line 5\u001b[1;36m\u001b[0m\n\u001b[1;33m    else\u001b[0m\n\u001b[1;37m        ^\u001b[0m\n\u001b[1;31mSyntaxError\u001b[0m\u001b[1;31m:\u001b[0m expected ':'\n"
     ]
    }
   ],
   "source": [
    "# ex) 1\n",
    "\n",
    "if True:\n",
    "    pass\n",
    "else"
   ]
  },
  {
   "cell_type": "code",
   "execution_count": 5,
   "id": "231e4975-e93a-4a5c-a435-6ec0f53045ab",
   "metadata": {},
   "outputs": [
    {
     "ename": "SyntaxError",
     "evalue": "unterminated string literal (detected at line 3) (1683747403.py, line 3)",
     "output_type": "error",
     "traceback": [
      "\u001b[1;36m  Cell \u001b[1;32mIn[5], line 3\u001b[1;36m\u001b[0m\n\u001b[1;33m    print('hello)\u001b[0m\n\u001b[1;37m          ^\u001b[0m\n\u001b[1;31mSyntaxError\u001b[0m\u001b[1;31m:\u001b[0m unterminated string literal (detected at line 3)\n"
     ]
    }
   ],
   "source": [
    "# ex) 2 \n",
    "\n",
    "print('hello)"
   ]
  },
  {
   "cell_type": "markdown",
   "id": "38ef6b29-6623-4b0e-ae13-1d6cfbfc674c",
   "metadata": {},
   "source": [
    "## 2. exception (예외처리)"
   ]
  },
  {
   "cell_type": "code",
   "execution_count": 9,
   "id": "817ce7fb-9e17-41ca-81c4-599d713896a9",
   "metadata": {},
   "outputs": [
    {
     "ename": "ZeroDivisionError",
     "evalue": "division by zero",
     "output_type": "error",
     "traceback": [
      "\u001b[1;31m---------------------------------------------------------------------------\u001b[0m",
      "\u001b[1;31mZeroDivisionError\u001b[0m                         Traceback (most recent call last)",
      "Cell \u001b[1;32mIn[9], line 3\u001b[0m\n\u001b[0;32m      1\u001b[0m \u001b[38;5;66;03m# 코드가 예상과 달리 동작했을 경우\u001b[39;00m\n\u001b[1;32m----> 3\u001b[0m \u001b[38;5;28mprint\u001b[39m(\u001b[38;5;241;43m5\u001b[39;49m\u001b[38;5;241;43m/\u001b[39;49m\u001b[38;5;241;43m0\u001b[39;49m) \u001b[38;5;66;03m# => ZeroDivisionError : 수학적인 관점에서 동작할 수 없음.\u001b[39;00m\n",
      "\u001b[1;31mZeroDivisionError\u001b[0m: division by zero"
     ]
    }
   ],
   "source": [
    "# 코드가 예상과 달리 동작했을 경우\n",
    "\n",
    "print(5/0) # => ZeroDivisionError : 수학적인 관점에서 동작할 수 없음."
   ]
  },
  {
   "cell_type": "code",
   "execution_count": 12,
   "id": "cee28911-7926-46b3-8ea6-cb1e536ce77f",
   "metadata": {},
   "outputs": [
    {
     "ename": "NameError",
     "evalue": "name 'hello' is not defined",
     "output_type": "error",
     "traceback": [
      "\u001b[1;31m---------------------------------------------------------------------------\u001b[0m",
      "\u001b[1;31mNameError\u001b[0m                                 Traceback (most recent call last)",
      "Cell \u001b[1;32mIn[12], line 3\u001b[0m\n\u001b[0;32m      1\u001b[0m \u001b[38;5;66;03m# nameerror : \"\"가 없어서 변수 hello를 찾으려다 오류 / 변수 hello 지정 x\u001b[39;00m\n\u001b[1;32m----> 3\u001b[0m \u001b[38;5;28mprint\u001b[39m(\u001b[43mhello\u001b[49m)\n",
      "\u001b[1;31mNameError\u001b[0m: name 'hello' is not defined"
     ]
    }
   ],
   "source": [
    "# nameerror : \"\"가 없어서 변수 hello를 찾으려다 오류 / 변수 hello 지정 x\n",
    "\n",
    "print(hello)"
   ]
  },
  {
   "cell_type": "code",
   "execution_count": 16,
   "id": "87793893-5f52-4d96-b655-df131384d17a",
   "metadata": {},
   "outputs": [
    {
     "ename": "TypeError",
     "evalue": "unsupported operand type(s) for +: 'int' and 'str'",
     "output_type": "error",
     "traceback": [
      "\u001b[1;31m---------------------------------------------------------------------------\u001b[0m",
      "\u001b[1;31mTypeError\u001b[0m                                 Traceback (most recent call last)",
      "Cell \u001b[1;32mIn[16], line 3\u001b[0m\n\u001b[0;32m      1\u001b[0m \u001b[38;5;66;03m# 연산자가 같지 않을때 int + str \u001b[39;00m\n\u001b[1;32m----> 3\u001b[0m \u001b[38;5;241;43m1\u001b[39;49m\u001b[43m \u001b[49m\u001b[38;5;241;43m+\u001b[39;49m\u001b[43m \u001b[49m\u001b[38;5;124;43m'\u001b[39;49m\u001b[38;5;124;43m1\u001b[39;49m\u001b[38;5;124;43m'\u001b[39;49m\n",
      "\u001b[1;31mTypeError\u001b[0m: unsupported operand type(s) for +: 'int' and 'str'"
     ]
    }
   ],
   "source": [
    "# 연산자가 같지 않을때 int + str \n",
    "\n",
    "1 + '1'"
   ]
  },
  {
   "cell_type": "code",
   "execution_count": 19,
   "id": "af6e564c-88be-4954-a85c-812af807e5af",
   "metadata": {},
   "outputs": [
    {
     "ename": "TypeError",
     "evalue": "can only concatenate str (not \"int\") to str",
     "output_type": "error",
     "traceback": [
      "\u001b[1;31m---------------------------------------------------------------------------\u001b[0m",
      "\u001b[1;31mTypeError\u001b[0m                                 Traceback (most recent call last)",
      "Cell \u001b[1;32mIn[19], line 3\u001b[0m\n\u001b[0;32m      1\u001b[0m \u001b[38;5;66;03m# concatenate str (not \"int\") to str\u001b[39;00m\n\u001b[1;32m----> 3\u001b[0m \u001b[38;5;124;43m'\u001b[39;49m\u001b[38;5;124;43m1\u001b[39;49m\u001b[38;5;124;43m'\u001b[39;49m\u001b[43m \u001b[49m\u001b[38;5;241;43m+\u001b[39;49m\u001b[43m \u001b[49m\u001b[38;5;241;43m1\u001b[39;49m\n",
      "\u001b[1;31mTypeError\u001b[0m: can only concatenate str (not \"int\") to str"
     ]
    }
   ],
   "source": [
    "# concatenate str (not \"int\") to str\n",
    "\n",
    "'1' + 1"
   ]
  },
  {
   "cell_type": "code",
   "execution_count": 25,
   "id": "e544b6c0-bb83-44e1-8f49-e025a09129f2",
   "metadata": {},
   "outputs": [
    {
     "data": {
      "text/plain": [
       "[5, 3, 2, 4]"
      ]
     },
     "execution_count": 25,
     "metadata": {},
     "output_type": "execute_result"
    }
   ],
   "source": [
    "# 필요인자를 빠트렸을 경우 random.sample(,)\n",
    "\n",
    "import random\n",
    "random.sample([1,2,3,4,5],4)"
   ]
  },
  {
   "cell_type": "code",
   "execution_count": 28,
   "id": "b0a2e469-c95f-436f-9a99-4fac6dbbff23",
   "metadata": {},
   "outputs": [
    {
     "ename": "ValueError",
     "evalue": "invalid literal for int() with base 10: '4.5'",
     "output_type": "error",
     "traceback": [
      "\u001b[1;31m---------------------------------------------------------------------------\u001b[0m",
      "\u001b[1;31mValueError\u001b[0m                                Traceback (most recent call last)",
      "Cell \u001b[1;32mIn[28], line 3\u001b[0m\n\u001b[0;32m      1\u001b[0m \u001b[38;5;66;03m# valueerror\u001b[39;00m\n\u001b[1;32m----> 3\u001b[0m \u001b[38;5;28;43mint\u001b[39;49m\u001b[43m(\u001b[49m\u001b[38;5;124;43m'\u001b[39;49m\u001b[38;5;124;43m4.5\u001b[39;49m\u001b[38;5;124;43m'\u001b[39;49m\u001b[43m)\u001b[49m\n",
      "\u001b[1;31mValueError\u001b[0m: invalid literal for int() with base 10: '4.5'"
     ]
    }
   ],
   "source": [
    "# valueerror\n",
    "\n",
    "int('4.5')"
   ]
  },
  {
   "cell_type": "code",
   "execution_count": 31,
   "id": "6ebbebff-539a-4b6d-bb24-0323aaeec31a",
   "metadata": {},
   "outputs": [
    {
     "ename": "ValueError",
     "evalue": "100 is not in list",
     "output_type": "error",
     "traceback": [
      "\u001b[1;31m---------------------------------------------------------------------------\u001b[0m",
      "\u001b[1;31mValueError\u001b[0m                                Traceback (most recent call last)",
      "Cell \u001b[1;32mIn[31], line 4\u001b[0m\n\u001b[0;32m      1\u001b[0m \u001b[38;5;66;03m# list 안에 index하고자 하는 숫자가 없음.\u001b[39;00m\n\u001b[0;32m      3\u001b[0m numbers \u001b[38;5;241m=\u001b[39m [\u001b[38;5;241m1\u001b[39m,\u001b[38;5;241m2\u001b[39m,\u001b[38;5;241m3\u001b[39m]\n\u001b[1;32m----> 4\u001b[0m \u001b[43mnumbers\u001b[49m\u001b[38;5;241;43m.\u001b[39;49m\u001b[43mindex\u001b[49m\u001b[43m(\u001b[49m\u001b[38;5;241;43m100\u001b[39;49m\u001b[43m)\u001b[49m\n",
      "\u001b[1;31mValueError\u001b[0m: 100 is not in list"
     ]
    }
   ],
   "source": [
    "# list 안에 index하고자 하는 숫자가 없음.\n",
    "\n",
    "numbers = [1,2,3]\n",
    "numbers.index(100)"
   ]
  },
  {
   "cell_type": "code",
   "execution_count": 33,
   "id": "f98acdf1-2f97-4d7b-86df-145319383b37",
   "metadata": {},
   "outputs": [
    {
     "ename": "IndexError",
     "evalue": "list index out of range",
     "output_type": "error",
     "traceback": [
      "\u001b[1;31m---------------------------------------------------------------------------\u001b[0m",
      "\u001b[1;31mIndexError\u001b[0m                                Traceback (most recent call last)",
      "Cell \u001b[1;32mIn[33], line 1\u001b[0m\n\u001b[1;32m----> 1\u001b[0m \u001b[43mnumbers\u001b[49m\u001b[43m[\u001b[49m\u001b[38;5;241;43m100\u001b[39;49m\u001b[43m]\u001b[49m\n",
      "\u001b[1;31mIndexError\u001b[0m: list index out of range"
     ]
    }
   ],
   "source": [
    "numbers[100]"
   ]
  },
  {
   "cell_type": "code",
   "execution_count": 35,
   "id": "ca857b3c-0640-4399-a9be-fa1cb0e4e3ab",
   "metadata": {},
   "outputs": [],
   "source": [
    "my_dict = {\n",
    "    'apple' : '사과',\n",
    "    'banana' : '바나나',\n",
    "}"
   ]
  },
  {
   "cell_type": "code",
   "execution_count": 38,
   "id": "2584c7d2-9609-4d2d-acd6-e1fb2c45478b",
   "metadata": {},
   "outputs": [
    {
     "ename": "KeyError",
     "evalue": "'melon'",
     "output_type": "error",
     "traceback": [
      "\u001b[1;31m---------------------------------------------------------------------------\u001b[0m",
      "\u001b[1;31mKeyError\u001b[0m                                  Traceback (most recent call last)",
      "Cell \u001b[1;32mIn[38], line 3\u001b[0m\n\u001b[0;32m      1\u001b[0m \u001b[38;5;66;03m# my_dict 안에 찾고자 하는 인자가 없는 경우\u001b[39;00m\n\u001b[1;32m----> 3\u001b[0m \u001b[43mmy_dict\u001b[49m\u001b[43m[\u001b[49m\u001b[38;5;124;43m'\u001b[39;49m\u001b[38;5;124;43mmelon\u001b[39;49m\u001b[38;5;124;43m'\u001b[39;49m\u001b[43m]\u001b[49m\n",
      "\u001b[1;31mKeyError\u001b[0m: 'melon'"
     ]
    }
   ],
   "source": [
    "# my_dict 안에 찾고자 하는 인자가 없는 경우\n",
    "\n",
    "my_dict['melon']"
   ]
  },
  {
   "cell_type": "code",
   "execution_count": 42,
   "id": "12c7d1ac-7d29-4003-8daa-67b154431908",
   "metadata": {},
   "outputs": [
    {
     "ename": "ModuleNotFoundError",
     "evalue": "No module named 'pandas'",
     "output_type": "error",
     "traceback": [
      "\u001b[1;31m---------------------------------------------------------------------------\u001b[0m",
      "\u001b[1;31mModuleNotFoundError\u001b[0m                       Traceback (most recent call last)",
      "Cell \u001b[1;32mIn[42], line 3\u001b[0m\n\u001b[0;32m      1\u001b[0m \u001b[38;5;66;03m# 모듈을 설치하지 않았을 때 모듈을 불러올 수 없는 에러 발생\u001b[39;00m\n\u001b[1;32m----> 3\u001b[0m \u001b[38;5;28;01mimport\u001b[39;00m\u001b[38;5;250m \u001b[39m\u001b[38;5;21;01mpandas\u001b[39;00m\n",
      "\u001b[1;31mModuleNotFoundError\u001b[0m: No module named 'pandas'"
     ]
    }
   ],
   "source": [
    "# 모듈을 설치하지 않았을 때 모듈을 불러올 수 없는 에러 발생\n",
    "\n",
    "import pandas"
   ]
  },
  {
   "cell_type": "code",
   "execution_count": 47,
   "id": "7ff997cd-c478-4ed1-91a9-59c98cc20fde",
   "metadata": {},
   "outputs": [
    {
     "ename": "ModuleNotFoundError",
     "evalue": "No module named 'request'",
     "output_type": "error",
     "traceback": [
      "\u001b[1;31m---------------------------------------------------------------------------\u001b[0m",
      "\u001b[1;31mModuleNotFoundError\u001b[0m                       Traceback (most recent call last)",
      "Cell \u001b[1;32mIn[47], line 1\u001b[0m\n\u001b[1;32m----> 1\u001b[0m \u001b[38;5;28;01mimport\u001b[39;00m\u001b[38;5;250m \u001b[39m\u001b[38;5;21;01mrequest\u001b[39;00m\n",
      "\u001b[1;31mModuleNotFoundError\u001b[0m: No module named 'request'"
     ]
    }
   ],
   "source": [
    "import request"
   ]
  },
  {
   "cell_type": "markdown",
   "id": "dcbd905e-b00d-45ab-a4e9-df576e7e7b09",
   "metadata": {},
   "source": [
    "### 2-1. 예외처리 (try except문)\n",
    "```python \n",
    "try:\n",
    "    code\n",
    "except exception:\n",
    "    code\n",
    "```"
   ]
  },
  {
   "cell_type": "code",
   "execution_count": 54,
   "id": "cd2454ab-4a89-4626-95ea-c075d704f3db",
   "metadata": {},
   "outputs": [
    {
     "name": "stdin",
     "output_type": "stream",
     "text": [
      "숫자를 입력해주세요 422\n"
     ]
    },
    {
     "name": "stdout",
     "output_type": "stream",
     "text": [
      "입력하신 422의 세제곱은 75151448입니다.\n"
     ]
    }
   ],
   "source": [
    "try:\n",
    "    number = int(input('숫자를 입력해주세요'))\n",
    "    print(f'입력하신 {number}의 세제곱은 {number ** 3}입니다.')\n",
    "\n",
    "except:\n",
    "    print('숫자를 입력해달라고!!!')"
   ]
  },
  {
   "cell_type": "code",
   "execution_count": 58,
   "id": "31470bdf-cc37-4d5b-8486-86f8b9048d01",
   "metadata": {},
   "outputs": [
    {
     "name": "stdin",
     "output_type": "stream",
     "text": [
      "100을 무엇으로 나누겠습니까? 45\n"
     ]
    },
    {
     "name": "stdout",
     "output_type": "stream",
     "text": [
      "100을 45으로 나눈 결과는 2.2222222222222223입니다.\n"
     ]
    }
   ],
   "source": [
    "try:\n",
    "    num = int(input('100을 무엇으로 나누겠습니까?'))\n",
    "    print(f'100을 {num}으로 나눈 결과는 {100 / num}입니다.')\n",
    "\n",
    "except ValueError:\n",
    "    print('입력한 데이터는 숫자가 아닙니다.')\n",
    "\n",
    "except ZeroDivisionError:\n",
    "    print('모든 수는 0으로 나눌 수 없습니다.')"
   ]
  },
  {
   "cell_type": "code",
   "execution_count": 65,
   "id": "6f53f169-7445-44f0-bb11-deec7b0c3a72",
   "metadata": {},
   "outputs": [
    {
     "name": "stdout",
     "output_type": "stream",
     "text": [
      "여기는 else입니다.\n"
     ]
    }
   ],
   "source": [
    "try:\n",
    "    numbers = [1,2,3]\n",
    "    numbers[1]\n",
    "\n",
    "except:\n",
    "    print('오류입니다.')\n",
    "\n",
    "else: # try를 실행하고 except 실행 안되었을 떄 else 실행 (오류가 나지 않았을 때 else 실행)\n",
    "    print('여기는 else입니다.')"
   ]
  },
  {
   "cell_type": "code",
   "execution_count": 69,
   "id": "2a0e77d3-4b21-47b0-a185-defd3489b0f9",
   "metadata": {},
   "outputs": [
    {
     "name": "stdout",
     "output_type": "stream",
     "text": [
      "오류입니다.\n",
      "여기는 else입니다.\n"
     ]
    }
   ],
   "source": [
    "try:\n",
    "    numbers = [1,2,3]\n",
    "    numbers[11]\n",
    "\n",
    "except:\n",
    "    print('오류입니다.')\n",
    "\n",
    "finally:  #finally는 무조건 실행됨.\n",
    "    print('여기는 else입니다.')"
   ]
  },
  {
   "cell_type": "code",
   "execution_count": 72,
   "id": "9c4afd1e-f446-40df-a147-05cf0de2ebc0",
   "metadata": {},
   "outputs": [
    {
     "data": {
      "text/plain": [
       "'숫자를 넣어주세요'"
      ]
     },
     "execution_count": 72,
     "metadata": {},
     "output_type": "execute_result"
    }
   ],
   "source": [
    "def my_div(a,b):\n",
    "    try:\n",
    "        return a/b\n",
    "    except (ValueError, TypeError):\n",
    "        return '숫자를 넣어주세요'\n",
    "    except ZeroDivisionError:\n",
    "        return '0으로 나눌 수 없습니다.'\n",
    "\n",
    "my_div('1','0')"
   ]
  }
 ],
 "metadata": {
  "kernelspec": {
   "display_name": "Python 3 (ipykernel)",
   "language": "python",
   "name": "python3"
  },
  "language_info": {
   "codemirror_mode": {
    "name": "ipython",
    "version": 3
   },
   "file_extension": ".py",
   "mimetype": "text/x-python",
   "name": "python",
   "nbconvert_exporter": "python",
   "pygments_lexer": "ipython3",
   "version": "3.13.2"
  }
 },
 "nbformat": 4,
 "nbformat_minor": 5
}
