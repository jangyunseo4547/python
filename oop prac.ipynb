{
 "cells": [
  {
   "cell_type": "markdown",
   "id": "213d6b78-86c9-4243-acfd-6cb6424a0db2",
   "metadata": {},
   "source": [
    "## 0. class \n",
    "\n",
    "- 클래스 (Class) : 상위 개념이자 큰 틀, 설계도\n",
    "- 속성 (attribute) : 클래스에서 만들어지는 객체 (상위개념에 속하는 개념)\n",
    "- 행동 (method) : 클래스/인스턴스가 가지고 있는 `함수 / 기능`\n",
    "- 인스턴스 (instance) : 클래스를 실제로 메로리상에 할당한 것\n",
    "    - 독립적으로 각각의 객체를 관리할 수 있음."
   ]
  },
  {
   "cell_type": "code",
   "execution_count": 3,
   "id": "1e1cc1b5-84cf-4915-a4fa-30eec76b3159",
   "metadata": {},
   "outputs": [
    {
     "name": "stdout",
     "output_type": "stream",
     "text": [
      "(1+2j)\n",
      "<class 'complex'>\n"
     ]
    }
   ],
   "source": [
    "# 1. complex type \n",
    "\n",
    "a = 1 + 2j\n",
    "print(a)\n",
    "print(type(a))"
   ]
  },
  {
   "cell_type": "code",
   "execution_count": 4,
   "id": "65bd0e75-e7f5-4f67-9083-dd1a757c82fb",
   "metadata": {},
   "outputs": [
    {
     "name": "stdout",
     "output_type": "stream",
     "text": [
      "1.0\n",
      "2.0\n"
     ]
    }
   ],
   "source": [
    "# 2. 복소수.real : 실수 부분 반환 / 복소수.imag : 허수 부분 반환 \n",
    "\n",
    "print(a.real)\n",
    "print(a.imag)"
   ]
  },
  {
   "cell_type": "code",
   "execution_count": 9,
   "id": "5a9fdc31-a20b-4160-907b-52b9383e77c2",
   "metadata": {},
   "outputs": [
    {
     "name": "stdout",
     "output_type": "stream",
     "text": [
      "[5, 4, 3, 2, 1]\n"
     ]
    }
   ],
   "source": [
    "# 3. reverse()와 reversed()의 차이 \n",
    "## 3.1 reverse : 값을 반환하지 않고, 단순히 해당 list를 뒤섞어 줌.\n",
    "\n",
    "numbers = [1,2,3,4,5]\n",
    "numbers.reverse()\n",
    "print(numbers)"
   ]
  },
  {
   "cell_type": "code",
   "execution_count": 25,
   "id": "aef6b6d5-0130-4928-a0d8-53c2f325f2b0",
   "metadata": {},
   "outputs": [
    {
     "name": "stdout",
     "output_type": "stream",
     "text": [
      "[5, 4, 3, 2, 1]\n"
     ]
    }
   ],
   "source": [
    "## 3.2 reversed : list에서 제공하는 함수가 아님 / 내장 함수이므로 list로 접근함\n",
    "numbers = [1,2,3,4,5]\n",
    "print(list(reversed(numbers)))"
   ]
  },
  {
   "cell_type": "code",
   "execution_count": 30,
   "id": "938d3ec6-5c12-4e26-ba4c-ab2a690ea042",
   "metadata": {},
   "outputs": [
    {
     "name": "stdout",
     "output_type": "stream",
     "text": [
      "010-1234-1234 010-2345-2345\n"
     ]
    }
   ],
   "source": [
    "# 4. 클래스를 사용하지 않았을때 \n",
    "## - phone book에 kim에 내 폰에서 전화걸기\n",
    "\n",
    "number = '010-1234-1234'\n",
    "power = True\n",
    "\n",
    "phone_book = {\n",
    "    'kim':'010-2345-2345',\n",
    "    'park':'010-4567-4567',\n",
    "}\n",
    "\n",
    "def call(from_num, to_num):\n",
    "    print(f'{from_num}에서 {to_num}으로 전화 거는중')\n",
    "\n",
    "print(number, phone_book['kim'])"
   ]
  },
  {
   "cell_type": "markdown",
   "id": "3f5aa936-5176-4f30-ac48-a5d8b78ff390",
   "metadata": {},
   "source": [
    "## 1. class 선언/정의, 인스턴스화\n",
    "\n",
    "- 1. class 선언/정의\n",
    "```python\n",
    "class ClassName():  # 클래스 이름은 대문자로 시작 \n",
    "    attribute1 = value1      # 클래스의 속성에 대한 값을 적음.\n",
    "    attribute2 = value2      # 객체는 클래스의 인스턴스라고 표현 \n",
    "    ...\n",
    "\n",
    "    def method_name1(self):\n",
    "    code\n",
    "\n",
    "    def method_name2(self):\n",
    "    code\n",
    "```\n",
    "\n",
    "- 2. 인스턴스화 : 실행         \n",
    "c = ClassName()        "
   ]
  },
  {
   "cell_type": "code",
   "execution_count": 41,
   "id": "8a872645-8940-4faa-8363-2b2d85dea8de",
   "metadata": {},
   "outputs": [
    {
     "name": "stdout",
     "output_type": "stream",
     "text": [
      "<__main__.MyClass object at 0x000001B116618050>\n"
     ]
    }
   ],
   "source": [
    "# 1. MyClass의 kim에게 인사하기 \n",
    "\n",
    "class MyClass():\n",
    "    name ='kim'\n",
    "\n",
    "    def hello(self):          #hello는 myclass라는 클래스의 인스턴스\n",
    "        return 'hahaha'\n",
    "\n",
    "MC = MyClass()\n",
    "print(MC)"
   ]
  },
  {
   "cell_type": "code",
   "execution_count": 42,
   "id": "f0b1177d-09ff-413e-842b-d00998bce903",
   "metadata": {},
   "outputs": [
    {
     "name": "stdout",
     "output_type": "stream",
     "text": [
      "kim\n",
      "hahaha\n"
     ]
    }
   ],
   "source": [
    "# 1.1 클래스의 속성, 메소드에 접근 가능 = 인스턴스화 시켰으므로 독립적인 객체에 접근 가능\n",
    "\n",
    "print(MC.name)\n",
    "print(MC.hello())"
   ]
  },
  {
   "cell_type": "code",
   "execution_count": 68,
   "id": "1da16675-772f-4d5a-b334-8c6448b1e876",
   "metadata": {},
   "outputs": [],
   "source": [
    "# 1.2 phone의 on, off 기능 생성  / 휴대폰 on이면 전화 걸기 / off면 핸드폰이 꺼져있음.\n",
    "\n",
    "class Phone():\n",
    "    name = 'kim'\n",
    "    number = '010-0000-0000'\n",
    "    book = {\n",
    "        'park':'010-0987-0987',\n",
    "        'jang':'010-4321-4321'\n",
    "    }\n",
    "    model = ''\n",
    "    power = False\n",
    "\n",
    "    def on(self):\n",
    "        if self.power == False:\n",
    "            self.power = True\n",
    "\n",
    "    def off(self):\n",
    "        if self.power == True:            \n",
    "            self.power = False\n",
    "\n",
    "    def call(self, target):            # 전화번호에 접근할 수 있도록 해야 함.\n",
    "        if power == True:\n",
    "            if target in self.book:\n",
    "                print(f'{self.number}가 {self.book[target]}에게 전화를 걸었습니다.')      # 딕셔너리의 리스트로 접근  \n",
    "            else:\n",
    "                print('전화번호부에 전화번호가 없습니다')\n",
    "                \n",
    "        else:\n",
    "            print('휴대폰이 꺼져있습니다.')\n",
    "\n",
    "# self, target에 접근하기 위해서는 둘다 인스턴스화 필요\n",
    "my_phone = Phone()\n",
    "your_phone = Phone()"
   ]
  },
  {
   "cell_type": "code",
   "execution_count": 49,
   "id": "77239b0e-7efc-4d3a-b90b-0359965efc38",
   "metadata": {},
   "outputs": [
    {
     "name": "stdout",
     "output_type": "stream",
     "text": [
      "kim\n",
      "010-0000-0000\n",
      "False\n"
     ]
    }
   ],
   "source": [
    "# attribute, 함수에 접근\n",
    "print(my_phone.name)\n",
    "print(my_phone.number)\n",
    "print(my_phone.power)"
   ]
  },
  {
   "cell_type": "code",
   "execution_count": 52,
   "id": "939cee82-f0ef-4f9c-9a7a-12983366489e",
   "metadata": {},
   "outputs": [
    {
     "data": {
      "text/plain": [
       "True"
      ]
     },
     "execution_count": 52,
     "metadata": {},
     "output_type": "execute_result"
    }
   ],
   "source": [
    "my_phone.on()\n",
    "my_phone.power"
   ]
  },
  {
   "cell_type": "code",
   "execution_count": 53,
   "id": "44020338-8f3e-4619-97cd-2993f950a13e",
   "metadata": {},
   "outputs": [
    {
     "data": {
      "text/plain": [
       "True"
      ]
     },
     "execution_count": 53,
     "metadata": {},
     "output_type": "execute_result"
    }
   ],
   "source": [
    "your_phone.on()\n",
    "your_phone.power"
   ]
  },
  {
   "cell_type": "code",
   "execution_count": 64,
   "id": "4650cb0c-7dc5-4461-98b5-7012b925d265",
   "metadata": {},
   "outputs": [],
   "source": [
    "my_phone.number = '010-2345-2345'"
   ]
  },
  {
   "cell_type": "code",
   "execution_count": 56,
   "id": "245549a5-f7eb-4712-b064-d29d9dba9c09",
   "metadata": {},
   "outputs": [
    {
     "name": "stdout",
     "output_type": "stream",
     "text": [
      "010-2345-2345가 010-0000-0000에게 전화를 걸었습니다.\n"
     ]
    }
   ],
   "source": [
    "my_phone.call(your_phone)"
   ]
  },
  {
   "cell_type": "code",
   "execution_count": 59,
   "id": "e109e1a8-6bb2-418e-b552-ed46093994c9",
   "metadata": {},
   "outputs": [
    {
     "data": {
      "text/plain": [
       "{'park': '010-0987-0987', 'jang': '010-4321-4321'}"
      ]
     },
     "execution_count": 59,
     "metadata": {},
     "output_type": "execute_result"
    }
   ],
   "source": [
    "my_phone.book"
   ]
  },
  {
   "cell_type": "code",
   "execution_count": 65,
   "id": "dc3cf9a2-b87d-4d3a-ab90-1c71fb96f0e0",
   "metadata": {},
   "outputs": [
    {
     "name": "stdout",
     "output_type": "stream",
     "text": [
      "010-2345-2345가 010-0000-0000에게 전화를 걸었습니다.\n"
     ]
    }
   ],
   "source": [
    "my_phone.call(your_phone)"
   ]
  },
  {
   "cell_type": "code",
   "execution_count": 70,
   "id": "8b8b4ecc-fd69-41d1-8cb4-46986cfb0685",
   "metadata": {},
   "outputs": [
    {
     "name": "stdout",
     "output_type": "stream",
     "text": [
      "010-0000-0000가 010-4321-4321에게 전화를 걸었습니다.\n"
     ]
    }
   ],
   "source": [
    "my_phone.call('jang')"
   ]
  },
  {
   "cell_type": "code",
   "execution_count": 77,
   "id": "79f2c79d-e140-4ed9-8fa7-503311eb3bd8",
   "metadata": {},
   "outputs": [],
   "source": [
    "# 2. Person에 대한 클래스\n",
    "\n",
    "class Person():\n",
    "    name = ''\n",
    "    gender = ''\n",
    "    age = 0\n",
    "    height = 0\n",
    "\n",
    "    def greeting(self):\n",
    "        print(f'안녕하세요 저는 {self.name}입니다.')\n",
    "        print(f'저는 {self.gender}입니다.')\n",
    "\n",
    "    def grow(self):\n",
    "        self.age += 1\n",
    "        self.height += 1\n",
    "        print(f'저는 {self.age}살, {self.height}cm입니다.')\n",
    "\n",
    "p1 = Person()\n",
    "p2 = Person()"
   ]
  },
  {
   "cell_type": "code",
   "execution_count": 80,
   "id": "7167da95-a4e6-4552-836f-9680125cc86f",
   "metadata": {},
   "outputs": [],
   "source": [
    "p1.name = 'kim'\n",
    "p2.name = 'han'\n",
    "\n",
    "p1.gender = 'male'\n",
    "p2.gender = 'female'\n",
    "\n",
    "p1.age = 10\n",
    "p2.age = 20\n",
    "\n",
    "p1.height = 160\n",
    "p2.height = 180"
   ]
  },
  {
   "cell_type": "code",
   "execution_count": 83,
   "id": "8dadb8a6-92b5-4b96-a4f4-00a1d001e79f",
   "metadata": {},
   "outputs": [
    {
     "name": "stdout",
     "output_type": "stream",
     "text": [
      "안녕하세요 저는 kim입니다.\n",
      "저는 male입니다.\n",
      "저는 13살, 163cm입니다.\n"
     ]
    }
   ],
   "source": [
    "p1.greeting()\n",
    "p1.grow()"
   ]
  },
  {
   "cell_type": "markdown",
   "id": "845df659-c418-4fbb-84a4-bc5dbd3c2a92",
   "metadata": {},
   "source": [
    "## 2. 생성자, 소멸자\n",
    "- 생성자 : 생성과 동시에 실행이 되는 함수 (생성 , 인스턴스화 동시에) `def __init__(self)`\n",
    "- 소멸자 : `def __def__(self)`\n",
    "```python\n",
    "class Myclass():\n",
    "    def __init__(self):\n",
    "        pass\n",
    "    def __def__(self):\n",
    "        pass\n",
    "```"
   ]
  },
  {
   "cell_type": "code",
   "execution_count": 95,
   "id": "6d569b52-1212-49c6-ada3-45e7dedc56c9",
   "metadata": {},
   "outputs": [],
   "source": [
    "# 1. Person의 생성자, 소멸자 \n",
    "\n",
    "class Person():\n",
    "    name = ''\n",
    "\n",
    "    def __init__(self, name):  # 생성자 자체에 인스턴스화 : p1 = Person('kim')\n",
    "        self.name = name\n",
    "        print('생성됨')\n",
    "\n",
    "    def __def__(self):\n",
    "        print('소멸됨')         # del p1\n",
    "\n",
    "p1 = Person\n",
    "p2 = Person"
   ]
  },
  {
   "cell_type": "code",
   "execution_count": 96,
   "id": "d8b449c9-eb11-46db-92f9-4a6e54d0799a",
   "metadata": {},
   "outputs": [
    {
     "name": "stdout",
     "output_type": "stream",
     "text": [
      "생성됨\n"
     ]
    }
   ],
   "source": [
    "p1 = Person('kim')"
   ]
  },
  {
   "cell_type": "code",
   "execution_count": 140,
   "id": "2ac0bd90-7c5a-4003-8b36-60fe053f9609",
   "metadata": {},
   "outputs": [],
   "source": [
    "# 1.1 person에 클래스 변수, 인스턴스 변수 넣어주기 \n",
    "\n",
    "class Person():\n",
    "    name = 'hong'     # 클래스 변수 직접 넣어주기\n",
    "    age = 20\n",
    "\n",
    "    def info(self, name):\n",
    "        self.name = name            # 인스턴스 변수 직접 넣어주기"
   ]
  },
  {
   "cell_type": "code",
   "execution_count": 148,
   "id": "8a5fbc70-2cf2-41a5-ba91-922d4cf6e8fc",
   "metadata": {},
   "outputs": [
    {
     "name": "stdout",
     "output_type": "stream",
     "text": [
      "han\n",
      "30\n"
     ]
    }
   ],
   "source": [
    "print(p1.name)\n",
    "print(p2.age)\n",
    "\n",
    "p1.name = 'han'\n",
    "p2.age = '30'"
   ]
  },
  {
   "cell_type": "code",
   "execution_count": 97,
   "id": "96ff3443-e21c-4872-878c-812298184a4d",
   "metadata": {},
   "outputs": [],
   "source": [
    "del p1"
   ]
  },
  {
   "cell_type": "code",
   "execution_count": 110,
   "id": "814bc63c-21b2-484e-abcd-ae636491e4d1",
   "metadata": {},
   "outputs": [],
   "source": [
    "# 2. 원 클래스 (정보, 면적 area, 둘레 round, 중심점 이동 move)\n",
    "\n",
    "class Circle():\n",
    "    pi = 3.14\n",
    "\n",
    "    def __init__(self, r, x=0, y=0):   # 원에 필요한 인자를 생성함. \n",
    "        self.r = r\n",
    "        self.x = x\n",
    "        self.y = y\n",
    "\n",
    "    def info(self):\n",
    "        print(f'반지름 : {self.r}, 원의 중심 : {self.x}, {self.y}')\n",
    "\n",
    "    def area(self):\n",
    "        return self.r ** 2 * self.pi\n",
    "        \n",
    "    def round(self):\n",
    "        return self.r * 2 * self.pi\n",
    "    \n",
    "    def move(self, x, y):\n",
    "        self.x = x\n",
    "        self.y = y\n",
    "\n",
    "c1 = Circle(5,1,1)"
   ]
  },
  {
   "cell_type": "code",
   "execution_count": 100,
   "id": "73c5b5ac-d6ae-4ab5-b710-c51ed607b90d",
   "metadata": {},
   "outputs": [
    {
     "name": "stdout",
     "output_type": "stream",
     "text": [
      "반지름 : 5, 원의 중심 : 1, 1\n"
     ]
    }
   ],
   "source": [
    "c1.info()"
   ]
  },
  {
   "cell_type": "code",
   "execution_count": 104,
   "id": "ad6d8f7b-dd70-4c91-8150-fa325c7a0bd3",
   "metadata": {},
   "outputs": [
    {
     "data": {
      "text/plain": [
       "78.5"
      ]
     },
     "execution_count": 104,
     "metadata": {},
     "output_type": "execute_result"
    }
   ],
   "source": [
    "c1.area()"
   ]
  },
  {
   "cell_type": "code",
   "execution_count": 105,
   "id": "a5d11e9f-cee9-4984-b6ef-9982b89f26ad",
   "metadata": {},
   "outputs": [
    {
     "data": {
      "text/plain": [
       "31.400000000000002"
      ]
     },
     "execution_count": 105,
     "metadata": {},
     "output_type": "execute_result"
    }
   ],
   "source": [
    "c1.round()"
   ]
  },
  {
   "cell_type": "code",
   "execution_count": 114,
   "id": "9f01eb7b-30c2-496f-ac0b-be8419c51519",
   "metadata": {},
   "outputs": [
    {
     "name": "stdout",
     "output_type": "stream",
     "text": [
      "반지름 : 5, 원의 중심 : 10, 10\n"
     ]
    }
   ],
   "source": [
    "c1.move(10,10)\n",
    "c1.info()"
   ]
  },
  {
   "cell_type": "code",
   "execution_count": 116,
   "id": "03f56d44-e9ac-42bd-a99e-6f3091c489e9",
   "metadata": {},
   "outputs": [],
   "source": [
    "# 2.1 중심점 생성 \n",
    "\n",
    "class Point():\n",
    "    def __init__(self, x, y):\n",
    "        self.x = x\n",
    "        self.y = y\n",
    "\n",
    "    def info(self):\n",
    "        print(f'중심점 : {self.x}, {self.y}')\n",
    "\n",
    "p1 = Point(1,1)\n",
    "p2 = Point(2,3)"
   ]
  },
  {
   "cell_type": "code",
   "execution_count": 118,
   "id": "4e8c6b60-331a-4ffd-a8e5-94a4bee69bc4",
   "metadata": {},
   "outputs": [
    {
     "name": "stdout",
     "output_type": "stream",
     "text": [
      "중심점 : 1, 1\n",
      "중심점 : 2, 3\n"
     ]
    }
   ],
   "source": [
    "p1.info()\n",
    "p2.info()"
   ]
  },
  {
   "cell_type": "code",
   "execution_count": 128,
   "id": "912042cb-2b08-4086-8641-e149a937af0d",
   "metadata": {},
   "outputs": [],
   "source": [
    "# 2.2 Circle에 중심점 정보 넣기\n",
    "\n",
    "class Circle():\n",
    "    def __init__(self, r, point):\n",
    "        self.r = r \n",
    "        self.point = point\n",
    "\n",
    "    def info(self):\n",
    "        print(f'반지름 : {self.r}, 중심점 : {self.point.x}, {self.point.y}')\n",
    "\n",
    "\n",
    "c1 = Circle(5, p1)\n",
    "c2 = Circle(10, p2)"
   ]
  },
  {
   "cell_type": "code",
   "execution_count": 130,
   "id": "64793922-e31f-4385-9daa-c3c1546844cb",
   "metadata": {},
   "outputs": [
    {
     "name": "stdout",
     "output_type": "stream",
     "text": [
      "반지름 : 5, 중심점 : 1, 1\n",
      "None\n",
      "반지름 : 10, 중심점 : 2, 3\n",
      "None\n"
     ]
    }
   ],
   "source": [
    "print(c1.info())\n",
    "print(c2.info())"
   ]
  },
  {
   "cell_type": "markdown",
   "id": "d22388af-0297-4b7e-9bc2-23fb47112048",
   "metadata": {},
   "source": [
    "## 3. 클래스 메소드 / 인스턴스 메소드 / 스태틱 메소드\n",
    "```python\n",
    "class MyClass():\n",
    "    \n",
    "    def instance_method(self): #거의 대부분이 인스턴스 메소드 : 인스턴스화 되어 있는 것을 접근하고자 할 때\n",
    "    pass\n",
    "\n",
    "    @classmethod            \n",
    "    def class_method(cls):     # 클래스에 접근하고자 할 때 / cls.속성 : 클래스의 속성에 접근\n",
    "        pass\n",
    "\n",
    "    @staticmethod\n",
    "    def staticmethod():\n",
    "        pass\n",
    "```"
   ]
  },
  {
   "cell_type": "code",
   "execution_count": 170,
   "id": "56986af6-04c5-4b94-91ea-f0654d782233",
   "metadata": {},
   "outputs": [],
   "source": [
    "# 0. puppy 이름, 강아지 수 \n",
    "\n",
    "class Puppy():    # 클래스에서 필요인자를 지정해줘야 함.\n",
    "    num_of_puppy = 0\n",
    "\n",
    "    def __init__(self, name):\n",
    "        self.name = name\n",
    "        Puppy.num_of_puppy += 1\n",
    "\n",
    "    def bark(self):     # 1. 인스턴스 메소드 \n",
    "        print(f' 멍멍 짖는 개는 {self.name}입니다.')\n",
    "\n",
    "# 2. 클래스 메소드에 접근\n",
    "\n",
    "    @classmethod\n",
    "    def info(cls):    # self로 접근할 수 없는.\n",
    "        print(f'현재 강아지 수는 {cls.num_of_puppy}마리 입니다.')\n",
    "\n",
    "\n",
    "# 3. 스태틱 메소드에 접근 \n",
    "\n",
    "    @staticmethod\n",
    "    def bark2(): # 클래스, 인스턴스와 상관없을때\n",
    "        print('왈왈')\n",
    "\n"
   ]
  },
  {
   "cell_type": "code",
   "execution_count": 165,
   "id": "dc8c2017-47bb-4e13-9c94-904817cc01c1",
   "metadata": {},
   "outputs": [],
   "source": [
    "p1 = Puppy('choco')\n",
    "p2 = Puppy('dubu')\n",
    "p3 = Puppy('lemon')"
   ]
  },
  {
   "cell_type": "code",
   "execution_count": 169,
   "id": "87c6b144-69f1-4a5e-ad61-d16ddc9a5459",
   "metadata": {},
   "outputs": [
    {
     "name": "stdout",
     "output_type": "stream",
     "text": [
      " 멍멍 짖는 개는 choco입니다.\n",
      "None\n",
      "현재 강아지 수는 3입니다.\n",
      "None\n",
      "왈왈\n",
      "None\n"
     ]
    }
   ],
   "source": [
    "print(p1.bark())\n",
    "print(Puppy.info())\n",
    "print(p1.bark2())"
   ]
  },
  {
   "cell_type": "markdown",
   "id": "4da983e1-1b1c-4652-a222-d37b28de7364",
   "metadata": {},
   "source": [
    "## 상속"
   ]
  },
  {
   "cell_type": "markdown",
   "id": "759511f2-3c79-42ef-b11c-62bd55e8a634",
   "metadata": {},
   "source": [
    "### 상속 연습 1)"
   ]
  },
  {
   "cell_type": "code",
   "execution_count": 173,
   "id": "0975dea6-9a83-4a18-9a1a-4810e212cc74",
   "metadata": {},
   "outputs": [],
   "source": [
    "# 1. Person 클래스 만들기\n",
    "\n",
    "class Person():\n",
    "    intro = ''\n",
    "\n",
    "    def __init__(self,name):\n",
    "        self.name = name\n",
    "\n",
    "    def greeting(self):\n",
    "        print(f'안녕하세요 저는 {self.name}입니다.')\n",
    "\n",
    "p1 = Person('jjj') # 인스턴스화"
   ]
  },
  {
   "cell_type": "code",
   "execution_count": 174,
   "id": "bd7d80ff-2c1c-4abe-a100-2f421394127b",
   "metadata": {},
   "outputs": [
    {
     "name": "stdout",
     "output_type": "stream",
     "text": [
      "안녕하세요 저는 jjj입니다.\n"
     ]
    }
   ],
   "source": [
    "p1.greeting()"
   ]
  },
  {
   "cell_type": "code",
   "execution_count": 175,
   "id": "6f91b86c-540f-4cc1-ab2b-42a97d06126e",
   "metadata": {},
   "outputs": [],
   "source": [
    "# 2. person -> soilder에 속성 상속\n",
    "\n",
    "class Solider(Person):\n",
    "    pass\n",
    "\n",
    "    def sol_greeting(self):\n",
    "        print(f'충성 ! 안녕하세요 저는 {self.name}입니다.')\n",
    "\n",
    "s1 = Solider('굳건이')"
   ]
  },
  {
   "cell_type": "code",
   "execution_count": 177,
   "id": "10743a5a-2adb-4ecd-be4b-a59a0f887997",
   "metadata": {},
   "outputs": [
    {
     "name": "stdout",
     "output_type": "stream",
     "text": [
      "안녕하세요 저는 굳건이입니다.\n",
      "None\n",
      "충성 ! 안녕하세요 저는 굳건이입니다.\n",
      "None\n"
     ]
    }
   ],
   "source": [
    "print(s1.greeting())\n",
    "print(s1. sol_greeting())"
   ]
  },
  {
   "cell_type": "markdown",
   "id": "fde1ead3-1ae9-4d08-8f94-3132bc9636ab",
   "metadata": {},
   "source": [
    "### 상속 연습 2) "
   ]
  },
  {
   "cell_type": "code",
   "execution_count": 186,
   "id": "b9b8da94-00f9-411e-960e-e0ef459384b9",
   "metadata": {},
   "outputs": [],
   "source": [
    "# 1. person (이름, 나이, 메일, 폰)  ---> student (person의 속성 상속, 새로운 속성 추가)\n",
    "\n",
    "class Person():\n",
    "    def __init__(self,name, age, email, phone):\n",
    "        self.name = name\n",
    "        self.age = age\n",
    "        self.email = email\n",
    "        self.phone = phone\n",
    "\n",
    "class Student(Person):\n",
    "    def __init__(self, name, age, email, phone, student_id):\n",
    "        super().__init__(name, age, email, phone)\n",
    "        self.student_id = student_id"
   ]
  },
  {
   "cell_type": "code",
   "execution_count": 192,
   "id": "f2d76539-1bd1-4e62-bb33-e2a91e8d32ce",
   "metadata": {},
   "outputs": [],
   "source": [
    "s1 = Student('jjj', 23, 'jjj@mail.com', '010-1234-1234', '123-123')"
   ]
  },
  {
   "cell_type": "code",
   "execution_count": 193,
   "id": "410f8f66-f74a-493f-aaaa-ea038fbc0219",
   "metadata": {},
   "outputs": [
    {
     "name": "stdout",
     "output_type": "stream",
     "text": [
      "jjj\n",
      "jjj@mail.com\n",
      "123-123\n"
     ]
    }
   ],
   "source": [
    "print(s1.name)\n",
    "print(s1.email)\n",
    "print(s1.student_id)"
   ]
  },
  {
   "cell_type": "markdown",
   "id": "c3659b5d-16db-4584-ba10-fefb39e2034b",
   "metadata": {},
   "source": [
    "### 상속 연습 3) \n",
    "##### **1) 학생 관리 시스템 만들기 (기본)** \n",
    "- 목표: 학생 정보를 관리하는 클래스를 만들고, 객체가 삭제될 때 로그를 남기세요.\n",
    "```\n",
    "요구사항:\n",
    "Student 클래스를 만든다.\n",
    "__init__()을 사용하여 아래 속성을 초기화한다.\n",
    "name (이름)\n",
    "student_id (학번)\n",
    "grade (학년, 기본값 1)\n",
    "introduce() 메서드 - \n",
    "__del__() 소멸자를 만들어 객체가 삭제될 때 \"학생 {name}의 정보가 삭제되었습니다.\"라는 메시지를 출력한다.\n",
    "```"
   ]
  },
  {
   "cell_type": "code",
   "execution_count": 195,
   "id": "0084481e-4383-4bc6-8096-862b644ad69a",
   "metadata": {},
   "outputs": [],
   "source": [
    "class Student():\n",
    "    def __init__(self, name, student_id, grade):\n",
    "        self.name = name\n",
    "        self.student_id = student_id\n",
    "        self.grade = grade\n",
    "\n",
    "    def introduce(self):\n",
    "        print(f'안녕하세요 저는 {self.student_id}, {self.grade}학년, {self.name}입니다.')\n",
    "\n",
    "    def __del__(self):\n",
    "        print(f'학생 {self.name}의 정보가 삭제되었습니다.')\n",
    "\n",
    "s1 = Student('jjjj', '1234-1234', '4')\n",
    "s2 = Student('rr', '234-234', '3')"
   ]
  },
  {
   "cell_type": "code",
   "execution_count": 197,
   "id": "13773b2b-de5f-4053-a502-fa4067123932",
   "metadata": {},
   "outputs": [
    {
     "name": "stdout",
     "output_type": "stream",
     "text": [
      "안녕하세요 저는 1234-1234, 4학년, jjjj입니다.\n",
      "None\n",
      "안녕하세요 저는 234-234, 3학년, rr입니다.\n",
      "None\n"
     ]
    }
   ],
   "source": [
    "print(s1.introduce())\n",
    "print(s2.introduce())"
   ]
  },
  {
   "cell_type": "code",
   "execution_count": 199,
   "id": "977c4d72-a1ef-42ee-9b56-2fdccbc9db96",
   "metadata": {},
   "outputs": [
    {
     "name": "stdout",
     "output_type": "stream",
     "text": [
      "학생 jjjj의 정보가 삭제되었습니다.\n"
     ]
    }
   ],
   "source": [
    "del s1"
   ]
  },
  {
   "cell_type": "markdown",
   "id": "e21b1318-0de2-4749-ad8f-2486c3f48ee0",
   "metadata": {},
   "source": [
    "### 상속 연습 4)\n",
    "- **2) 동물 클래스 (상속)**\n",
    "목표: 기본 Animal 클래스를 만들고, 이를 상속받는 Dog(강아지)와 Cat(고양이) 클래스를 구현하세요.\n",
    "\n",
    "```\n",
    "요구사항:\n",
    "Animal 클래스 생성\n",
    "\n",
    "속성: name(이름)\n",
    "메서드: speak() → \"소리를 낼 수 있습니다.\" 출력\n",
    "Dog 클래스(Animal 상속)\n",
    "\n",
    "speak() 메서드 오버라이딩 → \"멍멍!\" 출력\n",
    "Cat 클래스(Animal 상속)\n",
    "\n",
    "speak() 메서드 오버라이딩 → \"야옹!\" 출력\n",
    "```"
   ]
  },
  {
   "cell_type": "code",
   "execution_count": 201,
   "id": "2a378489-14ad-4002-a00c-8b72d93f3c81",
   "metadata": {},
   "outputs": [],
   "source": [
    "class Animal():\n",
    "    def __init__(self, name):\n",
    "        self.name = name\n",
    "\n",
    "class Dog(Animal):\n",
    "    def speak(self):\n",
    "        print('멍멍!')\n",
    "\n",
    "class Cat(Animal):\n",
    "    def speak(self):\n",
    "        print('야옹!')"
   ]
  },
  {
   "cell_type": "code",
   "execution_count": 203,
   "id": "7109c22d-41bd-420f-bbdf-094a21070f6d",
   "metadata": {},
   "outputs": [],
   "source": [
    "dog1 = Dog('뽀삐')\n",
    "dog2 = Dog('두부')\n",
    "\n",
    "cat1 = Cat('나비')\n",
    "cat2 = Cat('치즈')"
   ]
  },
  {
   "cell_type": "code",
   "execution_count": 205,
   "id": "1b7ff641-3fde-4eed-82ae-f7be973d5471",
   "metadata": {},
   "outputs": [
    {
     "name": "stdout",
     "output_type": "stream",
     "text": [
      "멍멍!\n",
      "야옹!\n"
     ]
    }
   ],
   "source": [
    "dog1.speak()\n",
    "cat1.speak()"
   ]
  },
  {
   "cell_type": "markdown",
   "id": "a857f123-7ac7-46ea-a3b4-05752dc0b9df",
   "metadata": {},
   "source": [
    "### 상속 연습 5) \n",
    "\n",
    "- 다중 상속을 활용한 직원 시스템 (다중상속)\n",
    "```\n",
    "Person과 Worker 클래스를 상속받는 Manager 클래스를 만들어보세요.\n",
    "요구사항:\n",
    "Person 클래스\n",
    "    속성: name, age\n",
    "    메서드: introduce() → \"안녕하세요, 저는 {name}, {age}살 입니다.\" 출력\n",
    "\n",
    "Worker 클래스\n",
    "    속성: company, salary\n",
    "    메서드: work() → \"저는 {company}에서 일하고 있습니다.\" 출력\n",
    "\n",
    "Manager 클래스 (Person, Worker 다중 상속)\n",
    "    생성자에서 두 부모 클래스의 속성을 모두 초기화해야 합니다.\n",
    "    추가 메서드: info() → \"{name} 매니저, {age}살, {company} 근무, 연봉 {salary}원\" 출력\n",
    "```"
   ]
  },
  {
   "cell_type": "code",
   "execution_count": 214,
   "id": "6066bffb-b767-41e8-b78f-d9770d5c15e8",
   "metadata": {},
   "outputs": [],
   "source": [
    "# person 클래스\n",
    "class Person():\n",
    "    def __init__(self, name, age):\n",
    "        self.name = name\n",
    "        self.age = age\n",
    "\n",
    "    def introduce(self):\n",
    "        print(f'안녕하세요 저는 {self.name}이고 {self.age}살입니다.')"
   ]
  },
  {
   "cell_type": "code",
   "execution_count": 215,
   "id": "4a3d40ab-4b78-4115-9386-b303f89664ac",
   "metadata": {},
   "outputs": [
    {
     "name": "stdout",
     "output_type": "stream",
     "text": [
      "안녕하세요 저는 aaa이고 12살입니다.\n"
     ]
    }
   ],
   "source": [
    "p1 = Person('aaa', '12')\n",
    "p1.introduce()"
   ]
  },
  {
   "cell_type": "code",
   "execution_count": 216,
   "id": "031528c0-841d-4aa1-b419-df5bc8ed0635",
   "metadata": {},
   "outputs": [],
   "source": [
    "# worker 클래스\n",
    "class Worker(Person):\n",
    "    def __init__(self, company, salary):\n",
    "        self.company\n",
    "        self.salary\n",
    "\n",
    "    def work(self):\n",
    "        print(f'저는 {self.company}에서 일하고 있습니다.')"
   ]
  }
 ],
 "metadata": {
  "kernelspec": {
   "display_name": "Python 3 (ipykernel)",
   "language": "python",
   "name": "python3"
  },
  "language_info": {
   "codemirror_mode": {
    "name": "ipython",
    "version": 3
   },
   "file_extension": ".py",
   "mimetype": "text/x-python",
   "name": "python",
   "nbconvert_exporter": "python",
   "pygments_lexer": "ipython3",
   "version": "3.13.2"
  }
 },
 "nbformat": 4,
 "nbformat_minor": 5
}
