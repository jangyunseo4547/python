{
 "cells": [
  {
   "cell_type": "markdown",
   "id": "0acf1527-856c-4b35-baf6-5bf6204f8a84",
   "metadata": {},
   "source": [
    "## 자료구조\n",
    "\n",
    "> 여러가지 자료구조가 가지고 있는 메소드(함수) 알아보기"
   ]
  },
  {
   "cell_type": "code",
   "execution_count": 3,
   "id": "ea9c0564-5ca2-4dbc-99e7-d37f9ed889fd",
   "metadata": {},
   "outputs": [
    {
     "name": "stdout",
     "output_type": "stream",
     "text": [
      "['__add__', '__class__', '__contains__', '__delattr__', '__dir__', '__doc__', '__eq__', '__format__', '__ge__', '__getattribute__', '__getitem__', '__getnewargs__', '__getstate__', '__gt__', '__hash__', '__init__', '__init_subclass__', '__iter__', '__le__', '__len__', '__lt__', '__mod__', '__mul__', '__ne__', '__new__', '__reduce__', '__reduce_ex__', '__repr__', '__rmod__', '__rmul__', '__setattr__', '__sizeof__', '__str__', '__subclasshook__', 'capitalize', 'casefold', 'center', 'count', 'encode', 'endswith', 'expandtabs', 'find', 'format', 'format_map', 'index', 'isalnum', 'isalpha', 'isascii', 'isdecimal', 'isdigit', 'isidentifier', 'islower', 'isnumeric', 'isprintable', 'isspace', 'istitle', 'isupper', 'join', 'ljust', 'lower', 'lstrip', 'maketrans', 'partition', 'removeprefix', 'removesuffix', 'replace', 'rfind', 'rindex', 'rjust', 'rpartition', 'rsplit', 'rstrip', 'split', 'splitlines', 'startswith', 'strip', 'swapcase', 'title', 'translate', 'upper', 'zfill']\n"
     ]
    }
   ],
   "source": [
    "print(dir('hello'))"
   ]
  },
  {
   "cell_type": "markdown",
   "id": "03564380-0c68-4b3a-a7c3-477da774d545",
   "metadata": {},
   "source": [
    "## 문자열 메소드"
   ]
  },
  {
   "cell_type": "code",
   "execution_count": 5,
   "id": "db4f3701-1d38-4613-a8c2-285bee5c1dba",
   "metadata": {},
   "outputs": [],
   "source": [
    "a = 'hello my name is hong'"
   ]
  },
  {
   "cell_type": "code",
   "execution_count": 7,
   "id": "be263fe2-8742-4124-89ef-b01b93f86b94",
   "metadata": {},
   "outputs": [
    {
     "name": "stdout",
     "output_type": "stream",
     "text": [
      "hello my name is hong\n"
     ]
    }
   ],
   "source": [
    "print(a)"
   ]
  },
  {
   "cell_type": "code",
   "execution_count": 10,
   "id": "74b93c17-9597-49a7-bc6f-31c3fc9b7a96",
   "metadata": {},
   "outputs": [
    {
     "ename": "TypeError",
     "evalue": "'str' object does not support item assignment",
     "output_type": "error",
     "traceback": [
      "\u001b[1;31m---------------------------------------------------------------------------\u001b[0m",
      "\u001b[1;31mTypeError\u001b[0m                                 Traceback (most recent call last)",
      "Cell \u001b[1;32mIn[10], line 2\u001b[0m\n\u001b[0;32m      1\u001b[0m \u001b[38;5;66;03m# str은 수정 불가능함.\u001b[39;00m\n\u001b[1;32m----> 2\u001b[0m \u001b[43ma\u001b[49m\u001b[43m[\u001b[49m\u001b[38;5;241;43m0\u001b[39;49m\u001b[43m]\u001b[49m \u001b[38;5;241m=\u001b[39m \u001b[38;5;124m'\u001b[39m\u001b[38;5;124mH\u001b[39m\u001b[38;5;124m'\u001b[39m\n",
      "\u001b[1;31mTypeError\u001b[0m: 'str' object does not support item assignment"
     ]
    }
   ],
   "source": [
    "# str은 수정 불가능함.\n",
    "a[0] = 'H'"
   ]
  },
  {
   "cell_type": "code",
   "execution_count": 24,
   "id": "58acff3f-1624-4ddb-bcca-705e90ce3a84",
   "metadata": {},
   "outputs": [
    {
     "data": {
      "text/plain": [
       "'Hello my name is hong'"
      ]
     },
     "execution_count": 24,
     "metadata": {},
     "output_type": "execute_result"
    }
   ],
   "source": [
    "# 첫단어만 대문자로 출력 = capitalize\n",
    "a.capitalize()"
   ]
  },
  {
   "cell_type": "code",
   "execution_count": 19,
   "id": "bc656e79-b8cf-4ade-984c-59cde723577f",
   "metadata": {},
   "outputs": [
    {
     "data": {
      "text/plain": [
       "'Hello my name is hong'"
      ]
     },
     "execution_count": 19,
     "metadata": {},
     "output_type": "execute_result"
    }
   ],
   "source": [
    "'hello my name is hong'.capitalize()"
   ]
  },
  {
   "cell_type": "code",
   "execution_count": 21,
   "id": "d283150a-500c-4dbe-a90b-1239e33a36a0",
   "metadata": {},
   "outputs": [
    {
     "name": "stdout",
     "output_type": "stream",
     "text": [
      "hello my name is hong\n"
     ]
    }
   ],
   "source": [
    "print(a)"
   ]
  },
  {
   "cell_type": "code",
   "execution_count": 23,
   "id": "bce9b77d-fb7b-4226-9dca-56584661606c",
   "metadata": {},
   "outputs": [
    {
     "data": {
      "text/plain": [
       "'Hello My Name Is Hong'"
      ]
     },
     "execution_count": 23,
     "metadata": {},
     "output_type": "execute_result"
    }
   ],
   "source": [
    "# 각각의 단어들을 모두 대문자로 바꿔 출력함.\n",
    "a.title()"
   ]
  },
  {
   "cell_type": "code",
   "execution_count": 27,
   "id": "1d40dd40-fcd0-4678-a47d-d862fc5942b4",
   "metadata": {},
   "outputs": [
    {
     "data": {
      "text/plain": [
       "'HELLO MY NAME IS HONG'"
      ]
     },
     "execution_count": 27,
     "metadata": {},
     "output_type": "execute_result"
    }
   ],
   "source": [
    "# 모든 단어들을 모두 대문자로 바꿔 출력함.\n",
    "a.upper()"
   ]
  },
  {
   "cell_type": "code",
   "execution_count": 30,
   "id": "70b93245-5659-40e9-a479-06fb690e4111",
   "metadata": {},
   "outputs": [
    {
     "data": {
      "text/plain": [
       "'hello my name is hong'"
      ]
     },
     "execution_count": 30,
     "metadata": {},
     "output_type": "execute_result"
    }
   ],
   "source": [
    "# 모든 단어들을 모두 소문자로 바꿔 출력함.\n",
    "a.lower()"
   ]
  },
  {
   "cell_type": "code",
   "execution_count": 32,
   "id": "57a87ee7-3fca-416b-af95-c2c3a44bf17e",
   "metadata": {},
   "outputs": [
    {
     "data": {
      "text/plain": [
       "'my!name!is'"
      ]
     },
     "execution_count": 32,
     "metadata": {},
     "output_type": "execute_result"
    }
   ],
   "source": [
    "my_list = ['my', 'name', 'is']\n",
    "'!'.join(my_list)"
   ]
  },
  {
   "cell_type": "code",
   "execution_count": 34,
   "id": "6b6bdf15-45c8-4595-97f9-2cba54583984",
   "metadata": {},
   "outputs": [
    {
     "data": {
      "text/plain": [
       "'배?고?프?다'"
      ]
     },
     "execution_count": 34,
     "metadata": {},
     "output_type": "execute_result"
    }
   ],
   "source": [
    "'?'.join('배고프다')"
   ]
  },
  {
   "cell_type": "code",
   "execution_count": 45,
   "id": "490ab1df-cbf3-4332-ab6d-5bd23f6c06a4",
   "metadata": {},
   "outputs": [
    {
     "data": {
      "text/plain": [
       "'hello'"
      ]
     },
     "execution_count": 45,
     "metadata": {},
     "output_type": "execute_result"
    }
   ],
   "source": [
    "# strip\n",
    "a = '     \\t  hello         \\n'\n",
    "a.strip()"
   ]
  },
  {
   "cell_type": "code",
   "execution_count": 50,
   "id": "184dce1a-8d89-4108-a00e-4622b85769f5",
   "metadata": {},
   "outputs": [
    {
     "data": {
      "text/plain": [
       "'hello????'"
      ]
     },
     "execution_count": 50,
     "metadata": {},
     "output_type": "execute_result"
    }
   ],
   "source": [
    "# strip안에 들어오는 문자를 지워버림\n",
    "a = '!!!!!!hello????'\n",
    "a.strip('!')\n",
    "\n",
    "#a.strip(char='')"
   ]
  },
  {
   "cell_type": "code",
   "execution_count": 53,
   "id": "1118befb-8301-42fa-899f-8a7434f36076",
   "metadata": {},
   "outputs": [
    {
     "data": {
      "text/plain": [
       "'------hello'"
      ]
     },
     "execution_count": 53,
     "metadata": {},
     "output_type": "execute_result"
    }
   ],
   "source": [
    "a = '------hello------'\n",
    "a.lstrip('-')\n",
    "a.rstrip('-')"
   ]
  },
  {
   "cell_type": "code",
   "execution_count": 61,
   "id": "d0a60c76-3329-4cfa-981b-015444dfaa04",
   "metadata": {},
   "outputs": [
    {
     "data": {
      "text/plain": [
       "'w!!!oooooow'"
      ]
     },
     "execution_count": 61,
     "metadata": {},
     "output_type": "execute_result"
    }
   ],
   "source": [
    "# replace(old,new,[count])\n",
    "a = 'wooooooooow'\n",
    "a.replace('o','!',3)"
   ]
  },
  {
   "cell_type": "code",
   "execution_count": 76,
   "id": "4dda27ce-b48b-40e1-8523-b32490d111ef",
   "metadata": {},
   "outputs": [
    {
     "data": {
      "text/plain": [
       "-1"
      ]
     },
     "execution_count": 76,
     "metadata": {},
     "output_type": "execute_result"
    }
   ],
   "source": [
    "# find = index 출력\n",
    "a ='apple'\n",
    "a.find('a') # => 0\n",
    "a.find('l')\n",
    "a.find('z') # => 없는 데이터를 찾을 시 -1 출력 (없습니다.)"
   ]
  },
  {
   "cell_type": "code",
   "execution_count": 78,
   "id": "c65a3d16-255f-494e-b121-481224b6ea8e",
   "metadata": {},
   "outputs": [
    {
     "ename": "ValueError",
     "evalue": "substring not found",
     "output_type": "error",
     "traceback": [
      "\u001b[1;31m---------------------------------------------------------------------------\u001b[0m",
      "\u001b[1;31mValueError\u001b[0m                                Traceback (most recent call last)",
      "Cell \u001b[1;32mIn[78], line 6\u001b[0m\n\u001b[0;32m      3\u001b[0m a\u001b[38;5;241m.\u001b[39mindex(\u001b[38;5;124m'\u001b[39m\u001b[38;5;124me\u001b[39m\u001b[38;5;124m'\u001b[39m)\n\u001b[0;32m      5\u001b[0m \u001b[38;5;66;03m# index에서 -1은 맨 뒤에 있는 값을 의미하기 때문임\u001b[39;00m\n\u001b[1;32m----> 6\u001b[0m \u001b[43ma\u001b[49m\u001b[38;5;241;43m.\u001b[39;49m\u001b[43mindex\u001b[49m\u001b[43m(\u001b[49m\u001b[38;5;124;43m'\u001b[39;49m\u001b[38;5;124;43mz\u001b[39;49m\u001b[38;5;124;43m'\u001b[39;49m\u001b[43m)\u001b[49m \u001b[38;5;66;03m# => 없는 데이터를 찾을 시 오류남.\u001b[39;00m\n",
      "\u001b[1;31mValueError\u001b[0m: substring not found"
     ]
    }
   ],
   "source": [
    "a = 'apple'\n",
    "a.index('a')\n",
    "a.index('e')\n",
    "\n",
    "# index에서 -1은 맨 뒤에 있는 값을 의미하기 때문임\n",
    "a.index('z') # => 없는 데이터를 찾을 시 오류남."
   ]
  },
  {
   "cell_type": "code",
   "execution_count": 82,
   "id": "a2d4b84a-a0f0-4344-a9e5-4718f12564cd",
   "metadata": {},
   "outputs": [
    {
     "data": {
      "text/plain": [
       "['my', 'name', 'is', 'hong']"
      ]
     },
     "execution_count": 82,
     "metadata": {},
     "output_type": "execute_result"
    }
   ],
   "source": [
    "# split은 데이터를 나눠주고 이를 리스트로 만들어서 보여줌\n",
    "a = 'my name is hong'\n",
    "\n",
    "a.split()"
   ]
  },
  {
   "cell_type": "code",
   "execution_count": 84,
   "id": "0c4a5e15-7da6-4a0e-a2ae-04a86655c579",
   "metadata": {},
   "outputs": [
    {
     "data": {
      "text/plain": [
       "['my', 'name', 'is', 'hong']"
      ]
     },
     "execution_count": 84,
     "metadata": {},
     "output_type": "execute_result"
    }
   ],
   "source": [
    "a = 'my!name!is!hong'\n",
    "\n",
    "a.split('!')"
   ]
  },
  {
   "cell_type": "code",
   "execution_count": 86,
   "id": "878357cf-44aa-43e4-a5f2-7e41762b2aaa",
   "metadata": {},
   "outputs": [
    {
     "data": {
      "text/plain": [
       "6"
      ]
     },
     "execution_count": 86,
     "metadata": {},
     "output_type": "execute_result"
    }
   ],
   "source": [
    "a = 'woooooow'\n",
    "\n",
    "a.count('o')"
   ]
  },
  {
   "cell_type": "code",
   "execution_count": null,
   "id": "4347ce6d-8072-4514-be7e-b429bb364ba7",
   "metadata": {},
   "outputs": [],
   "source": []
  }
 ],
 "metadata": {
  "kernelspec": {
   "display_name": "Python 3 (ipykernel)",
   "language": "python",
   "name": "python3"
  },
  "language_info": {
   "codemirror_mode": {
    "name": "ipython",
    "version": 3
   },
   "file_extension": ".py",
   "mimetype": "text/x-python",
   "name": "python",
   "nbconvert_exporter": "python",
   "pygments_lexer": "ipython3",
   "version": "3.13.2"
  }
 },
 "nbformat": 4,
 "nbformat_minor": 5
}
