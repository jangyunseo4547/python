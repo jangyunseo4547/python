{
 "cells": [
  {
   "cell_type": "markdown",
   "id": "0acf1527-856c-4b35-baf6-5bf6204f8a84",
   "metadata": {},
   "source": [
    "## 자료구조\n",
    "\n",
    "> 여러가지 자료구조가 가지고 있는 메소드(함수) 알아보기"
   ]
  },
  {
   "cell_type": "code",
   "execution_count": 3,
   "id": "ea9c0564-5ca2-4dbc-99e7-d37f9ed889fd",
   "metadata": {},
   "outputs": [
    {
     "name": "stdout",
     "output_type": "stream",
     "text": [
      "['__add__', '__class__', '__contains__', '__delattr__', '__dir__', '__doc__', '__eq__', '__format__', '__ge__', '__getattribute__', '__getitem__', '__getnewargs__', '__getstate__', '__gt__', '__hash__', '__init__', '__init_subclass__', '__iter__', '__le__', '__len__', '__lt__', '__mod__', '__mul__', '__ne__', '__new__', '__reduce__', '__reduce_ex__', '__repr__', '__rmod__', '__rmul__', '__setattr__', '__sizeof__', '__str__', '__subclasshook__', 'capitalize', 'casefold', 'center', 'count', 'encode', 'endswith', 'expandtabs', 'find', 'format', 'format_map', 'index', 'isalnum', 'isalpha', 'isascii', 'isdecimal', 'isdigit', 'isidentifier', 'islower', 'isnumeric', 'isprintable', 'isspace', 'istitle', 'isupper', 'join', 'ljust', 'lower', 'lstrip', 'maketrans', 'partition', 'removeprefix', 'removesuffix', 'replace', 'rfind', 'rindex', 'rjust', 'rpartition', 'rsplit', 'rstrip', 'split', 'splitlines', 'startswith', 'strip', 'swapcase', 'title', 'translate', 'upper', 'zfill']\n"
     ]
    }
   ],
   "source": [
    "print(dir('hello'))"
   ]
  },
  {
   "cell_type": "markdown",
   "id": "03564380-0c68-4b3a-a7c3-477da774d545",
   "metadata": {},
   "source": [
    "## 문자열 메소드"
   ]
  },
  {
   "cell_type": "code",
   "execution_count": 5,
   "id": "db4f3701-1d38-4613-a8c2-285bee5c1dba",
   "metadata": {},
   "outputs": [],
   "source": [
    "a = 'hello my name is hong'"
   ]
  },
  {
   "cell_type": "code",
   "execution_count": 7,
   "id": "be263fe2-8742-4124-89ef-b01b93f86b94",
   "metadata": {},
   "outputs": [
    {
     "name": "stdout",
     "output_type": "stream",
     "text": [
      "hello my name is hong\n"
     ]
    }
   ],
   "source": [
    "print(a)"
   ]
  },
  {
   "cell_type": "code",
   "execution_count": 10,
   "id": "74b93c17-9597-49a7-bc6f-31c3fc9b7a96",
   "metadata": {},
   "outputs": [
    {
     "ename": "TypeError",
     "evalue": "'str' object does not support item assignment",
     "output_type": "error",
     "traceback": [
      "\u001b[1;31m---------------------------------------------------------------------------\u001b[0m",
      "\u001b[1;31mTypeError\u001b[0m                                 Traceback (most recent call last)",
      "Cell \u001b[1;32mIn[10], line 2\u001b[0m\n\u001b[0;32m      1\u001b[0m \u001b[38;5;66;03m# str은 수정 불가능함.\u001b[39;00m\n\u001b[1;32m----> 2\u001b[0m \u001b[43ma\u001b[49m\u001b[43m[\u001b[49m\u001b[38;5;241;43m0\u001b[39;49m\u001b[43m]\u001b[49m \u001b[38;5;241m=\u001b[39m \u001b[38;5;124m'\u001b[39m\u001b[38;5;124mH\u001b[39m\u001b[38;5;124m'\u001b[39m\n",
      "\u001b[1;31mTypeError\u001b[0m: 'str' object does not support item assignment"
     ]
    }
   ],
   "source": [
    "# str은 수정 불가능함.\n",
    "a[0] = 'H'"
   ]
  },
  {
   "cell_type": "code",
   "execution_count": 227,
   "id": "58acff3f-1624-4ddb-bcca-705e90ce3a84",
   "metadata": {},
   "outputs": [
    {
     "data": {
      "text/plain": [
       "'Hello my name is hong'"
      ]
     },
     "execution_count": 227,
     "metadata": {},
     "output_type": "execute_result"
    }
   ],
   "source": [
    "# 첫단어만 대문자로 출력 = capitalize\n",
    "a = 'hello my name is hong'\n",
    "a.capitalize()\n",
    "\n",
    "# a.capitalize : 첫단어만 대문자로\n",
    "# a. title : 각 단어의 첫글자를 대문자로\n",
    "# a.upper : 모든 단어를 대문자로\n",
    "# a.lower : 모든 단어를 소문로"
   ]
  },
  {
   "cell_type": "code",
   "execution_count": 19,
   "id": "bc656e79-b8cf-4ade-984c-59cde723577f",
   "metadata": {},
   "outputs": [
    {
     "data": {
      "text/plain": [
       "'Hello my name is hong'"
      ]
     },
     "execution_count": 19,
     "metadata": {},
     "output_type": "execute_result"
    }
   ],
   "source": [
    "'hello my name is hong'.capitalize()"
   ]
  },
  {
   "cell_type": "code",
   "execution_count": 21,
   "id": "d283150a-500c-4dbe-a90b-1239e33a36a0",
   "metadata": {},
   "outputs": [
    {
     "name": "stdout",
     "output_type": "stream",
     "text": [
      "hello my name is hong\n"
     ]
    }
   ],
   "source": [
    "print(a)"
   ]
  },
  {
   "cell_type": "code",
   "execution_count": 23,
   "id": "bce9b77d-fb7b-4226-9dca-56584661606c",
   "metadata": {},
   "outputs": [
    {
     "data": {
      "text/plain": [
       "'Hello My Name Is Hong'"
      ]
     },
     "execution_count": 23,
     "metadata": {},
     "output_type": "execute_result"
    }
   ],
   "source": [
    "# 각각의 단어들을 모두 대문자로 바꿔 출력함.\n",
    "a.title()"
   ]
  },
  {
   "cell_type": "code",
   "execution_count": 27,
   "id": "1d40dd40-fcd0-4678-a47d-d862fc5942b4",
   "metadata": {},
   "outputs": [
    {
     "data": {
      "text/plain": [
       "'HELLO MY NAME IS HONG'"
      ]
     },
     "execution_count": 27,
     "metadata": {},
     "output_type": "execute_result"
    }
   ],
   "source": [
    "# 모든 단어들을 모두 대문자로 바꿔 출력함.\n",
    "a.upper()"
   ]
  },
  {
   "cell_type": "code",
   "execution_count": 30,
   "id": "70b93245-5659-40e9-a479-06fb690e4111",
   "metadata": {},
   "outputs": [
    {
     "data": {
      "text/plain": [
       "'hello my name is hong'"
      ]
     },
     "execution_count": 30,
     "metadata": {},
     "output_type": "execute_result"
    }
   ],
   "source": [
    "# 모든 단어들을 모두 소문자로 바꿔 출력함.\n",
    "a.lower()"
   ]
  },
  {
   "cell_type": "code",
   "execution_count": 228,
   "id": "57a87ee7-3fca-416b-af95-c2c3a44bf17e",
   "metadata": {},
   "outputs": [
    {
     "data": {
      "text/plain": [
       "'my!name!is'"
      ]
     },
     "execution_count": 228,
     "metadata": {},
     "output_type": "execute_result"
    }
   ],
   "source": [
    "my_list = ['my', 'name', 'is']\n",
    "'!'.join(my_list)"
   ]
  },
  {
   "cell_type": "code",
   "execution_count": 34,
   "id": "6b6bdf15-45c8-4595-97f9-2cba54583984",
   "metadata": {},
   "outputs": [
    {
     "data": {
      "text/plain": [
       "'배?고?프?다'"
      ]
     },
     "execution_count": 34,
     "metadata": {},
     "output_type": "execute_result"
    }
   ],
   "source": [
    "'?'.join('배고프다')"
   ]
  },
  {
   "cell_type": "code",
   "execution_count": 45,
   "id": "490ab1df-cbf3-4332-ab6d-5bd23f6c06a4",
   "metadata": {},
   "outputs": [
    {
     "data": {
      "text/plain": [
       "'hello'"
      ]
     },
     "execution_count": 45,
     "metadata": {},
     "output_type": "execute_result"
    }
   ],
   "source": [
    "# strip\n",
    "a = '     \\t  hello         \\n'\n",
    "a.strip()"
   ]
  },
  {
   "cell_type": "code",
   "execution_count": 50,
   "id": "184dce1a-8d89-4108-a00e-4622b85769f5",
   "metadata": {},
   "outputs": [
    {
     "data": {
      "text/plain": [
       "'hello????'"
      ]
     },
     "execution_count": 50,
     "metadata": {},
     "output_type": "execute_result"
    }
   ],
   "source": [
    "# strip안에 들어오는 문자를 지워버림\n",
    "a = '!!!!!!hello????'\n",
    "a.strip('!')\n",
    "\n",
    "#a.strip(char='')"
   ]
  },
  {
   "cell_type": "code",
   "execution_count": 53,
   "id": "1118befb-8301-42fa-899f-8a7434f36076",
   "metadata": {},
   "outputs": [
    {
     "data": {
      "text/plain": [
       "'------hello'"
      ]
     },
     "execution_count": 53,
     "metadata": {},
     "output_type": "execute_result"
    }
   ],
   "source": [
    "a = '------hello------'\n",
    "a.lstrip('-')\n",
    "a.rstrip('-')"
   ]
  },
  {
   "cell_type": "code",
   "execution_count": 61,
   "id": "d0a60c76-3329-4cfa-981b-015444dfaa04",
   "metadata": {},
   "outputs": [
    {
     "data": {
      "text/plain": [
       "'w!!!oooooow'"
      ]
     },
     "execution_count": 61,
     "metadata": {},
     "output_type": "execute_result"
    }
   ],
   "source": [
    "# replace(old,new,[count])\n",
    "a = 'wooooooooow'\n",
    "a.replace('o','!',3)"
   ]
  },
  {
   "cell_type": "code",
   "execution_count": 76,
   "id": "4dda27ce-b48b-40e1-8523-b32490d111ef",
   "metadata": {},
   "outputs": [
    {
     "data": {
      "text/plain": [
       "-1"
      ]
     },
     "execution_count": 76,
     "metadata": {},
     "output_type": "execute_result"
    }
   ],
   "source": [
    "# find = index 출력\n",
    "a ='apple'\n",
    "a.find('a') # => 0\n",
    "a.find('l')\n",
    "a.find('z') # => 없는 데이터를 찾을 시 -1 출력 (없습니다.)"
   ]
  },
  {
   "cell_type": "code",
   "execution_count": 78,
   "id": "c65a3d16-255f-494e-b121-481224b6ea8e",
   "metadata": {},
   "outputs": [
    {
     "ename": "ValueError",
     "evalue": "substring not found",
     "output_type": "error",
     "traceback": [
      "\u001b[1;31m---------------------------------------------------------------------------\u001b[0m",
      "\u001b[1;31mValueError\u001b[0m                                Traceback (most recent call last)",
      "Cell \u001b[1;32mIn[78], line 6\u001b[0m\n\u001b[0;32m      3\u001b[0m a\u001b[38;5;241m.\u001b[39mindex(\u001b[38;5;124m'\u001b[39m\u001b[38;5;124me\u001b[39m\u001b[38;5;124m'\u001b[39m)\n\u001b[0;32m      5\u001b[0m \u001b[38;5;66;03m# index에서 -1은 맨 뒤에 있는 값을 의미하기 때문임\u001b[39;00m\n\u001b[1;32m----> 6\u001b[0m \u001b[43ma\u001b[49m\u001b[38;5;241;43m.\u001b[39;49m\u001b[43mindex\u001b[49m\u001b[43m(\u001b[49m\u001b[38;5;124;43m'\u001b[39;49m\u001b[38;5;124;43mz\u001b[39;49m\u001b[38;5;124;43m'\u001b[39;49m\u001b[43m)\u001b[49m \u001b[38;5;66;03m# => 없는 데이터를 찾을 시 오류남.\u001b[39;00m\n",
      "\u001b[1;31mValueError\u001b[0m: substring not found"
     ]
    }
   ],
   "source": [
    "a = 'apple'\n",
    "a.index('a')\n",
    "a.index('e')\n",
    "\n",
    "# index에서 -1은 맨 뒤에 있는 값을 의미하기 때문임\n",
    "a.index('z') # => 없는 데이터를 찾을 시 오류남."
   ]
  },
  {
   "cell_type": "code",
   "execution_count": 82,
   "id": "a2d4b84a-a0f0-4344-a9e5-4718f12564cd",
   "metadata": {},
   "outputs": [
    {
     "data": {
      "text/plain": [
       "['my', 'name', 'is', 'hong']"
      ]
     },
     "execution_count": 82,
     "metadata": {},
     "output_type": "execute_result"
    }
   ],
   "source": [
    "# split은 데이터를 나눠주고 이를 리스트로 만들어서 보여줌\n",
    "a = 'my name is hong'\n",
    "\n",
    "a.split()"
   ]
  },
  {
   "cell_type": "code",
   "execution_count": 84,
   "id": "0c4a5e15-7da6-4a0e-a2ae-04a86655c579",
   "metadata": {},
   "outputs": [
    {
     "data": {
      "text/plain": [
       "['my', 'name', 'is', 'hong']"
      ]
     },
     "execution_count": 84,
     "metadata": {},
     "output_type": "execute_result"
    }
   ],
   "source": [
    "a = 'my!name!is!hong'\n",
    "\n",
    "a.split('!')"
   ]
  },
  {
   "cell_type": "code",
   "execution_count": 86,
   "id": "878357cf-44aa-43e4-a5f2-7e41762b2aaa",
   "metadata": {},
   "outputs": [
    {
     "data": {
      "text/plain": [
       "6"
      ]
     },
     "execution_count": 86,
     "metadata": {},
     "output_type": "execute_result"
    }
   ],
   "source": [
    "a = 'woooooow'\n",
    "\n",
    "a.count('o')"
   ]
  },
  {
   "cell_type": "markdown",
   "id": "b8d3613b-c473-4ca0-8c81-fefdd8b98257",
   "metadata": {},
   "source": [
    "## 리스트 메소드"
   ]
  },
  {
   "cell_type": "code",
   "execution_count": 88,
   "id": "2875af66-0b64-49ee-8167-0869189a1c6e",
   "metadata": {},
   "outputs": [],
   "source": [
    "numbers = [2,6,1,4,8,3,2,8]"
   ]
  },
  {
   "cell_type": "code",
   "execution_count": 96,
   "id": "beb86c66-2309-4e81-a649-33cdea41f30f",
   "metadata": {},
   "outputs": [
    {
     "name": "stdout",
     "output_type": "stream",
     "text": [
      "[2, 6, 1, 4, 8, 3, 2, 8, 10, 10, 99, 100, 99, 100, 99, 100, 10]\n"
     ]
    }
   ],
   "source": [
    "# append 더하다\n",
    "numbers.append(10)\n",
    "print(numbers)"
   ]
  },
  {
   "cell_type": "code",
   "execution_count": 92,
   "id": "0203fa7f-b83c-480e-90e7-99e9f2abff4d",
   "metadata": {},
   "outputs": [],
   "source": [
    "a = [99, 100]"
   ]
  },
  {
   "cell_type": "code",
   "execution_count": 98,
   "id": "eaff4864-b1df-4c19-9f0a-ad2138367e88",
   "metadata": {},
   "outputs": [
    {
     "name": "stdout",
     "output_type": "stream",
     "text": [
      "[2, 6, 1, 4, 8, 3, 2, 8, 10, 10, 99, 100, 99, 100, 99, 100, 10, 99, 100, 99, 100]\n"
     ]
    }
   ],
   "source": [
    "numbers.extend(a) # => numbers + a\n",
    "print(numbers)"
   ]
  },
  {
   "cell_type": "code",
   "execution_count": 102,
   "id": "89398ad0-7efa-4179-b800-0767fce382e5",
   "metadata": {},
   "outputs": [
    {
     "name": "stdout",
     "output_type": "stream",
     "text": [
      "[2, 6, 1, 5, 5, 4, 8, 3, 2, 8, 10, 10, 99, 100, 99, 100, 99, 100, 10, 99, 100, 99, 100]\n"
     ]
    }
   ],
   "source": [
    "numbers.insert(3, 5) #세번째에 5를 넣겠습니다. \n",
    "print(numbers)"
   ]
  },
  {
   "cell_type": "code",
   "execution_count": 106,
   "id": "6854d313-43ac-4319-9876-ca1563343c7a",
   "metadata": {},
   "outputs": [
    {
     "ename": "ValueError",
     "evalue": "list.remove(x): x not in list",
     "output_type": "error",
     "traceback": [
      "\u001b[1;31m-------------------------------------------\u001b[0m",
      "\u001b[1;31mValueError\u001b[0mTraceback (most recent call last)",
      "Cell \u001b[1;32mIn[106], line 2\u001b[0m\n\u001b[0;32m      1\u001b[0m \u001b[38;5;66;03m# 첫번째 x를 찾아서 제거, 없으면 오류\u001b[39;00m\n\u001b[1;32m----> 2\u001b[0m \u001b[43mnumbers\u001b[49m\u001b[38;5;241;43m.\u001b[39;49m\u001b[43mremove\u001b[49m\u001b[43m(\u001b[49m\u001b[38;5;241;43m8\u001b[39;49m\u001b[43m)\u001b[49m\n\u001b[0;32m      3\u001b[0m \u001b[38;5;28mprint\u001b[39m(numbers)\n",
      "\u001b[1;31mValueError\u001b[0m: list.remove(x): x not in list"
     ]
    }
   ],
   "source": [
    "# 첫번째 x를 찾아서 제거, 없으면 오류\n",
    "numbers.remove(8)\n",
    "print(numbers)"
   ]
  },
  {
   "cell_type": "code",
   "execution_count": 108,
   "id": "ee4b6bb7-05ab-45c3-b65e-0dda602d0531",
   "metadata": {},
   "outputs": [
    {
     "name": "stdout",
     "output_type": "stream",
     "text": [
      "[2, 6, 1, 5, 5, 4, 3, 2, 10, 10, 99, 100, 99, 100, 99, 100, 10, 99, 100]\n"
     ]
    }
   ],
   "source": [
    "numbers.pop()\n",
    "print(numbers)"
   ]
  },
  {
   "cell_type": "code",
   "execution_count": 111,
   "id": "2088e881-1c4c-405a-9407-eb3c5e120e52",
   "metadata": {},
   "outputs": [
    {
     "name": "stdout",
     "output_type": "stream",
     "text": [
      "[5, 5, 4, 3, 2, 10, 10, 99, 100, 99, 100, 99, 100, 10, 99, 100]\n"
     ]
    }
   ],
   "source": [
    "numbers.pop(0) # => 0index 값이 삭제됨.\n",
    "print(numbers)"
   ]
  },
  {
   "cell_type": "code",
   "execution_count": 119,
   "id": "48a21c9f-af59-476a-8710-a41f0181262e",
   "metadata": {},
   "outputs": [
    {
     "name": "stdout",
     "output_type": "stream",
     "text": [
      "[2, 3, 4, 5, 5, 10, 10, 10, 99, 99, 99, 99, 100, 100, 100, 100]\n"
     ]
    }
   ],
   "source": [
    "#sort 정렬되어서 프린트\n",
    "numbers.sort()\n",
    "print(numbers)"
   ]
  },
  {
   "cell_type": "code",
   "execution_count": 120,
   "id": "07fbe3f6-7aea-4ccc-92ed-c9c4849c9fb9",
   "metadata": {},
   "outputs": [
    {
     "name": "stdout",
     "output_type": "stream",
     "text": [
      "[100, 100, 100, 100, 99, 99, 99, 99, 10, 10, 10, 5, 5, 4, 3, 2]\n"
     ]
    }
   ],
   "source": [
    "numbers.sort(reverse=True)\n",
    "print(numbers)"
   ]
  },
  {
   "cell_type": "code",
   "execution_count": 126,
   "id": "62a475af-2d73-44cb-aad0-431620aa5522",
   "metadata": {},
   "outputs": [
    {
     "name": "stdout",
     "output_type": "stream",
     "text": [
      "[1, 2, 3, 5, 7, 8]\n",
      "[5, 3, 2, 7, 8, 1]\n"
     ]
    }
   ],
   "source": [
    "a = [5,3,2,7,8,1]\n",
    "print(sorted(a))\n",
    "print(a)"
   ]
  },
  {
   "cell_type": "code",
   "execution_count": 128,
   "id": "f3f942be-3c9d-4fc5-94bf-8bbfac16e946",
   "metadata": {},
   "outputs": [
    {
     "name": "stdout",
     "output_type": "stream",
     "text": [
      "['a', 'b', 'e', 'o', 'z']\n"
     ]
    }
   ],
   "source": [
    "my_list = ['a','e','o','b','z']\n",
    "my_list.sort()\n",
    "print(my_list)"
   ]
  },
  {
   "cell_type": "code",
   "execution_count": 134,
   "id": "fe2a15c1-7b53-424e-9106-c996869591a0",
   "metadata": {},
   "outputs": [
    {
     "name": "stdout",
     "output_type": "stream",
     "text": [
      "[2, 3, 4, 5, 5, 10, 10, 10, 99, 99, 99, 99, 100, 100, 100, 100]\n",
      "[100, 100, 100, 100, 99, 99, 99, 99, 10, 10, 10, 5, 5, 4, 3, 2]\n"
     ]
    }
   ],
   "source": [
    "# reverse 뒤집어서 프린트됨.\n",
    "print(numbers)\n",
    "numbers.reverse()\n",
    "print(numbers)"
   ]
  },
  {
   "cell_type": "code",
   "execution_count": 137,
   "id": "fc3ec847-0fe2-43a4-8734-26a37151de9a",
   "metadata": {},
   "outputs": [
    {
     "data": {
      "text/plain": [
       "3"
      ]
     },
     "execution_count": 137,
     "metadata": {},
     "output_type": "execute_result"
    }
   ],
   "source": [
    "# 10이라는 숫자가 몇개 있는지 세기\n",
    "numbers.count(10)"
   ]
  },
  {
   "cell_type": "markdown",
   "id": "5be3c588-bb04-4915-9223-9de8fe9d2d64",
   "metadata": {},
   "source": [
    "### list copy"
   ]
  },
  {
   "cell_type": "code",
   "execution_count": 139,
   "id": "12fd7387-43d2-4d08-a06c-beeb4bc304b1",
   "metadata": {},
   "outputs": [],
   "source": [
    "origin_list = [1,2,3]\n",
    "copy_list = origin_list"
   ]
  },
  {
   "cell_type": "code",
   "execution_count": 143,
   "id": "1533d58a-64ec-4401-8b84-b9d2bf57089e",
   "metadata": {},
   "outputs": [
    {
     "name": "stdout",
     "output_type": "stream",
     "text": [
      "[1, 2, 3]\n",
      "[1, 2, 3]\n"
     ]
    }
   ],
   "source": [
    "print(origin_list)\n",
    "print(copy_list)"
   ]
  },
  {
   "cell_type": "code",
   "execution_count": 148,
   "id": "0aab5235-b2e3-4c9d-a698-a1ea53539935",
   "metadata": {},
   "outputs": [
    {
     "name": "stdout",
     "output_type": "stream",
     "text": [
      "[100, 2, 3]\n",
      "[100, 2, 3]\n"
     ]
    }
   ],
   "source": [
    "copy_list[0] = 100\n",
    "print(origin_list)\n",
    "print(copy_list)"
   ]
  },
  {
   "cell_type": "code",
   "execution_count": 151,
   "id": "762a1957-dca9-47f9-b890-2eed2a7e2b4d",
   "metadata": {},
   "outputs": [
    {
     "name": "stdout",
     "output_type": "stream",
     "text": [
      "[1, 2, 3]\n",
      "[100, 2, 3]\n"
     ]
    }
   ],
   "source": [
    "origin_list = [1,2,3]\n",
    "copy_list = origin_list[:] # => 처음부터 끝까지 슬라이싱\n",
    "\n",
    "copy_list[0] = 100\n",
    "\n",
    "print(origin_list)\n",
    "print(copy_list)"
   ]
  },
  {
   "cell_type": "code",
   "execution_count": 155,
   "id": "12630d12-2c40-4fc4-9dac-22b47c88dfe5",
   "metadata": {},
   "outputs": [
    {
     "name": "stdout",
     "output_type": "stream",
     "text": [
      "[1, 2, [-10, 11]]\n",
      "[100, 2, [-10, 11]]\n"
     ]
    }
   ],
   "source": [
    "o_l = [1,2, [10,11]] \n",
    "c_l = o_l[:]\n",
    "\n",
    "c_l[0] = 100\n",
    "c_l[2][0] = -10\n",
    "\n",
    "print(o_l)\n",
    "print(c_l)"
   ]
  },
  {
   "cell_type": "code",
   "execution_count": 160,
   "id": "92c8e129-b27f-4b93-90b3-d7a2792fe7b4",
   "metadata": {},
   "outputs": [
    {
     "name": "stdout",
     "output_type": "stream",
     "text": [
      "[1, 2, [10, 11]]\n",
      "[100, 2, [10, -11]]\n"
     ]
    }
   ],
   "source": [
    "#import 추가하다\n",
    "import copy\n",
    "\n",
    "o_l = [1,2,[10,11]]\n",
    "c_l = copy.deepcopy(o_l) # +-=> 깊숙하게 카피\n",
    "\n",
    "c_l[0] = 100\n",
    "c_l[2][1] = -11\n",
    "\n",
    "print(o_l)\n",
    "print(c_l)"
   ]
  },
  {
   "cell_type": "markdown",
   "id": "a628146b-327a-42aa-9b45-4e3f0f66fa91",
   "metadata": {},
   "source": [
    "## list comprehension"
   ]
  },
  {
   "cell_type": "code",
   "execution_count": 162,
   "id": "022dbf33-e681-483b-8a02-483e24651a6d",
   "metadata": {},
   "outputs": [
    {
     "name": "stdout",
     "output_type": "stream",
     "text": [
      "[1, 2, 3, 4, 5, 6, 7, 8, 9, 10]\n"
     ]
    }
   ],
   "source": [
    "numbers = list(range(1,11))\n",
    "print(numbers)"
   ]
  },
  {
   "cell_type": "code",
   "execution_count": 165,
   "id": "de588dc6-99ab-4d4b-b85e-d6b7f00cf778",
   "metadata": {},
   "outputs": [
    {
     "name": "stdout",
     "output_type": "stream",
     "text": [
      "[1, 8, 27, 64, 125, 216, 343, 512, 729, 1000]\n"
     ]
    }
   ],
   "source": [
    "result = []\n",
    "\n",
    "for number in numbers:\n",
    "    temp = number ** 3\n",
    "    result.append(temp)\n",
    "\n",
    "print(result)"
   ]
  },
  {
   "cell_type": "code",
   "execution_count": 171,
   "id": "e329dacd-684c-4baa-9a8f-4608524dcb26",
   "metadata": {},
   "outputs": [
    {
     "name": "stdout",
     "output_type": "stream",
     "text": [
      "[1, 8, 27, 64, 125, 216, 343, 512, 729, 1000]\n"
     ]
    }
   ],
   "source": [
    "result = [number ** 3 for number in numbers]\n",
    "\n",
    "print(result)"
   ]
  },
  {
   "cell_type": "code",
   "execution_count": 175,
   "id": "7918743e-d452-4d83-a6c6-9eb4f060e7de",
   "metadata": {},
   "outputs": [
    {
     "name": "stdout",
     "output_type": "stream",
     "text": [
      "[2, 4, 6, 8, 10, 12, 14, 16, 18, 20, 22, 24, 26, 28, 30]\n"
     ]
    }
   ],
   "source": [
    "# 짝수만 고르기\n",
    "\n",
    "numbers = list(range(1,31))\n",
    "\n",
    "result = []\n",
    "for number in numbers:\n",
    "    if number % 2 == 0:\n",
    "        result.append(number)\n",
    "\n",
    "print(result)"
   ]
  },
  {
   "cell_type": "code",
   "execution_count": 180,
   "id": "7e24eebd-2f08-4270-9048-767773bbcd56",
   "metadata": {},
   "outputs": [
    {
     "name": "stdout",
     "output_type": "stream",
     "text": [
      "[4, 8, 12, 16, 20, 24, 28, 32, 36, 40, 44, 48, 52, 56, 60]\n"
     ]
    }
   ],
   "source": [
    "# 짝수만 고르기 (2)\n",
    "\n",
    "numbers = list(range(1,31))\n",
    "result = [number * 2 for number in numbers if number % 2 == 0] #append number가 앞 number로 표현\n",
    "\n",
    "print(result)\n"
   ]
  },
  {
   "cell_type": "code",
   "execution_count": 198,
   "id": "b3e17688-39e4-413c-a015-c93a4eae791a",
   "metadata": {},
   "outputs": [],
   "source": [
    "# 연습 모음 제거 문제\n",
    "\n",
    "words = 'my name is hong'\n",
    "# => my nm s hng"
   ]
  },
  {
   "cell_type": "code",
   "execution_count": 216,
   "id": "1e9e3f35-799d-47c0-9162-0501726917f3",
   "metadata": {},
   "outputs": [
    {
     "name": "stdout",
     "output_type": "stream",
     "text": [
      "['m', 'y', ' ', 'n', 'm', ' ', 's', ' ', 'h', 'n', 'g']\n",
      "my nm s hng\n"
     ]
    }
   ],
   "source": [
    "# 1-1 for / if (모음인 경우)\n",
    "\n",
    "vowels = ['a','e','i','o','u'] # 모음\n",
    "result = []\n",
    "\n",
    "for word in words:\n",
    "    if word in vowels: #모음이라면\n",
    "        pass\n",
    "        \n",
    "    else: #자음이라면\n",
    "        result.append(word)\n",
    "\n",
    "print(result)\n",
    "print(''.join(result)) #join ''로 두어서 , 없애기\n"
   ]
  },
  {
   "cell_type": "code",
   "execution_count": 217,
   "id": "d817de2a-8c51-4096-9c4b-f4675f5234de",
   "metadata": {},
   "outputs": [
    {
     "name": "stdout",
     "output_type": "stream",
     "text": [
      "['m', 'y', ' ', 'n', 'm', ' ', 's', ' ', 'h', 'n', 'g']\n",
      "my nm s hng\n"
     ]
    }
   ],
   "source": [
    "# 1-2 for / if (모음이 아닌 경우)\n",
    "\n",
    "vowels = ['a','e','i','o','u'] # 모음\n",
    "result = [] # 문자열에서는 수정이 불가능하므로 append해줄 결과 리스트 필요\n",
    "\n",
    "for word in words:\n",
    "    if word not in vowels: #모음이 아닌경우 = 자음인 경우\n",
    "        result.append(word)\n",
    "\n",
    "        \n",
    "    #else: #모음이라면\n",
    "        \n",
    "print(result)\n",
    "print(''.join(result)) #join ''로 두어서 , 없애기"
   ]
  },
  {
   "cell_type": "code",
   "execution_count": 219,
   "id": "f86c1b2c-2eab-4c4b-8392-10b418751094",
   "metadata": {},
   "outputs": [
    {
     "name": "stdout",
     "output_type": "stream",
     "text": [
      "['m', 'y', ' ', 'n', 'm', ' ', 's', ' ', 'h', 'n', 'g']\n",
      "my nm s hng\n"
     ]
    }
   ],
   "source": [
    "# 1-3 for / if (모음이 아닌 경우)\n",
    "\n",
    "result = [] # 문자열에서는 수정이 불가능하므로 append해줄 결과 리스트 필요\n",
    "\n",
    "for word in words:\n",
    "    if word not in 'aeiou': #모음이 아닌경우 = 자음인 경우\n",
    "        result.append(word)\n",
    "\n",
    "        \n",
    "    #else: #모음이라면\n",
    "        \n",
    "print(result)\n",
    "print(''.join(result)) #join ''로 두어서 , 없애기"
   ]
  },
  {
   "cell_type": "code",
   "execution_count": 215,
   "id": "cea204b7-6751-4c00-92a3-1d04e7e8f7b0",
   "metadata": {},
   "outputs": [
    {
     "name": "stdout",
     "output_type": "stream",
     "text": [
      "['m', 'y', ' ', 'n', 'm', ' ', 's', ' ', 'h', 'n', 'g']\n",
      "my nm s hng\n"
     ]
    }
   ],
   "source": [
    "# 02. list comprehension\n",
    "\n",
    "vowels = 'aeiou'\n",
    "result = [word for word in words if word not in vowels]\n",
    "\n",
    "print(result)\n",
    "print(''.join(result))"
   ]
  },
  {
   "cell_type": "code",
   "execution_count": 225,
   "id": "31d521d4-b422-43c0-95bc-0667335e3322",
   "metadata": {},
   "outputs": [
    {
     "name": "stdout",
     "output_type": "stream",
     "text": [
      "my nm s hng\n"
     ]
    }
   ],
   "source": [
    "# 03. replace 메소드 활용\n",
    "\n",
    "vowels = 'aeiou'\n",
    "\n",
    "for word in vowels: #for 다음의 word는 vowels의 하나하나를 의미\n",
    "    words = words.replace(word,'')\n",
    "\n",
    "print(words)"
   ]
  },
  {
   "cell_type": "markdown",
   "id": "40e15a9c-e866-4a0a-94bf-8f1b6d593780",
   "metadata": {},
   "source": [
    "# dictionary 메소드"
   ]
  },
  {
   "cell_type": "code",
   "execution_count": 43,
   "id": "2d0802b7-1994-424b-a611-514aed4ed3c3",
   "metadata": {},
   "outputs": [],
   "source": [
    "info = {\n",
    "    'name': 'hong',\n",
    "    'location': 'seoul',\n",
    "    'age': 20,\n",
    "    'phone_book': {\n",
    "        'kim':'010-1234-1234',\n",
    "        'park':'010-4576-4576'\n",
    "    },\n",
    "    'models': ['iphone','ipad'],\n",
    "}"
   ]
  },
  {
   "cell_type": "code",
   "execution_count": 19,
   "id": "ec8ac7ea-87a6-4881-af7b-ad7f72470d07",
   "metadata": {},
   "outputs": [
    {
     "name": "stdout",
     "output_type": "stream",
     "text": [
      "hong\n",
      "20\n",
      "010-4576-4576\n",
      "ipad\n"
     ]
    }
   ],
   "source": [
    "print(info['name'])\n",
    "print(info['age'])\n",
    "print(info['phone_book']['park'])\n",
    "print(info['models'][1])"
   ]
  },
  {
   "cell_type": "code",
   "execution_count": 21,
   "id": "5643c179-4c6a-4555-9282-2aed7a6eaa52",
   "metadata": {},
   "outputs": [
    {
     "name": "stdout",
     "output_type": "stream",
     "text": [
      "{'name': 'lee', 'location': 'seoul', 'age': 20, 'phone_book': {'kim': '010-1234-1234', 'park': '010-4576-4576'}, 'models': ['iphone', 'ipad']}\n"
     ]
    }
   ],
   "source": [
    "info['name'] = 'lee'\n",
    "print(info)"
   ]
  },
  {
   "cell_type": "code",
   "execution_count": 24,
   "id": "a36bdcf4-d63c-431c-a228-ef8f22eab72b",
   "metadata": {},
   "outputs": [
    {
     "name": "stdout",
     "output_type": "stream",
     "text": [
      "{'name': 'choi', 'location': 'seoul', 'age': 20, 'phone_book': {'kim': '010-1234-1234', 'park': '010-4576-4576'}, 'models': ['iphone', 'ipad']}\n"
     ]
    }
   ],
   "source": [
    "info.update(name='choi')\n",
    "print(info)"
   ]
  },
  {
   "cell_type": "code",
   "execution_count": 44,
   "id": "26bb3a67-c66e-4740-afca-6d87848ccfa1",
   "metadata": {},
   "outputs": [
    {
     "name": "stdout",
     "output_type": "stream",
     "text": [
      "seoul\n"
     ]
    }
   ],
   "source": [
    "print(info.pop('location'))"
   ]
  },
  {
   "cell_type": "code",
   "execution_count": 38,
   "id": "a78b42b7-7f86-4f18-8511-8eacba1dae97",
   "metadata": {},
   "outputs": [
    {
     "name": "stdout",
     "output_type": "stream",
     "text": [
      "None\n",
      "choi\n"
     ]
    }
   ],
   "source": [
    "# .get(가져오고 싶은 대상)\n",
    "print(info.get('birth'))\n",
    "print(info.get('name'))"
   ]
  },
  {
   "cell_type": "code",
   "execution_count": 3,
   "id": "9c06b3fd-e1dd-4237-ab96-5fcb5aa40183",
   "metadata": {},
   "outputs": [
    {
     "ename": "SyntaxError",
     "evalue": "invalid syntax (2996152931.py, line 7)",
     "output_type": "error",
     "traceback": [
      "\u001b[1;36m  Cell \u001b[1;32mIn[3], line 7\u001b[1;36m\u001b[0m\n\u001b[1;33m    return blood += blood_type\u001b[0m\n\u001b[1;37m                 ^\u001b[0m\n\u001b[1;31mSyntaxError\u001b[0m\u001b[1;31m:\u001b[0m invalid syntax\n"
     ]
    }
   ],
   "source": [
    "# 연습문제\n",
    "blood_type = ['A','B','AB','O','A','A','B','O','B']\n",
    "\n",
    "def blood_type():\n",
    "    for blood in blood_type:\n",
    "        if blood == A:\n",
    "            return blood += blood_type"
   ]
  },
  {
   "cell_type": "code",
   "execution_count": 58,
   "id": "a9ab6e7a-06f4-4129-bd58-de0b74a6c328",
   "metadata": {},
   "outputs": [
    {
     "name": "stdout",
     "output_type": "stream",
     "text": [
      "{'A': 3, 'B': 3, 'AB': 1, 'O': 2}\n"
     ]
    }
   ],
   "source": [
    "# 연습문제\n",
    "blood_type = ['A','B','AB','O','A','A','B','O','B'] #딕셔너리로 키값 정리 (혈액형의 키값은 4가지밖에 없음.)\n",
    "\n",
    "result = {\n",
    "    'A':0,\n",
    "    'B':0,\n",
    "    'AB':0,\n",
    "    'O':0,\n",
    "}\n",
    "for blood in blood_type:\n",
    "    result[blood] += 1\n",
    "\n",
    "print(result) # => {'A': 3, 'B': 3, 'AB': 1, 'O': 2}"
   ]
  },
  {
   "cell_type": "code",
   "execution_count": 57,
   "id": "99ca34a2-2e20-42a9-9e73-d7256bb923ee",
   "metadata": {},
   "outputs": [
    {
     "name": "stdout",
     "output_type": "stream",
     "text": [
      "{'서울': 2, '대전': 1, '부산': 2, '대구': 1}\n"
     ]
    }
   ],
   "source": [
    "locations = ['서울','대전', '서울', '부산','부산','대구'] #지역의 키값은 너무 많음. 0(데이터가 정해지지 않은 상태)\n",
    "\n",
    "result = {} #딕셔너리를 비어있는 형태로 만들기\n",
    "\n",
    "for location in locations:\n",
    "    #if location in result.keys():\n",
    "    if result.get(location):\n",
    "        result[location] += 1\n",
    "    else:\n",
    "        result[location] = 1\n",
    "\n",
    "print(result)"
   ]
  },
  {
   "cell_type": "markdown",
   "id": "fb0fc133-7f7e-4d39-877e-645d3abf5d3f",
   "metadata": {},
   "source": [
    "## dict comprehension"
   ]
  },
  {
   "cell_type": "code",
   "execution_count": 61,
   "id": "9ec4e68f-2497-4da8-a73b-db6a73e89e20",
   "metadata": {},
   "outputs": [
    {
     "name": "stdout",
     "output_type": "stream",
     "text": [
      "{1: 1, 2: 8, 3: 27, 4: 64, 5: 125, 6: 216, 7: 343, 8: 512, 9: 729, 10: 1000}\n"
     ]
    }
   ],
   "source": [
    "# {1:1, 2:8, 3:27, ... 10:1000}\n",
    "\n",
    "result = {}\n",
    "numbers = range(1,11)\n",
    "\n",
    "for number in numbers:\n",
    "    result[number] = number ** 3\n",
    "\n",
    "print(result)"
   ]
  },
  {
   "cell_type": "code",
   "execution_count": 161,
   "id": "8b73ddca-a127-4cdf-92b0-64699ceab4b7",
   "metadata": {},
   "outputs": [
    {
     "name": "stdout",
     "output_type": "stream",
     "text": [
      "{1: 1, 2: 8, 3: 27, 4: 64, 5: 125, 6: 216, 7: 343, 8: 512, 9: 729, 10: 1000}\n"
     ]
    }
   ],
   "source": [
    "result = {}\n",
    "\n",
    "result = {number: number ** 3 for number in range(1,11)} #result = {k: v for k in 전체}\n",
    "\n",
    "print(result)"
   ]
  },
  {
   "cell_type": "code",
   "execution_count": 166,
   "id": "bda08230-9d19-421d-9b9d-f53d8887e68a",
   "metadata": {},
   "outputs": [
    {
     "name": "stdout",
     "output_type": "stream",
     "text": [
      "{'수원': 30, '부산': 0}\n"
     ]
    }
   ],
   "source": [
    "dust = {\n",
    "    '서울': 50,\n",
    "    '인천': 100,\n",
    "    '수원': 30,\n",
    "    '부산': 0, #끝까지 ,붙여야함.\n",
    "}\n",
    "\n",
    "result = {}\n",
    "\n",
    "for key, value in dust.items(): #.item() #키,벨류값을 옆으로 출력 # for iten in dust.items(): #item = ('서울', 50)\n",
    "    if value <= 30:\n",
    "        result[key] = value\n",
    "\n",
    "print(result)"
   ]
  },
  {
   "cell_type": "code",
   "execution_count": 167,
   "id": "37925e01-001c-4ab6-9f98-b0d5323dc7e3",
   "metadata": {},
   "outputs": [
    {
     "name": "stdout",
     "output_type": "stream",
     "text": [
      "{'수원': '매우좋음', '부산': '매우좋음'}\n"
     ]
    }
   ],
   "source": [
    "# 02 dic comprehension\n",
    "\n",
    "result = {k: '매우좋음' for k,v in dust.items() if v <= 30}\n",
    "print(result)"
   ]
  },
  {
   "cell_type": "markdown",
   "id": "27dca80a-1db3-49d7-b2b2-443fda7fe049",
   "metadata": {},
   "source": [
    "## set 메소드\n",
    "\n",
    "- .add()\n",
    "- .update()\n",
    "- .remove()"
   ]
  },
  {
   "cell_type": "code",
   "execution_count": 84,
   "id": "97539047-0ce7-4172-bc55-5c964289d8ac",
   "metadata": {},
   "outputs": [],
   "source": [
    "fruits = {'apple','banana','melon'} "
   ]
  },
  {
   "cell_type": "code",
   "execution_count": 87,
   "id": "7ddb842a-c3f8-437a-ae42-ede67150fba9",
   "metadata": {},
   "outputs": [
    {
     "name": "stdout",
     "output_type": "stream",
     "text": [
      "{'apple', 'melon', 'banana'}\n"
     ]
    }
   ],
   "source": [
    "print(fruits) #set 순서가 바뀌어도 상관없음. "
   ]
  },
  {
   "cell_type": "code",
   "execution_count": 96,
   "id": "4b7f6f43-5753-4691-ad58-db73909a1d35",
   "metadata": {},
   "outputs": [
    {
     "name": "stdout",
     "output_type": "stream",
     "text": [
      "{'apple', 'melon', 'banana', 'orange', 'grape', 'watermelon'}\n"
     ]
    }
   ],
   "source": [
    "#.add() => 항목 더하기\n",
    "\n",
    "fruits.add('watermelon') \n",
    "print(fruits)"
   ]
  },
  {
   "cell_type": "code",
   "execution_count": 105,
   "id": "ac0e1dc1-1a8f-44e3-9f51-ebf2b8469755",
   "metadata": {},
   "outputs": [
    {
     "name": "stdout",
     "output_type": "stream",
     "text": [
      "{'melon', 'banana', 'orange', 'grape', 'watermelon'}\n"
     ]
    }
   ],
   "source": [
    "# .update() => 딕셔너리 수정\n",
    "\n",
    "fruits.update({'orange','grape'})\n",
    "print(fruits)"
   ]
  },
  {
   "cell_type": "code",
   "execution_count": 112,
   "id": "75b89b27-e054-4b15-8bf5-886806ca5bb7",
   "metadata": {},
   "outputs": [
    {
     "name": "stdout",
     "output_type": "stream",
     "text": [
      "{'orange', 'grape', 'watermelon'}\n"
     ]
    }
   ],
   "source": [
    "# .remove() => 딕셔너리에서 항목 지우기\n",
    "\n",
    "fruits.remove('banana')\n",
    "print(fruits)"
   ]
  },
  {
   "cell_type": "markdown",
   "id": "07d37c58-a29a-48a1-8d86-0bb2a77a8acb",
   "metadata": {},
   "source": [
    "## map, filter, zip (바로 계산하지 않아서 list 넣고 프린트)"
   ]
  },
  {
   "cell_type": "markdown",
   "id": "a7104ec1-b8b1-4810-a0ae-de3001d27d0e",
   "metadata": {},
   "source": [
    "- map : (fubction, iterable) => 시퀀스 타입 함수, 반복 가능한 객체(for문 가능한 것)\n",
    "  **모든 리스트에 일괄적인 처리를 할때**\n",
    "- filter :\n",
    "- zip : "
   ]
  },
  {
   "cell_type": "code",
   "execution_count": 117,
   "id": "8fe88616-40aa-4472-a417-2fafa3b826e7",
   "metadata": {},
   "outputs": [
    {
     "name": "stdout",
     "output_type": "stream",
     "text": [
      "['1', '2', '3', '4', '5']\n"
     ]
    }
   ],
   "source": [
    "numbers = [1,2,3,4,5]\n",
    "# =>  ['1','2','3','4','5']\n",
    "\n",
    "result = []\n",
    "for number in numbers:\n",
    "    result.append(str(number))\n",
    "\n",
    "print(result)"
   ]
  },
  {
   "cell_type": "code",
   "execution_count": 121,
   "id": "e0b7b2b4-d520-493e-91b7-952ae9b4c193",
   "metadata": {},
   "outputs": [
    {
     "name": "stdout",
     "output_type": "stream",
     "text": [
      "<map object at 0x000001E632A68400>\n",
      "['1', '2', '3', '4', '5']\n"
     ]
    }
   ],
   "source": [
    "# 위 내용을 map을 사용해 표현\n",
    "\n",
    "# map : 필요할 때만 연산함(사용자가 쓸 때 계산함.)\n",
    "\n",
    "result = map(str, numbers)\n",
    "print(result)             # =>  <map object at 0x000001E6328A1360> 임시 저장한 상태 \n",
    "print(list(result))"
   ]
  },
  {
   "cell_type": "code",
   "execution_count": 152,
   "id": "91c6422a-3cd7-4ae7-8a70-98ab5bc84782",
   "metadata": {},
   "outputs": [
    {
     "name": "stdout",
     "output_type": "stream",
     "text": [
      "[1, 8, 27, 64, 125]\n"
     ]
    }
   ],
   "source": [
    "# 연습 문제 \n",
    "\n",
    "# 01. for문 활용\n",
    "numbers = [1,2,3,4,5]\n",
    "\n",
    "# => [1,8,27,64,125]\n",
    "\n",
    "result = []\n",
    "for number in numbers:\n",
    "    result.append(number ** 3)\n",
    "\n",
    "print(result)"
   ]
  },
  {
   "cell_type": "code",
   "execution_count": 178,
   "id": "91362a50-58d7-4a78-8040-a831dcd9fcf6",
   "metadata": {},
   "outputs": [
    {
     "name": "stdout",
     "output_type": "stream",
     "text": [
      "[1, 8, 27, 64, 125]\n"
     ]
    }
   ],
   "source": [
    "# 02. map (일괄처리, 시퀀스 타입만 가능)\n",
    "\n",
    "numbers = [1,2,3,4,5]\n",
    "# => [1,8,27,64,125]\n",
    "\n",
    "# 1) 세제곱하는 함수 만들기\n",
    "def cube(x):\n",
    "    return x ** 3\n",
    "\n",
    "# 2) map(함수, 반복가능한 객체) = 함수를 반복적으로 처리\n",
    "result = map(cube,numbers)\n",
    "\n",
    "# 3) map은 바로 계산x, 필요할 때 계산하므로 list 넣고 출력\n",
    "print(list(result))"
   ]
  },
  {
   "cell_type": "code",
   "execution_count": 177,
   "id": "9273c0d2-751f-4f86-bcf5-dbea97c07ace",
   "metadata": {},
   "outputs": [
    {
     "name": "stdout",
     "output_type": "stream",
     "text": [
      "[1, 3, 5, 7, 9]\n"
     ]
    }
   ],
   "source": [
    "test_input = '1 3 5 7 9'\n",
    "\n",
    "# 1. 띄어쓰기 기준으로 나눈다\n",
    "test_input.split()\n",
    "\n",
    "# 2. 각 글자를 숫자로 바꾼다\n",
    "map(int, test_input.split())\n",
    "\n",
    "# 3. 리스트에 저장한다.\n",
    "result = list(map(int, test_input.split()))\n",
    "\n",
    "print(result)"
   ]
  },
  {
   "cell_type": "markdown",
   "id": "34863cf9-eb5f-4534-84a5-b2849c213054",
   "metadata": {},
   "source": [
    "## filter\n",
    "\n",
    "- filter(function, iterable) : True or false로 나오는 것만 사용\n"
   ]
  },
  {
   "cell_type": "code",
   "execution_count": 147,
   "id": "02972c45-836f-46c7-97f5-e0206eff385d",
   "metadata": {},
   "outputs": [],
   "source": [
    "def is_odd(x): #is_odd 함수 : \n",
    "    return x % 2"
   ]
  },
  {
   "cell_type": "code",
   "execution_count": 144,
   "id": "f0b0ffbd-15a6-4398-9869-d8ed2345f7c1",
   "metadata": {},
   "outputs": [
    {
     "name": "stdout",
     "output_type": "stream",
     "text": [
      "[1, 3, 5]\n"
     ]
    }
   ],
   "source": [
    "numbers = [1,2,3,4,5,6]\n",
    "\n",
    "result = []\n",
    "for number in numbers:\n",
    "    if number % 2 == 1:\n",
    "        result.append(number)\n",
    "\n",
    "print(result)\n",
    "        "
   ]
  },
  {
   "cell_type": "code",
   "execution_count": 146,
   "id": "bb64db3b-531b-49a6-9435-306fefe4a95a",
   "metadata": {},
   "outputs": [
    {
     "name": "stdout",
     "output_type": "stream",
     "text": [
      "<filter object at 0x000001E632AB37F0>\n",
      "[1, 3, 5]\n"
     ]
    }
   ],
   "source": [
    "result = filter(is_odd, numbers)\n",
    "print(result)\n",
    "print(list(result))"
   ]
  },
  {
   "cell_type": "markdown",
   "id": "8d5b5e06-5a65-4993-baab-167a3ef7eea0",
   "metadata": {},
   "source": [
    "## zip"
   ]
  },
  {
   "cell_type": "code",
   "execution_count": 151,
   "id": "70f76139-ec09-4e25-947f-3ddb9d810247",
   "metadata": {},
   "outputs": [
    {
     "name": "stdout",
     "output_type": "stream",
     "text": [
      "<zip object at 0x000001E632F62840>\n",
      "[(1, 100, 'a'), (2, 200, 'b'), (3, 300, 'c')]\n"
     ]
    }
   ],
   "source": [
    "a = [1,2,3]\n",
    "b = [100,200,300]\n",
    "c = ['a','b','c']\n",
    "\n",
    "result = zip(a,b,c)\n",
    "print(result)\n",
    "print(list(result))"
   ]
  },
  {
   "cell_type": "code",
   "execution_count": null,
   "id": "123d5ab0-a24c-4d75-b401-36c6ed6103b6",
   "metadata": {},
   "outputs": [],
   "source": []
  }
 ],
 "metadata": {
  "kernelspec": {
   "display_name": "Python 3 (ipykernel)",
   "language": "python",
   "name": "python3"
  },
  "language_info": {
   "codemirror_mode": {
    "name": "ipython",
    "version": 3
   },
   "file_extension": ".py",
   "mimetype": "text/x-python",
   "name": "python",
   "nbconvert_exporter": "python",
   "pygments_lexer": "ipython3",
   "version": "3.13.2"
  }
 },
 "nbformat": 4,
 "nbformat_minor": 5
}
