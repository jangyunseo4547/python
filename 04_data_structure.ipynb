{
 "cells": [
  {
   "cell_type": "markdown",
   "id": "0acf1527-856c-4b35-baf6-5bf6204f8a84",
   "metadata": {},
   "source": [
    "## 자료구조\n",
    "\n",
    "> 여러가지 자료구조가 가지고 있는 메소드(함수) 알아보기"
   ]
  },
  {
   "cell_type": "code",
   "execution_count": 3,
   "id": "ea9c0564-5ca2-4dbc-99e7-d37f9ed889fd",
   "metadata": {},
   "outputs": [
    {
     "name": "stdout",
     "output_type": "stream",
     "text": [
      "['__add__', '__class__', '__contains__', '__delattr__', '__dir__', '__doc__', '__eq__', '__format__', '__ge__', '__getattribute__', '__getitem__', '__getnewargs__', '__getstate__', '__gt__', '__hash__', '__init__', '__init_subclass__', '__iter__', '__le__', '__len__', '__lt__', '__mod__', '__mul__', '__ne__', '__new__', '__reduce__', '__reduce_ex__', '__repr__', '__rmod__', '__rmul__', '__setattr__', '__sizeof__', '__str__', '__subclasshook__', 'capitalize', 'casefold', 'center', 'count', 'encode', 'endswith', 'expandtabs', 'find', 'format', 'format_map', 'index', 'isalnum', 'isalpha', 'isascii', 'isdecimal', 'isdigit', 'isidentifier', 'islower', 'isnumeric', 'isprintable', 'isspace', 'istitle', 'isupper', 'join', 'ljust', 'lower', 'lstrip', 'maketrans', 'partition', 'removeprefix', 'removesuffix', 'replace', 'rfind', 'rindex', 'rjust', 'rpartition', 'rsplit', 'rstrip', 'split', 'splitlines', 'startswith', 'strip', 'swapcase', 'title', 'translate', 'upper', 'zfill']\n"
     ]
    }
   ],
   "source": [
    "print(dir('hello'))"
   ]
  },
  {
   "cell_type": "markdown",
   "id": "03564380-0c68-4b3a-a7c3-477da774d545",
   "metadata": {},
   "source": [
    "## 문자열 메소드"
   ]
  },
  {
   "cell_type": "code",
   "execution_count": 5,
   "id": "db4f3701-1d38-4613-a8c2-285bee5c1dba",
   "metadata": {},
   "outputs": [],
   "source": [
    "a = 'hello my name is hong'"
   ]
  },
  {
   "cell_type": "code",
   "execution_count": 7,
   "id": "be263fe2-8742-4124-89ef-b01b93f86b94",
   "metadata": {},
   "outputs": [
    {
     "name": "stdout",
     "output_type": "stream",
     "text": [
      "hello my name is hong\n"
     ]
    }
   ],
   "source": [
    "print(a)"
   ]
  },
  {
   "cell_type": "code",
   "execution_count": 10,
   "id": "74b93c17-9597-49a7-bc6f-31c3fc9b7a96",
   "metadata": {},
   "outputs": [
    {
     "ename": "TypeError",
     "evalue": "'str' object does not support item assignment",
     "output_type": "error",
     "traceback": [
      "\u001b[1;31m---------------------------------------------------------------------------\u001b[0m",
      "\u001b[1;31mTypeError\u001b[0m                                 Traceback (most recent call last)",
      "Cell \u001b[1;32mIn[10], line 2\u001b[0m\n\u001b[0;32m      1\u001b[0m \u001b[38;5;66;03m# str은 수정 불가능함.\u001b[39;00m\n\u001b[1;32m----> 2\u001b[0m \u001b[43ma\u001b[49m\u001b[43m[\u001b[49m\u001b[38;5;241;43m0\u001b[39;49m\u001b[43m]\u001b[49m \u001b[38;5;241m=\u001b[39m \u001b[38;5;124m'\u001b[39m\u001b[38;5;124mH\u001b[39m\u001b[38;5;124m'\u001b[39m\n",
      "\u001b[1;31mTypeError\u001b[0m: 'str' object does not support item assignment"
     ]
    }
   ],
   "source": [
    "# str은 수정 불가능함.\n",
    "a[0] = 'H'"
   ]
  },
  {
   "cell_type": "code",
   "execution_count": 24,
   "id": "58acff3f-1624-4ddb-bcca-705e90ce3a84",
   "metadata": {},
   "outputs": [
    {
     "data": {
      "text/plain": [
       "'Hello my name is hong'"
      ]
     },
     "execution_count": 24,
     "metadata": {},
     "output_type": "execute_result"
    }
   ],
   "source": [
    "# 첫단어만 대문자로 출력 = capitalize\n",
    "a.capitalize()"
   ]
  },
  {
   "cell_type": "code",
   "execution_count": 19,
   "id": "bc656e79-b8cf-4ade-984c-59cde723577f",
   "metadata": {},
   "outputs": [
    {
     "data": {
      "text/plain": [
       "'Hello my name is hong'"
      ]
     },
     "execution_count": 19,
     "metadata": {},
     "output_type": "execute_result"
    }
   ],
   "source": [
    "'hello my name is hong'.capitalize()"
   ]
  },
  {
   "cell_type": "code",
   "execution_count": 21,
   "id": "d283150a-500c-4dbe-a90b-1239e33a36a0",
   "metadata": {},
   "outputs": [
    {
     "name": "stdout",
     "output_type": "stream",
     "text": [
      "hello my name is hong\n"
     ]
    }
   ],
   "source": [
    "print(a)"
   ]
  },
  {
   "cell_type": "code",
   "execution_count": 23,
   "id": "bce9b77d-fb7b-4226-9dca-56584661606c",
   "metadata": {},
   "outputs": [
    {
     "data": {
      "text/plain": [
       "'Hello My Name Is Hong'"
      ]
     },
     "execution_count": 23,
     "metadata": {},
     "output_type": "execute_result"
    }
   ],
   "source": [
    "# 각각의 단어들을 모두 대문자로 바꿔 출력함.\n",
    "a.title()"
   ]
  },
  {
   "cell_type": "code",
   "execution_count": 27,
   "id": "1d40dd40-fcd0-4678-a47d-d862fc5942b4",
   "metadata": {},
   "outputs": [
    {
     "data": {
      "text/plain": [
       "'HELLO MY NAME IS HONG'"
      ]
     },
     "execution_count": 27,
     "metadata": {},
     "output_type": "execute_result"
    }
   ],
   "source": [
    "# 모든 단어들을 모두 대문자로 바꿔 출력함.\n",
    "a.upper()"
   ]
  },
  {
   "cell_type": "code",
   "execution_count": 30,
   "id": "70b93245-5659-40e9-a479-06fb690e4111",
   "metadata": {},
   "outputs": [
    {
     "data": {
      "text/plain": [
       "'hello my name is hong'"
      ]
     },
     "execution_count": 30,
     "metadata": {},
     "output_type": "execute_result"
    }
   ],
   "source": [
    "# 모든 단어들을 모두 소문자로 바꿔 출력함.\n",
    "a.lower()"
   ]
  },
  {
   "cell_type": "code",
   "execution_count": 32,
   "id": "57a87ee7-3fca-416b-af95-c2c3a44bf17e",
   "metadata": {},
   "outputs": [
    {
     "data": {
      "text/plain": [
       "'my!name!is'"
      ]
     },
     "execution_count": 32,
     "metadata": {},
     "output_type": "execute_result"
    }
   ],
   "source": [
    "my_list = ['my', 'name', 'is']\n",
    "'!'.join(my_list)"
   ]
  },
  {
   "cell_type": "code",
   "execution_count": 34,
   "id": "6b6bdf15-45c8-4595-97f9-2cba54583984",
   "metadata": {},
   "outputs": [
    {
     "data": {
      "text/plain": [
       "'배?고?프?다'"
      ]
     },
     "execution_count": 34,
     "metadata": {},
     "output_type": "execute_result"
    }
   ],
   "source": [
    "'?'.join('배고프다')"
   ]
  },
  {
   "cell_type": "code",
   "execution_count": 45,
   "id": "490ab1df-cbf3-4332-ab6d-5bd23f6c06a4",
   "metadata": {},
   "outputs": [
    {
     "data": {
      "text/plain": [
       "'hello'"
      ]
     },
     "execution_count": 45,
     "metadata": {},
     "output_type": "execute_result"
    }
   ],
   "source": [
    "# strip\n",
    "a = '     \\t  hello         \\n'\n",
    "a.strip()"
   ]
  },
  {
   "cell_type": "code",
   "execution_count": 50,
   "id": "184dce1a-8d89-4108-a00e-4622b85769f5",
   "metadata": {},
   "outputs": [
    {
     "data": {
      "text/plain": [
       "'hello????'"
      ]
     },
     "execution_count": 50,
     "metadata": {},
     "output_type": "execute_result"
    }
   ],
   "source": [
    "# strip안에 들어오는 문자를 지워버림\n",
    "a = '!!!!!!hello????'\n",
    "a.strip('!')\n",
    "\n",
    "#a.strip(char='')"
   ]
  },
  {
   "cell_type": "code",
   "execution_count": 53,
   "id": "1118befb-8301-42fa-899f-8a7434f36076",
   "metadata": {},
   "outputs": [
    {
     "data": {
      "text/plain": [
       "'------hello'"
      ]
     },
     "execution_count": 53,
     "metadata": {},
     "output_type": "execute_result"
    }
   ],
   "source": [
    "a = '------hello------'\n",
    "a.lstrip('-')\n",
    "a.rstrip('-')"
   ]
  },
  {
   "cell_type": "code",
   "execution_count": 61,
   "id": "d0a60c76-3329-4cfa-981b-015444dfaa04",
   "metadata": {},
   "outputs": [
    {
     "data": {
      "text/plain": [
       "'w!!!oooooow'"
      ]
     },
     "execution_count": 61,
     "metadata": {},
     "output_type": "execute_result"
    }
   ],
   "source": [
    "# replace(old,new,[count])\n",
    "a = 'wooooooooow'\n",
    "a.replace('o','!',3)"
   ]
  },
  {
   "cell_type": "code",
   "execution_count": 76,
   "id": "4dda27ce-b48b-40e1-8523-b32490d111ef",
   "metadata": {},
   "outputs": [
    {
     "data": {
      "text/plain": [
       "-1"
      ]
     },
     "execution_count": 76,
     "metadata": {},
     "output_type": "execute_result"
    }
   ],
   "source": [
    "# find = index 출력\n",
    "a ='apple'\n",
    "a.find('a') # => 0\n",
    "a.find('l')\n",
    "a.find('z') # => 없는 데이터를 찾을 시 -1 출력 (없습니다.)"
   ]
  },
  {
   "cell_type": "code",
   "execution_count": 78,
   "id": "c65a3d16-255f-494e-b121-481224b6ea8e",
   "metadata": {},
   "outputs": [
    {
     "ename": "ValueError",
     "evalue": "substring not found",
     "output_type": "error",
     "traceback": [
      "\u001b[1;31m---------------------------------------------------------------------------\u001b[0m",
      "\u001b[1;31mValueError\u001b[0m                                Traceback (most recent call last)",
      "Cell \u001b[1;32mIn[78], line 6\u001b[0m\n\u001b[0;32m      3\u001b[0m a\u001b[38;5;241m.\u001b[39mindex(\u001b[38;5;124m'\u001b[39m\u001b[38;5;124me\u001b[39m\u001b[38;5;124m'\u001b[39m)\n\u001b[0;32m      5\u001b[0m \u001b[38;5;66;03m# index에서 -1은 맨 뒤에 있는 값을 의미하기 때문임\u001b[39;00m\n\u001b[1;32m----> 6\u001b[0m \u001b[43ma\u001b[49m\u001b[38;5;241;43m.\u001b[39;49m\u001b[43mindex\u001b[49m\u001b[43m(\u001b[49m\u001b[38;5;124;43m'\u001b[39;49m\u001b[38;5;124;43mz\u001b[39;49m\u001b[38;5;124;43m'\u001b[39;49m\u001b[43m)\u001b[49m \u001b[38;5;66;03m# => 없는 데이터를 찾을 시 오류남.\u001b[39;00m\n",
      "\u001b[1;31mValueError\u001b[0m: substring not found"
     ]
    }
   ],
   "source": [
    "a = 'apple'\n",
    "a.index('a')\n",
    "a.index('e')\n",
    "\n",
    "# index에서 -1은 맨 뒤에 있는 값을 의미하기 때문임\n",
    "a.index('z') # => 없는 데이터를 찾을 시 오류남."
   ]
  },
  {
   "cell_type": "code",
   "execution_count": 82,
   "id": "a2d4b84a-a0f0-4344-a9e5-4718f12564cd",
   "metadata": {},
   "outputs": [
    {
     "data": {
      "text/plain": [
       "['my', 'name', 'is', 'hong']"
      ]
     },
     "execution_count": 82,
     "metadata": {},
     "output_type": "execute_result"
    }
   ],
   "source": [
    "# split은 데이터를 나눠주고 이를 리스트로 만들어서 보여줌\n",
    "a = 'my name is hong'\n",
    "\n",
    "a.split()"
   ]
  },
  {
   "cell_type": "code",
   "execution_count": 84,
   "id": "0c4a5e15-7da6-4a0e-a2ae-04a86655c579",
   "metadata": {},
   "outputs": [
    {
     "data": {
      "text/plain": [
       "['my', 'name', 'is', 'hong']"
      ]
     },
     "execution_count": 84,
     "metadata": {},
     "output_type": "execute_result"
    }
   ],
   "source": [
    "a = 'my!name!is!hong'\n",
    "\n",
    "a.split('!')"
   ]
  },
  {
   "cell_type": "code",
   "execution_count": 86,
   "id": "878357cf-44aa-43e4-a5f2-7e41762b2aaa",
   "metadata": {},
   "outputs": [
    {
     "data": {
      "text/plain": [
       "6"
      ]
     },
     "execution_count": 86,
     "metadata": {},
     "output_type": "execute_result"
    }
   ],
   "source": [
    "a = 'woooooow'\n",
    "\n",
    "a.count('o')"
   ]
  },
  {
   "cell_type": "markdown",
   "id": "b8d3613b-c473-4ca0-8c81-fefdd8b98257",
   "metadata": {},
   "source": [
    "## 리스트 메소드"
   ]
  },
  {
   "cell_type": "code",
   "execution_count": 88,
   "id": "2875af66-0b64-49ee-8167-0869189a1c6e",
   "metadata": {},
   "outputs": [],
   "source": [
    "numbers = [2,6,1,4,8,3,2,8]"
   ]
  },
  {
   "cell_type": "code",
   "execution_count": 96,
   "id": "beb86c66-2309-4e81-a649-33cdea41f30f",
   "metadata": {},
   "outputs": [
    {
     "name": "stdout",
     "output_type": "stream",
     "text": [
      "[2, 6, 1, 4, 8, 3, 2, 8, 10, 10, 99, 100, 99, 100, 99, 100, 10]\n"
     ]
    }
   ],
   "source": [
    "# append 더하다\n",
    "numbers.append(10)\n",
    "print(numbers)"
   ]
  },
  {
   "cell_type": "code",
   "execution_count": 92,
   "id": "0203fa7f-b83c-480e-90e7-99e9f2abff4d",
   "metadata": {},
   "outputs": [],
   "source": [
    "a = [99, 100]"
   ]
  },
  {
   "cell_type": "code",
   "execution_count": 98,
   "id": "eaff4864-b1df-4c19-9f0a-ad2138367e88",
   "metadata": {},
   "outputs": [
    {
     "name": "stdout",
     "output_type": "stream",
     "text": [
      "[2, 6, 1, 4, 8, 3, 2, 8, 10, 10, 99, 100, 99, 100, 99, 100, 10, 99, 100, 99, 100]\n"
     ]
    }
   ],
   "source": [
    "numbers.extend(a) # => numbers + a\n",
    "print(numbers)"
   ]
  },
  {
   "cell_type": "code",
   "execution_count": 102,
   "id": "89398ad0-7efa-4179-b800-0767fce382e5",
   "metadata": {},
   "outputs": [
    {
     "name": "stdout",
     "output_type": "stream",
     "text": [
      "[2, 6, 1, 5, 5, 4, 8, 3, 2, 8, 10, 10, 99, 100, 99, 100, 99, 100, 10, 99, 100, 99, 100]\n"
     ]
    }
   ],
   "source": [
    "numbers.insert(3, 5) #세번째에 5를 넣겠습니다. \n",
    "print(numbers)"
   ]
  },
  {
   "cell_type": "code",
   "execution_count": 106,
   "id": "6854d313-43ac-4319-9876-ca1563343c7a",
   "metadata": {},
   "outputs": [
    {
     "ename": "ValueError",
     "evalue": "list.remove(x): x not in list",
     "output_type": "error",
     "traceback": [
      "\u001b[1;31m-------------------------------------------\u001b[0m",
      "\u001b[1;31mValueError\u001b[0mTraceback (most recent call last)",
      "Cell \u001b[1;32mIn[106], line 2\u001b[0m\n\u001b[0;32m      1\u001b[0m \u001b[38;5;66;03m# 첫번째 x를 찾아서 제거, 없으면 오류\u001b[39;00m\n\u001b[1;32m----> 2\u001b[0m \u001b[43mnumbers\u001b[49m\u001b[38;5;241;43m.\u001b[39;49m\u001b[43mremove\u001b[49m\u001b[43m(\u001b[49m\u001b[38;5;241;43m8\u001b[39;49m\u001b[43m)\u001b[49m\n\u001b[0;32m      3\u001b[0m \u001b[38;5;28mprint\u001b[39m(numbers)\n",
      "\u001b[1;31mValueError\u001b[0m: list.remove(x): x not in list"
     ]
    }
   ],
   "source": [
    "# 첫번째 x를 찾아서 제거, 없으면 오류\n",
    "numbers.remove(8)\n",
    "print(numbers)"
   ]
  },
  {
   "cell_type": "code",
   "execution_count": 108,
   "id": "ee4b6bb7-05ab-45c3-b65e-0dda602d0531",
   "metadata": {},
   "outputs": [
    {
     "name": "stdout",
     "output_type": "stream",
     "text": [
      "[2, 6, 1, 5, 5, 4, 3, 2, 10, 10, 99, 100, 99, 100, 99, 100, 10, 99, 100]\n"
     ]
    }
   ],
   "source": [
    "numbers.pop()\n",
    "print(numbers)"
   ]
  },
  {
   "cell_type": "code",
   "execution_count": 111,
   "id": "2088e881-1c4c-405a-9407-eb3c5e120e52",
   "metadata": {},
   "outputs": [
    {
     "name": "stdout",
     "output_type": "stream",
     "text": [
      "[5, 5, 4, 3, 2, 10, 10, 99, 100, 99, 100, 99, 100, 10, 99, 100]\n"
     ]
    }
   ],
   "source": [
    "numbers.pop(0) # => 0index 값이 삭제됨.\n",
    "print(numbers)"
   ]
  },
  {
   "cell_type": "code",
   "execution_count": 119,
   "id": "48a21c9f-af59-476a-8710-a41f0181262e",
   "metadata": {},
   "outputs": [
    {
     "name": "stdout",
     "output_type": "stream",
     "text": [
      "[2, 3, 4, 5, 5, 10, 10, 10, 99, 99, 99, 99, 100, 100, 100, 100]\n"
     ]
    }
   ],
   "source": [
    "#sort 정렬되어서 프린트\n",
    "numbers.sort()\n",
    "print(numbers)"
   ]
  },
  {
   "cell_type": "code",
   "execution_count": 120,
   "id": "07fbe3f6-7aea-4ccc-92ed-c9c4849c9fb9",
   "metadata": {},
   "outputs": [
    {
     "name": "stdout",
     "output_type": "stream",
     "text": [
      "[100, 100, 100, 100, 99, 99, 99, 99, 10, 10, 10, 5, 5, 4, 3, 2]\n"
     ]
    }
   ],
   "source": [
    "numbers.sort(reverse=True)\n",
    "print(numbers)"
   ]
  },
  {
   "cell_type": "code",
   "execution_count": 126,
   "id": "62a475af-2d73-44cb-aad0-431620aa5522",
   "metadata": {},
   "outputs": [
    {
     "name": "stdout",
     "output_type": "stream",
     "text": [
      "[1, 2, 3, 5, 7, 8]\n",
      "[5, 3, 2, 7, 8, 1]\n"
     ]
    }
   ],
   "source": [
    "a = [5,3,2,7,8,1]\n",
    "print(sorted(a))\n",
    "print(a)"
   ]
  },
  {
   "cell_type": "code",
   "execution_count": 128,
   "id": "f3f942be-3c9d-4fc5-94bf-8bbfac16e946",
   "metadata": {},
   "outputs": [
    {
     "name": "stdout",
     "output_type": "stream",
     "text": [
      "['a', 'b', 'e', 'o', 'z']\n"
     ]
    }
   ],
   "source": [
    "my_list = ['a','e','o','b','z']\n",
    "my_list.sort()\n",
    "print(my_list)"
   ]
  },
  {
   "cell_type": "code",
   "execution_count": 134,
   "id": "fe2a15c1-7b53-424e-9106-c996869591a0",
   "metadata": {},
   "outputs": [
    {
     "name": "stdout",
     "output_type": "stream",
     "text": [
      "[2, 3, 4, 5, 5, 10, 10, 10, 99, 99, 99, 99, 100, 100, 100, 100]\n",
      "[100, 100, 100, 100, 99, 99, 99, 99, 10, 10, 10, 5, 5, 4, 3, 2]\n"
     ]
    }
   ],
   "source": [
    "# reverse 뒤집어서 프린트됨.\n",
    "print(numbers)\n",
    "numbers.reverse()\n",
    "print(numbers)"
   ]
  },
  {
   "cell_type": "code",
   "execution_count": 137,
   "id": "fc3ec847-0fe2-43a4-8734-26a37151de9a",
   "metadata": {},
   "outputs": [
    {
     "data": {
      "text/plain": [
       "3"
      ]
     },
     "execution_count": 137,
     "metadata": {},
     "output_type": "execute_result"
    }
   ],
   "source": [
    "# 10이라는 숫자가 몇개 있는지 세기\n",
    "numbers.count(10)"
   ]
  },
  {
   "cell_type": "markdown",
   "id": "5be3c588-bb04-4915-9223-9de8fe9d2d64",
   "metadata": {},
   "source": [
    "### list copy"
   ]
  },
  {
   "cell_type": "code",
   "execution_count": 139,
   "id": "12fd7387-43d2-4d08-a06c-beeb4bc304b1",
   "metadata": {},
   "outputs": [],
   "source": [
    "origin_list = [1,2,3]\n",
    "copy_list = origin_list"
   ]
  },
  {
   "cell_type": "code",
   "execution_count": 143,
   "id": "1533d58a-64ec-4401-8b84-b9d2bf57089e",
   "metadata": {},
   "outputs": [
    {
     "name": "stdout",
     "output_type": "stream",
     "text": [
      "[1, 2, 3]\n",
      "[1, 2, 3]\n"
     ]
    }
   ],
   "source": [
    "print(origin_list)\n",
    "print(copy_list)"
   ]
  },
  {
   "cell_type": "code",
   "execution_count": 148,
   "id": "0aab5235-b2e3-4c9d-a698-a1ea53539935",
   "metadata": {},
   "outputs": [
    {
     "name": "stdout",
     "output_type": "stream",
     "text": [
      "[100, 2, 3]\n",
      "[100, 2, 3]\n"
     ]
    }
   ],
   "source": [
    "copy_list[0] = 100\n",
    "print(origin_list)\n",
    "print(copy_list)"
   ]
  },
  {
   "cell_type": "code",
   "execution_count": 151,
   "id": "762a1957-dca9-47f9-b890-2eed2a7e2b4d",
   "metadata": {},
   "outputs": [
    {
     "name": "stdout",
     "output_type": "stream",
     "text": [
      "[1, 2, 3]\n",
      "[100, 2, 3]\n"
     ]
    }
   ],
   "source": [
    "origin_list = [1,2,3]\n",
    "copy_list = origin_list[:] # => 처음부터 끝까지 슬라이싱\n",
    "\n",
    "copy_list[0] = 100\n",
    "\n",
    "print(origin_list)\n",
    "print(copy_list)"
   ]
  },
  {
   "cell_type": "code",
   "execution_count": 155,
   "id": "12630d12-2c40-4fc4-9dac-22b47c88dfe5",
   "metadata": {},
   "outputs": [
    {
     "name": "stdout",
     "output_type": "stream",
     "text": [
      "[1, 2, [-10, 11]]\n",
      "[100, 2, [-10, 11]]\n"
     ]
    }
   ],
   "source": [
    "o_l = [1,2, [10,11]] \n",
    "c_l = o_l[:]\n",
    "\n",
    "c_l[0] = 100\n",
    "c_l[2][0] = -10\n",
    "\n",
    "print(o_l)\n",
    "print(c_l)"
   ]
  },
  {
   "cell_type": "code",
   "execution_count": 160,
   "id": "92c8e129-b27f-4b93-90b3-d7a2792fe7b4",
   "metadata": {},
   "outputs": [
    {
     "name": "stdout",
     "output_type": "stream",
     "text": [
      "[1, 2, [10, 11]]\n",
      "[100, 2, [10, -11]]\n"
     ]
    }
   ],
   "source": [
    "#import 추가하다\n",
    "import copy\n",
    "\n",
    "o_l = [1,2,[10,11]]\n",
    "c_l = copy.deepcopy(o_l) # +-=> 깊숙하게 카피\n",
    "\n",
    "c_l[0] = 100\n",
    "c_l[2][1] = -11\n",
    "\n",
    "print(o_l)\n",
    "print(c_l)"
   ]
  },
  {
   "cell_type": "markdown",
   "id": "a628146b-327a-42aa-9b45-4e3f0f66fa91",
   "metadata": {},
   "source": [
    "## list comprehension"
   ]
  },
  {
   "cell_type": "code",
   "execution_count": 162,
   "id": "022dbf33-e681-483b-8a02-483e24651a6d",
   "metadata": {},
   "outputs": [
    {
     "name": "stdout",
     "output_type": "stream",
     "text": [
      "[1, 2, 3, 4, 5, 6, 7, 8, 9, 10]\n"
     ]
    }
   ],
   "source": [
    "numbers = list(range(1,11))\n",
    "print(numbers)"
   ]
  },
  {
   "cell_type": "code",
   "execution_count": 165,
   "id": "de588dc6-99ab-4d4b-b85e-d6b7f00cf778",
   "metadata": {},
   "outputs": [
    {
     "name": "stdout",
     "output_type": "stream",
     "text": [
      "[1, 8, 27, 64, 125, 216, 343, 512, 729, 1000]\n"
     ]
    }
   ],
   "source": [
    "result = []\n",
    "\n",
    "for number in numbers:\n",
    "    temp = number ** 3\n",
    "    result.append(temp)\n",
    "\n",
    "print(result)"
   ]
  },
  {
   "cell_type": "code",
   "execution_count": 171,
   "id": "e329dacd-684c-4baa-9a8f-4608524dcb26",
   "metadata": {},
   "outputs": [
    {
     "name": "stdout",
     "output_type": "stream",
     "text": [
      "[1, 8, 27, 64, 125, 216, 343, 512, 729, 1000]\n"
     ]
    }
   ],
   "source": [
    "result = [number ** 3 for number in numbers]\n",
    "\n",
    "print(result)"
   ]
  },
  {
   "cell_type": "code",
   "execution_count": 175,
   "id": "7918743e-d452-4d83-a6c6-9eb4f060e7de",
   "metadata": {},
   "outputs": [
    {
     "name": "stdout",
     "output_type": "stream",
     "text": [
      "[2, 4, 6, 8, 10, 12, 14, 16, 18, 20, 22, 24, 26, 28, 30]\n"
     ]
    }
   ],
   "source": [
    "# 짝수만 고르기\n",
    "\n",
    "numbers = list(range(1,31))\n",
    "\n",
    "result = []\n",
    "for number in numbers:\n",
    "    if number % 2 == 0:\n",
    "        result.append(number)\n",
    "\n",
    "print(result)"
   ]
  },
  {
   "cell_type": "code",
   "execution_count": 180,
   "id": "7e24eebd-2f08-4270-9048-767773bbcd56",
   "metadata": {},
   "outputs": [
    {
     "name": "stdout",
     "output_type": "stream",
     "text": [
      "[4, 8, 12, 16, 20, 24, 28, 32, 36, 40, 44, 48, 52, 56, 60]\n"
     ]
    }
   ],
   "source": [
    "# 짝수만 고르기 (2)\n",
    "\n",
    "numbers = list(range(1,31))\n",
    "result = [number * 2 for number in numbers if number % 2 == 0] #append number가 앞 number로 표현\n",
    "\n",
    "print(result)\n"
   ]
  },
  {
   "cell_type": "code",
   "execution_count": 198,
   "id": "b3e17688-39e4-413c-a015-c93a4eae791a",
   "metadata": {},
   "outputs": [],
   "source": [
    "# 연습 모음 제거 문제\n",
    "\n",
    "words = 'my name is hong'\n",
    "# => my nm s hng"
   ]
  },
  {
   "cell_type": "code",
   "execution_count": 216,
   "id": "1e9e3f35-799d-47c0-9162-0501726917f3",
   "metadata": {},
   "outputs": [
    {
     "name": "stdout",
     "output_type": "stream",
     "text": [
      "['m', 'y', ' ', 'n', 'm', ' ', 's', ' ', 'h', 'n', 'g']\n",
      "my nm s hng\n"
     ]
    }
   ],
   "source": [
    "# 1-1 for / if (모음인 경우)\n",
    "\n",
    "vowels = ['a','e','i','o','u'] # 모음\n",
    "result = []\n",
    "\n",
    "for word in words:\n",
    "    if word in vowels: #모음이라면\n",
    "        pass\n",
    "        \n",
    "    else: #자음이라면\n",
    "        result.append(word)\n",
    "\n",
    "print(result)\n",
    "print(''.join(result)) #join ''로 두어서 , 없애기\n"
   ]
  },
  {
   "cell_type": "code",
   "execution_count": 217,
   "id": "d817de2a-8c51-4096-9c4b-f4675f5234de",
   "metadata": {},
   "outputs": [
    {
     "name": "stdout",
     "output_type": "stream",
     "text": [
      "['m', 'y', ' ', 'n', 'm', ' ', 's', ' ', 'h', 'n', 'g']\n",
      "my nm s hng\n"
     ]
    }
   ],
   "source": [
    "# 1-2 for / if (모음이 아닌 경우)\n",
    "\n",
    "vowels = ['a','e','i','o','u'] # 모음\n",
    "result = [] # 문자열에서는 수정이 불가능하므로 append해줄 결과 리스트 필요\n",
    "\n",
    "for word in words:\n",
    "    if word not in vowels: #모음이 아닌경우 = 자음인 경우\n",
    "        result.append(word)\n",
    "\n",
    "        \n",
    "    #else: #모음이라면\n",
    "        \n",
    "print(result)\n",
    "print(''.join(result)) #join ''로 두어서 , 없애기"
   ]
  },
  {
   "cell_type": "code",
   "execution_count": 219,
   "id": "f86c1b2c-2eab-4c4b-8392-10b418751094",
   "metadata": {},
   "outputs": [
    {
     "name": "stdout",
     "output_type": "stream",
     "text": [
      "['m', 'y', ' ', 'n', 'm', ' ', 's', ' ', 'h', 'n', 'g']\n",
      "my nm s hng\n"
     ]
    }
   ],
   "source": [
    "# 1-3 for / if (모음이 아닌 경우)\n",
    "\n",
    "result = [] # 문자열에서는 수정이 불가능하므로 append해줄 결과 리스트 필요\n",
    "\n",
    "for word in words:\n",
    "    if word not in 'aeiou': #모음이 아닌경우 = 자음인 경우\n",
    "        result.append(word)\n",
    "\n",
    "        \n",
    "    #else: #모음이라면\n",
    "        \n",
    "print(result)\n",
    "print(''.join(result)) #join ''로 두어서 , 없애기"
   ]
  },
  {
   "cell_type": "code",
   "execution_count": 215,
   "id": "cea204b7-6751-4c00-92a3-1d04e7e8f7b0",
   "metadata": {},
   "outputs": [
    {
     "name": "stdout",
     "output_type": "stream",
     "text": [
      "['m', 'y', ' ', 'n', 'm', ' ', 's', ' ', 'h', 'n', 'g']\n",
      "my nm s hng\n"
     ]
    }
   ],
   "source": [
    "# 02. list comprehension\n",
    "\n",
    "vowels = 'aeiou'\n",
    "result = [word for word in words if word not in vowels]\n",
    "\n",
    "print(result)\n",
    "print(''.join(result))"
   ]
  },
  {
   "cell_type": "code",
   "execution_count": 225,
   "id": "31d521d4-b422-43c0-95bc-0667335e3322",
   "metadata": {},
   "outputs": [
    {
     "name": "stdout",
     "output_type": "stream",
     "text": [
      "my nm s hng\n"
     ]
    }
   ],
   "source": [
    "# 03. replace 메소드 활용\n",
    "\n",
    "vowels = 'aeiou'\n",
    "\n",
    "for word in vowels: #for 다음의 word는 vowels의 하나하나를 의미\n",
    "    words = words.replace(word,'')\n",
    "\n",
    "print(words)"
   ]
  },
  {
   "cell_type": "code",
   "execution_count": null,
   "id": "76ec1063-8e87-4279-adb3-293d8318eef9",
   "metadata": {},
   "outputs": [],
   "source": []
  }
 ],
 "metadata": {
  "kernelspec": {
   "display_name": "Python 3 (ipykernel)",
   "language": "python",
   "name": "python3"
  },
  "language_info": {
   "codemirror_mode": {
    "name": "ipython",
    "version": 3
   },
   "file_extension": ".py",
   "mimetype": "text/x-python",
   "name": "python",
   "nbconvert_exporter": "python",
   "pygments_lexer": "ipython3",
   "version": "3.13.2"
  }
 },
 "nbformat": 4,
 "nbformat_minor": 5
}
