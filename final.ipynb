{
 "cells": [
  {
   "cell_type": "markdown",
   "id": "6c2f6368-0176-4d3b-8543-0f7a27d2d78e",
   "metadata": {},
   "source": [
    "## 예상 문제 "
   ]
  },
  {
   "cell_type": "markdown",
   "id": "2a3956db-e603-441d-a212-dbb83fdf2cad",
   "metadata": {},
   "source": [
    "### 02_control_of_flow.ipynb"
   ]
  },
  {
   "cell_type": "markdown",
   "id": "3801f660-006d-4a0e-a207-2cd05c8b721d",
   "metadata": {},
   "source": [
    "Q1. list complihension으로 바꾸기 (조건 표현식)\n",
    "```python\n",
    "num = int(input())\n",
    "\n",
    "if num <= 19:\n",
    "    print('미성년자')\n",
    "elif 20 <= num <= 64:\n",
    "    print('성인')\n",
    "else:\n",
    "    print('노인')\n",
    "```"
   ]
  },
  {
   "cell_type": "code",
   "execution_count": 10,
   "id": "2646d4e7-fa9f-4db4-a38c-9e48132038f0",
   "metadata": {},
   "outputs": [
    {
     "name": "stdin",
     "output_type": "stream",
     "text": [
      " 51\n"
     ]
    },
    {
     "name": "stdout",
     "output_type": "stream",
     "text": [
      "성인\n"
     ]
    }
   ],
   "source": [
    "num = int(input())\n",
    "\n",
    "result = \"미성년자\" if num <=19 else (\"성인\" if 20 <= num <=64 else \"노인\")\n",
    "print(result)"
   ]
  },
  {
   "cell_type": "markdown",
   "id": "198ee66a-cc77-4872-95a0-9e9feb5a7184",
   "metadata": {},
   "source": [
    "Q2 . 중급 문제: 숫자 맞히기 게임\n",
    "`1~100 사이의 랜덤한 숫자를 생성합니다.\n",
    "사용자는 숫자를 입력하며, 정답보다 크거나 작은지 힌트를 줍니다.\n",
    "정답을 맞히면 시도 횟수를 출력하고 종료합니다.\n",
    "입력값이 1~100 범위를 벗어나면 다시 입력하도록 합니다.`"
   ]
  },
  {
   "cell_type": "markdown",
   "id": "348d3a69-473c-4a1d-99b8-e2afad379696",
   "metadata": {},
   "source": [
    "Q3. key, value값에 접근  \n",
    "- for key in dict: #키값만 출력                                    # 접근 : print(k)\n",
    "- for key in dict.keys(): #키값과 그에 대응하는 벨류 출력           #print(dict[k])\n",
    "- for value in dict.values(): #벨류만 출력                          # 접근 : print(v)\n",
    "- for key,value in dict.items(): #키값, 벨류가 옆으로 출력           # 접근 : print(k,v)"
   ]
  },
  {
   "cell_type": "code",
   "execution_count": 19,
   "id": "e11963fe-7224-4bf8-9b6a-804e9d4259ac",
   "metadata": {},
   "outputs": [],
   "source": [
    "info = {\n",
    "    'name': 'gildong',\n",
    "    'location': 'seoul',\n",
    "    'age': 20,\n",
    "    'phone': '010-1234-1234',\n",
    "}"
   ]
  },
  {
   "cell_type": "code",
   "execution_count": 28,
   "id": "35d333c8-52ef-4500-a131-4fefe00eee8a",
   "metadata": {},
   "outputs": [
    {
     "name": "stdout",
     "output_type": "stream",
     "text": [
      "name gildong\n",
      "location seoul\n",
      "age 20\n",
      "phone 010-1234-1234\n"
     ]
    }
   ],
   "source": [
    "for k,v in info.items():\n",
    "    print(k,v)"
   ]
  },
  {
   "cell_type": "markdown",
   "id": "833f8adc-df92-4239-9d2a-f0e167811747",
   "metadata": {},
   "source": [
    "### 05_module.ipynb"
   ]
  },
  {
   "cell_type": "markdown",
   "id": "3c9d3f22-c2cd-438a-a683-44826dea02c0",
   "metadata": {},
   "source": [
    "Q1. 파이썬에서 패키지를 만들기 위해 반드시 포함해야 하는 파일은?   b\n",
    "- A) __main__.py\n",
    "- B) __init__.py      # __init__.py은 패키지 파일을 만들기 위해 필요\n",
    "- C) package.py\n",
    "- D) setup.py "
   ]
  },
  {
   "cell_type": "markdown",
   "id": "f768d8ae-cf3d-4094-8f33-a61ed8f673f8",
   "metadata": {},
   "source": [
    "Q5. requests 모듈을 사용하여 웹 페이지의 HTML을 가져오는 코드로 올바른 것은?  b\n",
    "\n",
    "- from requests import get  \n",
    "- html = get(\"https://example.com\").text\n",
    "##### ----> requests.get(url).json()은 JSON 응답을 받을 때 사용하고, 웹 페이지 HTML을 가져오려면 requests.get(url).text를 사용"
   ]
  }
 ],
 "metadata": {
  "kernelspec": {
   "display_name": "Python 3 (ipykernel)",
   "language": "python",
   "name": "python3"
  },
  "language_info": {
   "codemirror_mode": {
    "name": "ipython",
    "version": 3
   },
   "file_extension": ".py",
   "mimetype": "text/x-python",
   "name": "python",
   "nbconvert_exporter": "python",
   "pygments_lexer": "ipython3",
   "version": "3.13.2"
  }
 },
 "nbformat": 4,
 "nbformat_minor": 5
}
